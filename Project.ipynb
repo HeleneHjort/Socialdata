{
 "cells": [
  {
   "attachments": {},
   "cell_type": "markdown",
   "metadata": {},
   "source": [
    "# Package installation"
   ]
  },
  {
   "cell_type": "code",
   "execution_count": 46,
   "metadata": {},
   "outputs": [],
   "source": [
    "import pandas as pd\n",
    "import numpy as np\n",
    "import plotly.express as px\n",
    "import plotly.offline as pyo\n",
    "import folium\n",
    "import matplotlib as plt\n",
    "import seaborn as sns\n",
    "from matplotlib.cm import ScalarMappable\n",
    "from matplotlib.colors import Normalize\n",
    "from folium.plugins import HeatMap"
   ]
  },
  {
   "attachments": {},
   "cell_type": "markdown",
   "metadata": {},
   "source": [
    "# Load Data\n",
    "\n",
    "https://www.kaggle.com/datasets/justinas/startup-investments?select=funds.csv"
   ]
  },
  {
   "attachments": {},
   "cell_type": "markdown",
   "metadata": {},
   "source": [
    "**acquisitions.csv:** information about startups that have been bought (price and time)\n",
    "\n",
    "**degrees.csv:** the education backgrounds of individuals involved in the startup world.\n",
    "\n",
    "**funding_rounds.csv:** information about startup funding rounds (amounts of founds, dates, founding, the founder)\n",
    "\n",
    "**funds.csv:** data on the venture capital funds that make investments.\n",
    "\n",
    "**investments.csv:** data on the various different investments made by venture capitalists.\n",
    "\n",
    "**ipos.csv:** data on initial public offerings (stock name)\n",
    "\n",
    "**milestones.csv:** events within the startup ecosystem. (Milestone description)\n",
    "\n",
    "**objects.csv:** Main file containing base information. (Name, category, status)\n",
    "\n",
    "**offices.csv:** information about startup company offices (latitude and longitude)\n",
    "\n",
    "**people.csv:** information about individuals in the startup world.\n",
    "\n",
    "**relationships.csv:** relationship data that links companies to individuals and their positions."
   ]
  },
  {
   "cell_type": "code",
   "execution_count": 3,
   "metadata": {},
   "outputs": [
    {
     "name": "stderr",
     "output_type": "stream",
     "text": [
      "/var/folders/xt/ymkjwn212xzf8xqtdvj5kffc0000gn/T/ipykernel_29297/2871047034.py:8: DtypeWarning:\n",
      "\n",
      "Columns (3,7,9,10,17,18,21,22,23,25,26,29,30,37) have mixed types. Specify dtype option on import or set low_memory=False.\n",
      "\n"
     ]
    }
   ],
   "source": [
    "acquisitions = pd.read_csv(\"/Users/helenehjort/Library/Mobile Documents/com~apple~CloudDocs/Business Analytics/8. Semester/02806 Social data analysis/Project/Data/acquisitions.csv\")\n",
    "degrees = pd.read_csv(\"/Users/helenehjort/Library/Mobile Documents/com~apple~CloudDocs/Business Analytics/8. Semester/02806 Social data analysis/Project/Data/degrees.csv\")\n",
    "funding_rounds = pd.read_csv(\"/Users/helenehjort/Library/Mobile Documents/com~apple~CloudDocs/Business Analytics/8. Semester/02806 Social data analysis/Project/Data/funding_rounds.csv\")\n",
    "founds = pd.read_csv(\"/Users/helenehjort/Library/Mobile Documents/com~apple~CloudDocs/Business Analytics/8. Semester/02806 Social data analysis/Project/Data/funds.csv\")\n",
    "investments = pd.read_csv(\"/Users/helenehjort/Library/Mobile Documents/com~apple~CloudDocs/Business Analytics/8. Semester/02806 Social data analysis/Project/Data/investments.csv\")\n",
    "ipos = pd.read_csv(\"/Users/helenehjort/Library/Mobile Documents/com~apple~CloudDocs/Business Analytics/8. Semester/02806 Social data analysis/Project/Data/ipos.csv\")\n",
    "milestones = pd.read_csv(\"/Users/helenehjort/Library/Mobile Documents/com~apple~CloudDocs/Business Analytics/8. Semester/02806 Social data analysis/Project/Data/milestones.csv\")\n",
    "objects = pd.read_csv(\"/Users/helenehjort/Library/Mobile Documents/com~apple~CloudDocs/Business Analytics/8. Semester/02806 Social data analysis/Project/Data/objects.csv\")\n",
    "offices = pd.read_csv(\"/Users/helenehjort/Library/Mobile Documents/com~apple~CloudDocs/Business Analytics/8. Semester/02806 Social data analysis/Project/Data/offices.csv\")\n",
    "people = pd.read_csv(\"/Users/helenehjort/Library/Mobile Documents/com~apple~CloudDocs/Business Analytics/8. Semester/02806 Social data analysis/Project/Data/people.csv\")\n",
    "relationships = pd.read_csv(\"/Users/helenehjort/Library/Mobile Documents/com~apple~CloudDocs/Business Analytics/8. Semester/02806 Social data analysis/Project/Data/relationships.csv\")"
   ]
  },
  {
   "cell_type": "code",
   "execution_count": 2,
   "metadata": {},
   "outputs": [
    {
     "name": "stderr",
     "output_type": "stream",
     "text": [
      "/var/folders/ng/ppmp_v5s0k51l14sqbjms5x40000gn/T/ipykernel_26395/1922706318.py:8: DtypeWarning:\n",
      "\n",
      "Columns (3,7,9,10,17,18,21,22,23,25,26,29,30,37) have mixed types. Specify dtype option on import or set low_memory=False.\n",
      "\n"
     ]
    }
   ],
   "source": [
    "acquisitions = pd.read_csv(\"/Users/kathrinesofierasmussen/Library/CloudStorage/GoogleDrive-rasmussen.kathrine20@gmail.com/Mit drev/DTU/M.Sc./2. Semester/02806 Social Data Analysis and  Visualization /Assignments/ProjectData/acquisitions.csv\")\n",
    "degrees = pd.read_csv(\"/Users/kathrinesofierasmussen/Library/CloudStorage/GoogleDrive-rasmussen.kathrine20@gmail.com/Mit drev/DTU/M.Sc./2. Semester/02806 Social Data Analysis and  Visualization /Assignments/ProjectData/degrees.csv\")\n",
    "funding_rounds = pd.read_csv(\"/Users/kathrinesofierasmussen/Library/CloudStorage/GoogleDrive-rasmussen.kathrine20@gmail.com/Mit drev/DTU/M.Sc./2. Semester/02806 Social Data Analysis and  Visualization /Assignments/ProjectData/funding_rounds.csv\")\n",
    "founds = pd.read_csv(\"/Users/kathrinesofierasmussen/Library/CloudStorage/GoogleDrive-rasmussen.kathrine20@gmail.com/Mit drev/DTU/M.Sc./2. Semester/02806 Social Data Analysis and  Visualization /Assignments/ProjectData/funds.csv\")\n",
    "investments = pd.read_csv(\"/Users/kathrinesofierasmussen/Library/CloudStorage/GoogleDrive-rasmussen.kathrine20@gmail.com/Mit drev/DTU/M.Sc./2. Semester/02806 Social Data Analysis and  Visualization /Assignments/ProjectData/investments.csv\")\n",
    "ipos = pd.read_csv(\"/Users/kathrinesofierasmussen/Library/CloudStorage/GoogleDrive-rasmussen.kathrine20@gmail.com/Mit drev/DTU/M.Sc./2. Semester/02806 Social Data Analysis and  Visualization /Assignments/ProjectData/ipos.csv\")\n",
    "milestones = pd.read_csv(\"/Users/kathrinesofierasmussen/Library/CloudStorage/GoogleDrive-rasmussen.kathrine20@gmail.com/Mit drev/DTU/M.Sc./2. Semester/02806 Social Data Analysis and  Visualization /Assignments/ProjectData/milestones.csv\")\n",
    "objects = pd.read_csv(\"/Users/kathrinesofierasmussen/Library/CloudStorage/GoogleDrive-rasmussen.kathrine20@gmail.com/Mit drev/DTU/M.Sc./2. Semester/02806 Social Data Analysis and  Visualization /Assignments/ProjectData/objects.csv\")\n",
    "offices = pd.read_csv(\"/Users/kathrinesofierasmussen/Library/CloudStorage/GoogleDrive-rasmussen.kathrine20@gmail.com/Mit drev/DTU/M.Sc./2. Semester/02806 Social Data Analysis and  Visualization /Assignments/ProjectData/offices.csv\")\n",
    "people = pd.read_csv(\"/Users/kathrinesofierasmussen/Library/CloudStorage/GoogleDrive-rasmussen.kathrine20@gmail.com/Mit drev/DTU/M.Sc./2. Semester/02806 Social Data Analysis and  Visualization /Assignments/ProjectData/people.csv\")\n",
    "relationships = pd.read_csv(\"/Users/kathrinesofierasmussen/Library/CloudStorage/GoogleDrive-rasmussen.kathrine20@gmail.com/Mit drev/DTU/M.Sc./2. Semester/02806 Social Data Analysis and  Visualization /Assignments/ProjectData/relationships.csv\")\n",
    "\n"
   ]
  },
  {
   "attachments": {},
   "cell_type": "markdown",
   "metadata": {},
   "source": [
    "# Data cleaning"
   ]
  },
  {
   "attachments": {},
   "cell_type": "markdown",
   "metadata": {},
   "source": [
    "## Offices"
   ]
  },
  {
   "cell_type": "code",
   "execution_count": 3,
   "metadata": {},
   "outputs": [
    {
     "data": {
      "text/html": [
       "<div>\n",
       "<style scoped>\n",
       "    .dataframe tbody tr th:only-of-type {\n",
       "        vertical-align: middle;\n",
       "    }\n",
       "\n",
       "    .dataframe tbody tr th {\n",
       "        vertical-align: top;\n",
       "    }\n",
       "\n",
       "    .dataframe thead th {\n",
       "        text-align: right;\n",
       "    }\n",
       "</style>\n",
       "<table border=\"1\" class=\"dataframe\">\n",
       "  <thead>\n",
       "    <tr style=\"text-align: right;\">\n",
       "      <th></th>\n",
       "      <th>id</th>\n",
       "      <th>object_id</th>\n",
       "      <th>office_id</th>\n",
       "      <th>description</th>\n",
       "      <th>region</th>\n",
       "      <th>address1</th>\n",
       "      <th>address2</th>\n",
       "      <th>city</th>\n",
       "      <th>zip_code</th>\n",
       "      <th>state_code</th>\n",
       "      <th>country_code</th>\n",
       "      <th>latitude</th>\n",
       "      <th>longitude</th>\n",
       "      <th>created_at</th>\n",
       "      <th>updated_at</th>\n",
       "    </tr>\n",
       "  </thead>\n",
       "  <tbody>\n",
       "    <tr>\n",
       "      <th>0</th>\n",
       "      <td>1</td>\n",
       "      <td>c:1</td>\n",
       "      <td>1</td>\n",
       "      <td>NaN</td>\n",
       "      <td>Seattle</td>\n",
       "      <td>710 - 2nd Avenue</td>\n",
       "      <td>Suite 1100</td>\n",
       "      <td>Seattle</td>\n",
       "      <td>98104</td>\n",
       "      <td>WA</td>\n",
       "      <td>USA</td>\n",
       "      <td>47.603122</td>\n",
       "      <td>-122.333253</td>\n",
       "      <td>NaN</td>\n",
       "      <td>NaN</td>\n",
       "    </tr>\n",
       "    <tr>\n",
       "      <th>1</th>\n",
       "      <td>2</td>\n",
       "      <td>c:3</td>\n",
       "      <td>3</td>\n",
       "      <td>Headquarters</td>\n",
       "      <td>SF Bay</td>\n",
       "      <td>4900 Hopyard Rd</td>\n",
       "      <td>Suite 310</td>\n",
       "      <td>Pleasanton</td>\n",
       "      <td>94588</td>\n",
       "      <td>CA</td>\n",
       "      <td>USA</td>\n",
       "      <td>37.692934</td>\n",
       "      <td>-121.904945</td>\n",
       "      <td>NaN</td>\n",
       "      <td>NaN</td>\n",
       "    </tr>\n",
       "    <tr>\n",
       "      <th>2</th>\n",
       "      <td>3</td>\n",
       "      <td>c:4</td>\n",
       "      <td>4</td>\n",
       "      <td>NaN</td>\n",
       "      <td>SF Bay</td>\n",
       "      <td>135 Mississippi St</td>\n",
       "      <td>NaN</td>\n",
       "      <td>San Francisco</td>\n",
       "      <td>94107</td>\n",
       "      <td>CA</td>\n",
       "      <td>USA</td>\n",
       "      <td>37.764726</td>\n",
       "      <td>-122.394523</td>\n",
       "      <td>NaN</td>\n",
       "      <td>NaN</td>\n",
       "    </tr>\n",
       "    <tr>\n",
       "      <th>3</th>\n",
       "      <td>4</td>\n",
       "      <td>c:5</td>\n",
       "      <td>5</td>\n",
       "      <td>Headquarters</td>\n",
       "      <td>SF Bay</td>\n",
       "      <td>1601 Willow Road</td>\n",
       "      <td>NaN</td>\n",
       "      <td>Menlo Park</td>\n",
       "      <td>94025</td>\n",
       "      <td>CA</td>\n",
       "      <td>USA</td>\n",
       "      <td>37.416050</td>\n",
       "      <td>-122.151801</td>\n",
       "      <td>NaN</td>\n",
       "      <td>NaN</td>\n",
       "    </tr>\n",
       "    <tr>\n",
       "      <th>4</th>\n",
       "      <td>5</td>\n",
       "      <td>c:7</td>\n",
       "      <td>7</td>\n",
       "      <td>NaN</td>\n",
       "      <td>SF Bay</td>\n",
       "      <td>Suite 200</td>\n",
       "      <td>654 High Street</td>\n",
       "      <td>Palo Alto</td>\n",
       "      <td>94301</td>\n",
       "      <td>CA</td>\n",
       "      <td>ISR</td>\n",
       "      <td>0.000000</td>\n",
       "      <td>0.000000</td>\n",
       "      <td>NaN</td>\n",
       "      <td>NaN</td>\n",
       "    </tr>\n",
       "    <tr>\n",
       "      <th>...</th>\n",
       "      <td>...</td>\n",
       "      <td>...</td>\n",
       "      <td>...</td>\n",
       "      <td>...</td>\n",
       "      <td>...</td>\n",
       "      <td>...</td>\n",
       "      <td>...</td>\n",
       "      <td>...</td>\n",
       "      <td>...</td>\n",
       "      <td>...</td>\n",
       "      <td>...</td>\n",
       "      <td>...</td>\n",
       "      <td>...</td>\n",
       "      <td>...</td>\n",
       "      <td>...</td>\n",
       "    </tr>\n",
       "    <tr>\n",
       "      <th>112713</th>\n",
       "      <td>112714</td>\n",
       "      <td>f:15098</td>\n",
       "      <td>127846</td>\n",
       "      <td>NaN</td>\n",
       "      <td>New York</td>\n",
       "      <td>8 Sound Shore Drive</td>\n",
       "      <td>Suite 303</td>\n",
       "      <td>Greenwich</td>\n",
       "      <td>06830</td>\n",
       "      <td>CT</td>\n",
       "      <td>USA</td>\n",
       "      <td>0.000000</td>\n",
       "      <td>0.000000</td>\n",
       "      <td>NaN</td>\n",
       "      <td>NaN</td>\n",
       "    </tr>\n",
       "    <tr>\n",
       "      <th>112714</th>\n",
       "      <td>112715</td>\n",
       "      <td>c:286200</td>\n",
       "      <td>127847</td>\n",
       "      <td>NaN</td>\n",
       "      <td>Santa Barbara</td>\n",
       "      <td>735 State Street</td>\n",
       "      <td>Suite 500</td>\n",
       "      <td>Santa Barbara</td>\n",
       "      <td>93101</td>\n",
       "      <td>CA</td>\n",
       "      <td>USA</td>\n",
       "      <td>0.000000</td>\n",
       "      <td>0.000000</td>\n",
       "      <td>NaN</td>\n",
       "      <td>NaN</td>\n",
       "    </tr>\n",
       "    <tr>\n",
       "      <th>112715</th>\n",
       "      <td>112716</td>\n",
       "      <td>c:256895</td>\n",
       "      <td>127848</td>\n",
       "      <td>NaN</td>\n",
       "      <td>Los Angeles</td>\n",
       "      <td>5777 W. Century Blvd., Suite 360</td>\n",
       "      <td>NaN</td>\n",
       "      <td>Los Angeles</td>\n",
       "      <td>90045</td>\n",
       "      <td>CA</td>\n",
       "      <td>USA</td>\n",
       "      <td>0.000000</td>\n",
       "      <td>0.000000</td>\n",
       "      <td>NaN</td>\n",
       "      <td>NaN</td>\n",
       "    </tr>\n",
       "    <tr>\n",
       "      <th>112716</th>\n",
       "      <td>112717</td>\n",
       "      <td>c:256200</td>\n",
       "      <td>127849</td>\n",
       "      <td>NaN</td>\n",
       "      <td>New York</td>\n",
       "      <td>420 LExington Avenue</td>\n",
       "      <td>NaN</td>\n",
       "      <td>New York</td>\n",
       "      <td>10170</td>\n",
       "      <td>NY</td>\n",
       "      <td>USA</td>\n",
       "      <td>0.000000</td>\n",
       "      <td>0.000000</td>\n",
       "      <td>NaN</td>\n",
       "      <td>NaN</td>\n",
       "    </tr>\n",
       "    <tr>\n",
       "      <th>112717</th>\n",
       "      <td>112718</td>\n",
       "      <td>c:286215</td>\n",
       "      <td>127850</td>\n",
       "      <td>NaN</td>\n",
       "      <td>SF Bay</td>\n",
       "      <td>2121 S. El Camino Real Suite C-120</td>\n",
       "      <td>NaN</td>\n",
       "      <td>San Mateo</td>\n",
       "      <td>94403</td>\n",
       "      <td>CA</td>\n",
       "      <td>USA</td>\n",
       "      <td>0.000000</td>\n",
       "      <td>0.000000</td>\n",
       "      <td>NaN</td>\n",
       "      <td>NaN</td>\n",
       "    </tr>\n",
       "  </tbody>\n",
       "</table>\n",
       "<p>112718 rows × 15 columns</p>\n",
       "</div>"
      ],
      "text/plain": [
       "            id object_id  office_id   description         region  \\\n",
       "0            1       c:1          1           NaN        Seattle   \n",
       "1            2       c:3          3  Headquarters         SF Bay   \n",
       "2            3       c:4          4           NaN         SF Bay   \n",
       "3            4       c:5          5  Headquarters         SF Bay   \n",
       "4            5       c:7          7           NaN         SF Bay   \n",
       "...        ...       ...        ...           ...            ...   \n",
       "112713  112714   f:15098     127846           NaN       New York   \n",
       "112714  112715  c:286200     127847           NaN  Santa Barbara   \n",
       "112715  112716  c:256895     127848           NaN    Los Angeles   \n",
       "112716  112717  c:256200     127849           NaN       New York   \n",
       "112717  112718  c:286215     127850           NaN         SF Bay   \n",
       "\n",
       "                                  address1         address2           city  \\\n",
       "0                         710 - 2nd Avenue       Suite 1100        Seattle   \n",
       "1                          4900 Hopyard Rd        Suite 310     Pleasanton   \n",
       "2                       135 Mississippi St              NaN  San Francisco   \n",
       "3                         1601 Willow Road              NaN     Menlo Park   \n",
       "4                                Suite 200  654 High Street      Palo Alto   \n",
       "...                                    ...              ...            ...   \n",
       "112713                 8 Sound Shore Drive        Suite 303      Greenwich   \n",
       "112714                    735 State Street        Suite 500  Santa Barbara   \n",
       "112715    5777 W. Century Blvd., Suite 360              NaN    Los Angeles   \n",
       "112716                420 LExington Avenue              NaN       New York   \n",
       "112717  2121 S. El Camino Real Suite C-120              NaN      San Mateo   \n",
       "\n",
       "       zip_code state_code country_code   latitude   longitude  created_at  \\\n",
       "0         98104         WA          USA  47.603122 -122.333253         NaN   \n",
       "1         94588         CA          USA  37.692934 -121.904945         NaN   \n",
       "2         94107         CA          USA  37.764726 -122.394523         NaN   \n",
       "3         94025         CA          USA  37.416050 -122.151801         NaN   \n",
       "4         94301         CA          ISR   0.000000    0.000000         NaN   \n",
       "...         ...        ...          ...        ...         ...         ...   \n",
       "112713    06830         CT          USA   0.000000    0.000000         NaN   \n",
       "112714    93101         CA          USA   0.000000    0.000000         NaN   \n",
       "112715    90045         CA          USA   0.000000    0.000000         NaN   \n",
       "112716    10170         NY          USA   0.000000    0.000000         NaN   \n",
       "112717    94403         CA          USA   0.000000    0.000000         NaN   \n",
       "\n",
       "        updated_at  \n",
       "0              NaN  \n",
       "1              NaN  \n",
       "2              NaN  \n",
       "3              NaN  \n",
       "4              NaN  \n",
       "...            ...  \n",
       "112713         NaN  \n",
       "112714         NaN  \n",
       "112715         NaN  \n",
       "112716         NaN  \n",
       "112717         NaN  \n",
       "\n",
       "[112718 rows x 15 columns]"
      ]
     },
     "execution_count": 3,
     "metadata": {},
     "output_type": "execute_result"
    }
   ],
   "source": [
    "offices"
   ]
  },
  {
   "cell_type": "code",
   "execution_count": 4,
   "metadata": {},
   "outputs": [
    {
     "data": {
      "application/vnd.plotly.v1+json": {
       "config": {
        "plotlyServerURL": "https://plot.ly"
       },
       "data": [
        {
         "alignmentgroup": "True",
         "hovertemplate": "country_code=%{x}<br>count=%{y}<extra></extra>",
         "legendgroup": "",
         "marker": {
          "color": [
           "rgb(39, 26, 44)",
           "rgb(54, 43, 77)",
           "rgb(64, 60, 115)",
           "rgb(62, 82, 143)",
           "rgb(62, 108, 150)",
           "rgb(68, 130, 155)",
           "rgb(76, 153, 160)",
           "rgb(86, 177, 163)",
           "rgb(111, 201, 163)",
           "rgb(156, 219, 165)",
           "rgb(206, 236, 179)",
           "rgb(253, 253, 204)"
          ],
          "pattern": {
           "shape": ""
          }
         },
         "name": "",
         "offsetgroup": "",
         "orientation": "v",
         "showlegend": false,
         "textposition": "auto",
         "type": "bar",
         "width": 0.8,
         "x": [
          "USA",
          "GBR",
          "IND",
          "CAN",
          "DEU",
          "FRA",
          "AUS",
          "ESP",
          "ISR",
          "CHN"
         ],
         "xaxis": "x",
         "y": [
          62991,
          9719,
          5099,
          4574,
          2768,
          2285,
          2022,
          1482,
          1429,
          1375
         ],
         "yaxis": "y"
        }
       ],
       "layout": {
        "barmode": "relative",
        "legend": {
         "tracegroupgap": 0
        },
        "margin": {
         "t": 60
        },
        "template": {
         "data": {
          "bar": [
           {
            "error_x": {
             "color": "#2a3f5f"
            },
            "error_y": {
             "color": "#2a3f5f"
            },
            "marker": {
             "line": {
              "color": "#E5ECF6",
              "width": 0.5
             },
             "pattern": {
              "fillmode": "overlay",
              "size": 10,
              "solidity": 0.2
             }
            },
            "type": "bar"
           }
          ],
          "barpolar": [
           {
            "marker": {
             "line": {
              "color": "#E5ECF6",
              "width": 0.5
             },
             "pattern": {
              "fillmode": "overlay",
              "size": 10,
              "solidity": 0.2
             }
            },
            "type": "barpolar"
           }
          ],
          "carpet": [
           {
            "aaxis": {
             "endlinecolor": "#2a3f5f",
             "gridcolor": "white",
             "linecolor": "white",
             "minorgridcolor": "white",
             "startlinecolor": "#2a3f5f"
            },
            "baxis": {
             "endlinecolor": "#2a3f5f",
             "gridcolor": "white",
             "linecolor": "white",
             "minorgridcolor": "white",
             "startlinecolor": "#2a3f5f"
            },
            "type": "carpet"
           }
          ],
          "choropleth": [
           {
            "colorbar": {
             "outlinewidth": 0,
             "ticks": ""
            },
            "type": "choropleth"
           }
          ],
          "contour": [
           {
            "colorbar": {
             "outlinewidth": 0,
             "ticks": ""
            },
            "colorscale": [
             [
              0,
              "#0d0887"
             ],
             [
              0.1111111111111111,
              "#46039f"
             ],
             [
              0.2222222222222222,
              "#7201a8"
             ],
             [
              0.3333333333333333,
              "#9c179e"
             ],
             [
              0.4444444444444444,
              "#bd3786"
             ],
             [
              0.5555555555555556,
              "#d8576b"
             ],
             [
              0.6666666666666666,
              "#ed7953"
             ],
             [
              0.7777777777777778,
              "#fb9f3a"
             ],
             [
              0.8888888888888888,
              "#fdca26"
             ],
             [
              1,
              "#f0f921"
             ]
            ],
            "type": "contour"
           }
          ],
          "contourcarpet": [
           {
            "colorbar": {
             "outlinewidth": 0,
             "ticks": ""
            },
            "type": "contourcarpet"
           }
          ],
          "heatmap": [
           {
            "colorbar": {
             "outlinewidth": 0,
             "ticks": ""
            },
            "colorscale": [
             [
              0,
              "#0d0887"
             ],
             [
              0.1111111111111111,
              "#46039f"
             ],
             [
              0.2222222222222222,
              "#7201a8"
             ],
             [
              0.3333333333333333,
              "#9c179e"
             ],
             [
              0.4444444444444444,
              "#bd3786"
             ],
             [
              0.5555555555555556,
              "#d8576b"
             ],
             [
              0.6666666666666666,
              "#ed7953"
             ],
             [
              0.7777777777777778,
              "#fb9f3a"
             ],
             [
              0.8888888888888888,
              "#fdca26"
             ],
             [
              1,
              "#f0f921"
             ]
            ],
            "type": "heatmap"
           }
          ],
          "heatmapgl": [
           {
            "colorbar": {
             "outlinewidth": 0,
             "ticks": ""
            },
            "colorscale": [
             [
              0,
              "#0d0887"
             ],
             [
              0.1111111111111111,
              "#46039f"
             ],
             [
              0.2222222222222222,
              "#7201a8"
             ],
             [
              0.3333333333333333,
              "#9c179e"
             ],
             [
              0.4444444444444444,
              "#bd3786"
             ],
             [
              0.5555555555555556,
              "#d8576b"
             ],
             [
              0.6666666666666666,
              "#ed7953"
             ],
             [
              0.7777777777777778,
              "#fb9f3a"
             ],
             [
              0.8888888888888888,
              "#fdca26"
             ],
             [
              1,
              "#f0f921"
             ]
            ],
            "type": "heatmapgl"
           }
          ],
          "histogram": [
           {
            "marker": {
             "pattern": {
              "fillmode": "overlay",
              "size": 10,
              "solidity": 0.2
             }
            },
            "type": "histogram"
           }
          ],
          "histogram2d": [
           {
            "colorbar": {
             "outlinewidth": 0,
             "ticks": ""
            },
            "colorscale": [
             [
              0,
              "#0d0887"
             ],
             [
              0.1111111111111111,
              "#46039f"
             ],
             [
              0.2222222222222222,
              "#7201a8"
             ],
             [
              0.3333333333333333,
              "#9c179e"
             ],
             [
              0.4444444444444444,
              "#bd3786"
             ],
             [
              0.5555555555555556,
              "#d8576b"
             ],
             [
              0.6666666666666666,
              "#ed7953"
             ],
             [
              0.7777777777777778,
              "#fb9f3a"
             ],
             [
              0.8888888888888888,
              "#fdca26"
             ],
             [
              1,
              "#f0f921"
             ]
            ],
            "type": "histogram2d"
           }
          ],
          "histogram2dcontour": [
           {
            "colorbar": {
             "outlinewidth": 0,
             "ticks": ""
            },
            "colorscale": [
             [
              0,
              "#0d0887"
             ],
             [
              0.1111111111111111,
              "#46039f"
             ],
             [
              0.2222222222222222,
              "#7201a8"
             ],
             [
              0.3333333333333333,
              "#9c179e"
             ],
             [
              0.4444444444444444,
              "#bd3786"
             ],
             [
              0.5555555555555556,
              "#d8576b"
             ],
             [
              0.6666666666666666,
              "#ed7953"
             ],
             [
              0.7777777777777778,
              "#fb9f3a"
             ],
             [
              0.8888888888888888,
              "#fdca26"
             ],
             [
              1,
              "#f0f921"
             ]
            ],
            "type": "histogram2dcontour"
           }
          ],
          "mesh3d": [
           {
            "colorbar": {
             "outlinewidth": 0,
             "ticks": ""
            },
            "type": "mesh3d"
           }
          ],
          "parcoords": [
           {
            "line": {
             "colorbar": {
              "outlinewidth": 0,
              "ticks": ""
             }
            },
            "type": "parcoords"
           }
          ],
          "pie": [
           {
            "automargin": true,
            "type": "pie"
           }
          ],
          "scatter": [
           {
            "fillpattern": {
             "fillmode": "overlay",
             "size": 10,
             "solidity": 0.2
            },
            "type": "scatter"
           }
          ],
          "scatter3d": [
           {
            "line": {
             "colorbar": {
              "outlinewidth": 0,
              "ticks": ""
             }
            },
            "marker": {
             "colorbar": {
              "outlinewidth": 0,
              "ticks": ""
             }
            },
            "type": "scatter3d"
           }
          ],
          "scattercarpet": [
           {
            "marker": {
             "colorbar": {
              "outlinewidth": 0,
              "ticks": ""
             }
            },
            "type": "scattercarpet"
           }
          ],
          "scattergeo": [
           {
            "marker": {
             "colorbar": {
              "outlinewidth": 0,
              "ticks": ""
             }
            },
            "type": "scattergeo"
           }
          ],
          "scattergl": [
           {
            "marker": {
             "colorbar": {
              "outlinewidth": 0,
              "ticks": ""
             }
            },
            "type": "scattergl"
           }
          ],
          "scattermapbox": [
           {
            "marker": {
             "colorbar": {
              "outlinewidth": 0,
              "ticks": ""
             }
            },
            "type": "scattermapbox"
           }
          ],
          "scatterpolar": [
           {
            "marker": {
             "colorbar": {
              "outlinewidth": 0,
              "ticks": ""
             }
            },
            "type": "scatterpolar"
           }
          ],
          "scatterpolargl": [
           {
            "marker": {
             "colorbar": {
              "outlinewidth": 0,
              "ticks": ""
             }
            },
            "type": "scatterpolargl"
           }
          ],
          "scatterternary": [
           {
            "marker": {
             "colorbar": {
              "outlinewidth": 0,
              "ticks": ""
             }
            },
            "type": "scatterternary"
           }
          ],
          "surface": [
           {
            "colorbar": {
             "outlinewidth": 0,
             "ticks": ""
            },
            "colorscale": [
             [
              0,
              "#0d0887"
             ],
             [
              0.1111111111111111,
              "#46039f"
             ],
             [
              0.2222222222222222,
              "#7201a8"
             ],
             [
              0.3333333333333333,
              "#9c179e"
             ],
             [
              0.4444444444444444,
              "#bd3786"
             ],
             [
              0.5555555555555556,
              "#d8576b"
             ],
             [
              0.6666666666666666,
              "#ed7953"
             ],
             [
              0.7777777777777778,
              "#fb9f3a"
             ],
             [
              0.8888888888888888,
              "#fdca26"
             ],
             [
              1,
              "#f0f921"
             ]
            ],
            "type": "surface"
           }
          ],
          "table": [
           {
            "cells": {
             "fill": {
              "color": "#EBF0F8"
             },
             "line": {
              "color": "white"
             }
            },
            "header": {
             "fill": {
              "color": "#C8D4E3"
             },
             "line": {
              "color": "white"
             }
            },
            "type": "table"
           }
          ]
         },
         "layout": {
          "annotationdefaults": {
           "arrowcolor": "#2a3f5f",
           "arrowhead": 0,
           "arrowwidth": 1
          },
          "autotypenumbers": "strict",
          "coloraxis": {
           "colorbar": {
            "outlinewidth": 0,
            "ticks": ""
           }
          },
          "colorscale": {
           "diverging": [
            [
             0,
             "#8e0152"
            ],
            [
             0.1,
             "#c51b7d"
            ],
            [
             0.2,
             "#de77ae"
            ],
            [
             0.3,
             "#f1b6da"
            ],
            [
             0.4,
             "#fde0ef"
            ],
            [
             0.5,
             "#f7f7f7"
            ],
            [
             0.6,
             "#e6f5d0"
            ],
            [
             0.7,
             "#b8e186"
            ],
            [
             0.8,
             "#7fbc41"
            ],
            [
             0.9,
             "#4d9221"
            ],
            [
             1,
             "#276419"
            ]
           ],
           "sequential": [
            [
             0,
             "#0d0887"
            ],
            [
             0.1111111111111111,
             "#46039f"
            ],
            [
             0.2222222222222222,
             "#7201a8"
            ],
            [
             0.3333333333333333,
             "#9c179e"
            ],
            [
             0.4444444444444444,
             "#bd3786"
            ],
            [
             0.5555555555555556,
             "#d8576b"
            ],
            [
             0.6666666666666666,
             "#ed7953"
            ],
            [
             0.7777777777777778,
             "#fb9f3a"
            ],
            [
             0.8888888888888888,
             "#fdca26"
            ],
            [
             1,
             "#f0f921"
            ]
           ],
           "sequentialminus": [
            [
             0,
             "#0d0887"
            ],
            [
             0.1111111111111111,
             "#46039f"
            ],
            [
             0.2222222222222222,
             "#7201a8"
            ],
            [
             0.3333333333333333,
             "#9c179e"
            ],
            [
             0.4444444444444444,
             "#bd3786"
            ],
            [
             0.5555555555555556,
             "#d8576b"
            ],
            [
             0.6666666666666666,
             "#ed7953"
            ],
            [
             0.7777777777777778,
             "#fb9f3a"
            ],
            [
             0.8888888888888888,
             "#fdca26"
            ],
            [
             1,
             "#f0f921"
            ]
           ]
          },
          "colorway": [
           "#636efa",
           "#EF553B",
           "#00cc96",
           "#ab63fa",
           "#FFA15A",
           "#19d3f3",
           "#FF6692",
           "#B6E880",
           "#FF97FF",
           "#FECB52"
          ],
          "font": {
           "color": "#2a3f5f"
          },
          "geo": {
           "bgcolor": "white",
           "lakecolor": "white",
           "landcolor": "#E5ECF6",
           "showlakes": true,
           "showland": true,
           "subunitcolor": "white"
          },
          "hoverlabel": {
           "align": "left"
          },
          "hovermode": "closest",
          "mapbox": {
           "style": "light"
          },
          "paper_bgcolor": "white",
          "plot_bgcolor": "#E5ECF6",
          "polar": {
           "angularaxis": {
            "gridcolor": "white",
            "linecolor": "white",
            "ticks": ""
           },
           "bgcolor": "#E5ECF6",
           "radialaxis": {
            "gridcolor": "white",
            "linecolor": "white",
            "ticks": ""
           }
          },
          "scene": {
           "xaxis": {
            "backgroundcolor": "#E5ECF6",
            "gridcolor": "white",
            "gridwidth": 2,
            "linecolor": "white",
            "showbackground": true,
            "ticks": "",
            "zerolinecolor": "white"
           },
           "yaxis": {
            "backgroundcolor": "#E5ECF6",
            "gridcolor": "white",
            "gridwidth": 2,
            "linecolor": "white",
            "showbackground": true,
            "ticks": "",
            "zerolinecolor": "white"
           },
           "zaxis": {
            "backgroundcolor": "#E5ECF6",
            "gridcolor": "white",
            "gridwidth": 2,
            "linecolor": "white",
            "showbackground": true,
            "ticks": "",
            "zerolinecolor": "white"
           }
          },
          "shapedefaults": {
           "line": {
            "color": "#2a3f5f"
           }
          },
          "ternary": {
           "aaxis": {
            "gridcolor": "white",
            "linecolor": "white",
            "ticks": ""
           },
           "baxis": {
            "gridcolor": "white",
            "linecolor": "white",
            "ticks": ""
           },
           "bgcolor": "#E5ECF6",
           "caxis": {
            "gridcolor": "white",
            "linecolor": "white",
            "ticks": ""
           }
          },
          "title": {
           "x": 0.05
          },
          "xaxis": {
           "automargin": true,
           "gridcolor": "white",
           "linecolor": "white",
           "ticks": "",
           "title": {
            "standoff": 15
           },
           "zerolinecolor": "white",
           "zerolinewidth": 2
          },
          "yaxis": {
           "automargin": true,
           "gridcolor": "white",
           "linecolor": "white",
           "ticks": "",
           "title": {
            "standoff": 15
           },
           "zerolinecolor": "white",
           "zerolinewidth": 2
          }
         }
        },
        "title": {
         "text": "Top 10 Countries with Most Startups companies"
        },
        "xaxis": {
         "anchor": "y",
         "domain": [
          0,
          1
         ],
         "title": {
          "text": "Country"
         }
        },
        "yaxis": {
         "anchor": "x",
         "domain": [
          0,
          1
         ],
         "title": {
          "text": "Number of startups"
         }
        }
       }
      }
     },
     "metadata": {},
     "output_type": "display_data"
    }
   ],
   "source": [
    "# distribution of countries\n",
    "county_counts = offices['country_code'].value_counts()\n",
    "df_county_counts = pd.DataFrame({'country_code': county_counts.index, 'count': county_counts.values})\n",
    "df_county_counts =df_county_counts[0:10]\n",
    "\n",
    "\n",
    "# plot\n",
    "fig = px.bar(df_county_counts, x='country_code', y='count')\n",
    "\n",
    "# layout\n",
    "fig.update_layout(\n",
    "    title='Top 10 Countries with Most Startups companies',\n",
    "    xaxis_title='Country',\n",
    "    yaxis_title='Number of startups',\n",
    "   \n",
    ")\n",
    "fig.update_traces(marker_color=px.colors.sequential.deep[::-1], width=0.8)\n",
    "fig.show()"
   ]
  },
  {
   "cell_type": "code",
   "execution_count": 5,
   "metadata": {},
   "outputs": [
    {
     "data": {
      "text/html": [
       "<div>\n",
       "<style scoped>\n",
       "    .dataframe tbody tr th:only-of-type {\n",
       "        vertical-align: middle;\n",
       "    }\n",
       "\n",
       "    .dataframe tbody tr th {\n",
       "        vertical-align: top;\n",
       "    }\n",
       "\n",
       "    .dataframe thead th {\n",
       "        text-align: right;\n",
       "    }\n",
       "</style>\n",
       "<table border=\"1\" class=\"dataframe\">\n",
       "  <thead>\n",
       "    <tr style=\"text-align: right;\">\n",
       "      <th></th>\n",
       "      <th>id</th>\n",
       "      <th>object_id</th>\n",
       "      <th>office_id</th>\n",
       "      <th>region</th>\n",
       "      <th>city</th>\n",
       "      <th>state_code</th>\n",
       "      <th>latitude</th>\n",
       "      <th>longitude</th>\n",
       "    </tr>\n",
       "  </thead>\n",
       "  <tbody>\n",
       "    <tr>\n",
       "      <th>0</th>\n",
       "      <td>1</td>\n",
       "      <td>c:1</td>\n",
       "      <td>1</td>\n",
       "      <td>Seattle</td>\n",
       "      <td>Seattle</td>\n",
       "      <td>WA</td>\n",
       "      <td>47.603122</td>\n",
       "      <td>-122.333253</td>\n",
       "    </tr>\n",
       "    <tr>\n",
       "      <th>1</th>\n",
       "      <td>2</td>\n",
       "      <td>c:3</td>\n",
       "      <td>3</td>\n",
       "      <td>SF Bay</td>\n",
       "      <td>Pleasanton</td>\n",
       "      <td>CA</td>\n",
       "      <td>37.692934</td>\n",
       "      <td>-121.904945</td>\n",
       "    </tr>\n",
       "    <tr>\n",
       "      <th>2</th>\n",
       "      <td>3</td>\n",
       "      <td>c:4</td>\n",
       "      <td>4</td>\n",
       "      <td>SF Bay</td>\n",
       "      <td>San Francisco</td>\n",
       "      <td>CA</td>\n",
       "      <td>37.764726</td>\n",
       "      <td>-122.394523</td>\n",
       "    </tr>\n",
       "    <tr>\n",
       "      <th>3</th>\n",
       "      <td>4</td>\n",
       "      <td>c:5</td>\n",
       "      <td>5</td>\n",
       "      <td>SF Bay</td>\n",
       "      <td>Menlo Park</td>\n",
       "      <td>CA</td>\n",
       "      <td>37.416050</td>\n",
       "      <td>-122.151801</td>\n",
       "    </tr>\n",
       "    <tr>\n",
       "      <th>5</th>\n",
       "      <td>6</td>\n",
       "      <td>c:8</td>\n",
       "      <td>8</td>\n",
       "      <td>SF Bay</td>\n",
       "      <td>San Carlos</td>\n",
       "      <td>CA</td>\n",
       "      <td>37.506885</td>\n",
       "      <td>-122.247573</td>\n",
       "    </tr>\n",
       "    <tr>\n",
       "      <th>...</th>\n",
       "      <td>...</td>\n",
       "      <td>...</td>\n",
       "      <td>...</td>\n",
       "      <td>...</td>\n",
       "      <td>...</td>\n",
       "      <td>...</td>\n",
       "      <td>...</td>\n",
       "      <td>...</td>\n",
       "    </tr>\n",
       "    <tr>\n",
       "      <th>112713</th>\n",
       "      <td>112714</td>\n",
       "      <td>f:15098</td>\n",
       "      <td>127846</td>\n",
       "      <td>New York</td>\n",
       "      <td>Greenwich</td>\n",
       "      <td>CT</td>\n",
       "      <td>0.000000</td>\n",
       "      <td>0.000000</td>\n",
       "    </tr>\n",
       "    <tr>\n",
       "      <th>112714</th>\n",
       "      <td>112715</td>\n",
       "      <td>c:286200</td>\n",
       "      <td>127847</td>\n",
       "      <td>Santa Barbara</td>\n",
       "      <td>Santa Barbara</td>\n",
       "      <td>CA</td>\n",
       "      <td>0.000000</td>\n",
       "      <td>0.000000</td>\n",
       "    </tr>\n",
       "    <tr>\n",
       "      <th>112715</th>\n",
       "      <td>112716</td>\n",
       "      <td>c:256895</td>\n",
       "      <td>127848</td>\n",
       "      <td>Los Angeles</td>\n",
       "      <td>Los Angeles</td>\n",
       "      <td>CA</td>\n",
       "      <td>0.000000</td>\n",
       "      <td>0.000000</td>\n",
       "    </tr>\n",
       "    <tr>\n",
       "      <th>112716</th>\n",
       "      <td>112717</td>\n",
       "      <td>c:256200</td>\n",
       "      <td>127849</td>\n",
       "      <td>New York</td>\n",
       "      <td>New York</td>\n",
       "      <td>NY</td>\n",
       "      <td>0.000000</td>\n",
       "      <td>0.000000</td>\n",
       "    </tr>\n",
       "    <tr>\n",
       "      <th>112717</th>\n",
       "      <td>112718</td>\n",
       "      <td>c:286215</td>\n",
       "      <td>127850</td>\n",
       "      <td>SF Bay</td>\n",
       "      <td>San Mateo</td>\n",
       "      <td>CA</td>\n",
       "      <td>0.000000</td>\n",
       "      <td>0.000000</td>\n",
       "    </tr>\n",
       "  </tbody>\n",
       "</table>\n",
       "<p>62991 rows × 8 columns</p>\n",
       "</div>"
      ],
      "text/plain": [
       "            id object_id  office_id         region           city state_code  \\\n",
       "0            1       c:1          1        Seattle        Seattle         WA   \n",
       "1            2       c:3          3         SF Bay     Pleasanton         CA   \n",
       "2            3       c:4          4         SF Bay  San Francisco         CA   \n",
       "3            4       c:5          5         SF Bay     Menlo Park         CA   \n",
       "5            6       c:8          8         SF Bay     San Carlos         CA   \n",
       "...        ...       ...        ...            ...            ...        ...   \n",
       "112713  112714   f:15098     127846       New York      Greenwich         CT   \n",
       "112714  112715  c:286200     127847  Santa Barbara  Santa Barbara         CA   \n",
       "112715  112716  c:256895     127848    Los Angeles    Los Angeles         CA   \n",
       "112716  112717  c:256200     127849       New York       New York         NY   \n",
       "112717  112718  c:286215     127850         SF Bay      San Mateo         CA   \n",
       "\n",
       "         latitude   longitude  \n",
       "0       47.603122 -122.333253  \n",
       "1       37.692934 -121.904945  \n",
       "2       37.764726 -122.394523  \n",
       "3       37.416050 -122.151801  \n",
       "5       37.506885 -122.247573  \n",
       "...           ...         ...  \n",
       "112713   0.000000    0.000000  \n",
       "112714   0.000000    0.000000  \n",
       "112715   0.000000    0.000000  \n",
       "112716   0.000000    0.000000  \n",
       "112717   0.000000    0.000000  \n",
       "\n",
       "[62991 rows x 8 columns]"
      ]
     },
     "execution_count": 5,
     "metadata": {},
     "output_type": "execute_result"
    }
   ],
   "source": [
    "# Only keep data from usa\n",
    "usa_offices=offices.loc[offices['country_code'] == 'USA']\n",
    "# removed columns: description, address1, address2, zip_code, country_code, created_at, updated_at\n",
    "# collumn\n",
    "usa_offices = usa_offices.loc[:, ['id', 'object_id','office_id','region', 'city', 'state_code', 'latitude', 'longitude']]\n",
    "usa_offices"
   ]
  },
  {
   "cell_type": "code",
   "execution_count": 6,
   "metadata": {},
   "outputs": [
    {
     "data": {
      "application/vnd.plotly.v1+json": {
       "config": {
        "plotlyServerURL": "https://plot.ly"
       },
       "data": [
        {
         "alignmentgroup": "True",
         "hovertemplate": "city=%{x}<br>count=%{y}<extra></extra>",
         "legendgroup": "",
         "marker": {
          "color": [
           "rgb(39, 26, 44)",
           "rgb(54, 43, 77)",
           "rgb(64, 60, 115)",
           "rgb(62, 82, 143)",
           "rgb(62, 108, 150)",
           "rgb(68, 130, 155)",
           "rgb(76, 153, 160)",
           "rgb(86, 177, 163)",
           "rgb(111, 201, 163)",
           "rgb(156, 219, 165)",
           "rgb(206, 236, 179)",
           "rgb(253, 253, 204)"
          ],
          "pattern": {
           "shape": ""
          }
         },
         "name": "",
         "offsetgroup": "",
         "orientation": "v",
         "showlegend": false,
         "textposition": "auto",
         "type": "bar",
         "width": 0.8,
         "x": [
          "New York",
          "San Francisco",
          "Chicago",
          "Los Angeles",
          "Seattle",
          "Austin",
          "Palo Alto",
          "Boston",
          "San Diego"
         ],
         "xaxis": "x",
         "y": [
          5347,
          4460,
          1359,
          1339,
          1084,
          1073,
          1058,
          974,
          920
         ],
         "yaxis": "y"
        }
       ],
       "layout": {
        "barmode": "relative",
        "legend": {
         "tracegroupgap": 0
        },
        "margin": {
         "t": 60
        },
        "template": {
         "data": {
          "bar": [
           {
            "error_x": {
             "color": "#2a3f5f"
            },
            "error_y": {
             "color": "#2a3f5f"
            },
            "marker": {
             "line": {
              "color": "#E5ECF6",
              "width": 0.5
             },
             "pattern": {
              "fillmode": "overlay",
              "size": 10,
              "solidity": 0.2
             }
            },
            "type": "bar"
           }
          ],
          "barpolar": [
           {
            "marker": {
             "line": {
              "color": "#E5ECF6",
              "width": 0.5
             },
             "pattern": {
              "fillmode": "overlay",
              "size": 10,
              "solidity": 0.2
             }
            },
            "type": "barpolar"
           }
          ],
          "carpet": [
           {
            "aaxis": {
             "endlinecolor": "#2a3f5f",
             "gridcolor": "white",
             "linecolor": "white",
             "minorgridcolor": "white",
             "startlinecolor": "#2a3f5f"
            },
            "baxis": {
             "endlinecolor": "#2a3f5f",
             "gridcolor": "white",
             "linecolor": "white",
             "minorgridcolor": "white",
             "startlinecolor": "#2a3f5f"
            },
            "type": "carpet"
           }
          ],
          "choropleth": [
           {
            "colorbar": {
             "outlinewidth": 0,
             "ticks": ""
            },
            "type": "choropleth"
           }
          ],
          "contour": [
           {
            "colorbar": {
             "outlinewidth": 0,
             "ticks": ""
            },
            "colorscale": [
             [
              0,
              "#0d0887"
             ],
             [
              0.1111111111111111,
              "#46039f"
             ],
             [
              0.2222222222222222,
              "#7201a8"
             ],
             [
              0.3333333333333333,
              "#9c179e"
             ],
             [
              0.4444444444444444,
              "#bd3786"
             ],
             [
              0.5555555555555556,
              "#d8576b"
             ],
             [
              0.6666666666666666,
              "#ed7953"
             ],
             [
              0.7777777777777778,
              "#fb9f3a"
             ],
             [
              0.8888888888888888,
              "#fdca26"
             ],
             [
              1,
              "#f0f921"
             ]
            ],
            "type": "contour"
           }
          ],
          "contourcarpet": [
           {
            "colorbar": {
             "outlinewidth": 0,
             "ticks": ""
            },
            "type": "contourcarpet"
           }
          ],
          "heatmap": [
           {
            "colorbar": {
             "outlinewidth": 0,
             "ticks": ""
            },
            "colorscale": [
             [
              0,
              "#0d0887"
             ],
             [
              0.1111111111111111,
              "#46039f"
             ],
             [
              0.2222222222222222,
              "#7201a8"
             ],
             [
              0.3333333333333333,
              "#9c179e"
             ],
             [
              0.4444444444444444,
              "#bd3786"
             ],
             [
              0.5555555555555556,
              "#d8576b"
             ],
             [
              0.6666666666666666,
              "#ed7953"
             ],
             [
              0.7777777777777778,
              "#fb9f3a"
             ],
             [
              0.8888888888888888,
              "#fdca26"
             ],
             [
              1,
              "#f0f921"
             ]
            ],
            "type": "heatmap"
           }
          ],
          "heatmapgl": [
           {
            "colorbar": {
             "outlinewidth": 0,
             "ticks": ""
            },
            "colorscale": [
             [
              0,
              "#0d0887"
             ],
             [
              0.1111111111111111,
              "#46039f"
             ],
             [
              0.2222222222222222,
              "#7201a8"
             ],
             [
              0.3333333333333333,
              "#9c179e"
             ],
             [
              0.4444444444444444,
              "#bd3786"
             ],
             [
              0.5555555555555556,
              "#d8576b"
             ],
             [
              0.6666666666666666,
              "#ed7953"
             ],
             [
              0.7777777777777778,
              "#fb9f3a"
             ],
             [
              0.8888888888888888,
              "#fdca26"
             ],
             [
              1,
              "#f0f921"
             ]
            ],
            "type": "heatmapgl"
           }
          ],
          "histogram": [
           {
            "marker": {
             "pattern": {
              "fillmode": "overlay",
              "size": 10,
              "solidity": 0.2
             }
            },
            "type": "histogram"
           }
          ],
          "histogram2d": [
           {
            "colorbar": {
             "outlinewidth": 0,
             "ticks": ""
            },
            "colorscale": [
             [
              0,
              "#0d0887"
             ],
             [
              0.1111111111111111,
              "#46039f"
             ],
             [
              0.2222222222222222,
              "#7201a8"
             ],
             [
              0.3333333333333333,
              "#9c179e"
             ],
             [
              0.4444444444444444,
              "#bd3786"
             ],
             [
              0.5555555555555556,
              "#d8576b"
             ],
             [
              0.6666666666666666,
              "#ed7953"
             ],
             [
              0.7777777777777778,
              "#fb9f3a"
             ],
             [
              0.8888888888888888,
              "#fdca26"
             ],
             [
              1,
              "#f0f921"
             ]
            ],
            "type": "histogram2d"
           }
          ],
          "histogram2dcontour": [
           {
            "colorbar": {
             "outlinewidth": 0,
             "ticks": ""
            },
            "colorscale": [
             [
              0,
              "#0d0887"
             ],
             [
              0.1111111111111111,
              "#46039f"
             ],
             [
              0.2222222222222222,
              "#7201a8"
             ],
             [
              0.3333333333333333,
              "#9c179e"
             ],
             [
              0.4444444444444444,
              "#bd3786"
             ],
             [
              0.5555555555555556,
              "#d8576b"
             ],
             [
              0.6666666666666666,
              "#ed7953"
             ],
             [
              0.7777777777777778,
              "#fb9f3a"
             ],
             [
              0.8888888888888888,
              "#fdca26"
             ],
             [
              1,
              "#f0f921"
             ]
            ],
            "type": "histogram2dcontour"
           }
          ],
          "mesh3d": [
           {
            "colorbar": {
             "outlinewidth": 0,
             "ticks": ""
            },
            "type": "mesh3d"
           }
          ],
          "parcoords": [
           {
            "line": {
             "colorbar": {
              "outlinewidth": 0,
              "ticks": ""
             }
            },
            "type": "parcoords"
           }
          ],
          "pie": [
           {
            "automargin": true,
            "type": "pie"
           }
          ],
          "scatter": [
           {
            "fillpattern": {
             "fillmode": "overlay",
             "size": 10,
             "solidity": 0.2
            },
            "type": "scatter"
           }
          ],
          "scatter3d": [
           {
            "line": {
             "colorbar": {
              "outlinewidth": 0,
              "ticks": ""
             }
            },
            "marker": {
             "colorbar": {
              "outlinewidth": 0,
              "ticks": ""
             }
            },
            "type": "scatter3d"
           }
          ],
          "scattercarpet": [
           {
            "marker": {
             "colorbar": {
              "outlinewidth": 0,
              "ticks": ""
             }
            },
            "type": "scattercarpet"
           }
          ],
          "scattergeo": [
           {
            "marker": {
             "colorbar": {
              "outlinewidth": 0,
              "ticks": ""
             }
            },
            "type": "scattergeo"
           }
          ],
          "scattergl": [
           {
            "marker": {
             "colorbar": {
              "outlinewidth": 0,
              "ticks": ""
             }
            },
            "type": "scattergl"
           }
          ],
          "scattermapbox": [
           {
            "marker": {
             "colorbar": {
              "outlinewidth": 0,
              "ticks": ""
             }
            },
            "type": "scattermapbox"
           }
          ],
          "scatterpolar": [
           {
            "marker": {
             "colorbar": {
              "outlinewidth": 0,
              "ticks": ""
             }
            },
            "type": "scatterpolar"
           }
          ],
          "scatterpolargl": [
           {
            "marker": {
             "colorbar": {
              "outlinewidth": 0,
              "ticks": ""
             }
            },
            "type": "scatterpolargl"
           }
          ],
          "scatterternary": [
           {
            "marker": {
             "colorbar": {
              "outlinewidth": 0,
              "ticks": ""
             }
            },
            "type": "scatterternary"
           }
          ],
          "surface": [
           {
            "colorbar": {
             "outlinewidth": 0,
             "ticks": ""
            },
            "colorscale": [
             [
              0,
              "#0d0887"
             ],
             [
              0.1111111111111111,
              "#46039f"
             ],
             [
              0.2222222222222222,
              "#7201a8"
             ],
             [
              0.3333333333333333,
              "#9c179e"
             ],
             [
              0.4444444444444444,
              "#bd3786"
             ],
             [
              0.5555555555555556,
              "#d8576b"
             ],
             [
              0.6666666666666666,
              "#ed7953"
             ],
             [
              0.7777777777777778,
              "#fb9f3a"
             ],
             [
              0.8888888888888888,
              "#fdca26"
             ],
             [
              1,
              "#f0f921"
             ]
            ],
            "type": "surface"
           }
          ],
          "table": [
           {
            "cells": {
             "fill": {
              "color": "#EBF0F8"
             },
             "line": {
              "color": "white"
             }
            },
            "header": {
             "fill": {
              "color": "#C8D4E3"
             },
             "line": {
              "color": "white"
             }
            },
            "type": "table"
           }
          ]
         },
         "layout": {
          "annotationdefaults": {
           "arrowcolor": "#2a3f5f",
           "arrowhead": 0,
           "arrowwidth": 1
          },
          "autotypenumbers": "strict",
          "coloraxis": {
           "colorbar": {
            "outlinewidth": 0,
            "ticks": ""
           }
          },
          "colorscale": {
           "diverging": [
            [
             0,
             "#8e0152"
            ],
            [
             0.1,
             "#c51b7d"
            ],
            [
             0.2,
             "#de77ae"
            ],
            [
             0.3,
             "#f1b6da"
            ],
            [
             0.4,
             "#fde0ef"
            ],
            [
             0.5,
             "#f7f7f7"
            ],
            [
             0.6,
             "#e6f5d0"
            ],
            [
             0.7,
             "#b8e186"
            ],
            [
             0.8,
             "#7fbc41"
            ],
            [
             0.9,
             "#4d9221"
            ],
            [
             1,
             "#276419"
            ]
           ],
           "sequential": [
            [
             0,
             "#0d0887"
            ],
            [
             0.1111111111111111,
             "#46039f"
            ],
            [
             0.2222222222222222,
             "#7201a8"
            ],
            [
             0.3333333333333333,
             "#9c179e"
            ],
            [
             0.4444444444444444,
             "#bd3786"
            ],
            [
             0.5555555555555556,
             "#d8576b"
            ],
            [
             0.6666666666666666,
             "#ed7953"
            ],
            [
             0.7777777777777778,
             "#fb9f3a"
            ],
            [
             0.8888888888888888,
             "#fdca26"
            ],
            [
             1,
             "#f0f921"
            ]
           ],
           "sequentialminus": [
            [
             0,
             "#0d0887"
            ],
            [
             0.1111111111111111,
             "#46039f"
            ],
            [
             0.2222222222222222,
             "#7201a8"
            ],
            [
             0.3333333333333333,
             "#9c179e"
            ],
            [
             0.4444444444444444,
             "#bd3786"
            ],
            [
             0.5555555555555556,
             "#d8576b"
            ],
            [
             0.6666666666666666,
             "#ed7953"
            ],
            [
             0.7777777777777778,
             "#fb9f3a"
            ],
            [
             0.8888888888888888,
             "#fdca26"
            ],
            [
             1,
             "#f0f921"
            ]
           ]
          },
          "colorway": [
           "#636efa",
           "#EF553B",
           "#00cc96",
           "#ab63fa",
           "#FFA15A",
           "#19d3f3",
           "#FF6692",
           "#B6E880",
           "#FF97FF",
           "#FECB52"
          ],
          "font": {
           "color": "#2a3f5f"
          },
          "geo": {
           "bgcolor": "white",
           "lakecolor": "white",
           "landcolor": "#E5ECF6",
           "showlakes": true,
           "showland": true,
           "subunitcolor": "white"
          },
          "hoverlabel": {
           "align": "left"
          },
          "hovermode": "closest",
          "mapbox": {
           "style": "light"
          },
          "paper_bgcolor": "white",
          "plot_bgcolor": "#E5ECF6",
          "polar": {
           "angularaxis": {
            "gridcolor": "white",
            "linecolor": "white",
            "ticks": ""
           },
           "bgcolor": "#E5ECF6",
           "radialaxis": {
            "gridcolor": "white",
            "linecolor": "white",
            "ticks": ""
           }
          },
          "scene": {
           "xaxis": {
            "backgroundcolor": "#E5ECF6",
            "gridcolor": "white",
            "gridwidth": 2,
            "linecolor": "white",
            "showbackground": true,
            "ticks": "",
            "zerolinecolor": "white"
           },
           "yaxis": {
            "backgroundcolor": "#E5ECF6",
            "gridcolor": "white",
            "gridwidth": 2,
            "linecolor": "white",
            "showbackground": true,
            "ticks": "",
            "zerolinecolor": "white"
           },
           "zaxis": {
            "backgroundcolor": "#E5ECF6",
            "gridcolor": "white",
            "gridwidth": 2,
            "linecolor": "white",
            "showbackground": true,
            "ticks": "",
            "zerolinecolor": "white"
           }
          },
          "shapedefaults": {
           "line": {
            "color": "#2a3f5f"
           }
          },
          "ternary": {
           "aaxis": {
            "gridcolor": "white",
            "linecolor": "white",
            "ticks": ""
           },
           "baxis": {
            "gridcolor": "white",
            "linecolor": "white",
            "ticks": ""
           },
           "bgcolor": "#E5ECF6",
           "caxis": {
            "gridcolor": "white",
            "linecolor": "white",
            "ticks": ""
           }
          },
          "title": {
           "x": 0.05
          },
          "xaxis": {
           "automargin": true,
           "gridcolor": "white",
           "linecolor": "white",
           "ticks": "",
           "title": {
            "standoff": 15
           },
           "zerolinecolor": "white",
           "zerolinewidth": 2
          },
          "yaxis": {
           "automargin": true,
           "gridcolor": "white",
           "linecolor": "white",
           "ticks": "",
           "title": {
            "standoff": 15
           },
           "zerolinecolor": "white",
           "zerolinewidth": 2
          }
         }
        },
        "title": {
         "text": "Top 10 cities in USA with Most Startups companies"
        },
        "xaxis": {
         "anchor": "y",
         "domain": [
          0,
          1
         ],
         "title": {
          "text": "Cities"
         }
        },
        "yaxis": {
         "anchor": "x",
         "domain": [
          0,
          1
         ],
         "title": {
          "text": "Number of startups"
         }
        }
       }
      }
     },
     "metadata": {},
     "output_type": "display_data"
    },
    {
     "data": {
      "text/plain": [
       "'cities.html'"
      ]
     },
     "execution_count": 6,
     "metadata": {},
     "output_type": "execute_result"
    }
   ],
   "source": [
    "city_counts = usa_offices['city'].value_counts()\n",
    "df_city_counts = pd.DataFrame({'city': city_counts.index, 'count': city_counts.values})\n",
    "df_city_counts =df_city_counts[0:9]\n",
    "\n",
    "\n",
    "fig = px.bar(df_city_counts, x='city', y='count')\n",
    "fig.update_layout(\n",
    "    title='Top 10 cities in USA with Most Startups companies',\n",
    "    xaxis_title='Cities',\n",
    "    yaxis_title='Number of startups',\n",
    "  \n",
    ")\n",
    "fig.update_traces(marker_color=px.colors.sequential.deep[::-1], width=0.8)\n",
    "\n",
    "# display the chart\n",
    "fig.show()\n",
    "pyo.plot(fig, filename='cities.html')"
   ]
  },
  {
   "attachments": {},
   "cell_type": "markdown",
   "metadata": {},
   "source": [
    "## Data about the founder\n",
    "\n",
    "**people** and **degrees** contain data about the founder of the company, we use **relationship** to be able to merge the person with the company."
   ]
  },
  {
   "cell_type": "code",
   "execution_count": 7,
   "metadata": {},
   "outputs": [],
   "source": [
    "founders = pd.merge(relationships, people, left_on='person_object_id', right_on='object_id', how='left')\n",
    "founders = pd.merge(founders, degrees, left_on='person_object_id', right_on='object_id', how='left')\n"
   ]
  },
  {
   "cell_type": "code",
   "execution_count": 8,
   "metadata": {},
   "outputs": [],
   "source": [
    "#we want to investigate whether educational background has an influence on start-up success, therefore all empty rows are removed.\n",
    "founders.dropna(subset=['degree_type'], inplace=True)\n"
   ]
  },
  {
   "cell_type": "code",
   "execution_count": 9,
   "metadata": {},
   "outputs": [],
   "source": [
    "# removed columns from relationships: 'id_x', 'relationship_id', 'start_at', 'end_at', 'is_past', 'sequence', 'created_at_x' 'updated_at_x',\n",
    "\n",
    "# removed columns from people: 'id_y', 'object_id_x',\n",
    "\n",
    "# removed columns from degrees: 'id', 'object_id_y', , 'created_at_y', 'updated_at_y'\n",
    "\n",
    "# collumn\n",
    "founders = founders.loc[:, [ 'person_object_id', 'relationship_object_id', 'title',  'first_name', 'last_name',\n",
    "       'birthplace', 'affiliation_name',  'degree_type',\n",
    "       'subject', 'institution', 'graduated_at']]"
   ]
  },
  {
   "cell_type": "code",
   "execution_count": 10,
   "metadata": {},
   "outputs": [],
   "source": [
    "# Only keep data from USA\n",
    "founders = founders[founders['relationship_object_id'].isin(usa_offices['object_id'])]"
   ]
  },
  {
   "cell_type": "code",
   "execution_count": 44,
   "metadata": {},
   "outputs": [],
   "source": [
    "# Extract year the employees graduated in\n",
    "founders['graduated_at'] = pd.to_datetime(founders['graduated_at'], format = '%Y-%m-%d')\n",
    "founders['grad_year'] = founders['graduated_at'].dt.year"
   ]
  },
  {
   "cell_type": "code",
   "execution_count": 45,
   "metadata": {},
   "outputs": [
    {
     "data": {
      "text/html": [
       "<div>\n",
       "<style scoped>\n",
       "    .dataframe tbody tr th:only-of-type {\n",
       "        vertical-align: middle;\n",
       "    }\n",
       "\n",
       "    .dataframe tbody tr th {\n",
       "        vertical-align: top;\n",
       "    }\n",
       "\n",
       "    .dataframe thead th {\n",
       "        text-align: right;\n",
       "    }\n",
       "</style>\n",
       "<table border=\"1\" class=\"dataframe\">\n",
       "  <thead>\n",
       "    <tr style=\"text-align: right;\">\n",
       "      <th></th>\n",
       "      <th>person_object_id</th>\n",
       "      <th>relationship_object_id</th>\n",
       "      <th>title</th>\n",
       "      <th>first_name</th>\n",
       "      <th>last_name</th>\n",
       "      <th>birthplace</th>\n",
       "      <th>affiliation_name</th>\n",
       "      <th>degree_type</th>\n",
       "      <th>subject</th>\n",
       "      <th>institution</th>\n",
       "      <th>graduated_at</th>\n",
       "      <th>grad_year</th>\n",
       "    </tr>\n",
       "  </thead>\n",
       "  <tbody>\n",
       "    <tr>\n",
       "      <th>0</th>\n",
       "      <td>p:2</td>\n",
       "      <td>c:1</td>\n",
       "      <td>Co-Founder/CEO/Board of Directors</td>\n",
       "      <td>Ben</td>\n",
       "      <td>Elowitz</td>\n",
       "      <td>NaN</td>\n",
       "      <td>Blue Nile</td>\n",
       "      <td>BS</td>\n",
       "      <td>Electrical Engineering/Computer Science</td>\n",
       "      <td>University of California, Berkeley</td>\n",
       "      <td>1994-01-01</td>\n",
       "      <td>1994.0</td>\n",
       "    </tr>\n",
       "    <tr>\n",
       "      <th>1</th>\n",
       "      <td>p:2</td>\n",
       "      <td>c:1</td>\n",
       "      <td>Co-Founder/CEO/Board of Directors</td>\n",
       "      <td>Ben</td>\n",
       "      <td>Elowitz</td>\n",
       "      <td>NaN</td>\n",
       "      <td>Blue Nile</td>\n",
       "      <td>BS</td>\n",
       "      <td>Applied Mathematics</td>\n",
       "      <td>University of California, Berkeley</td>\n",
       "      <td>1994-01-01</td>\n",
       "      <td>1994.0</td>\n",
       "    </tr>\n",
       "    <tr>\n",
       "      <th>2</th>\n",
       "      <td>p:3</td>\n",
       "      <td>c:1</td>\n",
       "      <td>VP Marketing</td>\n",
       "      <td>Kevin</td>\n",
       "      <td>Flaherty</td>\n",
       "      <td>NaN</td>\n",
       "      <td>Wetpaint</td>\n",
       "      <td>BBA</td>\n",
       "      <td>NaN</td>\n",
       "      <td>Washington University in St Louis</td>\n",
       "      <td>NaT</td>\n",
       "      <td>NaN</td>\n",
       "    </tr>\n",
       "    <tr>\n",
       "      <th>3</th>\n",
       "      <td>p:3</td>\n",
       "      <td>c:1</td>\n",
       "      <td>VP Marketing</td>\n",
       "      <td>Kevin</td>\n",
       "      <td>Flaherty</td>\n",
       "      <td>NaN</td>\n",
       "      <td>Wetpaint</td>\n",
       "      <td>MBA</td>\n",
       "      <td>NaN</td>\n",
       "      <td>Indiana University</td>\n",
       "      <td>NaT</td>\n",
       "      <td>NaN</td>\n",
       "    </tr>\n",
       "    <tr>\n",
       "      <th>5</th>\n",
       "      <td>p:5</td>\n",
       "      <td>c:3</td>\n",
       "      <td>Senior Director Strategic Alliances</td>\n",
       "      <td>Ian</td>\n",
       "      <td>Wenig</td>\n",
       "      <td>NaN</td>\n",
       "      <td>Zoho</td>\n",
       "      <td>Degree</td>\n",
       "      <td>Advanced Business Professional Course</td>\n",
       "      <td>The Aji Network</td>\n",
       "      <td>2005-01-01</td>\n",
       "      <td>2005.0</td>\n",
       "    </tr>\n",
       "    <tr>\n",
       "      <th>...</th>\n",
       "      <td>...</td>\n",
       "      <td>...</td>\n",
       "      <td>...</td>\n",
       "      <td>...</td>\n",
       "      <td>...</td>\n",
       "      <td>...</td>\n",
       "      <td>...</td>\n",
       "      <td>...</td>\n",
       "      <td>...</td>\n",
       "      <td>...</td>\n",
       "      <td>...</td>\n",
       "      <td>...</td>\n",
       "    </tr>\n",
       "    <tr>\n",
       "      <th>565273</th>\n",
       "      <td>p:268589</td>\n",
       "      <td>c:12612</td>\n",
       "      <td>Controller, Wolters Kluwer Health</td>\n",
       "      <td>John</td>\n",
       "      <td>Pins</td>\n",
       "      <td>NaN</td>\n",
       "      <td>Unaffiliated</td>\n",
       "      <td>CPA</td>\n",
       "      <td>NaN</td>\n",
       "      <td>American Institute of Certtified Public Accoun...</td>\n",
       "      <td>NaT</td>\n",
       "      <td>NaN</td>\n",
       "    </tr>\n",
       "    <tr>\n",
       "      <th>565274</th>\n",
       "      <td>p:268589</td>\n",
       "      <td>c:12612</td>\n",
       "      <td>Director, Accounting - Professional &amp; Educatio...</td>\n",
       "      <td>John</td>\n",
       "      <td>Pins</td>\n",
       "      <td>NaN</td>\n",
       "      <td>Unaffiliated</td>\n",
       "      <td>B.S.</td>\n",
       "      <td>Accounting</td>\n",
       "      <td>Iowa State University</td>\n",
       "      <td>NaT</td>\n",
       "      <td>NaN</td>\n",
       "    </tr>\n",
       "    <tr>\n",
       "      <th>565275</th>\n",
       "      <td>p:268589</td>\n",
       "      <td>c:12612</td>\n",
       "      <td>Director, Accounting - Professional &amp; Educatio...</td>\n",
       "      <td>John</td>\n",
       "      <td>Pins</td>\n",
       "      <td>NaN</td>\n",
       "      <td>Unaffiliated</td>\n",
       "      <td>CPA</td>\n",
       "      <td>NaN</td>\n",
       "      <td>American Institute of Certtified Public Accoun...</td>\n",
       "      <td>NaT</td>\n",
       "      <td>NaN</td>\n",
       "    </tr>\n",
       "    <tr>\n",
       "      <th>565276</th>\n",
       "      <td>p:268527</td>\n",
       "      <td>c:39172</td>\n",
       "      <td>Director, Business Development</td>\n",
       "      <td>Harry</td>\n",
       "      <td>Wei</td>\n",
       "      <td>NaN</td>\n",
       "      <td>Unaffiliated</td>\n",
       "      <td>MS &amp; BS</td>\n",
       "      <td>Engineering</td>\n",
       "      <td>South China University of Technology</td>\n",
       "      <td>NaT</td>\n",
       "      <td>NaN</td>\n",
       "    </tr>\n",
       "    <tr>\n",
       "      <th>565277</th>\n",
       "      <td>p:268527</td>\n",
       "      <td>c:39172</td>\n",
       "      <td>Director, Business Development</td>\n",
       "      <td>Harry</td>\n",
       "      <td>Wei</td>\n",
       "      <td>NaN</td>\n",
       "      <td>Unaffiliated</td>\n",
       "      <td>PhD</td>\n",
       "      <td>Engineering</td>\n",
       "      <td>Clarkson University</td>\n",
       "      <td>NaT</td>\n",
       "      <td>NaN</td>\n",
       "    </tr>\n",
       "  </tbody>\n",
       "</table>\n",
       "<p>193797 rows × 12 columns</p>\n",
       "</div>"
      ],
      "text/plain": [
       "       person_object_id relationship_object_id  \\\n",
       "0                   p:2                    c:1   \n",
       "1                   p:2                    c:1   \n",
       "2                   p:3                    c:1   \n",
       "3                   p:3                    c:1   \n",
       "5                   p:5                    c:3   \n",
       "...                 ...                    ...   \n",
       "565273         p:268589                c:12612   \n",
       "565274         p:268589                c:12612   \n",
       "565275         p:268589                c:12612   \n",
       "565276         p:268527                c:39172   \n",
       "565277         p:268527                c:39172   \n",
       "\n",
       "                                                    title first_name  \\\n",
       "0                       Co-Founder/CEO/Board of Directors        Ben   \n",
       "1                       Co-Founder/CEO/Board of Directors        Ben   \n",
       "2                                            VP Marketing      Kevin   \n",
       "3                                            VP Marketing      Kevin   \n",
       "5                     Senior Director Strategic Alliances        Ian   \n",
       "...                                                   ...        ...   \n",
       "565273                  Controller, Wolters Kluwer Health       John   \n",
       "565274  Director, Accounting - Professional & Educatio...       John   \n",
       "565275  Director, Accounting - Professional & Educatio...       John   \n",
       "565276                     Director, Business Development      Harry   \n",
       "565277                     Director, Business Development      Harry   \n",
       "\n",
       "       last_name birthplace affiliation_name degree_type  \\\n",
       "0        Elowitz        NaN        Blue Nile          BS   \n",
       "1        Elowitz        NaN        Blue Nile          BS   \n",
       "2       Flaherty        NaN         Wetpaint         BBA   \n",
       "3       Flaherty        NaN         Wetpaint         MBA   \n",
       "5          Wenig        NaN             Zoho      Degree   \n",
       "...          ...        ...              ...         ...   \n",
       "565273      Pins        NaN     Unaffiliated         CPA   \n",
       "565274      Pins        NaN     Unaffiliated        B.S.   \n",
       "565275      Pins        NaN     Unaffiliated         CPA   \n",
       "565276       Wei        NaN     Unaffiliated     MS & BS   \n",
       "565277       Wei        NaN     Unaffiliated         PhD   \n",
       "\n",
       "                                        subject  \\\n",
       "0       Electrical Engineering/Computer Science   \n",
       "1                           Applied Mathematics   \n",
       "2                                           NaN   \n",
       "3                                           NaN   \n",
       "5         Advanced Business Professional Course   \n",
       "...                                         ...   \n",
       "565273                                      NaN   \n",
       "565274                               Accounting   \n",
       "565275                                      NaN   \n",
       "565276                              Engineering   \n",
       "565277                              Engineering   \n",
       "\n",
       "                                              institution graduated_at  \\\n",
       "0                      University of California, Berkeley   1994-01-01   \n",
       "1                      University of California, Berkeley   1994-01-01   \n",
       "2                       Washington University in St Louis          NaT   \n",
       "3                                      Indiana University          NaT   \n",
       "5                                         The Aji Network   2005-01-01   \n",
       "...                                                   ...          ...   \n",
       "565273  American Institute of Certtified Public Accoun...          NaT   \n",
       "565274                              Iowa State University          NaT   \n",
       "565275  American Institute of Certtified Public Accoun...          NaT   \n",
       "565276               South China University of Technology          NaT   \n",
       "565277                                Clarkson University          NaT   \n",
       "\n",
       "        grad_year  \n",
       "0          1994.0  \n",
       "1          1994.0  \n",
       "2             NaN  \n",
       "3             NaN  \n",
       "5          2005.0  \n",
       "...           ...  \n",
       "565273        NaN  \n",
       "565274        NaN  \n",
       "565275        NaN  \n",
       "565276        NaN  \n",
       "565277        NaN  \n",
       "\n",
       "[193797 rows x 12 columns]"
      ]
     },
     "execution_count": 45,
     "metadata": {},
     "output_type": "execute_result"
    }
   ],
   "source": [
    "founders"
   ]
  },
  {
   "cell_type": "code",
   "execution_count": 32,
   "metadata": {},
   "outputs": [
    {
     "data": {
      "application/vnd.plotly.v1+json": {
       "config": {
        "plotlyServerURL": "https://plot.ly"
       },
       "data": [
        {
         "alignmentgroup": "True",
         "hovertemplate": "degree_type=%{x}<br>count=%{y}<extra></extra>",
         "legendgroup": "",
         "marker": {
          "color": [
           "rgb(39, 26, 44)",
           "rgb(54, 43, 77)",
           "rgb(64, 60, 115)",
           "rgb(62, 82, 143)",
           "rgb(62, 108, 150)",
           "rgb(68, 130, 155)",
           "rgb(76, 153, 160)",
           "rgb(86, 177, 163)",
           "rgb(111, 201, 163)",
           "rgb(156, 219, 165)",
           "rgb(206, 236, 179)",
           "rgb(253, 253, 204)"
          ],
          "pattern": {
           "shape": ""
          }
         },
         "name": "",
         "offsetgroup": "",
         "orientation": "v",
         "showlegend": false,
         "textposition": "auto",
         "type": "bar",
         "width": 0.8,
         "x": [
          "BS",
          "MBA",
          "BA",
          "MS",
          "PhD",
          "JD",
          "Degree",
          "BE",
          "BBA",
          "MA"
         ],
         "xaxis": "x",
         "y": [
          47627,
          36278,
          34187,
          20532,
          7781,
          4344,
          4304,
          3288,
          3204,
          2868
         ],
         "yaxis": "y"
        }
       ],
       "layout": {
        "barmode": "relative",
        "legend": {
         "tracegroupgap": 0
        },
        "margin": {
         "t": 60
        },
        "template": {
         "data": {
          "bar": [
           {
            "error_x": {
             "color": "#2a3f5f"
            },
            "error_y": {
             "color": "#2a3f5f"
            },
            "marker": {
             "line": {
              "color": "#E5ECF6",
              "width": 0.5
             },
             "pattern": {
              "fillmode": "overlay",
              "size": 10,
              "solidity": 0.2
             }
            },
            "type": "bar"
           }
          ],
          "barpolar": [
           {
            "marker": {
             "line": {
              "color": "#E5ECF6",
              "width": 0.5
             },
             "pattern": {
              "fillmode": "overlay",
              "size": 10,
              "solidity": 0.2
             }
            },
            "type": "barpolar"
           }
          ],
          "carpet": [
           {
            "aaxis": {
             "endlinecolor": "#2a3f5f",
             "gridcolor": "white",
             "linecolor": "white",
             "minorgridcolor": "white",
             "startlinecolor": "#2a3f5f"
            },
            "baxis": {
             "endlinecolor": "#2a3f5f",
             "gridcolor": "white",
             "linecolor": "white",
             "minorgridcolor": "white",
             "startlinecolor": "#2a3f5f"
            },
            "type": "carpet"
           }
          ],
          "choropleth": [
           {
            "colorbar": {
             "outlinewidth": 0,
             "ticks": ""
            },
            "type": "choropleth"
           }
          ],
          "contour": [
           {
            "colorbar": {
             "outlinewidth": 0,
             "ticks": ""
            },
            "colorscale": [
             [
              0,
              "#0d0887"
             ],
             [
              0.1111111111111111,
              "#46039f"
             ],
             [
              0.2222222222222222,
              "#7201a8"
             ],
             [
              0.3333333333333333,
              "#9c179e"
             ],
             [
              0.4444444444444444,
              "#bd3786"
             ],
             [
              0.5555555555555556,
              "#d8576b"
             ],
             [
              0.6666666666666666,
              "#ed7953"
             ],
             [
              0.7777777777777778,
              "#fb9f3a"
             ],
             [
              0.8888888888888888,
              "#fdca26"
             ],
             [
              1,
              "#f0f921"
             ]
            ],
            "type": "contour"
           }
          ],
          "contourcarpet": [
           {
            "colorbar": {
             "outlinewidth": 0,
             "ticks": ""
            },
            "type": "contourcarpet"
           }
          ],
          "heatmap": [
           {
            "colorbar": {
             "outlinewidth": 0,
             "ticks": ""
            },
            "colorscale": [
             [
              0,
              "#0d0887"
             ],
             [
              0.1111111111111111,
              "#46039f"
             ],
             [
              0.2222222222222222,
              "#7201a8"
             ],
             [
              0.3333333333333333,
              "#9c179e"
             ],
             [
              0.4444444444444444,
              "#bd3786"
             ],
             [
              0.5555555555555556,
              "#d8576b"
             ],
             [
              0.6666666666666666,
              "#ed7953"
             ],
             [
              0.7777777777777778,
              "#fb9f3a"
             ],
             [
              0.8888888888888888,
              "#fdca26"
             ],
             [
              1,
              "#f0f921"
             ]
            ],
            "type": "heatmap"
           }
          ],
          "heatmapgl": [
           {
            "colorbar": {
             "outlinewidth": 0,
             "ticks": ""
            },
            "colorscale": [
             [
              0,
              "#0d0887"
             ],
             [
              0.1111111111111111,
              "#46039f"
             ],
             [
              0.2222222222222222,
              "#7201a8"
             ],
             [
              0.3333333333333333,
              "#9c179e"
             ],
             [
              0.4444444444444444,
              "#bd3786"
             ],
             [
              0.5555555555555556,
              "#d8576b"
             ],
             [
              0.6666666666666666,
              "#ed7953"
             ],
             [
              0.7777777777777778,
              "#fb9f3a"
             ],
             [
              0.8888888888888888,
              "#fdca26"
             ],
             [
              1,
              "#f0f921"
             ]
            ],
            "type": "heatmapgl"
           }
          ],
          "histogram": [
           {
            "marker": {
             "pattern": {
              "fillmode": "overlay",
              "size": 10,
              "solidity": 0.2
             }
            },
            "type": "histogram"
           }
          ],
          "histogram2d": [
           {
            "colorbar": {
             "outlinewidth": 0,
             "ticks": ""
            },
            "colorscale": [
             [
              0,
              "#0d0887"
             ],
             [
              0.1111111111111111,
              "#46039f"
             ],
             [
              0.2222222222222222,
              "#7201a8"
             ],
             [
              0.3333333333333333,
              "#9c179e"
             ],
             [
              0.4444444444444444,
              "#bd3786"
             ],
             [
              0.5555555555555556,
              "#d8576b"
             ],
             [
              0.6666666666666666,
              "#ed7953"
             ],
             [
              0.7777777777777778,
              "#fb9f3a"
             ],
             [
              0.8888888888888888,
              "#fdca26"
             ],
             [
              1,
              "#f0f921"
             ]
            ],
            "type": "histogram2d"
           }
          ],
          "histogram2dcontour": [
           {
            "colorbar": {
             "outlinewidth": 0,
             "ticks": ""
            },
            "colorscale": [
             [
              0,
              "#0d0887"
             ],
             [
              0.1111111111111111,
              "#46039f"
             ],
             [
              0.2222222222222222,
              "#7201a8"
             ],
             [
              0.3333333333333333,
              "#9c179e"
             ],
             [
              0.4444444444444444,
              "#bd3786"
             ],
             [
              0.5555555555555556,
              "#d8576b"
             ],
             [
              0.6666666666666666,
              "#ed7953"
             ],
             [
              0.7777777777777778,
              "#fb9f3a"
             ],
             [
              0.8888888888888888,
              "#fdca26"
             ],
             [
              1,
              "#f0f921"
             ]
            ],
            "type": "histogram2dcontour"
           }
          ],
          "mesh3d": [
           {
            "colorbar": {
             "outlinewidth": 0,
             "ticks": ""
            },
            "type": "mesh3d"
           }
          ],
          "parcoords": [
           {
            "line": {
             "colorbar": {
              "outlinewidth": 0,
              "ticks": ""
             }
            },
            "type": "parcoords"
           }
          ],
          "pie": [
           {
            "automargin": true,
            "type": "pie"
           }
          ],
          "scatter": [
           {
            "fillpattern": {
             "fillmode": "overlay",
             "size": 10,
             "solidity": 0.2
            },
            "type": "scatter"
           }
          ],
          "scatter3d": [
           {
            "line": {
             "colorbar": {
              "outlinewidth": 0,
              "ticks": ""
             }
            },
            "marker": {
             "colorbar": {
              "outlinewidth": 0,
              "ticks": ""
             }
            },
            "type": "scatter3d"
           }
          ],
          "scattercarpet": [
           {
            "marker": {
             "colorbar": {
              "outlinewidth": 0,
              "ticks": ""
             }
            },
            "type": "scattercarpet"
           }
          ],
          "scattergeo": [
           {
            "marker": {
             "colorbar": {
              "outlinewidth": 0,
              "ticks": ""
             }
            },
            "type": "scattergeo"
           }
          ],
          "scattergl": [
           {
            "marker": {
             "colorbar": {
              "outlinewidth": 0,
              "ticks": ""
             }
            },
            "type": "scattergl"
           }
          ],
          "scattermapbox": [
           {
            "marker": {
             "colorbar": {
              "outlinewidth": 0,
              "ticks": ""
             }
            },
            "type": "scattermapbox"
           }
          ],
          "scatterpolar": [
           {
            "marker": {
             "colorbar": {
              "outlinewidth": 0,
              "ticks": ""
             }
            },
            "type": "scatterpolar"
           }
          ],
          "scatterpolargl": [
           {
            "marker": {
             "colorbar": {
              "outlinewidth": 0,
              "ticks": ""
             }
            },
            "type": "scatterpolargl"
           }
          ],
          "scatterternary": [
           {
            "marker": {
             "colorbar": {
              "outlinewidth": 0,
              "ticks": ""
             }
            },
            "type": "scatterternary"
           }
          ],
          "surface": [
           {
            "colorbar": {
             "outlinewidth": 0,
             "ticks": ""
            },
            "colorscale": [
             [
              0,
              "#0d0887"
             ],
             [
              0.1111111111111111,
              "#46039f"
             ],
             [
              0.2222222222222222,
              "#7201a8"
             ],
             [
              0.3333333333333333,
              "#9c179e"
             ],
             [
              0.4444444444444444,
              "#bd3786"
             ],
             [
              0.5555555555555556,
              "#d8576b"
             ],
             [
              0.6666666666666666,
              "#ed7953"
             ],
             [
              0.7777777777777778,
              "#fb9f3a"
             ],
             [
              0.8888888888888888,
              "#fdca26"
             ],
             [
              1,
              "#f0f921"
             ]
            ],
            "type": "surface"
           }
          ],
          "table": [
           {
            "cells": {
             "fill": {
              "color": "#EBF0F8"
             },
             "line": {
              "color": "white"
             }
            },
            "header": {
             "fill": {
              "color": "#C8D4E3"
             },
             "line": {
              "color": "white"
             }
            },
            "type": "table"
           }
          ]
         },
         "layout": {
          "annotationdefaults": {
           "arrowcolor": "#2a3f5f",
           "arrowhead": 0,
           "arrowwidth": 1
          },
          "autotypenumbers": "strict",
          "coloraxis": {
           "colorbar": {
            "outlinewidth": 0,
            "ticks": ""
           }
          },
          "colorscale": {
           "diverging": [
            [
             0,
             "#8e0152"
            ],
            [
             0.1,
             "#c51b7d"
            ],
            [
             0.2,
             "#de77ae"
            ],
            [
             0.3,
             "#f1b6da"
            ],
            [
             0.4,
             "#fde0ef"
            ],
            [
             0.5,
             "#f7f7f7"
            ],
            [
             0.6,
             "#e6f5d0"
            ],
            [
             0.7,
             "#b8e186"
            ],
            [
             0.8,
             "#7fbc41"
            ],
            [
             0.9,
             "#4d9221"
            ],
            [
             1,
             "#276419"
            ]
           ],
           "sequential": [
            [
             0,
             "#0d0887"
            ],
            [
             0.1111111111111111,
             "#46039f"
            ],
            [
             0.2222222222222222,
             "#7201a8"
            ],
            [
             0.3333333333333333,
             "#9c179e"
            ],
            [
             0.4444444444444444,
             "#bd3786"
            ],
            [
             0.5555555555555556,
             "#d8576b"
            ],
            [
             0.6666666666666666,
             "#ed7953"
            ],
            [
             0.7777777777777778,
             "#fb9f3a"
            ],
            [
             0.8888888888888888,
             "#fdca26"
            ],
            [
             1,
             "#f0f921"
            ]
           ],
           "sequentialminus": [
            [
             0,
             "#0d0887"
            ],
            [
             0.1111111111111111,
             "#46039f"
            ],
            [
             0.2222222222222222,
             "#7201a8"
            ],
            [
             0.3333333333333333,
             "#9c179e"
            ],
            [
             0.4444444444444444,
             "#bd3786"
            ],
            [
             0.5555555555555556,
             "#d8576b"
            ],
            [
             0.6666666666666666,
             "#ed7953"
            ],
            [
             0.7777777777777778,
             "#fb9f3a"
            ],
            [
             0.8888888888888888,
             "#fdca26"
            ],
            [
             1,
             "#f0f921"
            ]
           ]
          },
          "colorway": [
           "#636efa",
           "#EF553B",
           "#00cc96",
           "#ab63fa",
           "#FFA15A",
           "#19d3f3",
           "#FF6692",
           "#B6E880",
           "#FF97FF",
           "#FECB52"
          ],
          "font": {
           "color": "#2a3f5f"
          },
          "geo": {
           "bgcolor": "white",
           "lakecolor": "white",
           "landcolor": "#E5ECF6",
           "showlakes": true,
           "showland": true,
           "subunitcolor": "white"
          },
          "hoverlabel": {
           "align": "left"
          },
          "hovermode": "closest",
          "mapbox": {
           "style": "light"
          },
          "paper_bgcolor": "white",
          "plot_bgcolor": "#E5ECF6",
          "polar": {
           "angularaxis": {
            "gridcolor": "white",
            "linecolor": "white",
            "ticks": ""
           },
           "bgcolor": "#E5ECF6",
           "radialaxis": {
            "gridcolor": "white",
            "linecolor": "white",
            "ticks": ""
           }
          },
          "scene": {
           "xaxis": {
            "backgroundcolor": "#E5ECF6",
            "gridcolor": "white",
            "gridwidth": 2,
            "linecolor": "white",
            "showbackground": true,
            "ticks": "",
            "zerolinecolor": "white"
           },
           "yaxis": {
            "backgroundcolor": "#E5ECF6",
            "gridcolor": "white",
            "gridwidth": 2,
            "linecolor": "white",
            "showbackground": true,
            "ticks": "",
            "zerolinecolor": "white"
           },
           "zaxis": {
            "backgroundcolor": "#E5ECF6",
            "gridcolor": "white",
            "gridwidth": 2,
            "linecolor": "white",
            "showbackground": true,
            "ticks": "",
            "zerolinecolor": "white"
           }
          },
          "shapedefaults": {
           "line": {
            "color": "#2a3f5f"
           }
          },
          "ternary": {
           "aaxis": {
            "gridcolor": "white",
            "linecolor": "white",
            "ticks": ""
           },
           "baxis": {
            "gridcolor": "white",
            "linecolor": "white",
            "ticks": ""
           },
           "bgcolor": "#E5ECF6",
           "caxis": {
            "gridcolor": "white",
            "linecolor": "white",
            "ticks": ""
           }
          },
          "title": {
           "x": 0.05
          },
          "xaxis": {
           "automargin": true,
           "gridcolor": "white",
           "linecolor": "white",
           "ticks": "",
           "title": {
            "standoff": 15
           },
           "zerolinecolor": "white",
           "zerolinewidth": 2
          },
          "yaxis": {
           "automargin": true,
           "gridcolor": "white",
           "linecolor": "white",
           "ticks": "",
           "title": {
            "standoff": 15
           },
           "zerolinecolor": "white",
           "zerolinewidth": 2
          }
         }
        },
        "title": {
         "text": "Founders level of degree"
        },
        "xaxis": {
         "anchor": "y",
         "domain": [
          0,
          1
         ],
         "title": {
          "text": "Type of degree"
         }
        },
        "yaxis": {
         "anchor": "x",
         "domain": [
          0,
          1
         ],
         "title": {
          "text": "Number of startups"
         }
        }
       }
      }
     },
     "metadata": {},
     "output_type": "display_data"
    }
   ],
   "source": [
    "degree_counts = founders['degree_type'].value_counts()\n",
    "df_degree_counts = pd.DataFrame({'degree_type': degree_counts.index, 'count': degree_counts.values})\n",
    "df_degree_counts =df_degree_counts[0:10]\n",
    "\n",
    "fig = px.bar(df_degree_counts, x='degree_type', y='count')\n",
    "fig.update_layout(\n",
    "    title='Founders level of degree',\n",
    "    xaxis_title='Type of degree',\n",
    "    yaxis_title='Number of startups'\n",
    ")\n",
    "fig.update_traces(marker_color=px.colors.sequential.deep[::-1], width=0.8)\n",
    "\n",
    "fig.show()"
   ]
  },
  {
   "cell_type": "code",
   "execution_count": 34,
   "metadata": {},
   "outputs": [
    {
     "data": {
      "application/vnd.plotly.v1+json": {
       "config": {
        "plotlyServerURL": "https://plot.ly"
       },
       "data": [
        {
         "alignmentgroup": "True",
         "hovertemplate": "subject=%{x}<br>count=%{y}<extra></extra>",
         "legendgroup": "",
         "marker": {
          "color": [
           "rgb(39, 26, 44)",
           "rgb(54, 43, 77)",
           "rgb(64, 60, 115)",
           "rgb(62, 82, 143)",
           "rgb(62, 108, 150)",
           "rgb(68, 130, 155)",
           "rgb(76, 153, 160)",
           "rgb(86, 177, 163)",
           "rgb(111, 201, 163)",
           "rgb(156, 219, 165)",
           "rgb(206, 236, 179)",
           "rgb(253, 253, 204)"
          ],
          "pattern": {
           "shape": ""
          }
         },
         "name": "",
         "offsetgroup": "",
         "orientation": "v",
         "showlegend": false,
         "textposition": "auto",
         "type": "bar",
         "width": 0.8,
         "x": [
          "Computer Science",
          "Electrical Engineering",
          "Economics",
          "Finance",
          "Business Administration",
          "Business",
          "Mechanical Engineering",
          "MBA",
          "Law",
          "Accounting"
         ],
         "xaxis": "x",
         "y": [
          11716,
          7435,
          6958,
          4901,
          3648,
          3251,
          2938,
          2549,
          2528,
          2497
         ],
         "yaxis": "y"
        }
       ],
       "layout": {
        "barmode": "relative",
        "legend": {
         "tracegroupgap": 0
        },
        "margin": {
         "t": 60
        },
        "template": {
         "data": {
          "bar": [
           {
            "error_x": {
             "color": "#2a3f5f"
            },
            "error_y": {
             "color": "#2a3f5f"
            },
            "marker": {
             "line": {
              "color": "#E5ECF6",
              "width": 0.5
             },
             "pattern": {
              "fillmode": "overlay",
              "size": 10,
              "solidity": 0.2
             }
            },
            "type": "bar"
           }
          ],
          "barpolar": [
           {
            "marker": {
             "line": {
              "color": "#E5ECF6",
              "width": 0.5
             },
             "pattern": {
              "fillmode": "overlay",
              "size": 10,
              "solidity": 0.2
             }
            },
            "type": "barpolar"
           }
          ],
          "carpet": [
           {
            "aaxis": {
             "endlinecolor": "#2a3f5f",
             "gridcolor": "white",
             "linecolor": "white",
             "minorgridcolor": "white",
             "startlinecolor": "#2a3f5f"
            },
            "baxis": {
             "endlinecolor": "#2a3f5f",
             "gridcolor": "white",
             "linecolor": "white",
             "minorgridcolor": "white",
             "startlinecolor": "#2a3f5f"
            },
            "type": "carpet"
           }
          ],
          "choropleth": [
           {
            "colorbar": {
             "outlinewidth": 0,
             "ticks": ""
            },
            "type": "choropleth"
           }
          ],
          "contour": [
           {
            "colorbar": {
             "outlinewidth": 0,
             "ticks": ""
            },
            "colorscale": [
             [
              0,
              "#0d0887"
             ],
             [
              0.1111111111111111,
              "#46039f"
             ],
             [
              0.2222222222222222,
              "#7201a8"
             ],
             [
              0.3333333333333333,
              "#9c179e"
             ],
             [
              0.4444444444444444,
              "#bd3786"
             ],
             [
              0.5555555555555556,
              "#d8576b"
             ],
             [
              0.6666666666666666,
              "#ed7953"
             ],
             [
              0.7777777777777778,
              "#fb9f3a"
             ],
             [
              0.8888888888888888,
              "#fdca26"
             ],
             [
              1,
              "#f0f921"
             ]
            ],
            "type": "contour"
           }
          ],
          "contourcarpet": [
           {
            "colorbar": {
             "outlinewidth": 0,
             "ticks": ""
            },
            "type": "contourcarpet"
           }
          ],
          "heatmap": [
           {
            "colorbar": {
             "outlinewidth": 0,
             "ticks": ""
            },
            "colorscale": [
             [
              0,
              "#0d0887"
             ],
             [
              0.1111111111111111,
              "#46039f"
             ],
             [
              0.2222222222222222,
              "#7201a8"
             ],
             [
              0.3333333333333333,
              "#9c179e"
             ],
             [
              0.4444444444444444,
              "#bd3786"
             ],
             [
              0.5555555555555556,
              "#d8576b"
             ],
             [
              0.6666666666666666,
              "#ed7953"
             ],
             [
              0.7777777777777778,
              "#fb9f3a"
             ],
             [
              0.8888888888888888,
              "#fdca26"
             ],
             [
              1,
              "#f0f921"
             ]
            ],
            "type": "heatmap"
           }
          ],
          "heatmapgl": [
           {
            "colorbar": {
             "outlinewidth": 0,
             "ticks": ""
            },
            "colorscale": [
             [
              0,
              "#0d0887"
             ],
             [
              0.1111111111111111,
              "#46039f"
             ],
             [
              0.2222222222222222,
              "#7201a8"
             ],
             [
              0.3333333333333333,
              "#9c179e"
             ],
             [
              0.4444444444444444,
              "#bd3786"
             ],
             [
              0.5555555555555556,
              "#d8576b"
             ],
             [
              0.6666666666666666,
              "#ed7953"
             ],
             [
              0.7777777777777778,
              "#fb9f3a"
             ],
             [
              0.8888888888888888,
              "#fdca26"
             ],
             [
              1,
              "#f0f921"
             ]
            ],
            "type": "heatmapgl"
           }
          ],
          "histogram": [
           {
            "marker": {
             "pattern": {
              "fillmode": "overlay",
              "size": 10,
              "solidity": 0.2
             }
            },
            "type": "histogram"
           }
          ],
          "histogram2d": [
           {
            "colorbar": {
             "outlinewidth": 0,
             "ticks": ""
            },
            "colorscale": [
             [
              0,
              "#0d0887"
             ],
             [
              0.1111111111111111,
              "#46039f"
             ],
             [
              0.2222222222222222,
              "#7201a8"
             ],
             [
              0.3333333333333333,
              "#9c179e"
             ],
             [
              0.4444444444444444,
              "#bd3786"
             ],
             [
              0.5555555555555556,
              "#d8576b"
             ],
             [
              0.6666666666666666,
              "#ed7953"
             ],
             [
              0.7777777777777778,
              "#fb9f3a"
             ],
             [
              0.8888888888888888,
              "#fdca26"
             ],
             [
              1,
              "#f0f921"
             ]
            ],
            "type": "histogram2d"
           }
          ],
          "histogram2dcontour": [
           {
            "colorbar": {
             "outlinewidth": 0,
             "ticks": ""
            },
            "colorscale": [
             [
              0,
              "#0d0887"
             ],
             [
              0.1111111111111111,
              "#46039f"
             ],
             [
              0.2222222222222222,
              "#7201a8"
             ],
             [
              0.3333333333333333,
              "#9c179e"
             ],
             [
              0.4444444444444444,
              "#bd3786"
             ],
             [
              0.5555555555555556,
              "#d8576b"
             ],
             [
              0.6666666666666666,
              "#ed7953"
             ],
             [
              0.7777777777777778,
              "#fb9f3a"
             ],
             [
              0.8888888888888888,
              "#fdca26"
             ],
             [
              1,
              "#f0f921"
             ]
            ],
            "type": "histogram2dcontour"
           }
          ],
          "mesh3d": [
           {
            "colorbar": {
             "outlinewidth": 0,
             "ticks": ""
            },
            "type": "mesh3d"
           }
          ],
          "parcoords": [
           {
            "line": {
             "colorbar": {
              "outlinewidth": 0,
              "ticks": ""
             }
            },
            "type": "parcoords"
           }
          ],
          "pie": [
           {
            "automargin": true,
            "type": "pie"
           }
          ],
          "scatter": [
           {
            "fillpattern": {
             "fillmode": "overlay",
             "size": 10,
             "solidity": 0.2
            },
            "type": "scatter"
           }
          ],
          "scatter3d": [
           {
            "line": {
             "colorbar": {
              "outlinewidth": 0,
              "ticks": ""
             }
            },
            "marker": {
             "colorbar": {
              "outlinewidth": 0,
              "ticks": ""
             }
            },
            "type": "scatter3d"
           }
          ],
          "scattercarpet": [
           {
            "marker": {
             "colorbar": {
              "outlinewidth": 0,
              "ticks": ""
             }
            },
            "type": "scattercarpet"
           }
          ],
          "scattergeo": [
           {
            "marker": {
             "colorbar": {
              "outlinewidth": 0,
              "ticks": ""
             }
            },
            "type": "scattergeo"
           }
          ],
          "scattergl": [
           {
            "marker": {
             "colorbar": {
              "outlinewidth": 0,
              "ticks": ""
             }
            },
            "type": "scattergl"
           }
          ],
          "scattermapbox": [
           {
            "marker": {
             "colorbar": {
              "outlinewidth": 0,
              "ticks": ""
             }
            },
            "type": "scattermapbox"
           }
          ],
          "scatterpolar": [
           {
            "marker": {
             "colorbar": {
              "outlinewidth": 0,
              "ticks": ""
             }
            },
            "type": "scatterpolar"
           }
          ],
          "scatterpolargl": [
           {
            "marker": {
             "colorbar": {
              "outlinewidth": 0,
              "ticks": ""
             }
            },
            "type": "scatterpolargl"
           }
          ],
          "scatterternary": [
           {
            "marker": {
             "colorbar": {
              "outlinewidth": 0,
              "ticks": ""
             }
            },
            "type": "scatterternary"
           }
          ],
          "surface": [
           {
            "colorbar": {
             "outlinewidth": 0,
             "ticks": ""
            },
            "colorscale": [
             [
              0,
              "#0d0887"
             ],
             [
              0.1111111111111111,
              "#46039f"
             ],
             [
              0.2222222222222222,
              "#7201a8"
             ],
             [
              0.3333333333333333,
              "#9c179e"
             ],
             [
              0.4444444444444444,
              "#bd3786"
             ],
             [
              0.5555555555555556,
              "#d8576b"
             ],
             [
              0.6666666666666666,
              "#ed7953"
             ],
             [
              0.7777777777777778,
              "#fb9f3a"
             ],
             [
              0.8888888888888888,
              "#fdca26"
             ],
             [
              1,
              "#f0f921"
             ]
            ],
            "type": "surface"
           }
          ],
          "table": [
           {
            "cells": {
             "fill": {
              "color": "#EBF0F8"
             },
             "line": {
              "color": "white"
             }
            },
            "header": {
             "fill": {
              "color": "#C8D4E3"
             },
             "line": {
              "color": "white"
             }
            },
            "type": "table"
           }
          ]
         },
         "layout": {
          "annotationdefaults": {
           "arrowcolor": "#2a3f5f",
           "arrowhead": 0,
           "arrowwidth": 1
          },
          "autotypenumbers": "strict",
          "coloraxis": {
           "colorbar": {
            "outlinewidth": 0,
            "ticks": ""
           }
          },
          "colorscale": {
           "diverging": [
            [
             0,
             "#8e0152"
            ],
            [
             0.1,
             "#c51b7d"
            ],
            [
             0.2,
             "#de77ae"
            ],
            [
             0.3,
             "#f1b6da"
            ],
            [
             0.4,
             "#fde0ef"
            ],
            [
             0.5,
             "#f7f7f7"
            ],
            [
             0.6,
             "#e6f5d0"
            ],
            [
             0.7,
             "#b8e186"
            ],
            [
             0.8,
             "#7fbc41"
            ],
            [
             0.9,
             "#4d9221"
            ],
            [
             1,
             "#276419"
            ]
           ],
           "sequential": [
            [
             0,
             "#0d0887"
            ],
            [
             0.1111111111111111,
             "#46039f"
            ],
            [
             0.2222222222222222,
             "#7201a8"
            ],
            [
             0.3333333333333333,
             "#9c179e"
            ],
            [
             0.4444444444444444,
             "#bd3786"
            ],
            [
             0.5555555555555556,
             "#d8576b"
            ],
            [
             0.6666666666666666,
             "#ed7953"
            ],
            [
             0.7777777777777778,
             "#fb9f3a"
            ],
            [
             0.8888888888888888,
             "#fdca26"
            ],
            [
             1,
             "#f0f921"
            ]
           ],
           "sequentialminus": [
            [
             0,
             "#0d0887"
            ],
            [
             0.1111111111111111,
             "#46039f"
            ],
            [
             0.2222222222222222,
             "#7201a8"
            ],
            [
             0.3333333333333333,
             "#9c179e"
            ],
            [
             0.4444444444444444,
             "#bd3786"
            ],
            [
             0.5555555555555556,
             "#d8576b"
            ],
            [
             0.6666666666666666,
             "#ed7953"
            ],
            [
             0.7777777777777778,
             "#fb9f3a"
            ],
            [
             0.8888888888888888,
             "#fdca26"
            ],
            [
             1,
             "#f0f921"
            ]
           ]
          },
          "colorway": [
           "#636efa",
           "#EF553B",
           "#00cc96",
           "#ab63fa",
           "#FFA15A",
           "#19d3f3",
           "#FF6692",
           "#B6E880",
           "#FF97FF",
           "#FECB52"
          ],
          "font": {
           "color": "#2a3f5f"
          },
          "geo": {
           "bgcolor": "white",
           "lakecolor": "white",
           "landcolor": "#E5ECF6",
           "showlakes": true,
           "showland": true,
           "subunitcolor": "white"
          },
          "hoverlabel": {
           "align": "left"
          },
          "hovermode": "closest",
          "mapbox": {
           "style": "light"
          },
          "paper_bgcolor": "white",
          "plot_bgcolor": "#E5ECF6",
          "polar": {
           "angularaxis": {
            "gridcolor": "white",
            "linecolor": "white",
            "ticks": ""
           },
           "bgcolor": "#E5ECF6",
           "radialaxis": {
            "gridcolor": "white",
            "linecolor": "white",
            "ticks": ""
           }
          },
          "scene": {
           "xaxis": {
            "backgroundcolor": "#E5ECF6",
            "gridcolor": "white",
            "gridwidth": 2,
            "linecolor": "white",
            "showbackground": true,
            "ticks": "",
            "zerolinecolor": "white"
           },
           "yaxis": {
            "backgroundcolor": "#E5ECF6",
            "gridcolor": "white",
            "gridwidth": 2,
            "linecolor": "white",
            "showbackground": true,
            "ticks": "",
            "zerolinecolor": "white"
           },
           "zaxis": {
            "backgroundcolor": "#E5ECF6",
            "gridcolor": "white",
            "gridwidth": 2,
            "linecolor": "white",
            "showbackground": true,
            "ticks": "",
            "zerolinecolor": "white"
           }
          },
          "shapedefaults": {
           "line": {
            "color": "#2a3f5f"
           }
          },
          "ternary": {
           "aaxis": {
            "gridcolor": "white",
            "linecolor": "white",
            "ticks": ""
           },
           "baxis": {
            "gridcolor": "white",
            "linecolor": "white",
            "ticks": ""
           },
           "bgcolor": "#E5ECF6",
           "caxis": {
            "gridcolor": "white",
            "linecolor": "white",
            "ticks": ""
           }
          },
          "title": {
           "x": 0.05
          },
          "xaxis": {
           "automargin": true,
           "gridcolor": "white",
           "linecolor": "white",
           "ticks": "",
           "title": {
            "standoff": 15
           },
           "zerolinecolor": "white",
           "zerolinewidth": 2
          },
          "yaxis": {
           "automargin": true,
           "gridcolor": "white",
           "linecolor": "white",
           "ticks": "",
           "title": {
            "standoff": 15
           },
           "zerolinecolor": "white",
           "zerolinewidth": 2
          }
         }
        },
        "title": {
         "text": "Employees subject of degree"
        },
        "xaxis": {
         "anchor": "y",
         "domain": [
          0,
          1
         ],
         "title": {
          "text": "Subject of degree"
         }
        },
        "yaxis": {
         "anchor": "x",
         "domain": [
          0,
          1
         ],
         "title": {
          "text": "Number of startups"
         }
        }
       }
      }
     },
     "metadata": {},
     "output_type": "display_data"
    }
   ],
   "source": [
    "subject_counts = founders['subject'].value_counts()\n",
    "df_subject_counts = pd.DataFrame({'subject': subject_counts.index, 'count': subject_counts.values})\n",
    "df_subject_counts =df_subject_counts[0:10]\n",
    "\n",
    "fig = px.bar(df_subject_counts, x='subject', y='count')\n",
    "fig.update_layout(\n",
    "    title='Employees subject of degree',\n",
    "    xaxis_title='Subject of degree',\n",
    "    yaxis_title='Number of startups'\n",
    ")\n",
    "fig.update_traces(marker_color=px.colors.sequential.deep[::-1], width=0.8)\n",
    "\n",
    "fig.show()"
   ]
  },
  {
   "cell_type": "code",
   "execution_count": 72,
   "metadata": {},
   "outputs": [],
   "source": [
    "subjects_grad_by_year = founders.filter(\n",
    "    ['grad_year', 'degree_type']\n",
    ").groupby(['grad_year', 'degree_type']).size()\n",
    "# print(categories_by_year.tail())\n",
    "\n",
    "subjects_grad_by_year = subjects_grad_by_year.to_frame(name = 'count').reset_index()\n",
    "\n",
    "# Only keep top 10 degrees\n",
    "subjects_grad_by_year = subjects_grad_by_year[subjects_grad_by_year['degree_type'].isin(list(df_degree_counts['degree_type']))]"
   ]
  },
  {
   "cell_type": "code",
   "execution_count": 102,
   "metadata": {},
   "outputs": [
    {
     "data": {
      "application/vnd.plotly.v1+json": {
       "config": {
        "plotlyServerURL": "https://plot.ly"
       },
       "data": [
        {
         "hovertemplate": "degree_type=MS<br>grad_year=%{x}<br>count=%{y}<extra></extra>",
         "legendgroup": "MS",
         "line": {
          "color": "rgb(253, 253, 204)",
          "dash": "solid"
         },
         "marker": {
          "symbol": "circle"
         },
         "mode": "lines",
         "name": "MS",
         "orientation": "v",
         "showlegend": true,
         "type": "scatter",
         "x": [
          1920,
          1933,
          1941,
          1951,
          1956,
          1958,
          1960,
          1961,
          1962,
          1964,
          1965,
          1966,
          1967,
          1968,
          1969,
          1970,
          1971,
          1972,
          1973,
          1974,
          1975,
          1976,
          1977,
          1978,
          1979,
          1980,
          1981,
          1982,
          1983,
          1984,
          1985,
          1986,
          1987,
          1988,
          1989,
          1990,
          1991,
          1992,
          1993,
          1994,
          1995,
          1996,
          1997,
          1998,
          1999,
          2000,
          2001,
          2002,
          2003,
          2004,
          2005,
          2006,
          2007,
          2008,
          2009,
          2010,
          2011,
          2012,
          2013
         ],
         "xaxis": "x",
         "y": [
          1,
          17,
          1,
          1,
          1,
          1,
          2,
          1,
          1,
          7,
          12,
          6,
          11,
          9,
          23,
          31,
          34,
          37,
          26,
          46,
          49,
          45,
          101,
          54,
          112,
          99,
          65,
          132,
          148,
          171,
          291,
          195,
          300,
          338,
          252,
          370,
          331,
          374,
          353,
          318,
          383,
          355,
          403,
          359,
          333,
          406,
          277,
          306,
          283,
          344,
          441,
          339,
          361,
          219,
          264,
          282,
          216,
          133,
          67
         ],
         "yaxis": "y"
        },
        {
         "hovertemplate": "degree_type=PhD<br>grad_year=%{x}<br>count=%{y}<extra></extra>",
         "legendgroup": "PhD",
         "line": {
          "color": "rgb(206, 236, 179)",
          "dash": "solid"
         },
         "marker": {
          "symbol": "circle"
         },
         "mode": "lines",
         "name": "PhD",
         "orientation": "v",
         "showlegend": true,
         "type": "scatter",
         "x": [
          1921,
          1958,
          1959,
          1961,
          1962,
          1963,
          1964,
          1965,
          1966,
          1967,
          1968,
          1969,
          1970,
          1971,
          1972,
          1973,
          1974,
          1975,
          1976,
          1977,
          1978,
          1979,
          1980,
          1981,
          1982,
          1983,
          1984,
          1985,
          1986,
          1987,
          1988,
          1989,
          1990,
          1991,
          1992,
          1993,
          1994,
          1995,
          1996,
          1997,
          1998,
          1999,
          2000,
          2001,
          2002,
          2003,
          2004,
          2005,
          2006,
          2007,
          2008,
          2009,
          2010,
          2011,
          2012,
          2013
         ],
         "xaxis": "x",
         "y": [
          2,
          1,
          2,
          1,
          6,
          1,
          4,
          2,
          5,
          16,
          38,
          9,
          18,
          17,
          17,
          42,
          54,
          36,
          52,
          28,
          27,
          52,
          53,
          87,
          51,
          49,
          78,
          46,
          51,
          83,
          117,
          115,
          131,
          99,
          113,
          158,
          75,
          163,
          155,
          203,
          173,
          112,
          117,
          93,
          98,
          70,
          82,
          107,
          74,
          120,
          90,
          73,
          94,
          67,
          41,
          38
         ],
         "yaxis": "y"
        },
        {
         "hovertemplate": "degree_type=BS<br>grad_year=%{x}<br>count=%{y}<extra></extra>",
         "legendgroup": "BS",
         "line": {
          "color": "rgb(156, 219, 165)",
          "dash": "solid"
         },
         "marker": {
          "symbol": "circle"
         },
         "mode": "lines",
         "name": "BS",
         "orientation": "v",
         "showlegend": true,
         "type": "scatter",
         "x": [
          1924,
          1953,
          1954,
          1955,
          1956,
          1957,
          1959,
          1960,
          1961,
          1962,
          1963,
          1964,
          1965,
          1966,
          1967,
          1968,
          1969,
          1970,
          1971,
          1972,
          1973,
          1974,
          1975,
          1976,
          1977,
          1978,
          1979,
          1980,
          1981,
          1982,
          1983,
          1984,
          1985,
          1986,
          1987,
          1988,
          1989,
          1990,
          1991,
          1992,
          1993,
          1994,
          1995,
          1996,
          1997,
          1998,
          1999,
          2000,
          2001,
          2002,
          2003,
          2004,
          2005,
          2006,
          2007,
          2008,
          2009,
          2010,
          2011,
          2012,
          2013
         ],
         "xaxis": "x",
         "y": [
          7,
          2,
          1,
          3,
          1,
          1,
          9,
          10,
          1,
          13,
          19,
          31,
          51,
          46,
          29,
          67,
          59,
          129,
          86,
          100,
          121,
          157,
          208,
          195,
          235,
          283,
          307,
          441,
          484,
          554,
          630,
          868,
          701,
          747,
          826,
          792,
          831,
          941,
          831,
          899,
          902,
          979,
          873,
          793,
          949,
          783,
          881,
          834,
          752,
          713,
          784,
          688,
          658,
          733,
          615,
          526,
          455,
          431,
          253,
          159,
          66
         ],
         "yaxis": "y"
        },
        {
         "hovertemplate": "degree_type=MBA<br>grad_year=%{x}<br>count=%{y}<extra></extra>",
         "legendgroup": "MBA",
         "line": {
          "color": "rgb(111, 201, 163)",
          "dash": "solid"
         },
         "marker": {
          "symbol": "circle"
         },
         "mode": "lines",
         "name": "MBA",
         "orientation": "v",
         "showlegend": true,
         "type": "scatter",
         "x": [
          1929,
          1952,
          1955,
          1957,
          1958,
          1960,
          1962,
          1963,
          1964,
          1966,
          1967,
          1968,
          1969,
          1970,
          1971,
          1972,
          1973,
          1974,
          1975,
          1976,
          1977,
          1978,
          1979,
          1980,
          1981,
          1982,
          1983,
          1984,
          1985,
          1986,
          1987,
          1988,
          1989,
          1990,
          1991,
          1992,
          1993,
          1994,
          1995,
          1996,
          1997,
          1998,
          1999,
          2000,
          2001,
          2002,
          2003,
          2004,
          2005,
          2006,
          2007,
          2008,
          2009,
          2010,
          2011,
          2012,
          2013
         ],
         "xaxis": "x",
         "y": [
          1,
          2,
          3,
          1,
          2,
          2,
          5,
          10,
          11,
          2,
          24,
          50,
          5,
          32,
          33,
          57,
          56,
          52,
          40,
          148,
          75,
          131,
          179,
          209,
          219,
          221,
          311,
          278,
          327,
          323,
          238,
          343,
          537,
          481,
          527,
          699,
          742,
          726,
          640,
          923,
          844,
          984,
          901,
          978,
          639,
          487,
          606,
          708,
          719,
          747,
          614,
          724,
          524,
          520,
          403,
          323,
          182
         ],
         "yaxis": "y"
        },
        {
         "hovertemplate": "degree_type=BA<br>grad_year=%{x}<br>count=%{y}<extra></extra>",
         "legendgroup": "BA",
         "line": {
          "color": "rgb(86, 177, 163)",
          "dash": "solid"
         },
         "marker": {
          "symbol": "circle"
         },
         "mode": "lines",
         "name": "BA",
         "orientation": "v",
         "showlegend": true,
         "type": "scatter",
         "x": [
          1949,
          1953,
          1955,
          1958,
          1959,
          1960,
          1961,
          1962,
          1963,
          1964,
          1965,
          1966,
          1967,
          1968,
          1969,
          1970,
          1971,
          1972,
          1973,
          1974,
          1975,
          1976,
          1977,
          1978,
          1979,
          1980,
          1981,
          1982,
          1983,
          1984,
          1985,
          1986,
          1987,
          1988,
          1989,
          1990,
          1991,
          1992,
          1993,
          1994,
          1995,
          1996,
          1997,
          1998,
          1999,
          2000,
          2001,
          2002,
          2003,
          2004,
          2005,
          2006,
          2007,
          2008,
          2009,
          2010,
          2011,
          2012,
          2013
         ],
         "xaxis": "x",
         "y": [
          1,
          1,
          3,
          3,
          9,
          13,
          21,
          42,
          8,
          10,
          37,
          51,
          17,
          49,
          54,
          113,
          54,
          164,
          67,
          180,
          138,
          208,
          261,
          298,
          221,
          274,
          339,
          354,
          360,
          424,
          562,
          634,
          527,
          656,
          724,
          975,
          922,
          815,
          864,
          830,
          850,
          737,
          705,
          699,
          603,
          571,
          493,
          442,
          496,
          453,
          558,
          450,
          291,
          329,
          320,
          187,
          142,
          103,
          29
         ],
         "yaxis": "y"
        },
        {
         "hovertemplate": "degree_type=BE<br>grad_year=%{x}<br>count=%{y}<extra></extra>",
         "legendgroup": "BE",
         "line": {
          "color": "rgb(76, 153, 160)",
          "dash": "solid"
         },
         "marker": {
          "symbol": "circle"
         },
         "mode": "lines",
         "name": "BE",
         "orientation": "v",
         "showlegend": true,
         "type": "scatter",
         "x": [
          1949,
          1958,
          1960,
          1961,
          1962,
          1963,
          1964,
          1966,
          1967,
          1968,
          1969,
          1970,
          1971,
          1972,
          1973,
          1974,
          1975,
          1976,
          1977,
          1978,
          1979,
          1980,
          1981,
          1982,
          1983,
          1984,
          1985,
          1986,
          1987,
          1988,
          1989,
          1990,
          1991,
          1992,
          1993,
          1994,
          1995,
          1996,
          1997,
          1998,
          1999,
          2000,
          2001,
          2002,
          2003,
          2004,
          2005,
          2006,
          2007,
          2008,
          2009,
          2010,
          2011,
          2012
         ],
         "xaxis": "x",
         "y": [
          2,
          4,
          1,
          2,
          10,
          9,
          1,
          1,
          9,
          18,
          21,
          3,
          13,
          2,
          2,
          6,
          39,
          12,
          38,
          61,
          32,
          49,
          110,
          77,
          107,
          70,
          72,
          68,
          62,
          70,
          76,
          64,
          57,
          53,
          99,
          44,
          56,
          106,
          60,
          93,
          114,
          48,
          52,
          41,
          32,
          49,
          37,
          35,
          22,
          23,
          19,
          31,
          13,
          10
         ],
         "yaxis": "y"
        },
        {
         "hovertemplate": "degree_type=BBA<br>grad_year=%{x}<br>count=%{y}<extra></extra>",
         "legendgroup": "BBA",
         "line": {
          "color": "rgb(68, 130, 155)",
          "dash": "solid"
         },
         "marker": {
          "symbol": "circle"
         },
         "mode": "lines",
         "name": "BBA",
         "orientation": "v",
         "showlegend": true,
         "type": "scatter",
         "x": [
          1955,
          1968,
          1969,
          1970,
          1971,
          1972,
          1973,
          1974,
          1975,
          1976,
          1977,
          1978,
          1979,
          1980,
          1981,
          1982,
          1983,
          1984,
          1985,
          1986,
          1987,
          1988,
          1989,
          1990,
          1991,
          1992,
          1993,
          1994,
          1995,
          1996,
          1997,
          1998,
          1999,
          2000,
          2001,
          2002,
          2003,
          2004,
          2005,
          2006,
          2007,
          2008,
          2009,
          2010,
          2011,
          2012,
          2013
         ],
         "xaxis": "x",
         "y": [
          2,
          8,
          6,
          2,
          2,
          20,
          3,
          12,
          9,
          32,
          21,
          51,
          37,
          62,
          32,
          43,
          51,
          60,
          46,
          40,
          106,
          50,
          41,
          71,
          77,
          31,
          64,
          42,
          49,
          42,
          78,
          58,
          52,
          43,
          58,
          66,
          53,
          56,
          66,
          46,
          45,
          39,
          37,
          36,
          43,
          11,
          16
         ],
         "yaxis": "y"
        },
        {
         "hovertemplate": "degree_type=JD<br>grad_year=%{x}<br>count=%{y}<extra></extra>",
         "legendgroup": "JD",
         "line": {
          "color": "rgb(62, 108, 150)",
          "dash": "solid"
         },
         "marker": {
          "symbol": "circle"
         },
         "mode": "lines",
         "name": "JD",
         "orientation": "v",
         "showlegend": true,
         "type": "scatter",
         "x": [
          1956,
          1958,
          1964,
          1966,
          1968,
          1969,
          1970,
          1971,
          1972,
          1973,
          1974,
          1975,
          1976,
          1977,
          1978,
          1979,
          1980,
          1981,
          1982,
          1983,
          1984,
          1985,
          1986,
          1987,
          1988,
          1989,
          1990,
          1991,
          1992,
          1993,
          1994,
          1995,
          1996,
          1997,
          1998,
          1999,
          2000,
          2001,
          2002,
          2003,
          2004,
          2005,
          2006,
          2007,
          2008,
          2009,
          2010,
          2011,
          2012,
          2013
         ],
         "xaxis": "x",
         "y": [
          1,
          1,
          4,
          10,
          1,
          1,
          3,
          13,
          14,
          2,
          3,
          21,
          24,
          13,
          22,
          13,
          26,
          43,
          28,
          45,
          30,
          81,
          60,
          53,
          55,
          79,
          81,
          78,
          95,
          127,
          185,
          142,
          133,
          93,
          109,
          58,
          44,
          74,
          23,
          26,
          31,
          46,
          82,
          46,
          47,
          47,
          11,
          15,
          23,
          4
         ],
         "yaxis": "y"
        },
        {
         "hovertemplate": "degree_type=Degree<br>grad_year=%{x}<br>count=%{y}<extra></extra>",
         "legendgroup": "Degree",
         "line": {
          "color": "rgb(62, 82, 143)",
          "dash": "solid"
         },
         "marker": {
          "symbol": "circle"
         },
         "mode": "lines",
         "name": "Degree",
         "orientation": "v",
         "showlegend": true,
         "type": "scatter",
         "x": [
          1962,
          1964,
          1965,
          1967,
          1968,
          1969,
          1970,
          1971,
          1972,
          1973,
          1974,
          1975,
          1976,
          1977,
          1978,
          1979,
          1980,
          1981,
          1982,
          1983,
          1984,
          1985,
          1986,
          1987,
          1988,
          1989,
          1990,
          1991,
          1992,
          1993,
          1994,
          1995,
          1996,
          1997,
          1998,
          1999,
          2000,
          2001,
          2002,
          2003,
          2004,
          2005,
          2006,
          2007,
          2008,
          2009,
          2010,
          2011,
          2012,
          2013
         ],
         "xaxis": "x",
         "y": [
          1,
          8,
          9,
          8,
          18,
          3,
          14,
          30,
          8,
          8,
          16,
          22,
          26,
          56,
          19,
          22,
          70,
          32,
          58,
          40,
          56,
          96,
          84,
          98,
          92,
          89,
          155,
          87,
          138,
          79,
          85,
          92,
          111,
          57,
          63,
          51,
          65,
          65,
          54,
          36,
          46,
          51,
          40,
          48,
          33,
          26,
          35,
          18,
          17,
          5
         ],
         "yaxis": "y"
        },
        {
         "hovertemplate": "degree_type=MA<br>grad_year=%{x}<br>count=%{y}<extra></extra>",
         "legendgroup": "MA",
         "line": {
          "color": "rgb(64, 60, 115)",
          "dash": "solid"
         },
         "marker": {
          "symbol": "circle"
         },
         "mode": "lines",
         "name": "MA",
         "orientation": "v",
         "showlegend": true,
         "type": "scatter",
         "x": [
          1965,
          1968,
          1969,
          1971,
          1973,
          1974,
          1975,
          1976,
          1977,
          1978,
          1979,
          1980,
          1981,
          1982,
          1983,
          1984,
          1985,
          1986,
          1987,
          1988,
          1989,
          1990,
          1991,
          1992,
          1993,
          1994,
          1995,
          1996,
          1997,
          1998,
          1999,
          2000,
          2001,
          2002,
          2003,
          2004,
          2005,
          2006,
          2007,
          2008,
          2009,
          2010,
          2011,
          2012,
          2013
         ],
         "xaxis": "x",
         "y": [
          4,
          8,
          2,
          6,
          23,
          13,
          2,
          4,
          7,
          6,
          37,
          15,
          14,
          33,
          2,
          19,
          15,
          39,
          41,
          26,
          43,
          35,
          21,
          95,
          68,
          78,
          93,
          79,
          44,
          52,
          52,
          43,
          24,
          47,
          32,
          47,
          59,
          31,
          30,
          53,
          30,
          56,
          17,
          18,
          11
         ],
         "yaxis": "y"
        }
       ],
       "layout": {
        "legend": {
         "title": {
          "text": "Type of degree"
         },
         "tracegroupgap": 0
        },
        "margin": {
         "t": 60
        },
        "template": {
         "data": {
          "bar": [
           {
            "error_x": {
             "color": "#2a3f5f"
            },
            "error_y": {
             "color": "#2a3f5f"
            },
            "marker": {
             "line": {
              "color": "#E5ECF6",
              "width": 0.5
             },
             "pattern": {
              "fillmode": "overlay",
              "size": 10,
              "solidity": 0.2
             }
            },
            "type": "bar"
           }
          ],
          "barpolar": [
           {
            "marker": {
             "line": {
              "color": "#E5ECF6",
              "width": 0.5
             },
             "pattern": {
              "fillmode": "overlay",
              "size": 10,
              "solidity": 0.2
             }
            },
            "type": "barpolar"
           }
          ],
          "carpet": [
           {
            "aaxis": {
             "endlinecolor": "#2a3f5f",
             "gridcolor": "white",
             "linecolor": "white",
             "minorgridcolor": "white",
             "startlinecolor": "#2a3f5f"
            },
            "baxis": {
             "endlinecolor": "#2a3f5f",
             "gridcolor": "white",
             "linecolor": "white",
             "minorgridcolor": "white",
             "startlinecolor": "#2a3f5f"
            },
            "type": "carpet"
           }
          ],
          "choropleth": [
           {
            "colorbar": {
             "outlinewidth": 0,
             "ticks": ""
            },
            "type": "choropleth"
           }
          ],
          "contour": [
           {
            "colorbar": {
             "outlinewidth": 0,
             "ticks": ""
            },
            "colorscale": [
             [
              0,
              "#0d0887"
             ],
             [
              0.1111111111111111,
              "#46039f"
             ],
             [
              0.2222222222222222,
              "#7201a8"
             ],
             [
              0.3333333333333333,
              "#9c179e"
             ],
             [
              0.4444444444444444,
              "#bd3786"
             ],
             [
              0.5555555555555556,
              "#d8576b"
             ],
             [
              0.6666666666666666,
              "#ed7953"
             ],
             [
              0.7777777777777778,
              "#fb9f3a"
             ],
             [
              0.8888888888888888,
              "#fdca26"
             ],
             [
              1,
              "#f0f921"
             ]
            ],
            "type": "contour"
           }
          ],
          "contourcarpet": [
           {
            "colorbar": {
             "outlinewidth": 0,
             "ticks": ""
            },
            "type": "contourcarpet"
           }
          ],
          "heatmap": [
           {
            "colorbar": {
             "outlinewidth": 0,
             "ticks": ""
            },
            "colorscale": [
             [
              0,
              "#0d0887"
             ],
             [
              0.1111111111111111,
              "#46039f"
             ],
             [
              0.2222222222222222,
              "#7201a8"
             ],
             [
              0.3333333333333333,
              "#9c179e"
             ],
             [
              0.4444444444444444,
              "#bd3786"
             ],
             [
              0.5555555555555556,
              "#d8576b"
             ],
             [
              0.6666666666666666,
              "#ed7953"
             ],
             [
              0.7777777777777778,
              "#fb9f3a"
             ],
             [
              0.8888888888888888,
              "#fdca26"
             ],
             [
              1,
              "#f0f921"
             ]
            ],
            "type": "heatmap"
           }
          ],
          "heatmapgl": [
           {
            "colorbar": {
             "outlinewidth": 0,
             "ticks": ""
            },
            "colorscale": [
             [
              0,
              "#0d0887"
             ],
             [
              0.1111111111111111,
              "#46039f"
             ],
             [
              0.2222222222222222,
              "#7201a8"
             ],
             [
              0.3333333333333333,
              "#9c179e"
             ],
             [
              0.4444444444444444,
              "#bd3786"
             ],
             [
              0.5555555555555556,
              "#d8576b"
             ],
             [
              0.6666666666666666,
              "#ed7953"
             ],
             [
              0.7777777777777778,
              "#fb9f3a"
             ],
             [
              0.8888888888888888,
              "#fdca26"
             ],
             [
              1,
              "#f0f921"
             ]
            ],
            "type": "heatmapgl"
           }
          ],
          "histogram": [
           {
            "marker": {
             "pattern": {
              "fillmode": "overlay",
              "size": 10,
              "solidity": 0.2
             }
            },
            "type": "histogram"
           }
          ],
          "histogram2d": [
           {
            "colorbar": {
             "outlinewidth": 0,
             "ticks": ""
            },
            "colorscale": [
             [
              0,
              "#0d0887"
             ],
             [
              0.1111111111111111,
              "#46039f"
             ],
             [
              0.2222222222222222,
              "#7201a8"
             ],
             [
              0.3333333333333333,
              "#9c179e"
             ],
             [
              0.4444444444444444,
              "#bd3786"
             ],
             [
              0.5555555555555556,
              "#d8576b"
             ],
             [
              0.6666666666666666,
              "#ed7953"
             ],
             [
              0.7777777777777778,
              "#fb9f3a"
             ],
             [
              0.8888888888888888,
              "#fdca26"
             ],
             [
              1,
              "#f0f921"
             ]
            ],
            "type": "histogram2d"
           }
          ],
          "histogram2dcontour": [
           {
            "colorbar": {
             "outlinewidth": 0,
             "ticks": ""
            },
            "colorscale": [
             [
              0,
              "#0d0887"
             ],
             [
              0.1111111111111111,
              "#46039f"
             ],
             [
              0.2222222222222222,
              "#7201a8"
             ],
             [
              0.3333333333333333,
              "#9c179e"
             ],
             [
              0.4444444444444444,
              "#bd3786"
             ],
             [
              0.5555555555555556,
              "#d8576b"
             ],
             [
              0.6666666666666666,
              "#ed7953"
             ],
             [
              0.7777777777777778,
              "#fb9f3a"
             ],
             [
              0.8888888888888888,
              "#fdca26"
             ],
             [
              1,
              "#f0f921"
             ]
            ],
            "type": "histogram2dcontour"
           }
          ],
          "mesh3d": [
           {
            "colorbar": {
             "outlinewidth": 0,
             "ticks": ""
            },
            "type": "mesh3d"
           }
          ],
          "parcoords": [
           {
            "line": {
             "colorbar": {
              "outlinewidth": 0,
              "ticks": ""
             }
            },
            "type": "parcoords"
           }
          ],
          "pie": [
           {
            "automargin": true,
            "type": "pie"
           }
          ],
          "scatter": [
           {
            "fillpattern": {
             "fillmode": "overlay",
             "size": 10,
             "solidity": 0.2
            },
            "type": "scatter"
           }
          ],
          "scatter3d": [
           {
            "line": {
             "colorbar": {
              "outlinewidth": 0,
              "ticks": ""
             }
            },
            "marker": {
             "colorbar": {
              "outlinewidth": 0,
              "ticks": ""
             }
            },
            "type": "scatter3d"
           }
          ],
          "scattercarpet": [
           {
            "marker": {
             "colorbar": {
              "outlinewidth": 0,
              "ticks": ""
             }
            },
            "type": "scattercarpet"
           }
          ],
          "scattergeo": [
           {
            "marker": {
             "colorbar": {
              "outlinewidth": 0,
              "ticks": ""
             }
            },
            "type": "scattergeo"
           }
          ],
          "scattergl": [
           {
            "marker": {
             "colorbar": {
              "outlinewidth": 0,
              "ticks": ""
             }
            },
            "type": "scattergl"
           }
          ],
          "scattermapbox": [
           {
            "marker": {
             "colorbar": {
              "outlinewidth": 0,
              "ticks": ""
             }
            },
            "type": "scattermapbox"
           }
          ],
          "scatterpolar": [
           {
            "marker": {
             "colorbar": {
              "outlinewidth": 0,
              "ticks": ""
             }
            },
            "type": "scatterpolar"
           }
          ],
          "scatterpolargl": [
           {
            "marker": {
             "colorbar": {
              "outlinewidth": 0,
              "ticks": ""
             }
            },
            "type": "scatterpolargl"
           }
          ],
          "scatterternary": [
           {
            "marker": {
             "colorbar": {
              "outlinewidth": 0,
              "ticks": ""
             }
            },
            "type": "scatterternary"
           }
          ],
          "surface": [
           {
            "colorbar": {
             "outlinewidth": 0,
             "ticks": ""
            },
            "colorscale": [
             [
              0,
              "#0d0887"
             ],
             [
              0.1111111111111111,
              "#46039f"
             ],
             [
              0.2222222222222222,
              "#7201a8"
             ],
             [
              0.3333333333333333,
              "#9c179e"
             ],
             [
              0.4444444444444444,
              "#bd3786"
             ],
             [
              0.5555555555555556,
              "#d8576b"
             ],
             [
              0.6666666666666666,
              "#ed7953"
             ],
             [
              0.7777777777777778,
              "#fb9f3a"
             ],
             [
              0.8888888888888888,
              "#fdca26"
             ],
             [
              1,
              "#f0f921"
             ]
            ],
            "type": "surface"
           }
          ],
          "table": [
           {
            "cells": {
             "fill": {
              "color": "#EBF0F8"
             },
             "line": {
              "color": "white"
             }
            },
            "header": {
             "fill": {
              "color": "#C8D4E3"
             },
             "line": {
              "color": "white"
             }
            },
            "type": "table"
           }
          ]
         },
         "layout": {
          "annotationdefaults": {
           "arrowcolor": "#2a3f5f",
           "arrowhead": 0,
           "arrowwidth": 1
          },
          "autotypenumbers": "strict",
          "coloraxis": {
           "colorbar": {
            "outlinewidth": 0,
            "ticks": ""
           }
          },
          "colorscale": {
           "diverging": [
            [
             0,
             "#8e0152"
            ],
            [
             0.1,
             "#c51b7d"
            ],
            [
             0.2,
             "#de77ae"
            ],
            [
             0.3,
             "#f1b6da"
            ],
            [
             0.4,
             "#fde0ef"
            ],
            [
             0.5,
             "#f7f7f7"
            ],
            [
             0.6,
             "#e6f5d0"
            ],
            [
             0.7,
             "#b8e186"
            ],
            [
             0.8,
             "#7fbc41"
            ],
            [
             0.9,
             "#4d9221"
            ],
            [
             1,
             "#276419"
            ]
           ],
           "sequential": [
            [
             0,
             "#0d0887"
            ],
            [
             0.1111111111111111,
             "#46039f"
            ],
            [
             0.2222222222222222,
             "#7201a8"
            ],
            [
             0.3333333333333333,
             "#9c179e"
            ],
            [
             0.4444444444444444,
             "#bd3786"
            ],
            [
             0.5555555555555556,
             "#d8576b"
            ],
            [
             0.6666666666666666,
             "#ed7953"
            ],
            [
             0.7777777777777778,
             "#fb9f3a"
            ],
            [
             0.8888888888888888,
             "#fdca26"
            ],
            [
             1,
             "#f0f921"
            ]
           ],
           "sequentialminus": [
            [
             0,
             "#0d0887"
            ],
            [
             0.1111111111111111,
             "#46039f"
            ],
            [
             0.2222222222222222,
             "#7201a8"
            ],
            [
             0.3333333333333333,
             "#9c179e"
            ],
            [
             0.4444444444444444,
             "#bd3786"
            ],
            [
             0.5555555555555556,
             "#d8576b"
            ],
            [
             0.6666666666666666,
             "#ed7953"
            ],
            [
             0.7777777777777778,
             "#fb9f3a"
            ],
            [
             0.8888888888888888,
             "#fdca26"
            ],
            [
             1,
             "#f0f921"
            ]
           ]
          },
          "colorway": [
           "#636efa",
           "#EF553B",
           "#00cc96",
           "#ab63fa",
           "#FFA15A",
           "#19d3f3",
           "#FF6692",
           "#B6E880",
           "#FF97FF",
           "#FECB52"
          ],
          "font": {
           "color": "#2a3f5f"
          },
          "geo": {
           "bgcolor": "white",
           "lakecolor": "white",
           "landcolor": "#E5ECF6",
           "showlakes": true,
           "showland": true,
           "subunitcolor": "white"
          },
          "hoverlabel": {
           "align": "left"
          },
          "hovermode": "closest",
          "mapbox": {
           "style": "light"
          },
          "paper_bgcolor": "white",
          "plot_bgcolor": "#E5ECF6",
          "polar": {
           "angularaxis": {
            "gridcolor": "white",
            "linecolor": "white",
            "ticks": ""
           },
           "bgcolor": "#E5ECF6",
           "radialaxis": {
            "gridcolor": "white",
            "linecolor": "white",
            "ticks": ""
           }
          },
          "scene": {
           "xaxis": {
            "backgroundcolor": "#E5ECF6",
            "gridcolor": "white",
            "gridwidth": 2,
            "linecolor": "white",
            "showbackground": true,
            "ticks": "",
            "zerolinecolor": "white"
           },
           "yaxis": {
            "backgroundcolor": "#E5ECF6",
            "gridcolor": "white",
            "gridwidth": 2,
            "linecolor": "white",
            "showbackground": true,
            "ticks": "",
            "zerolinecolor": "white"
           },
           "zaxis": {
            "backgroundcolor": "#E5ECF6",
            "gridcolor": "white",
            "gridwidth": 2,
            "linecolor": "white",
            "showbackground": true,
            "ticks": "",
            "zerolinecolor": "white"
           }
          },
          "shapedefaults": {
           "line": {
            "color": "#2a3f5f"
           }
          },
          "ternary": {
           "aaxis": {
            "gridcolor": "white",
            "linecolor": "white",
            "ticks": ""
           },
           "baxis": {
            "gridcolor": "white",
            "linecolor": "white",
            "ticks": ""
           },
           "bgcolor": "#E5ECF6",
           "caxis": {
            "gridcolor": "white",
            "linecolor": "white",
            "ticks": ""
           }
          },
          "title": {
           "x": 0.05
          },
          "xaxis": {
           "automargin": true,
           "gridcolor": "white",
           "linecolor": "white",
           "ticks": "",
           "title": {
            "standoff": 15
           },
           "zerolinecolor": "white",
           "zerolinewidth": 2
          },
          "yaxis": {
           "automargin": true,
           "gridcolor": "white",
           "linecolor": "white",
           "ticks": "",
           "title": {
            "standoff": 15
           },
           "zerolinecolor": "white",
           "zerolinewidth": 2
          }
         }
        },
        "title": {
         "text": "Number of graduates per year per type of degree"
        },
        "xaxis": {
         "anchor": "y",
         "domain": [
          0,
          1
         ],
         "title": {
          "text": "Graduate year"
         }
        },
        "yaxis": {
         "anchor": "x",
         "domain": [
          0,
          1
         ],
         "title": {
          "text": "Number of startups"
         }
        }
       }
      }
     },
     "metadata": {},
     "output_type": "display_data"
    }
   ],
   "source": [
    "fig = px.line(subjects_grad_by_year, x = 'grad_year', y = 'count', color='degree_type', color_discrete_sequence = px.colors.sequential.deep)\n",
    "fig.update_layout(\n",
    "    title='Number of graduates per year per type of degree',\n",
    "    xaxis_title='Graduate year',\n",
    "    yaxis_title='Number of startups',\n",
    "    legend_title_text='Type of degree'\n",
    ")\n",
    "fig.show()"
   ]
  },
  {
   "attachments": {},
   "cell_type": "markdown",
   "metadata": {},
   "source": [
    "## Main dataset about the company and its finances\n",
    "**Objects** holds information about the status of the company for example if it has been acquired, the price of the acquired company is in **acquisitions**, we merge these to get the status and price in a table. **Ipos** contains data on initial public offerings which we merge with the others."
   ]
  },
  {
   "cell_type": "code",
   "execution_count": 12,
   "metadata": {},
   "outputs": [],
   "source": [
    "main_data = pd.merge(objects, acquisitions, left_on='id', right_on='acquired_object_id', how='left')\n",
    "main_data = pd.merge(main_data, ipos, left_on='id_x', right_on='object_id', how='left')"
   ]
  },
  {
   "cell_type": "code",
   "execution_count": 13,
   "metadata": {},
   "outputs": [],
   "source": [
    "# removed columns from objects: 'normalized_name', 'domain', 'homepage_url', 'twitter_username', 'logo_url', 'logo_width', 'logo_height', 'short_description', 'country_code',\n",
    "# 'state_code', 'city', 'region', 'first_milestone_at', 'last_milestone_at', ,'parent_id', 'entity_id', 'first_funding_at', 'last_funding_at',\n",
    "\n",
    "# removed columns from acquisitions: 'id_y', 'acquisition_id','acquiring_object_id', 'source_url', 'source_description', 'created_at_y', 'updated_at_y'\n",
    "\n",
    "# removed columns from ipos: 'id', 'object_id', 'source_url_y', 'source_description_y', 'created_at_x', 'updated_at_x',\n",
    "\n",
    "\n",
    "# collumn\n",
    "main_data = main_data.loc[:, ['id_x', 'entity_type','entity_id', 'name', 'category_code', 'status', 'founded_at', \n",
    "                              'closed_at', 'description','overview', 'tag_list','first_investment_at', 'last_investment_at', 'investment_rounds',\n",
    "       'invested_companies', 'funding_rounds', 'funding_total_usd',  'milestones', 'relationships', 'created_by',\n",
    "       'created_at_x', 'updated_at_x',  'acquired_object_id', 'term_code',\n",
    "       'price_amount', 'price_currency_code', 'acquired_at', 'ipo_id','valuation_amount', 'valuation_currency_code',\n",
    "       'raised_amount', 'raised_currency_code', 'public_at', 'stock_symbol']]\n"
   ]
  },
  {
   "cell_type": "code",
   "execution_count": 14,
   "metadata": {},
   "outputs": [],
   "source": [
    "# Drop rows with NaN values in \n",
    "main_data.dropna(subset=['category_code', 'status'], how='any', inplace=True)"
   ]
  },
  {
   "cell_type": "code",
   "execution_count": 15,
   "metadata": {},
   "outputs": [],
   "source": [
    "# Only keep data from USA\n",
    "main_data = main_data[main_data['id_x'].isin(usa_offices['object_id'])]"
   ]
  },
  {
   "cell_type": "code",
   "execution_count": 16,
   "metadata": {},
   "outputs": [
    {
     "data": {
      "text/plain": [
       "Index(['id_x', 'entity_type', 'entity_id', 'name', 'category_code', 'status',\n",
       "       'founded_at', 'closed_at', 'description', 'overview', 'tag_list',\n",
       "       'first_investment_at', 'last_investment_at', 'investment_rounds',\n",
       "       'invested_companies', 'funding_rounds', 'funding_total_usd',\n",
       "       'milestones', 'relationships', 'created_by', 'created_at_x',\n",
       "       'updated_at_x', 'acquired_object_id', 'term_code', 'price_amount',\n",
       "       'price_currency_code', 'acquired_at', 'ipo_id', 'valuation_amount',\n",
       "       'valuation_currency_code', 'raised_amount', 'raised_currency_code',\n",
       "       'public_at', 'stock_symbol'],\n",
       "      dtype='object')"
      ]
     },
     "execution_count": 16,
     "metadata": {},
     "output_type": "execute_result"
    }
   ],
   "source": [
    "main_data.columns"
   ]
  },
  {
   "cell_type": "code",
   "execution_count": 17,
   "metadata": {},
   "outputs": [
    {
     "data": {
      "text/html": [
       "<div>\n",
       "<style scoped>\n",
       "    .dataframe tbody tr th:only-of-type {\n",
       "        vertical-align: middle;\n",
       "    }\n",
       "\n",
       "    .dataframe tbody tr th {\n",
       "        vertical-align: top;\n",
       "    }\n",
       "\n",
       "    .dataframe thead th {\n",
       "        text-align: right;\n",
       "    }\n",
       "</style>\n",
       "<table border=\"1\" class=\"dataframe\">\n",
       "  <thead>\n",
       "    <tr style=\"text-align: right;\">\n",
       "      <th></th>\n",
       "      <th>id_x</th>\n",
       "      <th>entity_type</th>\n",
       "      <th>entity_id</th>\n",
       "      <th>name</th>\n",
       "      <th>category_code</th>\n",
       "      <th>status</th>\n",
       "      <th>founded_at</th>\n",
       "      <th>closed_at</th>\n",
       "      <th>description</th>\n",
       "      <th>overview</th>\n",
       "      <th>...</th>\n",
       "      <th>price_amount</th>\n",
       "      <th>price_currency_code</th>\n",
       "      <th>acquired_at</th>\n",
       "      <th>ipo_id</th>\n",
       "      <th>valuation_amount</th>\n",
       "      <th>valuation_currency_code</th>\n",
       "      <th>raised_amount</th>\n",
       "      <th>raised_currency_code</th>\n",
       "      <th>public_at</th>\n",
       "      <th>stock_symbol</th>\n",
       "    </tr>\n",
       "  </thead>\n",
       "  <tbody>\n",
       "    <tr>\n",
       "      <th>0</th>\n",
       "      <td>c:1</td>\n",
       "      <td>Company</td>\n",
       "      <td>1</td>\n",
       "      <td>Wetpaint</td>\n",
       "      <td>web</td>\n",
       "      <td>operating</td>\n",
       "      <td>2005-10-17</td>\n",
       "      <td>NaN</td>\n",
       "      <td>Technology Platform Company</td>\n",
       "      <td>Wetpaint is a technology platform company that...</td>\n",
       "      <td>...</td>\n",
       "      <td>NaN</td>\n",
       "      <td>NaN</td>\n",
       "      <td>NaN</td>\n",
       "      <td>NaN</td>\n",
       "      <td>NaN</td>\n",
       "      <td>NaN</td>\n",
       "      <td>NaN</td>\n",
       "      <td>NaN</td>\n",
       "      <td>NaN</td>\n",
       "      <td>NaN</td>\n",
       "    </tr>\n",
       "    <tr>\n",
       "      <th>1</th>\n",
       "      <td>c:10</td>\n",
       "      <td>Company</td>\n",
       "      <td>10</td>\n",
       "      <td>Flektor</td>\n",
       "      <td>games_video</td>\n",
       "      <td>acquired</td>\n",
       "      <td>NaN</td>\n",
       "      <td>NaN</td>\n",
       "      <td>NaN</td>\n",
       "      <td>Flektor is a rich-media mash-up platform that ...</td>\n",
       "      <td>...</td>\n",
       "      <td>20000000.0</td>\n",
       "      <td>USD</td>\n",
       "      <td>2007-05-30</td>\n",
       "      <td>NaN</td>\n",
       "      <td>NaN</td>\n",
       "      <td>NaN</td>\n",
       "      <td>NaN</td>\n",
       "      <td>NaN</td>\n",
       "      <td>NaN</td>\n",
       "      <td>NaN</td>\n",
       "    </tr>\n",
       "    <tr>\n",
       "      <th>2</th>\n",
       "      <td>c:100</td>\n",
       "      <td>Company</td>\n",
       "      <td>100</td>\n",
       "      <td>There</td>\n",
       "      <td>games_video</td>\n",
       "      <td>acquired</td>\n",
       "      <td>NaN</td>\n",
       "      <td>NaN</td>\n",
       "      <td>NaN</td>\n",
       "      <td>There.com is an online virtual world where any...</td>\n",
       "      <td>...</td>\n",
       "      <td>0.0</td>\n",
       "      <td>USD</td>\n",
       "      <td>2005-05-29</td>\n",
       "      <td>NaN</td>\n",
       "      <td>NaN</td>\n",
       "      <td>NaN</td>\n",
       "      <td>NaN</td>\n",
       "      <td>NaN</td>\n",
       "      <td>NaN</td>\n",
       "      <td>NaN</td>\n",
       "    </tr>\n",
       "    <tr>\n",
       "      <th>8</th>\n",
       "      <td>c:10005</td>\n",
       "      <td>Company</td>\n",
       "      <td>10005</td>\n",
       "      <td>Thomas Publishing</td>\n",
       "      <td>advertising</td>\n",
       "      <td>operating</td>\n",
       "      <td>NaN</td>\n",
       "      <td>NaN</td>\n",
       "      <td>Online Media</td>\n",
       "      <td>For more than a century, Thomas Publishing has...</td>\n",
       "      <td>...</td>\n",
       "      <td>NaN</td>\n",
       "      <td>NaN</td>\n",
       "      <td>NaN</td>\n",
       "      <td>NaN</td>\n",
       "      <td>NaN</td>\n",
       "      <td>NaN</td>\n",
       "      <td>NaN</td>\n",
       "      <td>NaN</td>\n",
       "      <td>NaN</td>\n",
       "      <td>NaN</td>\n",
       "    </tr>\n",
       "    <tr>\n",
       "      <th>12</th>\n",
       "      <td>c:10009</td>\n",
       "      <td>Company</td>\n",
       "      <td>10009</td>\n",
       "      <td>dimension5 labs</td>\n",
       "      <td>advertising</td>\n",
       "      <td>operating</td>\n",
       "      <td>2008-08-01</td>\n",
       "      <td>NaN</td>\n",
       "      <td>NaN</td>\n",
       "      <td>dimension5 labs is a full service digital adve...</td>\n",
       "      <td>...</td>\n",
       "      <td>NaN</td>\n",
       "      <td>NaN</td>\n",
       "      <td>NaN</td>\n",
       "      <td>NaN</td>\n",
       "      <td>NaN</td>\n",
       "      <td>NaN</td>\n",
       "      <td>NaN</td>\n",
       "      <td>NaN</td>\n",
       "      <td>NaN</td>\n",
       "      <td>NaN</td>\n",
       "    </tr>\n",
       "    <tr>\n",
       "      <th>...</th>\n",
       "      <td>...</td>\n",
       "      <td>...</td>\n",
       "      <td>...</td>\n",
       "      <td>...</td>\n",
       "      <td>...</td>\n",
       "      <td>...</td>\n",
       "      <td>...</td>\n",
       "      <td>...</td>\n",
       "      <td>...</td>\n",
       "      <td>...</td>\n",
       "      <td>...</td>\n",
       "      <td>...</td>\n",
       "      <td>...</td>\n",
       "      <td>...</td>\n",
       "      <td>...</td>\n",
       "      <td>...</td>\n",
       "      <td>...</td>\n",
       "      <td>...</td>\n",
       "      <td>...</td>\n",
       "      <td>...</td>\n",
       "      <td>...</td>\n",
       "    </tr>\n",
       "    <tr>\n",
       "      <th>196699</th>\n",
       "      <td>c:99940</td>\n",
       "      <td>Company</td>\n",
       "      <td>99940</td>\n",
       "      <td>Webgility</td>\n",
       "      <td>ecommerce</td>\n",
       "      <td>operating</td>\n",
       "      <td>2007-01-01</td>\n",
       "      <td>NaN</td>\n",
       "      <td>eCommerce automation &amp; integration</td>\n",
       "      <td>Webgility is the leading provider in QuickBook...</td>\n",
       "      <td>...</td>\n",
       "      <td>NaN</td>\n",
       "      <td>NaN</td>\n",
       "      <td>NaN</td>\n",
       "      <td>NaN</td>\n",
       "      <td>NaN</td>\n",
       "      <td>NaN</td>\n",
       "      <td>NaN</td>\n",
       "      <td>NaN</td>\n",
       "      <td>NaN</td>\n",
       "      <td>NaN</td>\n",
       "    </tr>\n",
       "    <tr>\n",
       "      <th>196700</th>\n",
       "      <td>c:9995</td>\n",
       "      <td>Company</td>\n",
       "      <td>9995</td>\n",
       "      <td>FohBoh</td>\n",
       "      <td>public_relations</td>\n",
       "      <td>operating</td>\n",
       "      <td>2007-11-01</td>\n",
       "      <td>NaN</td>\n",
       "      <td>Foodservice industry social-busi network</td>\n",
       "      <td>Online B2B Community - Food, Tech &amp; Media\\nWit...</td>\n",
       "      <td>...</td>\n",
       "      <td>NaN</td>\n",
       "      <td>NaN</td>\n",
       "      <td>NaN</td>\n",
       "      <td>NaN</td>\n",
       "      <td>NaN</td>\n",
       "      <td>NaN</td>\n",
       "      <td>NaN</td>\n",
       "      <td>NaN</td>\n",
       "      <td>NaN</td>\n",
       "      <td>NaN</td>\n",
       "    </tr>\n",
       "    <tr>\n",
       "      <th>196701</th>\n",
       "      <td>c:9996</td>\n",
       "      <td>Company</td>\n",
       "      <td>9996</td>\n",
       "      <td>CSC</td>\n",
       "      <td>consulting</td>\n",
       "      <td>operating</td>\n",
       "      <td>1959-01-01</td>\n",
       "      <td>NaN</td>\n",
       "      <td>IT services</td>\n",
       "      <td>CSC is a leading global IT services company. C...</td>\n",
       "      <td>...</td>\n",
       "      <td>NaN</td>\n",
       "      <td>NaN</td>\n",
       "      <td>NaN</td>\n",
       "      <td>NaN</td>\n",
       "      <td>NaN</td>\n",
       "      <td>NaN</td>\n",
       "      <td>NaN</td>\n",
       "      <td>NaN</td>\n",
       "      <td>NaN</td>\n",
       "      <td>NaN</td>\n",
       "    </tr>\n",
       "    <tr>\n",
       "      <th>196702</th>\n",
       "      <td>c:9997</td>\n",
       "      <td>Company</td>\n",
       "      <td>9997</td>\n",
       "      <td>Top-candidate</td>\n",
       "      <td>search</td>\n",
       "      <td>operating</td>\n",
       "      <td>2008-07-01</td>\n",
       "      <td>NaN</td>\n",
       "      <td>NaN</td>\n",
       "      <td>Top-candidate is a premium database of high q...</td>\n",
       "      <td>...</td>\n",
       "      <td>NaN</td>\n",
       "      <td>NaN</td>\n",
       "      <td>NaN</td>\n",
       "      <td>NaN</td>\n",
       "      <td>NaN</td>\n",
       "      <td>NaN</td>\n",
       "      <td>NaN</td>\n",
       "      <td>NaN</td>\n",
       "      <td>NaN</td>\n",
       "      <td>NaN</td>\n",
       "    </tr>\n",
       "    <tr>\n",
       "      <th>196703</th>\n",
       "      <td>c:9998</td>\n",
       "      <td>Company</td>\n",
       "      <td>9998</td>\n",
       "      <td>Closet Couture</td>\n",
       "      <td>ecommerce</td>\n",
       "      <td>operating</td>\n",
       "      <td>2007-09-01</td>\n",
       "      <td>NaN</td>\n",
       "      <td>Online fashon community</td>\n",
       "      <td>Closet Couture is an online fashion community,...</td>\n",
       "      <td>...</td>\n",
       "      <td>NaN</td>\n",
       "      <td>NaN</td>\n",
       "      <td>NaN</td>\n",
       "      <td>NaN</td>\n",
       "      <td>NaN</td>\n",
       "      <td>NaN</td>\n",
       "      <td>NaN</td>\n",
       "      <td>NaN</td>\n",
       "      <td>NaN</td>\n",
       "      <td>NaN</td>\n",
       "    </tr>\n",
       "  </tbody>\n",
       "</table>\n",
       "<p>48959 rows × 34 columns</p>\n",
       "</div>"
      ],
      "text/plain": [
       "           id_x entity_type  entity_id               name     category_code  \\\n",
       "0           c:1     Company          1           Wetpaint               web   \n",
       "1          c:10     Company         10            Flektor       games_video   \n",
       "2         c:100     Company        100              There       games_video   \n",
       "8       c:10005     Company      10005  Thomas Publishing       advertising   \n",
       "12      c:10009     Company      10009    dimension5 labs       advertising   \n",
       "...         ...         ...        ...                ...               ...   \n",
       "196699  c:99940     Company      99940          Webgility         ecommerce   \n",
       "196700   c:9995     Company       9995             FohBoh  public_relations   \n",
       "196701   c:9996     Company       9996                CSC        consulting   \n",
       "196702   c:9997     Company       9997     Top-candidate            search   \n",
       "196703   c:9998     Company       9998     Closet Couture         ecommerce   \n",
       "\n",
       "           status  founded_at closed_at  \\\n",
       "0       operating  2005-10-17       NaN   \n",
       "1        acquired         NaN       NaN   \n",
       "2        acquired         NaN       NaN   \n",
       "8       operating         NaN       NaN   \n",
       "12      operating  2008-08-01       NaN   \n",
       "...           ...         ...       ...   \n",
       "196699  operating  2007-01-01       NaN   \n",
       "196700  operating  2007-11-01       NaN   \n",
       "196701  operating  1959-01-01       NaN   \n",
       "196702  operating  2008-07-01       NaN   \n",
       "196703  operating  2007-09-01       NaN   \n",
       "\n",
       "                                     description  \\\n",
       "0                    Technology Platform Company   \n",
       "1                                            NaN   \n",
       "2                                            NaN   \n",
       "8                                   Online Media   \n",
       "12                                           NaN   \n",
       "...                                          ...   \n",
       "196699        eCommerce automation & integration   \n",
       "196700  Foodservice industry social-busi network   \n",
       "196701                               IT services   \n",
       "196702                                       NaN   \n",
       "196703                   Online fashon community   \n",
       "\n",
       "                                                 overview  ... price_amount  \\\n",
       "0       Wetpaint is a technology platform company that...  ...          NaN   \n",
       "1       Flektor is a rich-media mash-up platform that ...  ...   20000000.0   \n",
       "2       There.com is an online virtual world where any...  ...          0.0   \n",
       "8       For more than a century, Thomas Publishing has...  ...          NaN   \n",
       "12      dimension5 labs is a full service digital adve...  ...          NaN   \n",
       "...                                                   ...  ...          ...   \n",
       "196699  Webgility is the leading provider in QuickBook...  ...          NaN   \n",
       "196700  Online B2B Community - Food, Tech & Media\\nWit...  ...          NaN   \n",
       "196701  CSC is a leading global IT services company. C...  ...          NaN   \n",
       "196702  Top-candidate is a premium database of high q...  ...          NaN   \n",
       "196703  Closet Couture is an online fashion community,...  ...          NaN   \n",
       "\n",
       "       price_currency_code acquired_at  ipo_id  valuation_amount  \\\n",
       "0                      NaN         NaN     NaN               NaN   \n",
       "1                      USD  2007-05-30     NaN               NaN   \n",
       "2                      USD  2005-05-29     NaN               NaN   \n",
       "8                      NaN         NaN     NaN               NaN   \n",
       "12                     NaN         NaN     NaN               NaN   \n",
       "...                    ...         ...     ...               ...   \n",
       "196699                 NaN         NaN     NaN               NaN   \n",
       "196700                 NaN         NaN     NaN               NaN   \n",
       "196701                 NaN         NaN     NaN               NaN   \n",
       "196702                 NaN         NaN     NaN               NaN   \n",
       "196703                 NaN         NaN     NaN               NaN   \n",
       "\n",
       "        valuation_currency_code  raised_amount  raised_currency_code  \\\n",
       "0                           NaN            NaN                   NaN   \n",
       "1                           NaN            NaN                   NaN   \n",
       "2                           NaN            NaN                   NaN   \n",
       "8                           NaN            NaN                   NaN   \n",
       "12                          NaN            NaN                   NaN   \n",
       "...                         ...            ...                   ...   \n",
       "196699                      NaN            NaN                   NaN   \n",
       "196700                      NaN            NaN                   NaN   \n",
       "196701                      NaN            NaN                   NaN   \n",
       "196702                      NaN            NaN                   NaN   \n",
       "196703                      NaN            NaN                   NaN   \n",
       "\n",
       "        public_at stock_symbol  \n",
       "0             NaN          NaN  \n",
       "1             NaN          NaN  \n",
       "2             NaN          NaN  \n",
       "8             NaN          NaN  \n",
       "12            NaN          NaN  \n",
       "...           ...          ...  \n",
       "196699        NaN          NaN  \n",
       "196700        NaN          NaN  \n",
       "196701        NaN          NaN  \n",
       "196702        NaN          NaN  \n",
       "196703        NaN          NaN  \n",
       "\n",
       "[48959 rows x 34 columns]"
      ]
     },
     "execution_count": 17,
     "metadata": {},
     "output_type": "execute_result"
    }
   ],
   "source": [
    "main_data"
   ]
  },
  {
   "cell_type": "code",
   "execution_count": 18,
   "metadata": {},
   "outputs": [
    {
     "data": {
      "application/vnd.plotly.v1+json": {
       "config": {
        "plotlyServerURL": "https://plot.ly"
       },
       "data": [
        {
         "alignmentgroup": "True",
         "hovertemplate": "status=%{x}<br>count=%{y}<extra></extra>",
         "legendgroup": "",
         "marker": {
          "color": [
           "rgb(39, 26, 44)",
           "rgb(54, 43, 77)",
           "rgb(64, 60, 115)",
           "rgb(62, 82, 143)",
           "rgb(62, 108, 150)",
           "rgb(68, 130, 155)",
           "rgb(76, 153, 160)",
           "rgb(86, 177, 163)",
           "rgb(111, 201, 163)",
           "rgb(156, 219, 165)",
           "rgb(206, 236, 179)",
           "rgb(253, 253, 204)"
          ],
          "pattern": {
           "shape": ""
          }
         },
         "name": "",
         "offsetgroup": "",
         "orientation": "v",
         "showlegend": false,
         "textposition": "auto",
         "type": "bar",
         "width": 0.8,
         "x": [
          "operating",
          "acquired",
          "closed",
          "ipo"
         ],
         "xaxis": "x",
         "y": [
          42327,
          4383,
          1346,
          903
         ],
         "yaxis": "y"
        }
       ],
       "layout": {
        "barmode": "relative",
        "legend": {
         "tracegroupgap": 0
        },
        "margin": {
         "t": 60
        },
        "template": {
         "data": {
          "bar": [
           {
            "error_x": {
             "color": "#2a3f5f"
            },
            "error_y": {
             "color": "#2a3f5f"
            },
            "marker": {
             "line": {
              "color": "#E5ECF6",
              "width": 0.5
             },
             "pattern": {
              "fillmode": "overlay",
              "size": 10,
              "solidity": 0.2
             }
            },
            "type": "bar"
           }
          ],
          "barpolar": [
           {
            "marker": {
             "line": {
              "color": "#E5ECF6",
              "width": 0.5
             },
             "pattern": {
              "fillmode": "overlay",
              "size": 10,
              "solidity": 0.2
             }
            },
            "type": "barpolar"
           }
          ],
          "carpet": [
           {
            "aaxis": {
             "endlinecolor": "#2a3f5f",
             "gridcolor": "white",
             "linecolor": "white",
             "minorgridcolor": "white",
             "startlinecolor": "#2a3f5f"
            },
            "baxis": {
             "endlinecolor": "#2a3f5f",
             "gridcolor": "white",
             "linecolor": "white",
             "minorgridcolor": "white",
             "startlinecolor": "#2a3f5f"
            },
            "type": "carpet"
           }
          ],
          "choropleth": [
           {
            "colorbar": {
             "outlinewidth": 0,
             "ticks": ""
            },
            "type": "choropleth"
           }
          ],
          "contour": [
           {
            "colorbar": {
             "outlinewidth": 0,
             "ticks": ""
            },
            "colorscale": [
             [
              0,
              "#0d0887"
             ],
             [
              0.1111111111111111,
              "#46039f"
             ],
             [
              0.2222222222222222,
              "#7201a8"
             ],
             [
              0.3333333333333333,
              "#9c179e"
             ],
             [
              0.4444444444444444,
              "#bd3786"
             ],
             [
              0.5555555555555556,
              "#d8576b"
             ],
             [
              0.6666666666666666,
              "#ed7953"
             ],
             [
              0.7777777777777778,
              "#fb9f3a"
             ],
             [
              0.8888888888888888,
              "#fdca26"
             ],
             [
              1,
              "#f0f921"
             ]
            ],
            "type": "contour"
           }
          ],
          "contourcarpet": [
           {
            "colorbar": {
             "outlinewidth": 0,
             "ticks": ""
            },
            "type": "contourcarpet"
           }
          ],
          "heatmap": [
           {
            "colorbar": {
             "outlinewidth": 0,
             "ticks": ""
            },
            "colorscale": [
             [
              0,
              "#0d0887"
             ],
             [
              0.1111111111111111,
              "#46039f"
             ],
             [
              0.2222222222222222,
              "#7201a8"
             ],
             [
              0.3333333333333333,
              "#9c179e"
             ],
             [
              0.4444444444444444,
              "#bd3786"
             ],
             [
              0.5555555555555556,
              "#d8576b"
             ],
             [
              0.6666666666666666,
              "#ed7953"
             ],
             [
              0.7777777777777778,
              "#fb9f3a"
             ],
             [
              0.8888888888888888,
              "#fdca26"
             ],
             [
              1,
              "#f0f921"
             ]
            ],
            "type": "heatmap"
           }
          ],
          "heatmapgl": [
           {
            "colorbar": {
             "outlinewidth": 0,
             "ticks": ""
            },
            "colorscale": [
             [
              0,
              "#0d0887"
             ],
             [
              0.1111111111111111,
              "#46039f"
             ],
             [
              0.2222222222222222,
              "#7201a8"
             ],
             [
              0.3333333333333333,
              "#9c179e"
             ],
             [
              0.4444444444444444,
              "#bd3786"
             ],
             [
              0.5555555555555556,
              "#d8576b"
             ],
             [
              0.6666666666666666,
              "#ed7953"
             ],
             [
              0.7777777777777778,
              "#fb9f3a"
             ],
             [
              0.8888888888888888,
              "#fdca26"
             ],
             [
              1,
              "#f0f921"
             ]
            ],
            "type": "heatmapgl"
           }
          ],
          "histogram": [
           {
            "marker": {
             "pattern": {
              "fillmode": "overlay",
              "size": 10,
              "solidity": 0.2
             }
            },
            "type": "histogram"
           }
          ],
          "histogram2d": [
           {
            "colorbar": {
             "outlinewidth": 0,
             "ticks": ""
            },
            "colorscale": [
             [
              0,
              "#0d0887"
             ],
             [
              0.1111111111111111,
              "#46039f"
             ],
             [
              0.2222222222222222,
              "#7201a8"
             ],
             [
              0.3333333333333333,
              "#9c179e"
             ],
             [
              0.4444444444444444,
              "#bd3786"
             ],
             [
              0.5555555555555556,
              "#d8576b"
             ],
             [
              0.6666666666666666,
              "#ed7953"
             ],
             [
              0.7777777777777778,
              "#fb9f3a"
             ],
             [
              0.8888888888888888,
              "#fdca26"
             ],
             [
              1,
              "#f0f921"
             ]
            ],
            "type": "histogram2d"
           }
          ],
          "histogram2dcontour": [
           {
            "colorbar": {
             "outlinewidth": 0,
             "ticks": ""
            },
            "colorscale": [
             [
              0,
              "#0d0887"
             ],
             [
              0.1111111111111111,
              "#46039f"
             ],
             [
              0.2222222222222222,
              "#7201a8"
             ],
             [
              0.3333333333333333,
              "#9c179e"
             ],
             [
              0.4444444444444444,
              "#bd3786"
             ],
             [
              0.5555555555555556,
              "#d8576b"
             ],
             [
              0.6666666666666666,
              "#ed7953"
             ],
             [
              0.7777777777777778,
              "#fb9f3a"
             ],
             [
              0.8888888888888888,
              "#fdca26"
             ],
             [
              1,
              "#f0f921"
             ]
            ],
            "type": "histogram2dcontour"
           }
          ],
          "mesh3d": [
           {
            "colorbar": {
             "outlinewidth": 0,
             "ticks": ""
            },
            "type": "mesh3d"
           }
          ],
          "parcoords": [
           {
            "line": {
             "colorbar": {
              "outlinewidth": 0,
              "ticks": ""
             }
            },
            "type": "parcoords"
           }
          ],
          "pie": [
           {
            "automargin": true,
            "type": "pie"
           }
          ],
          "scatter": [
           {
            "fillpattern": {
             "fillmode": "overlay",
             "size": 10,
             "solidity": 0.2
            },
            "type": "scatter"
           }
          ],
          "scatter3d": [
           {
            "line": {
             "colorbar": {
              "outlinewidth": 0,
              "ticks": ""
             }
            },
            "marker": {
             "colorbar": {
              "outlinewidth": 0,
              "ticks": ""
             }
            },
            "type": "scatter3d"
           }
          ],
          "scattercarpet": [
           {
            "marker": {
             "colorbar": {
              "outlinewidth": 0,
              "ticks": ""
             }
            },
            "type": "scattercarpet"
           }
          ],
          "scattergeo": [
           {
            "marker": {
             "colorbar": {
              "outlinewidth": 0,
              "ticks": ""
             }
            },
            "type": "scattergeo"
           }
          ],
          "scattergl": [
           {
            "marker": {
             "colorbar": {
              "outlinewidth": 0,
              "ticks": ""
             }
            },
            "type": "scattergl"
           }
          ],
          "scattermapbox": [
           {
            "marker": {
             "colorbar": {
              "outlinewidth": 0,
              "ticks": ""
             }
            },
            "type": "scattermapbox"
           }
          ],
          "scatterpolar": [
           {
            "marker": {
             "colorbar": {
              "outlinewidth": 0,
              "ticks": ""
             }
            },
            "type": "scatterpolar"
           }
          ],
          "scatterpolargl": [
           {
            "marker": {
             "colorbar": {
              "outlinewidth": 0,
              "ticks": ""
             }
            },
            "type": "scatterpolargl"
           }
          ],
          "scatterternary": [
           {
            "marker": {
             "colorbar": {
              "outlinewidth": 0,
              "ticks": ""
             }
            },
            "type": "scatterternary"
           }
          ],
          "surface": [
           {
            "colorbar": {
             "outlinewidth": 0,
             "ticks": ""
            },
            "colorscale": [
             [
              0,
              "#0d0887"
             ],
             [
              0.1111111111111111,
              "#46039f"
             ],
             [
              0.2222222222222222,
              "#7201a8"
             ],
             [
              0.3333333333333333,
              "#9c179e"
             ],
             [
              0.4444444444444444,
              "#bd3786"
             ],
             [
              0.5555555555555556,
              "#d8576b"
             ],
             [
              0.6666666666666666,
              "#ed7953"
             ],
             [
              0.7777777777777778,
              "#fb9f3a"
             ],
             [
              0.8888888888888888,
              "#fdca26"
             ],
             [
              1,
              "#f0f921"
             ]
            ],
            "type": "surface"
           }
          ],
          "table": [
           {
            "cells": {
             "fill": {
              "color": "#EBF0F8"
             },
             "line": {
              "color": "white"
             }
            },
            "header": {
             "fill": {
              "color": "#C8D4E3"
             },
             "line": {
              "color": "white"
             }
            },
            "type": "table"
           }
          ]
         },
         "layout": {
          "annotationdefaults": {
           "arrowcolor": "#2a3f5f",
           "arrowhead": 0,
           "arrowwidth": 1
          },
          "autotypenumbers": "strict",
          "coloraxis": {
           "colorbar": {
            "outlinewidth": 0,
            "ticks": ""
           }
          },
          "colorscale": {
           "diverging": [
            [
             0,
             "#8e0152"
            ],
            [
             0.1,
             "#c51b7d"
            ],
            [
             0.2,
             "#de77ae"
            ],
            [
             0.3,
             "#f1b6da"
            ],
            [
             0.4,
             "#fde0ef"
            ],
            [
             0.5,
             "#f7f7f7"
            ],
            [
             0.6,
             "#e6f5d0"
            ],
            [
             0.7,
             "#b8e186"
            ],
            [
             0.8,
             "#7fbc41"
            ],
            [
             0.9,
             "#4d9221"
            ],
            [
             1,
             "#276419"
            ]
           ],
           "sequential": [
            [
             0,
             "#0d0887"
            ],
            [
             0.1111111111111111,
             "#46039f"
            ],
            [
             0.2222222222222222,
             "#7201a8"
            ],
            [
             0.3333333333333333,
             "#9c179e"
            ],
            [
             0.4444444444444444,
             "#bd3786"
            ],
            [
             0.5555555555555556,
             "#d8576b"
            ],
            [
             0.6666666666666666,
             "#ed7953"
            ],
            [
             0.7777777777777778,
             "#fb9f3a"
            ],
            [
             0.8888888888888888,
             "#fdca26"
            ],
            [
             1,
             "#f0f921"
            ]
           ],
           "sequentialminus": [
            [
             0,
             "#0d0887"
            ],
            [
             0.1111111111111111,
             "#46039f"
            ],
            [
             0.2222222222222222,
             "#7201a8"
            ],
            [
             0.3333333333333333,
             "#9c179e"
            ],
            [
             0.4444444444444444,
             "#bd3786"
            ],
            [
             0.5555555555555556,
             "#d8576b"
            ],
            [
             0.6666666666666666,
             "#ed7953"
            ],
            [
             0.7777777777777778,
             "#fb9f3a"
            ],
            [
             0.8888888888888888,
             "#fdca26"
            ],
            [
             1,
             "#f0f921"
            ]
           ]
          },
          "colorway": [
           "#636efa",
           "#EF553B",
           "#00cc96",
           "#ab63fa",
           "#FFA15A",
           "#19d3f3",
           "#FF6692",
           "#B6E880",
           "#FF97FF",
           "#FECB52"
          ],
          "font": {
           "color": "#2a3f5f"
          },
          "geo": {
           "bgcolor": "white",
           "lakecolor": "white",
           "landcolor": "#E5ECF6",
           "showlakes": true,
           "showland": true,
           "subunitcolor": "white"
          },
          "hoverlabel": {
           "align": "left"
          },
          "hovermode": "closest",
          "mapbox": {
           "style": "light"
          },
          "paper_bgcolor": "white",
          "plot_bgcolor": "#E5ECF6",
          "polar": {
           "angularaxis": {
            "gridcolor": "white",
            "linecolor": "white",
            "ticks": ""
           },
           "bgcolor": "#E5ECF6",
           "radialaxis": {
            "gridcolor": "white",
            "linecolor": "white",
            "ticks": ""
           }
          },
          "scene": {
           "xaxis": {
            "backgroundcolor": "#E5ECF6",
            "gridcolor": "white",
            "gridwidth": 2,
            "linecolor": "white",
            "showbackground": true,
            "ticks": "",
            "zerolinecolor": "white"
           },
           "yaxis": {
            "backgroundcolor": "#E5ECF6",
            "gridcolor": "white",
            "gridwidth": 2,
            "linecolor": "white",
            "showbackground": true,
            "ticks": "",
            "zerolinecolor": "white"
           },
           "zaxis": {
            "backgroundcolor": "#E5ECF6",
            "gridcolor": "white",
            "gridwidth": 2,
            "linecolor": "white",
            "showbackground": true,
            "ticks": "",
            "zerolinecolor": "white"
           }
          },
          "shapedefaults": {
           "line": {
            "color": "#2a3f5f"
           }
          },
          "ternary": {
           "aaxis": {
            "gridcolor": "white",
            "linecolor": "white",
            "ticks": ""
           },
           "baxis": {
            "gridcolor": "white",
            "linecolor": "white",
            "ticks": ""
           },
           "bgcolor": "#E5ECF6",
           "caxis": {
            "gridcolor": "white",
            "linecolor": "white",
            "ticks": ""
           }
          },
          "title": {
           "x": 0.05
          },
          "xaxis": {
           "automargin": true,
           "gridcolor": "white",
           "linecolor": "white",
           "ticks": "",
           "title": {
            "standoff": 15
           },
           "zerolinecolor": "white",
           "zerolinewidth": 2
          },
          "yaxis": {
           "automargin": true,
           "gridcolor": "white",
           "linecolor": "white",
           "ticks": "",
           "title": {
            "standoff": 15
           },
           "zerolinecolor": "white",
           "zerolinewidth": 2
          }
         }
        },
        "title": {
         "text": "Status of Startups companies in USA"
        },
        "xaxis": {
         "anchor": "y",
         "domain": [
          0,
          1
         ],
         "title": {
          "text": "Status"
         }
        },
        "yaxis": {
         "anchor": "x",
         "domain": [
          0,
          1
         ],
         "title": {
          "text": "Number of startups"
         }
        }
       }
      }
     },
     "metadata": {},
     "output_type": "display_data"
    }
   ],
   "source": [
    "status_counts = main_data['status'].value_counts()\n",
    "df_status_counts = pd.DataFrame({'status': status_counts.index, 'count': status_counts.values})\n",
    "\n",
    "fig = px.bar(df_status_counts, x='status', y='count')\n",
    "fig.update_layout(\n",
    "    title='Status of Startups companies in USA',\n",
    "    xaxis_title='Status',\n",
    "    yaxis_title='Number of startups'\n",
    ")\n",
    "fig.update_traces(marker_color=px.colors.sequential.deep[::-1], width=0.8)\n",
    "\n",
    "fig.show()"
   ]
  },
  {
   "cell_type": "code",
   "execution_count": 19,
   "metadata": {},
   "outputs": [
    {
     "data": {
      "text/plain": [
       "status\n",
       "acquired     1.020178e+07\n",
       "closed       7.385484e+06\n",
       "ipo          4.599974e+07\n",
       "operating    5.217282e+06\n",
       "Name: funding_total_usd, dtype: float64"
      ]
     },
     "execution_count": 19,
     "metadata": {},
     "output_type": "execute_result"
    }
   ],
   "source": [
    "main_data.groupby('status')['funding_total_usd'].mean()"
   ]
  },
  {
   "cell_type": "code",
   "execution_count": 20,
   "metadata": {},
   "outputs": [
    {
     "data": {
      "application/vnd.plotly.v1+json": {
       "config": {
        "plotlyServerURL": "https://plot.ly"
       },
       "data": [
        {
         "alignmentgroup": "True",
         "hovertemplate": "category_code=%{x}<br>count=%{y}<extra></extra>",
         "legendgroup": "",
         "marker": {
          "color": [
           "rgb(39, 26, 44)",
           "rgb(54, 43, 77)",
           "rgb(64, 60, 115)",
           "rgb(62, 82, 143)",
           "rgb(62, 108, 150)",
           "rgb(68, 130, 155)",
           "rgb(76, 153, 160)",
           "rgb(86, 177, 163)",
           "rgb(111, 201, 163)",
           "rgb(156, 219, 165)",
           "rgb(206, 236, 179)",
           "rgb(253, 253, 204)"
          ],
          "pattern": {
           "shape": ""
          }
         },
         "name": "",
         "offsetgroup": "",
         "orientation": "v",
         "showlegend": false,
         "textposition": "auto",
         "type": "bar",
         "width": 0.8,
         "x": [
          "software",
          "web",
          "other",
          "biotech",
          "ecommerce",
          "advertising",
          "mobile",
          "enterprise",
          "consulting"
         ],
         "xaxis": "x",
         "y": [
          8088,
          5725,
          4373,
          3027,
          2872,
          2695,
          2677,
          2165,
          2068
         ],
         "yaxis": "y"
        }
       ],
       "layout": {
        "barmode": "relative",
        "legend": {
         "tracegroupgap": 0
        },
        "margin": {
         "t": 60
        },
        "template": {
         "data": {
          "bar": [
           {
            "error_x": {
             "color": "#2a3f5f"
            },
            "error_y": {
             "color": "#2a3f5f"
            },
            "marker": {
             "line": {
              "color": "#E5ECF6",
              "width": 0.5
             },
             "pattern": {
              "fillmode": "overlay",
              "size": 10,
              "solidity": 0.2
             }
            },
            "type": "bar"
           }
          ],
          "barpolar": [
           {
            "marker": {
             "line": {
              "color": "#E5ECF6",
              "width": 0.5
             },
             "pattern": {
              "fillmode": "overlay",
              "size": 10,
              "solidity": 0.2
             }
            },
            "type": "barpolar"
           }
          ],
          "carpet": [
           {
            "aaxis": {
             "endlinecolor": "#2a3f5f",
             "gridcolor": "white",
             "linecolor": "white",
             "minorgridcolor": "white",
             "startlinecolor": "#2a3f5f"
            },
            "baxis": {
             "endlinecolor": "#2a3f5f",
             "gridcolor": "white",
             "linecolor": "white",
             "minorgridcolor": "white",
             "startlinecolor": "#2a3f5f"
            },
            "type": "carpet"
           }
          ],
          "choropleth": [
           {
            "colorbar": {
             "outlinewidth": 0,
             "ticks": ""
            },
            "type": "choropleth"
           }
          ],
          "contour": [
           {
            "colorbar": {
             "outlinewidth": 0,
             "ticks": ""
            },
            "colorscale": [
             [
              0,
              "#0d0887"
             ],
             [
              0.1111111111111111,
              "#46039f"
             ],
             [
              0.2222222222222222,
              "#7201a8"
             ],
             [
              0.3333333333333333,
              "#9c179e"
             ],
             [
              0.4444444444444444,
              "#bd3786"
             ],
             [
              0.5555555555555556,
              "#d8576b"
             ],
             [
              0.6666666666666666,
              "#ed7953"
             ],
             [
              0.7777777777777778,
              "#fb9f3a"
             ],
             [
              0.8888888888888888,
              "#fdca26"
             ],
             [
              1,
              "#f0f921"
             ]
            ],
            "type": "contour"
           }
          ],
          "contourcarpet": [
           {
            "colorbar": {
             "outlinewidth": 0,
             "ticks": ""
            },
            "type": "contourcarpet"
           }
          ],
          "heatmap": [
           {
            "colorbar": {
             "outlinewidth": 0,
             "ticks": ""
            },
            "colorscale": [
             [
              0,
              "#0d0887"
             ],
             [
              0.1111111111111111,
              "#46039f"
             ],
             [
              0.2222222222222222,
              "#7201a8"
             ],
             [
              0.3333333333333333,
              "#9c179e"
             ],
             [
              0.4444444444444444,
              "#bd3786"
             ],
             [
              0.5555555555555556,
              "#d8576b"
             ],
             [
              0.6666666666666666,
              "#ed7953"
             ],
             [
              0.7777777777777778,
              "#fb9f3a"
             ],
             [
              0.8888888888888888,
              "#fdca26"
             ],
             [
              1,
              "#f0f921"
             ]
            ],
            "type": "heatmap"
           }
          ],
          "heatmapgl": [
           {
            "colorbar": {
             "outlinewidth": 0,
             "ticks": ""
            },
            "colorscale": [
             [
              0,
              "#0d0887"
             ],
             [
              0.1111111111111111,
              "#46039f"
             ],
             [
              0.2222222222222222,
              "#7201a8"
             ],
             [
              0.3333333333333333,
              "#9c179e"
             ],
             [
              0.4444444444444444,
              "#bd3786"
             ],
             [
              0.5555555555555556,
              "#d8576b"
             ],
             [
              0.6666666666666666,
              "#ed7953"
             ],
             [
              0.7777777777777778,
              "#fb9f3a"
             ],
             [
              0.8888888888888888,
              "#fdca26"
             ],
             [
              1,
              "#f0f921"
             ]
            ],
            "type": "heatmapgl"
           }
          ],
          "histogram": [
           {
            "marker": {
             "pattern": {
              "fillmode": "overlay",
              "size": 10,
              "solidity": 0.2
             }
            },
            "type": "histogram"
           }
          ],
          "histogram2d": [
           {
            "colorbar": {
             "outlinewidth": 0,
             "ticks": ""
            },
            "colorscale": [
             [
              0,
              "#0d0887"
             ],
             [
              0.1111111111111111,
              "#46039f"
             ],
             [
              0.2222222222222222,
              "#7201a8"
             ],
             [
              0.3333333333333333,
              "#9c179e"
             ],
             [
              0.4444444444444444,
              "#bd3786"
             ],
             [
              0.5555555555555556,
              "#d8576b"
             ],
             [
              0.6666666666666666,
              "#ed7953"
             ],
             [
              0.7777777777777778,
              "#fb9f3a"
             ],
             [
              0.8888888888888888,
              "#fdca26"
             ],
             [
              1,
              "#f0f921"
             ]
            ],
            "type": "histogram2d"
           }
          ],
          "histogram2dcontour": [
           {
            "colorbar": {
             "outlinewidth": 0,
             "ticks": ""
            },
            "colorscale": [
             [
              0,
              "#0d0887"
             ],
             [
              0.1111111111111111,
              "#46039f"
             ],
             [
              0.2222222222222222,
              "#7201a8"
             ],
             [
              0.3333333333333333,
              "#9c179e"
             ],
             [
              0.4444444444444444,
              "#bd3786"
             ],
             [
              0.5555555555555556,
              "#d8576b"
             ],
             [
              0.6666666666666666,
              "#ed7953"
             ],
             [
              0.7777777777777778,
              "#fb9f3a"
             ],
             [
              0.8888888888888888,
              "#fdca26"
             ],
             [
              1,
              "#f0f921"
             ]
            ],
            "type": "histogram2dcontour"
           }
          ],
          "mesh3d": [
           {
            "colorbar": {
             "outlinewidth": 0,
             "ticks": ""
            },
            "type": "mesh3d"
           }
          ],
          "parcoords": [
           {
            "line": {
             "colorbar": {
              "outlinewidth": 0,
              "ticks": ""
             }
            },
            "type": "parcoords"
           }
          ],
          "pie": [
           {
            "automargin": true,
            "type": "pie"
           }
          ],
          "scatter": [
           {
            "fillpattern": {
             "fillmode": "overlay",
             "size": 10,
             "solidity": 0.2
            },
            "type": "scatter"
           }
          ],
          "scatter3d": [
           {
            "line": {
             "colorbar": {
              "outlinewidth": 0,
              "ticks": ""
             }
            },
            "marker": {
             "colorbar": {
              "outlinewidth": 0,
              "ticks": ""
             }
            },
            "type": "scatter3d"
           }
          ],
          "scattercarpet": [
           {
            "marker": {
             "colorbar": {
              "outlinewidth": 0,
              "ticks": ""
             }
            },
            "type": "scattercarpet"
           }
          ],
          "scattergeo": [
           {
            "marker": {
             "colorbar": {
              "outlinewidth": 0,
              "ticks": ""
             }
            },
            "type": "scattergeo"
           }
          ],
          "scattergl": [
           {
            "marker": {
             "colorbar": {
              "outlinewidth": 0,
              "ticks": ""
             }
            },
            "type": "scattergl"
           }
          ],
          "scattermapbox": [
           {
            "marker": {
             "colorbar": {
              "outlinewidth": 0,
              "ticks": ""
             }
            },
            "type": "scattermapbox"
           }
          ],
          "scatterpolar": [
           {
            "marker": {
             "colorbar": {
              "outlinewidth": 0,
              "ticks": ""
             }
            },
            "type": "scatterpolar"
           }
          ],
          "scatterpolargl": [
           {
            "marker": {
             "colorbar": {
              "outlinewidth": 0,
              "ticks": ""
             }
            },
            "type": "scatterpolargl"
           }
          ],
          "scatterternary": [
           {
            "marker": {
             "colorbar": {
              "outlinewidth": 0,
              "ticks": ""
             }
            },
            "type": "scatterternary"
           }
          ],
          "surface": [
           {
            "colorbar": {
             "outlinewidth": 0,
             "ticks": ""
            },
            "colorscale": [
             [
              0,
              "#0d0887"
             ],
             [
              0.1111111111111111,
              "#46039f"
             ],
             [
              0.2222222222222222,
              "#7201a8"
             ],
             [
              0.3333333333333333,
              "#9c179e"
             ],
             [
              0.4444444444444444,
              "#bd3786"
             ],
             [
              0.5555555555555556,
              "#d8576b"
             ],
             [
              0.6666666666666666,
              "#ed7953"
             ],
             [
              0.7777777777777778,
              "#fb9f3a"
             ],
             [
              0.8888888888888888,
              "#fdca26"
             ],
             [
              1,
              "#f0f921"
             ]
            ],
            "type": "surface"
           }
          ],
          "table": [
           {
            "cells": {
             "fill": {
              "color": "#EBF0F8"
             },
             "line": {
              "color": "white"
             }
            },
            "header": {
             "fill": {
              "color": "#C8D4E3"
             },
             "line": {
              "color": "white"
             }
            },
            "type": "table"
           }
          ]
         },
         "layout": {
          "annotationdefaults": {
           "arrowcolor": "#2a3f5f",
           "arrowhead": 0,
           "arrowwidth": 1
          },
          "autotypenumbers": "strict",
          "coloraxis": {
           "colorbar": {
            "outlinewidth": 0,
            "ticks": ""
           }
          },
          "colorscale": {
           "diverging": [
            [
             0,
             "#8e0152"
            ],
            [
             0.1,
             "#c51b7d"
            ],
            [
             0.2,
             "#de77ae"
            ],
            [
             0.3,
             "#f1b6da"
            ],
            [
             0.4,
             "#fde0ef"
            ],
            [
             0.5,
             "#f7f7f7"
            ],
            [
             0.6,
             "#e6f5d0"
            ],
            [
             0.7,
             "#b8e186"
            ],
            [
             0.8,
             "#7fbc41"
            ],
            [
             0.9,
             "#4d9221"
            ],
            [
             1,
             "#276419"
            ]
           ],
           "sequential": [
            [
             0,
             "#0d0887"
            ],
            [
             0.1111111111111111,
             "#46039f"
            ],
            [
             0.2222222222222222,
             "#7201a8"
            ],
            [
             0.3333333333333333,
             "#9c179e"
            ],
            [
             0.4444444444444444,
             "#bd3786"
            ],
            [
             0.5555555555555556,
             "#d8576b"
            ],
            [
             0.6666666666666666,
             "#ed7953"
            ],
            [
             0.7777777777777778,
             "#fb9f3a"
            ],
            [
             0.8888888888888888,
             "#fdca26"
            ],
            [
             1,
             "#f0f921"
            ]
           ],
           "sequentialminus": [
            [
             0,
             "#0d0887"
            ],
            [
             0.1111111111111111,
             "#46039f"
            ],
            [
             0.2222222222222222,
             "#7201a8"
            ],
            [
             0.3333333333333333,
             "#9c179e"
            ],
            [
             0.4444444444444444,
             "#bd3786"
            ],
            [
             0.5555555555555556,
             "#d8576b"
            ],
            [
             0.6666666666666666,
             "#ed7953"
            ],
            [
             0.7777777777777778,
             "#fb9f3a"
            ],
            [
             0.8888888888888888,
             "#fdca26"
            ],
            [
             1,
             "#f0f921"
            ]
           ]
          },
          "colorway": [
           "#636efa",
           "#EF553B",
           "#00cc96",
           "#ab63fa",
           "#FFA15A",
           "#19d3f3",
           "#FF6692",
           "#B6E880",
           "#FF97FF",
           "#FECB52"
          ],
          "font": {
           "color": "#2a3f5f"
          },
          "geo": {
           "bgcolor": "white",
           "lakecolor": "white",
           "landcolor": "#E5ECF6",
           "showlakes": true,
           "showland": true,
           "subunitcolor": "white"
          },
          "hoverlabel": {
           "align": "left"
          },
          "hovermode": "closest",
          "mapbox": {
           "style": "light"
          },
          "paper_bgcolor": "white",
          "plot_bgcolor": "#E5ECF6",
          "polar": {
           "angularaxis": {
            "gridcolor": "white",
            "linecolor": "white",
            "ticks": ""
           },
           "bgcolor": "#E5ECF6",
           "radialaxis": {
            "gridcolor": "white",
            "linecolor": "white",
            "ticks": ""
           }
          },
          "scene": {
           "xaxis": {
            "backgroundcolor": "#E5ECF6",
            "gridcolor": "white",
            "gridwidth": 2,
            "linecolor": "white",
            "showbackground": true,
            "ticks": "",
            "zerolinecolor": "white"
           },
           "yaxis": {
            "backgroundcolor": "#E5ECF6",
            "gridcolor": "white",
            "gridwidth": 2,
            "linecolor": "white",
            "showbackground": true,
            "ticks": "",
            "zerolinecolor": "white"
           },
           "zaxis": {
            "backgroundcolor": "#E5ECF6",
            "gridcolor": "white",
            "gridwidth": 2,
            "linecolor": "white",
            "showbackground": true,
            "ticks": "",
            "zerolinecolor": "white"
           }
          },
          "shapedefaults": {
           "line": {
            "color": "#2a3f5f"
           }
          },
          "ternary": {
           "aaxis": {
            "gridcolor": "white",
            "linecolor": "white",
            "ticks": ""
           },
           "baxis": {
            "gridcolor": "white",
            "linecolor": "white",
            "ticks": ""
           },
           "bgcolor": "#E5ECF6",
           "caxis": {
            "gridcolor": "white",
            "linecolor": "white",
            "ticks": ""
           }
          },
          "title": {
           "x": 0.05
          },
          "xaxis": {
           "automargin": true,
           "gridcolor": "white",
           "linecolor": "white",
           "ticks": "",
           "title": {
            "standoff": 15
           },
           "zerolinecolor": "white",
           "zerolinewidth": 2
          },
          "yaxis": {
           "automargin": true,
           "gridcolor": "white",
           "linecolor": "white",
           "ticks": "",
           "title": {
            "standoff": 15
           },
           "zerolinecolor": "white",
           "zerolinewidth": 2
          }
         }
        },
        "title": {
         "text": "Categories of Startups companies in USA"
        },
        "xaxis": {
         "anchor": "y",
         "domain": [
          0,
          1
         ],
         "title": {
          "text": "Category"
         }
        },
        "yaxis": {
         "anchor": "x",
         "domain": [
          0,
          1
         ],
         "title": {
          "text": "Number of startups"
         }
        }
       }
      }
     },
     "metadata": {},
     "output_type": "display_data"
    }
   ],
   "source": [
    "categry_code_counts = main_data['category_code'].value_counts()\n",
    "df_categry_code_counts = pd.DataFrame({'category_code': categry_code_counts.index, 'count': categry_code_counts.values})\n",
    "df_categry_code_counts =df_categry_code_counts[0:9]\n",
    "\n",
    "fig = px.bar(df_categry_code_counts, x='category_code', y='count')\n",
    "fig.update_layout(\n",
    "    title='Categories of Startups companies in USA',\n",
    "    xaxis_title='Category',\n",
    "    yaxis_title='Number of startups'\n",
    ")\n",
    "fig.update_traces(marker_color=px.colors.sequential.deep[::-1], width=0.8)\n",
    "fig.show()"
   ]
  },
  {
   "attachments": {},
   "cell_type": "markdown",
   "metadata": {},
   "source": [
    "## Founds and investments"
   ]
  },
  {
   "attachments": {},
   "cell_type": "markdown",
   "metadata": {},
   "source": [
    "**founds**, **investments**, **founding_round** MANGLER!!!!!!!!"
   ]
  },
  {
   "cell_type": "code",
   "execution_count": 18,
   "metadata": {},
   "outputs": [],
   "source": [
    "#founding = "
   ]
  },
  {
   "attachments": {},
   "cell_type": "markdown",
   "metadata": {},
   "source": [
    "## Data for text and sentiment analysis"
   ]
  },
  {
   "cell_type": "code",
   "execution_count": 78,
   "metadata": {},
   "outputs": [],
   "source": [
    "text_data = pd.merge(milestones[['object_id','milestone_at', 'milestone_code', 'description']], objects[['id','status', 'category_code']], left_on='object_id', right_on='id', how='left')"
   ]
  },
  {
   "cell_type": "code",
   "execution_count": 79,
   "metadata": {},
   "outputs": [],
   "source": [
    "text_data.dropna(subset=['description', 'status'], how='any', inplace=True)\n",
    "text_data.drop(columns=['id'], inplace=True)\n",
    "# Only keep data from USA\n",
    "text_data = text_data[text_data['object_id'].isin(usa_offices['object_id'])]\n"
   ]
  },
  {
   "cell_type": "code",
   "execution_count": 80,
   "metadata": {},
   "outputs": [
    {
     "data": {
      "text/html": [
       "<div>\n",
       "<style scoped>\n",
       "    .dataframe tbody tr th:only-of-type {\n",
       "        vertical-align: middle;\n",
       "    }\n",
       "\n",
       "    .dataframe tbody tr th {\n",
       "        vertical-align: top;\n",
       "    }\n",
       "\n",
       "    .dataframe thead th {\n",
       "        text-align: right;\n",
       "    }\n",
       "</style>\n",
       "<table border=\"1\" class=\"dataframe\">\n",
       "  <thead>\n",
       "    <tr style=\"text-align: right;\">\n",
       "      <th></th>\n",
       "      <th>object_id</th>\n",
       "      <th>milestone_at</th>\n",
       "      <th>milestone_code</th>\n",
       "      <th>description</th>\n",
       "      <th>status</th>\n",
       "      <th>category_code</th>\n",
       "    </tr>\n",
       "  </thead>\n",
       "  <tbody>\n",
       "    <tr>\n",
       "      <th>0</th>\n",
       "      <td>c:12</td>\n",
       "      <td>2008-06-09</td>\n",
       "      <td>other</td>\n",
       "      <td>Survives iPhone 3G Stevenote</td>\n",
       "      <td>ipo</td>\n",
       "      <td>social</td>\n",
       "    </tr>\n",
       "    <tr>\n",
       "      <th>2</th>\n",
       "      <td>c:59</td>\n",
       "      <td>2008-06-18</td>\n",
       "      <td>other</td>\n",
       "      <td>More than 4 Billion videos viewed at Google Si...</td>\n",
       "      <td>ipo</td>\n",
       "      <td>search</td>\n",
       "    </tr>\n",
       "    <tr>\n",
       "      <th>3</th>\n",
       "      <td>c:314</td>\n",
       "      <td>2008-06-18</td>\n",
       "      <td>other</td>\n",
       "      <td>Reddit goes Open Source</td>\n",
       "      <td>acquired</td>\n",
       "      <td>web</td>\n",
       "    </tr>\n",
       "    <tr>\n",
       "      <th>4</th>\n",
       "      <td>c:314</td>\n",
       "      <td>2008-01-22</td>\n",
       "      <td>other</td>\n",
       "      <td>Adds the ability to create your own Reddits</td>\n",
       "      <td>acquired</td>\n",
       "      <td>web</td>\n",
       "    </tr>\n",
       "    <tr>\n",
       "      <th>5</th>\n",
       "      <td>c:283</td>\n",
       "      <td>2008-06-18</td>\n",
       "      <td>other</td>\n",
       "      <td>Adobe announced new content from MTV Networks,...</td>\n",
       "      <td>ipo</td>\n",
       "      <td>software</td>\n",
       "    </tr>\n",
       "    <tr>\n",
       "      <th>...</th>\n",
       "      <td>...</td>\n",
       "      <td>...</td>\n",
       "      <td>...</td>\n",
       "      <td>...</td>\n",
       "      <td>...</td>\n",
       "      <td>...</td>\n",
       "    </tr>\n",
       "    <tr>\n",
       "      <th>39444</th>\n",
       "      <td>f:15095</td>\n",
       "      <td>2013-12-05</td>\n",
       "      <td>other</td>\n",
       "      <td>\\nCapitalWorks brings Avtron Aerospace into it...</td>\n",
       "      <td>operating</td>\n",
       "      <td>NaN</td>\n",
       "    </tr>\n",
       "    <tr>\n",
       "      <th>39449</th>\n",
       "      <td>c:260812</td>\n",
       "      <td>2013-11-19</td>\n",
       "      <td>other</td>\n",
       "      <td>ManyShip is showcased at the Berkeley Entrepre...</td>\n",
       "      <td>operating</td>\n",
       "      <td>NaN</td>\n",
       "    </tr>\n",
       "    <tr>\n",
       "      <th>39452</th>\n",
       "      <td>c:59519</td>\n",
       "      <td>2013-12-12</td>\n",
       "      <td>other</td>\n",
       "      <td>miiCard builds on recent momentum and vision f...</td>\n",
       "      <td>operating</td>\n",
       "      <td>security</td>\n",
       "    </tr>\n",
       "    <tr>\n",
       "      <th>39454</th>\n",
       "      <td>f:4101</td>\n",
       "      <td>2013-12-12</td>\n",
       "      <td>other</td>\n",
       "      <td>Odyssey Investment Partners set to hit $2 bln ...</td>\n",
       "      <td>operating</td>\n",
       "      <td>NaN</td>\n",
       "    </tr>\n",
       "    <tr>\n",
       "      <th>39455</th>\n",
       "      <td>f:13852</td>\n",
       "      <td>2013-12-12</td>\n",
       "      <td>other</td>\n",
       "      <td>Ben Franklin Invests $1 Million in 13 PA Tech...</td>\n",
       "      <td>operating</td>\n",
       "      <td>NaN</td>\n",
       "    </tr>\n",
       "  </tbody>\n",
       "</table>\n",
       "<p>20042 rows × 6 columns</p>\n",
       "</div>"
      ],
      "text/plain": [
       "      object_id milestone_at milestone_code  \\\n",
       "0          c:12   2008-06-09          other   \n",
       "2          c:59   2008-06-18          other   \n",
       "3         c:314   2008-06-18          other   \n",
       "4         c:314   2008-01-22          other   \n",
       "5         c:283   2008-06-18          other   \n",
       "...         ...          ...            ...   \n",
       "39444   f:15095   2013-12-05          other   \n",
       "39449  c:260812   2013-11-19          other   \n",
       "39452   c:59519   2013-12-12          other   \n",
       "39454    f:4101   2013-12-12          other   \n",
       "39455   f:13852   2013-12-12          other   \n",
       "\n",
       "                                             description     status  \\\n",
       "0                           Survives iPhone 3G Stevenote        ipo   \n",
       "2      More than 4 Billion videos viewed at Google Si...        ipo   \n",
       "3                                Reddit goes Open Source   acquired   \n",
       "4            Adds the ability to create your own Reddits   acquired   \n",
       "5      Adobe announced new content from MTV Networks,...        ipo   \n",
       "...                                                  ...        ...   \n",
       "39444  \\nCapitalWorks brings Avtron Aerospace into it...  operating   \n",
       "39449  ManyShip is showcased at the Berkeley Entrepre...  operating   \n",
       "39452  miiCard builds on recent momentum and vision f...  operating   \n",
       "39454  Odyssey Investment Partners set to hit $2 bln ...  operating   \n",
       "39455   Ben Franklin Invests $1 Million in 13 PA Tech...  operating   \n",
       "\n",
       "      category_code  \n",
       "0            social  \n",
       "2            search  \n",
       "3               web  \n",
       "4               web  \n",
       "5          software  \n",
       "...             ...  \n",
       "39444           NaN  \n",
       "39449           NaN  \n",
       "39452      security  \n",
       "39454           NaN  \n",
       "39455           NaN  \n",
       "\n",
       "[20042 rows x 6 columns]"
      ]
     },
     "execution_count": 80,
     "metadata": {},
     "output_type": "execute_result"
    }
   ],
   "source": [
    "text_data"
   ]
  },
  {
   "attachments": {},
   "cell_type": "markdown",
   "metadata": {},
   "source": [
    "# Analysis"
   ]
  },
  {
   "cell_type": "code",
   "execution_count": 55,
   "metadata": {},
   "outputs": [
    {
     "data": {
      "application/vnd.plotly.v1+json": {
       "config": {
        "plotlyServerURL": "https://plot.ly"
       },
       "data": [
        {
         "coloraxis": "coloraxis",
         "geo": "geo",
         "hovertemplate": "country_code=%{location}<br>Number of start ups companies=%{z}<extra></extra>",
         "locationmode": "ISO-3",
         "locations": [
          "USA",
          "GBR",
          "IND",
          "CAN",
          "DEU",
          "FRA",
          "AUS",
          "ESP",
          "ISR",
          "CHN",
          "IRL",
          "NLD",
          "SWE",
          "ITA",
          "SGP",
          "BRA",
          "JPN",
          "CHE",
          "FIN",
          "RUS",
          "HKG",
          "BEL",
          "DNK",
          "ARG",
          "TUR",
          "POL",
          "ZAF",
          "ARE",
          "NOR",
          "AUT",
          "UKR",
          "KOR",
          "NZL",
          "PRT",
          "MEX",
          "ROM",
          "MYS",
          "TWN",
          "PHL",
          "CZE",
          "PAK",
          "IDN",
          "GRC",
          "CHL",
          "THA",
          "BGR",
          "EST",
          "COL",
          "LUX",
          "HUN",
          "VNM",
          "EGY",
          "NGA",
          "LTU",
          "CYP",
          "LVA",
          "KEN",
          "HRV",
          "CSS",
          "BGD",
          "ISL",
          "SAU",
          "JOR",
          "URY",
          "SVN",
          "BLR",
          "LKA",
          "SVK",
          "GHA",
          "LBN",
          "PER",
          "CYM",
          "MLT",
          "NPL",
          "PAN",
          "MUS",
          "CRI",
          "MAR",
          "ANT",
          "VEN",
          "KWT",
          "PRI",
          "QAT",
          "BHR",
          "BMU",
          "UGA",
          "MKD",
          "DOM",
          "PST",
          "UMI",
          "ALB",
          "MDA",
          "VGB",
          "TUN",
          "JAM",
          "BHS",
          "IRN",
          "GTM",
          "BRB",
          "GIB",
          "SWZ",
          "LIE",
          "KAZ",
          "PRK",
          "AFG",
          "ECU",
          "GEO",
          "MDV",
          "BIH",
          "SYC",
          "AZE",
          "OMN",
          "CMR",
          "SLV",
          "PRY",
          "ARM",
          "BOL",
          "BRN",
          "BLZ",
          "NIC",
          "MOZ",
          "MMR",
          "SEN",
          "FST",
          "KGZ",
          "AGO",
          "UZB",
          "ZWE",
          "RWA",
          "REU",
          "ATG",
          "ZMB",
          "VIR",
          "TTO",
          "TZA",
          "MDG",
          "AND",
          "HTI",
          "ARA",
          "MTQ",
          "NAM",
          "LAO",
          "KHM",
          "LBR",
          "ETH",
          "BDI",
          "VCT",
          "SLE",
          "DMA",
          "YEM",
          "SMR",
          "HND",
          "COG",
          "IOT",
          "WSM",
          "GLP",
          "MCO",
          "LBY",
          "MAC",
          "LSO",
          "GRD",
          "HMI",
          "TJK",
          "NER",
          "NRU",
          "PCN",
          "DZA",
          "BWA",
          "TLE",
          "NFK",
          "CIV",
          "AIA",
          "SUR",
          "CXI",
          "SYR",
          "SOM",
          "SDN",
          "CUB",
          "BFA",
          "IRQ",
          "BEN",
          "GIN",
          "FJI",
          "NCL"
         ],
         "name": "",
         "type": "choropleth",
         "z": [
          62991,
          9719,
          5099,
          4574,
          2768,
          2285,
          2022,
          1482,
          1429,
          1375,
          1226,
          1124,
          938,
          899,
          866,
          819,
          773,
          762,
          679,
          647,
          532,
          492,
          484,
          437,
          422,
          403,
          387,
          334,
          331,
          312,
          305,
          285,
          284,
          264,
          262,
          251,
          222,
          217,
          189,
          184,
          175,
          172,
          159,
          158,
          142,
          139,
          132,
          121,
          112,
          109,
          105,
          105,
          98,
          84,
          77,
          77,
          75,
          68,
          68,
          63,
          62,
          59,
          58,
          58,
          52,
          47,
          44,
          42,
          42,
          41,
          38,
          37,
          33,
          33,
          31,
          31,
          31,
          30,
          29,
          26,
          25,
          25,
          25,
          22,
          19,
          18,
          17,
          16,
          15,
          14,
          13,
          13,
          13,
          13,
          12,
          11,
          11,
          11,
          11,
          10,
          9,
          9,
          9,
          9,
          9,
          8,
          8,
          7,
          7,
          7,
          7,
          7,
          6,
          6,
          6,
          6,
          6,
          5,
          5,
          4,
          4,
          4,
          4,
          4,
          4,
          4,
          4,
          4,
          4,
          4,
          3,
          3,
          3,
          3,
          3,
          3,
          3,
          3,
          3,
          3,
          3,
          2,
          2,
          2,
          2,
          2,
          2,
          2,
          2,
          2,
          2,
          2,
          1,
          1,
          1,
          1,
          1,
          1,
          1,
          1,
          1,
          1,
          1,
          1,
          1,
          1,
          1,
          1,
          1,
          1,
          1,
          1,
          1,
          1,
          1,
          1,
          1,
          1,
          1,
          1,
          1,
          1,
          1,
          1
         ]
        }
       ],
       "layout": {
        "coloraxis": {
         "cmax": 62991,
         "cmin": 0,
         "colorbar": {
          "title": {
           "text": "Number of start ups companies"
          }
         },
         "colorscale": [
          [
           0,
           "rgb(253, 253, 204)"
          ],
          [
           0.09090909090909091,
           "rgb(206, 236, 179)"
          ],
          [
           0.18181818181818182,
           "rgb(156, 219, 165)"
          ],
          [
           0.2727272727272727,
           "rgb(111, 201, 163)"
          ],
          [
           0.36363636363636365,
           "rgb(86, 177, 163)"
          ],
          [
           0.45454545454545453,
           "rgb(76, 153, 160)"
          ],
          [
           0.5454545454545454,
           "rgb(68, 130, 155)"
          ],
          [
           0.6363636363636364,
           "rgb(62, 108, 150)"
          ],
          [
           0.7272727272727273,
           "rgb(62, 82, 143)"
          ],
          [
           0.8181818181818182,
           "rgb(64, 60, 115)"
          ],
          [
           0.9090909090909091,
           "rgb(54, 43, 77)"
          ],
          [
           1,
           "rgb(39, 26, 44)"
          ]
         ]
        },
        "geo": {
         "center": {},
         "domain": {
          "x": [
           0,
           1
          ],
          "y": [
           0,
           1
          ]
         },
         "projection": {
          "type": "equirectangular"
         },
         "visible": false
        },
        "legend": {
         "tracegroupgap": 0
        },
        "margin": {
         "t": 60
        },
        "template": {
         "data": {
          "bar": [
           {
            "error_x": {
             "color": "#2a3f5f"
            },
            "error_y": {
             "color": "#2a3f5f"
            },
            "marker": {
             "line": {
              "color": "#E5ECF6",
              "width": 0.5
             },
             "pattern": {
              "fillmode": "overlay",
              "size": 10,
              "solidity": 0.2
             }
            },
            "type": "bar"
           }
          ],
          "barpolar": [
           {
            "marker": {
             "line": {
              "color": "#E5ECF6",
              "width": 0.5
             },
             "pattern": {
              "fillmode": "overlay",
              "size": 10,
              "solidity": 0.2
             }
            },
            "type": "barpolar"
           }
          ],
          "carpet": [
           {
            "aaxis": {
             "endlinecolor": "#2a3f5f",
             "gridcolor": "white",
             "linecolor": "white",
             "minorgridcolor": "white",
             "startlinecolor": "#2a3f5f"
            },
            "baxis": {
             "endlinecolor": "#2a3f5f",
             "gridcolor": "white",
             "linecolor": "white",
             "minorgridcolor": "white",
             "startlinecolor": "#2a3f5f"
            },
            "type": "carpet"
           }
          ],
          "choropleth": [
           {
            "colorbar": {
             "outlinewidth": 0,
             "ticks": ""
            },
            "type": "choropleth"
           }
          ],
          "contour": [
           {
            "colorbar": {
             "outlinewidth": 0,
             "ticks": ""
            },
            "colorscale": [
             [
              0,
              "#0d0887"
             ],
             [
              0.1111111111111111,
              "#46039f"
             ],
             [
              0.2222222222222222,
              "#7201a8"
             ],
             [
              0.3333333333333333,
              "#9c179e"
             ],
             [
              0.4444444444444444,
              "#bd3786"
             ],
             [
              0.5555555555555556,
              "#d8576b"
             ],
             [
              0.6666666666666666,
              "#ed7953"
             ],
             [
              0.7777777777777778,
              "#fb9f3a"
             ],
             [
              0.8888888888888888,
              "#fdca26"
             ],
             [
              1,
              "#f0f921"
             ]
            ],
            "type": "contour"
           }
          ],
          "contourcarpet": [
           {
            "colorbar": {
             "outlinewidth": 0,
             "ticks": ""
            },
            "type": "contourcarpet"
           }
          ],
          "heatmap": [
           {
            "colorbar": {
             "outlinewidth": 0,
             "ticks": ""
            },
            "colorscale": [
             [
              0,
              "#0d0887"
             ],
             [
              0.1111111111111111,
              "#46039f"
             ],
             [
              0.2222222222222222,
              "#7201a8"
             ],
             [
              0.3333333333333333,
              "#9c179e"
             ],
             [
              0.4444444444444444,
              "#bd3786"
             ],
             [
              0.5555555555555556,
              "#d8576b"
             ],
             [
              0.6666666666666666,
              "#ed7953"
             ],
             [
              0.7777777777777778,
              "#fb9f3a"
             ],
             [
              0.8888888888888888,
              "#fdca26"
             ],
             [
              1,
              "#f0f921"
             ]
            ],
            "type": "heatmap"
           }
          ],
          "heatmapgl": [
           {
            "colorbar": {
             "outlinewidth": 0,
             "ticks": ""
            },
            "colorscale": [
             [
              0,
              "#0d0887"
             ],
             [
              0.1111111111111111,
              "#46039f"
             ],
             [
              0.2222222222222222,
              "#7201a8"
             ],
             [
              0.3333333333333333,
              "#9c179e"
             ],
             [
              0.4444444444444444,
              "#bd3786"
             ],
             [
              0.5555555555555556,
              "#d8576b"
             ],
             [
              0.6666666666666666,
              "#ed7953"
             ],
             [
              0.7777777777777778,
              "#fb9f3a"
             ],
             [
              0.8888888888888888,
              "#fdca26"
             ],
             [
              1,
              "#f0f921"
             ]
            ],
            "type": "heatmapgl"
           }
          ],
          "histogram": [
           {
            "marker": {
             "pattern": {
              "fillmode": "overlay",
              "size": 10,
              "solidity": 0.2
             }
            },
            "type": "histogram"
           }
          ],
          "histogram2d": [
           {
            "colorbar": {
             "outlinewidth": 0,
             "ticks": ""
            },
            "colorscale": [
             [
              0,
              "#0d0887"
             ],
             [
              0.1111111111111111,
              "#46039f"
             ],
             [
              0.2222222222222222,
              "#7201a8"
             ],
             [
              0.3333333333333333,
              "#9c179e"
             ],
             [
              0.4444444444444444,
              "#bd3786"
             ],
             [
              0.5555555555555556,
              "#d8576b"
             ],
             [
              0.6666666666666666,
              "#ed7953"
             ],
             [
              0.7777777777777778,
              "#fb9f3a"
             ],
             [
              0.8888888888888888,
              "#fdca26"
             ],
             [
              1,
              "#f0f921"
             ]
            ],
            "type": "histogram2d"
           }
          ],
          "histogram2dcontour": [
           {
            "colorbar": {
             "outlinewidth": 0,
             "ticks": ""
            },
            "colorscale": [
             [
              0,
              "#0d0887"
             ],
             [
              0.1111111111111111,
              "#46039f"
             ],
             [
              0.2222222222222222,
              "#7201a8"
             ],
             [
              0.3333333333333333,
              "#9c179e"
             ],
             [
              0.4444444444444444,
              "#bd3786"
             ],
             [
              0.5555555555555556,
              "#d8576b"
             ],
             [
              0.6666666666666666,
              "#ed7953"
             ],
             [
              0.7777777777777778,
              "#fb9f3a"
             ],
             [
              0.8888888888888888,
              "#fdca26"
             ],
             [
              1,
              "#f0f921"
             ]
            ],
            "type": "histogram2dcontour"
           }
          ],
          "mesh3d": [
           {
            "colorbar": {
             "outlinewidth": 0,
             "ticks": ""
            },
            "type": "mesh3d"
           }
          ],
          "parcoords": [
           {
            "line": {
             "colorbar": {
              "outlinewidth": 0,
              "ticks": ""
             }
            },
            "type": "parcoords"
           }
          ],
          "pie": [
           {
            "automargin": true,
            "type": "pie"
           }
          ],
          "scatter": [
           {
            "fillpattern": {
             "fillmode": "overlay",
             "size": 10,
             "solidity": 0.2
            },
            "type": "scatter"
           }
          ],
          "scatter3d": [
           {
            "line": {
             "colorbar": {
              "outlinewidth": 0,
              "ticks": ""
             }
            },
            "marker": {
             "colorbar": {
              "outlinewidth": 0,
              "ticks": ""
             }
            },
            "type": "scatter3d"
           }
          ],
          "scattercarpet": [
           {
            "marker": {
             "colorbar": {
              "outlinewidth": 0,
              "ticks": ""
             }
            },
            "type": "scattercarpet"
           }
          ],
          "scattergeo": [
           {
            "marker": {
             "colorbar": {
              "outlinewidth": 0,
              "ticks": ""
             }
            },
            "type": "scattergeo"
           }
          ],
          "scattergl": [
           {
            "marker": {
             "colorbar": {
              "outlinewidth": 0,
              "ticks": ""
             }
            },
            "type": "scattergl"
           }
          ],
          "scattermapbox": [
           {
            "marker": {
             "colorbar": {
              "outlinewidth": 0,
              "ticks": ""
             }
            },
            "type": "scattermapbox"
           }
          ],
          "scatterpolar": [
           {
            "marker": {
             "colorbar": {
              "outlinewidth": 0,
              "ticks": ""
             }
            },
            "type": "scatterpolar"
           }
          ],
          "scatterpolargl": [
           {
            "marker": {
             "colorbar": {
              "outlinewidth": 0,
              "ticks": ""
             }
            },
            "type": "scatterpolargl"
           }
          ],
          "scatterternary": [
           {
            "marker": {
             "colorbar": {
              "outlinewidth": 0,
              "ticks": ""
             }
            },
            "type": "scatterternary"
           }
          ],
          "surface": [
           {
            "colorbar": {
             "outlinewidth": 0,
             "ticks": ""
            },
            "colorscale": [
             [
              0,
              "#0d0887"
             ],
             [
              0.1111111111111111,
              "#46039f"
             ],
             [
              0.2222222222222222,
              "#7201a8"
             ],
             [
              0.3333333333333333,
              "#9c179e"
             ],
             [
              0.4444444444444444,
              "#bd3786"
             ],
             [
              0.5555555555555556,
              "#d8576b"
             ],
             [
              0.6666666666666666,
              "#ed7953"
             ],
             [
              0.7777777777777778,
              "#fb9f3a"
             ],
             [
              0.8888888888888888,
              "#fdca26"
             ],
             [
              1,
              "#f0f921"
             ]
            ],
            "type": "surface"
           }
          ],
          "table": [
           {
            "cells": {
             "fill": {
              "color": "#EBF0F8"
             },
             "line": {
              "color": "white"
             }
            },
            "header": {
             "fill": {
              "color": "#C8D4E3"
             },
             "line": {
              "color": "white"
             }
            },
            "type": "table"
           }
          ]
         },
         "layout": {
          "annotationdefaults": {
           "arrowcolor": "#2a3f5f",
           "arrowhead": 0,
           "arrowwidth": 1
          },
          "autotypenumbers": "strict",
          "coloraxis": {
           "colorbar": {
            "outlinewidth": 0,
            "ticks": ""
           }
          },
          "colorscale": {
           "diverging": [
            [
             0,
             "#8e0152"
            ],
            [
             0.1,
             "#c51b7d"
            ],
            [
             0.2,
             "#de77ae"
            ],
            [
             0.3,
             "#f1b6da"
            ],
            [
             0.4,
             "#fde0ef"
            ],
            [
             0.5,
             "#f7f7f7"
            ],
            [
             0.6,
             "#e6f5d0"
            ],
            [
             0.7,
             "#b8e186"
            ],
            [
             0.8,
             "#7fbc41"
            ],
            [
             0.9,
             "#4d9221"
            ],
            [
             1,
             "#276419"
            ]
           ],
           "sequential": [
            [
             0,
             "#0d0887"
            ],
            [
             0.1111111111111111,
             "#46039f"
            ],
            [
             0.2222222222222222,
             "#7201a8"
            ],
            [
             0.3333333333333333,
             "#9c179e"
            ],
            [
             0.4444444444444444,
             "#bd3786"
            ],
            [
             0.5555555555555556,
             "#d8576b"
            ],
            [
             0.6666666666666666,
             "#ed7953"
            ],
            [
             0.7777777777777778,
             "#fb9f3a"
            ],
            [
             0.8888888888888888,
             "#fdca26"
            ],
            [
             1,
             "#f0f921"
            ]
           ],
           "sequentialminus": [
            [
             0,
             "#0d0887"
            ],
            [
             0.1111111111111111,
             "#46039f"
            ],
            [
             0.2222222222222222,
             "#7201a8"
            ],
            [
             0.3333333333333333,
             "#9c179e"
            ],
            [
             0.4444444444444444,
             "#bd3786"
            ],
            [
             0.5555555555555556,
             "#d8576b"
            ],
            [
             0.6666666666666666,
             "#ed7953"
            ],
            [
             0.7777777777777778,
             "#fb9f3a"
            ],
            [
             0.8888888888888888,
             "#fdca26"
            ],
            [
             1,
             "#f0f921"
            ]
           ]
          },
          "colorway": [
           "#636efa",
           "#EF553B",
           "#00cc96",
           "#ab63fa",
           "#FFA15A",
           "#19d3f3",
           "#FF6692",
           "#B6E880",
           "#FF97FF",
           "#FECB52"
          ],
          "font": {
           "color": "#2a3f5f"
          },
          "geo": {
           "bgcolor": "white",
           "lakecolor": "white",
           "landcolor": "#E5ECF6",
           "showlakes": true,
           "showland": true,
           "subunitcolor": "white"
          },
          "hoverlabel": {
           "align": "left"
          },
          "hovermode": "closest",
          "mapbox": {
           "style": "light"
          },
          "paper_bgcolor": "white",
          "plot_bgcolor": "#E5ECF6",
          "polar": {
           "angularaxis": {
            "gridcolor": "white",
            "linecolor": "white",
            "ticks": ""
           },
           "bgcolor": "#E5ECF6",
           "radialaxis": {
            "gridcolor": "white",
            "linecolor": "white",
            "ticks": ""
           }
          },
          "scene": {
           "xaxis": {
            "backgroundcolor": "#E5ECF6",
            "gridcolor": "white",
            "gridwidth": 2,
            "linecolor": "white",
            "showbackground": true,
            "ticks": "",
            "zerolinecolor": "white"
           },
           "yaxis": {
            "backgroundcolor": "#E5ECF6",
            "gridcolor": "white",
            "gridwidth": 2,
            "linecolor": "white",
            "showbackground": true,
            "ticks": "",
            "zerolinecolor": "white"
           },
           "zaxis": {
            "backgroundcolor": "#E5ECF6",
            "gridcolor": "white",
            "gridwidth": 2,
            "linecolor": "white",
            "showbackground": true,
            "ticks": "",
            "zerolinecolor": "white"
           }
          },
          "shapedefaults": {
           "line": {
            "color": "#2a3f5f"
           }
          },
          "ternary": {
           "aaxis": {
            "gridcolor": "white",
            "linecolor": "white",
            "ticks": ""
           },
           "baxis": {
            "gridcolor": "white",
            "linecolor": "white",
            "ticks": ""
           },
           "bgcolor": "#E5ECF6",
           "caxis": {
            "gridcolor": "white",
            "linecolor": "white",
            "ticks": ""
           }
          },
          "title": {
           "x": 0.05
          },
          "xaxis": {
           "automargin": true,
           "gridcolor": "white",
           "linecolor": "white",
           "ticks": "",
           "title": {
            "standoff": 15
           },
           "zerolinecolor": "white",
           "zerolinewidth": 2
          },
          "yaxis": {
           "automargin": true,
           "gridcolor": "white",
           "linecolor": "white",
           "ticks": "",
           "title": {
            "standoff": 15
           },
           "zerolinecolor": "white",
           "zerolinewidth": 2
          }
         }
        },
        "title": {
         "text": "Number of start ups by contry"
        }
       }
      }
     },
     "metadata": {},
     "output_type": "display_data"
    }
   ],
   "source": [
    "state_counts = offices['country_code'].value_counts().reset_index()\n",
    "state_counts.columns = ['country_code', 'count']\n",
    "fig = px.choropleth(state_counts, locations='country_code', color='count',\n",
    "                    locationmode='ISO-3',\n",
    "                    color_continuous_scale='Deep',\n",
    "                    range_color=(0, state_counts['count'].max()),\n",
    "                    labels={'count': 'Number of start ups companies'})\n",
    "\n",
    "fig.update_layout(title_text='Number of start ups by contry')\n",
    "\n",
    "fig.update_geos(\n",
    "    visible=False,\n",
    "    projection=dict(type='equirectangular')\n",
    ")\n",
    "\n",
    "fig.show()"
   ]
  },
  {
   "cell_type": "code",
   "execution_count": 56,
   "metadata": {},
   "outputs": [
    {
     "data": {
      "application/vnd.plotly.v1+json": {
       "config": {
        "plotlyServerURL": "https://plot.ly"
       },
       "data": [
        {
         "coloraxis": "coloraxis",
         "geo": "geo",
         "hovertemplate": "state_code=%{location}<br>Number of startups=%{z}<extra></extra>",
         "locationmode": "USA-states",
         "locations": [
          "CA",
          "NY",
          "MA",
          "TX",
          "FL",
          "WA",
          "IL",
          "PA",
          "NJ",
          "CO",
          "GA",
          "VA",
          "NC",
          "MD",
          "OH",
          "AZ",
          "MI",
          "MN",
          "CT",
          "OR",
          "UT",
          "TN",
          "NV",
          "DC",
          "MO",
          "WI",
          "IN",
          "KY",
          "NH",
          "SC",
          "DE",
          "AL",
          "KS",
          "RI",
          "OK",
          "LA",
          "NE",
          "IA",
          "ME",
          "ID",
          "NM",
          "VT",
          "AR",
          "HI",
          "MT",
          "MS",
          "ND",
          "WV",
          "SD",
          "WY",
          "AK"
         ],
         "name": "",
         "type": "choropleth",
         "z": [
          19672,
          7666,
          3588,
          3419,
          2580,
          2193,
          2189,
          1598,
          1417,
          1391,
          1386,
          1369,
          1003,
          926,
          919,
          879,
          802,
          751,
          743,
          690,
          651,
          651,
          484,
          483,
          460,
          402,
          395,
          247,
          243,
          234,
          216,
          203,
          194,
          178,
          167,
          159,
          148,
          128,
          117,
          116,
          107,
          104,
          99,
          94,
          78,
          49,
          35,
          30,
          29,
          25,
          15
         ]
        }
       ],
       "layout": {
        "coloraxis": {
         "cmax": 19672,
         "cmin": 0,
         "colorbar": {
          "title": {
           "text": "Number of startups"
          }
         },
         "colorscale": [
          [
           0,
           "rgb(253, 253, 204)"
          ],
          [
           0.09090909090909091,
           "rgb(206, 236, 179)"
          ],
          [
           0.18181818181818182,
           "rgb(156, 219, 165)"
          ],
          [
           0.2727272727272727,
           "rgb(111, 201, 163)"
          ],
          [
           0.36363636363636365,
           "rgb(86, 177, 163)"
          ],
          [
           0.45454545454545453,
           "rgb(76, 153, 160)"
          ],
          [
           0.5454545454545454,
           "rgb(68, 130, 155)"
          ],
          [
           0.6363636363636364,
           "rgb(62, 108, 150)"
          ],
          [
           0.7272727272727273,
           "rgb(62, 82, 143)"
          ],
          [
           0.8181818181818182,
           "rgb(64, 60, 115)"
          ],
          [
           0.9090909090909091,
           "rgb(54, 43, 77)"
          ],
          [
           1,
           "rgb(39, 26, 44)"
          ]
         ]
        },
        "geo": {
         "center": {},
         "domain": {
          "x": [
           0,
           1
          ],
          "y": [
           0,
           1
          ]
         },
         "scope": "usa"
        },
        "legend": {
         "tracegroupgap": 0
        },
        "margin": {
         "t": 60
        },
        "template": {
         "data": {
          "bar": [
           {
            "error_x": {
             "color": "#2a3f5f"
            },
            "error_y": {
             "color": "#2a3f5f"
            },
            "marker": {
             "line": {
              "color": "#E5ECF6",
              "width": 0.5
             },
             "pattern": {
              "fillmode": "overlay",
              "size": 10,
              "solidity": 0.2
             }
            },
            "type": "bar"
           }
          ],
          "barpolar": [
           {
            "marker": {
             "line": {
              "color": "#E5ECF6",
              "width": 0.5
             },
             "pattern": {
              "fillmode": "overlay",
              "size": 10,
              "solidity": 0.2
             }
            },
            "type": "barpolar"
           }
          ],
          "carpet": [
           {
            "aaxis": {
             "endlinecolor": "#2a3f5f",
             "gridcolor": "white",
             "linecolor": "white",
             "minorgridcolor": "white",
             "startlinecolor": "#2a3f5f"
            },
            "baxis": {
             "endlinecolor": "#2a3f5f",
             "gridcolor": "white",
             "linecolor": "white",
             "minorgridcolor": "white",
             "startlinecolor": "#2a3f5f"
            },
            "type": "carpet"
           }
          ],
          "choropleth": [
           {
            "colorbar": {
             "outlinewidth": 0,
             "ticks": ""
            },
            "type": "choropleth"
           }
          ],
          "contour": [
           {
            "colorbar": {
             "outlinewidth": 0,
             "ticks": ""
            },
            "colorscale": [
             [
              0,
              "#0d0887"
             ],
             [
              0.1111111111111111,
              "#46039f"
             ],
             [
              0.2222222222222222,
              "#7201a8"
             ],
             [
              0.3333333333333333,
              "#9c179e"
             ],
             [
              0.4444444444444444,
              "#bd3786"
             ],
             [
              0.5555555555555556,
              "#d8576b"
             ],
             [
              0.6666666666666666,
              "#ed7953"
             ],
             [
              0.7777777777777778,
              "#fb9f3a"
             ],
             [
              0.8888888888888888,
              "#fdca26"
             ],
             [
              1,
              "#f0f921"
             ]
            ],
            "type": "contour"
           }
          ],
          "contourcarpet": [
           {
            "colorbar": {
             "outlinewidth": 0,
             "ticks": ""
            },
            "type": "contourcarpet"
           }
          ],
          "heatmap": [
           {
            "colorbar": {
             "outlinewidth": 0,
             "ticks": ""
            },
            "colorscale": [
             [
              0,
              "#0d0887"
             ],
             [
              0.1111111111111111,
              "#46039f"
             ],
             [
              0.2222222222222222,
              "#7201a8"
             ],
             [
              0.3333333333333333,
              "#9c179e"
             ],
             [
              0.4444444444444444,
              "#bd3786"
             ],
             [
              0.5555555555555556,
              "#d8576b"
             ],
             [
              0.6666666666666666,
              "#ed7953"
             ],
             [
              0.7777777777777778,
              "#fb9f3a"
             ],
             [
              0.8888888888888888,
              "#fdca26"
             ],
             [
              1,
              "#f0f921"
             ]
            ],
            "type": "heatmap"
           }
          ],
          "heatmapgl": [
           {
            "colorbar": {
             "outlinewidth": 0,
             "ticks": ""
            },
            "colorscale": [
             [
              0,
              "#0d0887"
             ],
             [
              0.1111111111111111,
              "#46039f"
             ],
             [
              0.2222222222222222,
              "#7201a8"
             ],
             [
              0.3333333333333333,
              "#9c179e"
             ],
             [
              0.4444444444444444,
              "#bd3786"
             ],
             [
              0.5555555555555556,
              "#d8576b"
             ],
             [
              0.6666666666666666,
              "#ed7953"
             ],
             [
              0.7777777777777778,
              "#fb9f3a"
             ],
             [
              0.8888888888888888,
              "#fdca26"
             ],
             [
              1,
              "#f0f921"
             ]
            ],
            "type": "heatmapgl"
           }
          ],
          "histogram": [
           {
            "marker": {
             "pattern": {
              "fillmode": "overlay",
              "size": 10,
              "solidity": 0.2
             }
            },
            "type": "histogram"
           }
          ],
          "histogram2d": [
           {
            "colorbar": {
             "outlinewidth": 0,
             "ticks": ""
            },
            "colorscale": [
             [
              0,
              "#0d0887"
             ],
             [
              0.1111111111111111,
              "#46039f"
             ],
             [
              0.2222222222222222,
              "#7201a8"
             ],
             [
              0.3333333333333333,
              "#9c179e"
             ],
             [
              0.4444444444444444,
              "#bd3786"
             ],
             [
              0.5555555555555556,
              "#d8576b"
             ],
             [
              0.6666666666666666,
              "#ed7953"
             ],
             [
              0.7777777777777778,
              "#fb9f3a"
             ],
             [
              0.8888888888888888,
              "#fdca26"
             ],
             [
              1,
              "#f0f921"
             ]
            ],
            "type": "histogram2d"
           }
          ],
          "histogram2dcontour": [
           {
            "colorbar": {
             "outlinewidth": 0,
             "ticks": ""
            },
            "colorscale": [
             [
              0,
              "#0d0887"
             ],
             [
              0.1111111111111111,
              "#46039f"
             ],
             [
              0.2222222222222222,
              "#7201a8"
             ],
             [
              0.3333333333333333,
              "#9c179e"
             ],
             [
              0.4444444444444444,
              "#bd3786"
             ],
             [
              0.5555555555555556,
              "#d8576b"
             ],
             [
              0.6666666666666666,
              "#ed7953"
             ],
             [
              0.7777777777777778,
              "#fb9f3a"
             ],
             [
              0.8888888888888888,
              "#fdca26"
             ],
             [
              1,
              "#f0f921"
             ]
            ],
            "type": "histogram2dcontour"
           }
          ],
          "mesh3d": [
           {
            "colorbar": {
             "outlinewidth": 0,
             "ticks": ""
            },
            "type": "mesh3d"
           }
          ],
          "parcoords": [
           {
            "line": {
             "colorbar": {
              "outlinewidth": 0,
              "ticks": ""
             }
            },
            "type": "parcoords"
           }
          ],
          "pie": [
           {
            "automargin": true,
            "type": "pie"
           }
          ],
          "scatter": [
           {
            "fillpattern": {
             "fillmode": "overlay",
             "size": 10,
             "solidity": 0.2
            },
            "type": "scatter"
           }
          ],
          "scatter3d": [
           {
            "line": {
             "colorbar": {
              "outlinewidth": 0,
              "ticks": ""
             }
            },
            "marker": {
             "colorbar": {
              "outlinewidth": 0,
              "ticks": ""
             }
            },
            "type": "scatter3d"
           }
          ],
          "scattercarpet": [
           {
            "marker": {
             "colorbar": {
              "outlinewidth": 0,
              "ticks": ""
             }
            },
            "type": "scattercarpet"
           }
          ],
          "scattergeo": [
           {
            "marker": {
             "colorbar": {
              "outlinewidth": 0,
              "ticks": ""
             }
            },
            "type": "scattergeo"
           }
          ],
          "scattergl": [
           {
            "marker": {
             "colorbar": {
              "outlinewidth": 0,
              "ticks": ""
             }
            },
            "type": "scattergl"
           }
          ],
          "scattermapbox": [
           {
            "marker": {
             "colorbar": {
              "outlinewidth": 0,
              "ticks": ""
             }
            },
            "type": "scattermapbox"
           }
          ],
          "scatterpolar": [
           {
            "marker": {
             "colorbar": {
              "outlinewidth": 0,
              "ticks": ""
             }
            },
            "type": "scatterpolar"
           }
          ],
          "scatterpolargl": [
           {
            "marker": {
             "colorbar": {
              "outlinewidth": 0,
              "ticks": ""
             }
            },
            "type": "scatterpolargl"
           }
          ],
          "scatterternary": [
           {
            "marker": {
             "colorbar": {
              "outlinewidth": 0,
              "ticks": ""
             }
            },
            "type": "scatterternary"
           }
          ],
          "surface": [
           {
            "colorbar": {
             "outlinewidth": 0,
             "ticks": ""
            },
            "colorscale": [
             [
              0,
              "#0d0887"
             ],
             [
              0.1111111111111111,
              "#46039f"
             ],
             [
              0.2222222222222222,
              "#7201a8"
             ],
             [
              0.3333333333333333,
              "#9c179e"
             ],
             [
              0.4444444444444444,
              "#bd3786"
             ],
             [
              0.5555555555555556,
              "#d8576b"
             ],
             [
              0.6666666666666666,
              "#ed7953"
             ],
             [
              0.7777777777777778,
              "#fb9f3a"
             ],
             [
              0.8888888888888888,
              "#fdca26"
             ],
             [
              1,
              "#f0f921"
             ]
            ],
            "type": "surface"
           }
          ],
          "table": [
           {
            "cells": {
             "fill": {
              "color": "#EBF0F8"
             },
             "line": {
              "color": "white"
             }
            },
            "header": {
             "fill": {
              "color": "#C8D4E3"
             },
             "line": {
              "color": "white"
             }
            },
            "type": "table"
           }
          ]
         },
         "layout": {
          "annotationdefaults": {
           "arrowcolor": "#2a3f5f",
           "arrowhead": 0,
           "arrowwidth": 1
          },
          "autotypenumbers": "strict",
          "coloraxis": {
           "colorbar": {
            "outlinewidth": 0,
            "ticks": ""
           }
          },
          "colorscale": {
           "diverging": [
            [
             0,
             "#8e0152"
            ],
            [
             0.1,
             "#c51b7d"
            ],
            [
             0.2,
             "#de77ae"
            ],
            [
             0.3,
             "#f1b6da"
            ],
            [
             0.4,
             "#fde0ef"
            ],
            [
             0.5,
             "#f7f7f7"
            ],
            [
             0.6,
             "#e6f5d0"
            ],
            [
             0.7,
             "#b8e186"
            ],
            [
             0.8,
             "#7fbc41"
            ],
            [
             0.9,
             "#4d9221"
            ],
            [
             1,
             "#276419"
            ]
           ],
           "sequential": [
            [
             0,
             "#0d0887"
            ],
            [
             0.1111111111111111,
             "#46039f"
            ],
            [
             0.2222222222222222,
             "#7201a8"
            ],
            [
             0.3333333333333333,
             "#9c179e"
            ],
            [
             0.4444444444444444,
             "#bd3786"
            ],
            [
             0.5555555555555556,
             "#d8576b"
            ],
            [
             0.6666666666666666,
             "#ed7953"
            ],
            [
             0.7777777777777778,
             "#fb9f3a"
            ],
            [
             0.8888888888888888,
             "#fdca26"
            ],
            [
             1,
             "#f0f921"
            ]
           ],
           "sequentialminus": [
            [
             0,
             "#0d0887"
            ],
            [
             0.1111111111111111,
             "#46039f"
            ],
            [
             0.2222222222222222,
             "#7201a8"
            ],
            [
             0.3333333333333333,
             "#9c179e"
            ],
            [
             0.4444444444444444,
             "#bd3786"
            ],
            [
             0.5555555555555556,
             "#d8576b"
            ],
            [
             0.6666666666666666,
             "#ed7953"
            ],
            [
             0.7777777777777778,
             "#fb9f3a"
            ],
            [
             0.8888888888888888,
             "#fdca26"
            ],
            [
             1,
             "#f0f921"
            ]
           ]
          },
          "colorway": [
           "#636efa",
           "#EF553B",
           "#00cc96",
           "#ab63fa",
           "#FFA15A",
           "#19d3f3",
           "#FF6692",
           "#B6E880",
           "#FF97FF",
           "#FECB52"
          ],
          "font": {
           "color": "#2a3f5f"
          },
          "geo": {
           "bgcolor": "white",
           "lakecolor": "white",
           "landcolor": "#E5ECF6",
           "showlakes": true,
           "showland": true,
           "subunitcolor": "white"
          },
          "hoverlabel": {
           "align": "left"
          },
          "hovermode": "closest",
          "mapbox": {
           "style": "light"
          },
          "paper_bgcolor": "white",
          "plot_bgcolor": "#E5ECF6",
          "polar": {
           "angularaxis": {
            "gridcolor": "white",
            "linecolor": "white",
            "ticks": ""
           },
           "bgcolor": "#E5ECF6",
           "radialaxis": {
            "gridcolor": "white",
            "linecolor": "white",
            "ticks": ""
           }
          },
          "scene": {
           "xaxis": {
            "backgroundcolor": "#E5ECF6",
            "gridcolor": "white",
            "gridwidth": 2,
            "linecolor": "white",
            "showbackground": true,
            "ticks": "",
            "zerolinecolor": "white"
           },
           "yaxis": {
            "backgroundcolor": "#E5ECF6",
            "gridcolor": "white",
            "gridwidth": 2,
            "linecolor": "white",
            "showbackground": true,
            "ticks": "",
            "zerolinecolor": "white"
           },
           "zaxis": {
            "backgroundcolor": "#E5ECF6",
            "gridcolor": "white",
            "gridwidth": 2,
            "linecolor": "white",
            "showbackground": true,
            "ticks": "",
            "zerolinecolor": "white"
           }
          },
          "shapedefaults": {
           "line": {
            "color": "#2a3f5f"
           }
          },
          "ternary": {
           "aaxis": {
            "gridcolor": "white",
            "linecolor": "white",
            "ticks": ""
           },
           "baxis": {
            "gridcolor": "white",
            "linecolor": "white",
            "ticks": ""
           },
           "bgcolor": "#E5ECF6",
           "caxis": {
            "gridcolor": "white",
            "linecolor": "white",
            "ticks": ""
           }
          },
          "title": {
           "x": 0.05
          },
          "xaxis": {
           "automargin": true,
           "gridcolor": "white",
           "linecolor": "white",
           "ticks": "",
           "title": {
            "standoff": 15
           },
           "zerolinecolor": "white",
           "zerolinewidth": 2
          },
          "yaxis": {
           "automargin": true,
           "gridcolor": "white",
           "linecolor": "white",
           "ticks": "",
           "title": {
            "standoff": 15
           },
           "zerolinecolor": "white",
           "zerolinewidth": 2
          }
         }
        },
        "title": {
         "text": "Number of fires by State"
        }
       }
      }
     },
     "metadata": {},
     "output_type": "display_data"
    }
   ],
   "source": [
    "state_counts = usa_offices['state_code'].value_counts().reset_index()\n",
    "state_counts.columns = ['state_code', 'count']\n",
    "fig = px.choropleth(state_counts, locations='state_code', color='count',\n",
    "                    locationmode='USA-states', scope='usa',\n",
    "                    color_continuous_scale='Deep',\n",
    "                    range_color=(0, state_counts['count'].max()),\n",
    "                    labels={'count': 'Number of startups'})\n",
    "fig.update_layout(title_text='Number of fires by State')\n",
    "fig.show()"
   ]
  },
  {
   "attachments": {},
   "cell_type": "markdown",
   "metadata": {},
   "source": [
    "## Heatmap"
   ]
  },
  {
   "attachments": {},
   "cell_type": "markdown",
   "metadata": {},
   "source": [
    "### Data to be used in the map\n",
    "\n",
    "For this purpose, empty rows must be removed as well as rows with errors in longitude and latitude"
   ]
  },
  {
   "cell_type": "code",
   "execution_count": 22,
   "metadata": {},
   "outputs": [
    {
     "data": {
      "text/html": [
       "<div>\n",
       "<style scoped>\n",
       "    .dataframe tbody tr th:only-of-type {\n",
       "        vertical-align: middle;\n",
       "    }\n",
       "\n",
       "    .dataframe tbody tr th {\n",
       "        vertical-align: top;\n",
       "    }\n",
       "\n",
       "    .dataframe thead th {\n",
       "        text-align: right;\n",
       "    }\n",
       "</style>\n",
       "<table border=\"1\" class=\"dataframe\">\n",
       "  <thead>\n",
       "    <tr style=\"text-align: right;\">\n",
       "      <th></th>\n",
       "      <th>id</th>\n",
       "      <th>object_id</th>\n",
       "      <th>office_id</th>\n",
       "      <th>region</th>\n",
       "      <th>city</th>\n",
       "      <th>state_code</th>\n",
       "      <th>latitude</th>\n",
       "      <th>longitude</th>\n",
       "      <th>id_x</th>\n",
       "      <th>founded_at</th>\n",
       "      <th>funding_total_usd</th>\n",
       "      <th>name</th>\n",
       "    </tr>\n",
       "  </thead>\n",
       "  <tbody>\n",
       "    <tr>\n",
       "      <th>0</th>\n",
       "      <td>1</td>\n",
       "      <td>c:1</td>\n",
       "      <td>1</td>\n",
       "      <td>Seattle</td>\n",
       "      <td>Seattle</td>\n",
       "      <td>WA</td>\n",
       "      <td>47.603122</td>\n",
       "      <td>-122.333253</td>\n",
       "      <td>c:1</td>\n",
       "      <td>2005-10-17</td>\n",
       "      <td>3.975000e+07</td>\n",
       "      <td>Wetpaint</td>\n",
       "    </tr>\n",
       "    <tr>\n",
       "      <th>2</th>\n",
       "      <td>3</td>\n",
       "      <td>c:4</td>\n",
       "      <td>4</td>\n",
       "      <td>SF Bay</td>\n",
       "      <td>San Francisco</td>\n",
       "      <td>CA</td>\n",
       "      <td>37.764726</td>\n",
       "      <td>-122.394523</td>\n",
       "      <td>c:4</td>\n",
       "      <td>2004-10-11</td>\n",
       "      <td>4.500000e+07</td>\n",
       "      <td>Digg</td>\n",
       "    </tr>\n",
       "    <tr>\n",
       "      <th>3</th>\n",
       "      <td>4</td>\n",
       "      <td>c:5</td>\n",
       "      <td>5</td>\n",
       "      <td>SF Bay</td>\n",
       "      <td>Menlo Park</td>\n",
       "      <td>CA</td>\n",
       "      <td>37.416050</td>\n",
       "      <td>-122.151801</td>\n",
       "      <td>c:5</td>\n",
       "      <td>2004-02-01</td>\n",
       "      <td>2.425700e+09</td>\n",
       "      <td>Facebook</td>\n",
       "    </tr>\n",
       "    <tr>\n",
       "      <th>5</th>\n",
       "      <td>7</td>\n",
       "      <td>c:9</td>\n",
       "      <td>9</td>\n",
       "      <td>Los Angeles</td>\n",
       "      <td>West Hollywood</td>\n",
       "      <td>CA</td>\n",
       "      <td>34.090368</td>\n",
       "      <td>-118.393064</td>\n",
       "      <td>c:9</td>\n",
       "      <td>2006-06-01</td>\n",
       "      <td>1.650000e+07</td>\n",
       "      <td>Geni</td>\n",
       "    </tr>\n",
       "    <tr>\n",
       "      <th>8</th>\n",
       "      <td>10</td>\n",
       "      <td>c:12</td>\n",
       "      <td>12</td>\n",
       "      <td>SF Bay</td>\n",
       "      <td>San Francisco</td>\n",
       "      <td>CA</td>\n",
       "      <td>37.776805</td>\n",
       "      <td>-122.416924</td>\n",
       "      <td>c:12</td>\n",
       "      <td>2006-03-21</td>\n",
       "      <td>1.160167e+09</td>\n",
       "      <td>Twitter</td>\n",
       "    </tr>\n",
       "    <tr>\n",
       "      <th>...</th>\n",
       "      <td>...</td>\n",
       "      <td>...</td>\n",
       "      <td>...</td>\n",
       "      <td>...</td>\n",
       "      <td>...</td>\n",
       "      <td>...</td>\n",
       "      <td>...</td>\n",
       "      <td>...</td>\n",
       "      <td>...</td>\n",
       "      <td>...</td>\n",
       "      <td>...</td>\n",
       "      <td>...</td>\n",
       "    </tr>\n",
       "    <tr>\n",
       "      <th>20188</th>\n",
       "      <td>101491</td>\n",
       "      <td>c:262931</td>\n",
       "      <td>115973</td>\n",
       "      <td>San Diego</td>\n",
       "      <td>San Diego</td>\n",
       "      <td>CA</td>\n",
       "      <td>32.907899</td>\n",
       "      <td>-117.187637</td>\n",
       "      <td>c:262931</td>\n",
       "      <td>NaN</td>\n",
       "      <td>1.680000e+06</td>\n",
       "      <td>Trex Enterprises</td>\n",
       "    </tr>\n",
       "    <tr>\n",
       "      <th>20189</th>\n",
       "      <td>101493</td>\n",
       "      <td>c:233352</td>\n",
       "      <td>115975</td>\n",
       "      <td>SF Bay</td>\n",
       "      <td>San Francisco</td>\n",
       "      <td>CA</td>\n",
       "      <td>37.773570</td>\n",
       "      <td>-122.415787</td>\n",
       "      <td>c:233352</td>\n",
       "      <td>2011-01-01</td>\n",
       "      <td>2.000000e+05</td>\n",
       "      <td>Attendify</td>\n",
       "    </tr>\n",
       "    <tr>\n",
       "      <th>20212</th>\n",
       "      <td>101555</td>\n",
       "      <td>c:263050</td>\n",
       "      <td>116042</td>\n",
       "      <td>Atlanta</td>\n",
       "      <td>Atlanta</td>\n",
       "      <td>GA</td>\n",
       "      <td>33.863183</td>\n",
       "      <td>-84.478702</td>\n",
       "      <td>c:263050</td>\n",
       "      <td>2012-02-05</td>\n",
       "      <td>1.350000e+05</td>\n",
       "      <td>Stroho</td>\n",
       "    </tr>\n",
       "    <tr>\n",
       "      <th>20214</th>\n",
       "      <td>101609</td>\n",
       "      <td>c:263285</td>\n",
       "      <td>116098</td>\n",
       "      <td>Minneapolis</td>\n",
       "      <td>Eden Prairie</td>\n",
       "      <td>MN</td>\n",
       "      <td>44.864036</td>\n",
       "      <td>-93.455321</td>\n",
       "      <td>c:263285</td>\n",
       "      <td>NaN</td>\n",
       "      <td>1.650000e+07</td>\n",
       "      <td>Recovery Technology Solutions</td>\n",
       "    </tr>\n",
       "    <tr>\n",
       "      <th>20219</th>\n",
       "      <td>101662</td>\n",
       "      <td>c:11514</td>\n",
       "      <td>116155</td>\n",
       "      <td>New York</td>\n",
       "      <td>New York</td>\n",
       "      <td>NY</td>\n",
       "      <td>40.740308</td>\n",
       "      <td>-74.007199</td>\n",
       "      <td>c:11514</td>\n",
       "      <td>2008-11-01</td>\n",
       "      <td>1.000000e+06</td>\n",
       "      <td>Bloglovin</td>\n",
       "    </tr>\n",
       "  </tbody>\n",
       "</table>\n",
       "<p>6964 rows × 12 columns</p>\n",
       "</div>"
      ],
      "text/plain": [
       "           id object_id  office_id       region            city state_code  \\\n",
       "0           1       c:1          1      Seattle         Seattle         WA   \n",
       "2           3       c:4          4       SF Bay   San Francisco         CA   \n",
       "3           4       c:5          5       SF Bay      Menlo Park         CA   \n",
       "5           7       c:9          9  Los Angeles  West Hollywood         CA   \n",
       "8          10      c:12         12       SF Bay   San Francisco         CA   \n",
       "...       ...       ...        ...          ...             ...        ...   \n",
       "20188  101491  c:262931     115973    San Diego       San Diego         CA   \n",
       "20189  101493  c:233352     115975       SF Bay   San Francisco         CA   \n",
       "20212  101555  c:263050     116042      Atlanta         Atlanta         GA   \n",
       "20214  101609  c:263285     116098  Minneapolis    Eden Prairie         MN   \n",
       "20219  101662   c:11514     116155     New York        New York         NY   \n",
       "\n",
       "        latitude   longitude      id_x  founded_at  funding_total_usd  \\\n",
       "0      47.603122 -122.333253       c:1  2005-10-17       3.975000e+07   \n",
       "2      37.764726 -122.394523       c:4  2004-10-11       4.500000e+07   \n",
       "3      37.416050 -122.151801       c:5  2004-02-01       2.425700e+09   \n",
       "5      34.090368 -118.393064       c:9  2006-06-01       1.650000e+07   \n",
       "8      37.776805 -122.416924      c:12  2006-03-21       1.160167e+09   \n",
       "...          ...         ...       ...         ...                ...   \n",
       "20188  32.907899 -117.187637  c:262931         NaN       1.680000e+06   \n",
       "20189  37.773570 -122.415787  c:233352  2011-01-01       2.000000e+05   \n",
       "20212  33.863183  -84.478702  c:263050  2012-02-05       1.350000e+05   \n",
       "20214  44.864036  -93.455321  c:263285         NaN       1.650000e+07   \n",
       "20219  40.740308  -74.007199   c:11514  2008-11-01       1.000000e+06   \n",
       "\n",
       "                                name  \n",
       "0                           Wetpaint  \n",
       "2                               Digg  \n",
       "3                           Facebook  \n",
       "5                               Geni  \n",
       "8                            Twitter  \n",
       "...                              ...  \n",
       "20188               Trex Enterprises  \n",
       "20189                      Attendify  \n",
       "20212                         Stroho  \n",
       "20214  Recovery Technology Solutions  \n",
       "20219                      Bloglovin  \n",
       "\n",
       "[6964 rows x 12 columns]"
      ]
     },
     "execution_count": 22,
     "metadata": {},
     "output_type": "execute_result"
    }
   ],
   "source": [
    "map_data=usa_offices\n",
    "map_data= map_data[~(map_data['latitude'] == 0.0)]\n",
    "map_data= map_data[~(map_data['longitude'] == 0.0)]\n",
    "\n",
    "# remove latitude and logitude outside USA\n",
    "us_bounds = {\n",
    "    'lat_min': 24.5,\n",
    "    'lat_max': 49.5,\n",
    "    'lon_min': -124.5,\n",
    "    'lon_max': -66.5\n",
    "}\n",
    "out_of_bounds = ~((map_data['latitude'] >= us_bounds['lat_min']) & (map_data['latitude'] <= us_bounds['lat_max']) &\n",
    "                  (map_data['longitude'] >= us_bounds['lon_min']) & (map_data['longitude'] <= us_bounds['lon_max']))\n",
    "out_of_bounds_indices = map_data.index[out_of_bounds].tolist()\n",
    "\n",
    "# Drop the rows outside the USA bounds from the DataFrame\n",
    "map_data = map_data.drop(index=out_of_bounds_indices)\n",
    "map_data = pd.merge(map_data, main_data[['id_x','founded_at', 'funding_total_usd', 'name']], left_on='object_id', right_on='id_x', how='left')\n",
    "\n",
    "map_data= map_data[~(map_data['funding_total_usd'] == 0.0)]\n",
    "\n",
    "map_data.dropna(subset=['funding_total_usd'], inplace=True)\n",
    "\n",
    "map_data"
   ]
  },
  {
   "cell_type": "code",
   "execution_count": 23,
   "metadata": {},
   "outputs": [
    {
     "data": {
      "text/html": [
       "<div style=\"width:100%;\"><div style=\"position:relative;width:100%;height:0;padding-bottom:60%;\"><span style=\"color:#565656\">Make this Notebook Trusted to load map: File -> Trust Notebook</span><iframe srcdoc=\"&lt;!DOCTYPE html&gt;\n",
       "&lt;html&gt;\n",
       "&lt;head&gt;\n",
       "    \n",
       "    &lt;meta http-equiv=&quot;content-type&quot; content=&quot;text/html; charset=UTF-8&quot; /&gt;\n",
       "    \n",
       "        &lt;script&gt;\n",
       "            L_NO_TOUCH = false;\n",
       "            L_DISABLE_3D = false;\n",
       "        &lt;/script&gt;\n",
       "    \n",
       "    &lt;style&gt;html, body {width: 100%;height: 100%;margin: 0;padding: 0;}&lt;/style&gt;\n",
       "    &lt;style&gt;#map {position:absolute;top:0;bottom:0;right:0;left:0;}&lt;/style&gt;\n",
       "    &lt;script src=&quot;https://cdn.jsdelivr.net/npm/leaflet@1.9.3/dist/leaflet.js&quot;&gt;&lt;/script&gt;\n",
       "    &lt;script src=&quot;https://code.jquery.com/jquery-1.12.4.min.js&quot;&gt;&lt;/script&gt;\n",
       "    &lt;script src=&quot;https://cdn.jsdelivr.net/npm/bootstrap@5.2.2/dist/js/bootstrap.bundle.min.js&quot;&gt;&lt;/script&gt;\n",
       "    &lt;script src=&quot;https://cdnjs.cloudflare.com/ajax/libs/Leaflet.awesome-markers/2.0.2/leaflet.awesome-markers.js&quot;&gt;&lt;/script&gt;\n",
       "    &lt;link rel=&quot;stylesheet&quot; href=&quot;https://cdn.jsdelivr.net/npm/leaflet@1.9.3/dist/leaflet.css&quot;/&gt;\n",
       "    &lt;link rel=&quot;stylesheet&quot; href=&quot;https://cdn.jsdelivr.net/npm/bootstrap@5.2.2/dist/css/bootstrap.min.css&quot;/&gt;\n",
       "    &lt;link rel=&quot;stylesheet&quot; href=&quot;https://netdna.bootstrapcdn.com/bootstrap/3.0.0/css/bootstrap.min.css&quot;/&gt;\n",
       "    &lt;link rel=&quot;stylesheet&quot; href=&quot;https://cdn.jsdelivr.net/npm/@fortawesome/fontawesome-free@6.2.0/css/all.min.css&quot;/&gt;\n",
       "    &lt;link rel=&quot;stylesheet&quot; href=&quot;https://cdnjs.cloudflare.com/ajax/libs/Leaflet.awesome-markers/2.0.2/leaflet.awesome-markers.css&quot;/&gt;\n",
       "    &lt;link rel=&quot;stylesheet&quot; href=&quot;https://cdn.jsdelivr.net/gh/python-visualization/folium/folium/templates/leaflet.awesome.rotate.min.css&quot;/&gt;\n",
       "    \n",
       "            &lt;meta name=&quot;viewport&quot; content=&quot;width=device-width,\n",
       "                initial-scale=1.0, maximum-scale=1.0, user-scalable=no&quot; /&gt;\n",
       "            &lt;style&gt;\n",
       "                #map_ff786122780a5eed4915d0959406a99a {\n",
       "                    position: relative;\n",
       "                    width: 100.0%;\n",
       "                    height: 100.0%;\n",
       "                    left: 0.0%;\n",
       "                    top: 0.0%;\n",
       "                }\n",
       "                .leaflet-container { font-size: 1rem; }\n",
       "            &lt;/style&gt;\n",
       "        \n",
       "    &lt;script src=&quot;https://cdn.jsdelivr.net/gh/python-visualization/folium@main/folium/templates/leaflet_heat.min.js&quot;&gt;&lt;/script&gt;\n",
       "&lt;/head&gt;\n",
       "&lt;body&gt;\n",
       "    \n",
       "    \n",
       "            &lt;div class=&quot;folium-map&quot; id=&quot;map_ff786122780a5eed4915d0959406a99a&quot; &gt;&lt;/div&gt;\n",
       "        \n",
       "&lt;/body&gt;\n",
       "&lt;script&gt;\n",
       "    \n",
       "    \n",
       "            var map_ff786122780a5eed4915d0959406a99a = L.map(\n",
       "                &quot;map_ff786122780a5eed4915d0959406a99a&quot;,\n",
       "                {\n",
       "                    center: [37.0902, -95.7129],\n",
       "                    crs: L.CRS.EPSG3857,\n",
       "                    zoom: 4,\n",
       "                    zoomControl: true,\n",
       "                    preferCanvas: false,\n",
       "                }\n",
       "            );\n",
       "\n",
       "            \n",
       "\n",
       "        \n",
       "    \n",
       "            var tile_layer_0a53b431daafd932aac50ce97df8d520 = L.tileLayer(\n",
       "                &quot;https://{s}.tile.openstreetmap.org/{z}/{x}/{y}.png&quot;,\n",
       "                {&quot;attribution&quot;: &quot;Data by \\u0026copy; \\u003ca target=\\&quot;_blank\\&quot; href=\\&quot;http://openstreetmap.org\\&quot;\\u003eOpenStreetMap\\u003c/a\\u003e, under \\u003ca target=\\&quot;_blank\\&quot; href=\\&quot;http://www.openstreetmap.org/copyright\\&quot;\\u003eODbL\\u003c/a\\u003e.&quot;, &quot;detectRetina&quot;: false, &quot;maxNativeZoom&quot;: 18, &quot;maxZoom&quot;: 18, &quot;minZoom&quot;: 0, &quot;noWrap&quot;: false, &quot;opacity&quot;: 1, &quot;subdomains&quot;: &quot;abc&quot;, &quot;tms&quot;: false}\n",
       "            ).addTo(map_ff786122780a5eed4915d0959406a99a);\n",
       "        \n",
       "    \n",
       "            var heat_map_96743d459eeaddca316e8c7a40d98eac = L.heatLayer(\n",
       "                [[47.603122, -122.333253, 39750000.0], [37.764726, -122.394523, 45000000.0], [37.41605, -122.151801, 2425700000.0], [34.090368, -118.393064, 16500000.0], [37.776805200000005, -122.4169244, 1160166511.0], [37.48413, -122.169472, 18100000.0], [37.789634, -122.404052, 25762000.0], [33.022176, -117.081406, 73100000.0], [37.451151, -122.154369, 44150000.0], [37.295005, -121.930035, 6700000.0], [37.09024, -95.712891, 5000000.0], [40.757929, -73.985506, 5575000.0], [40.7464969, -74.00944709999999, 45000000.0], [37.387845, -122.055197, 28300000.0], [37.408802, -121.95377, 2500000.0], [37.418531, -122.025485, 6800000.0], [37.778613, -122.395289, 22500000.0], [37.779558, -122.393041, 32100000.0], [38.926172, -77.245195, 73000000.0], [34.1494713, -118.1327468, 75511200.0], [34.017606, -118.487267, 21000000.0], [37.788482, -122.409173, 23350000.0], [32.902266, -117.20834, 69750000.0], [30.268735, -97.745209, 1000000.0], [37.480999, -122.173887, 88651133.0], [37.6741593, -122.3859354, 119000000.0], [41.885619, -87.622309, 8400000.0], [37.437328, -122.159928, 5200000.0], [40.726040000000005, -73.995722, 18300000.0], [37.384239, -122.012475, 5000000.0], [33.429859, -111.93873899999998, 177850000.0], [37.793148, -122.402567, 4700000.0], [37.697805, -121.907768, 9000000.0], [37.783383, -122.395708, 100000.0], [37.78976, -122.402524, 119900000.0], [37.421972, -122.084143, 25100000.0], [37.4233896, -122.08995120000002, 33000000.0], [37.627971, -122.426804, 11500000.0], [40.726155, -73.995625, 14699973.0], [37.778438, -122.394098, 43509994.0], [37.392936, -122.07948, 60100000.0], [40.801358, -74.3372, 24020000.0], [40.722655, -73.99873000000001, 11000000.0], [37.465645, -121.932202, 4000000.0], [32.895267, -117.191342, 6000000.0], [37.551441, -122.291435, 48500000.0], [37.44296, -122.151198, 15000000.0], [47.617682, -122.357242, 52500000.0], [37.757758, -122.388243, 9000000.0], [37.558315, -122.286224, 74311925.0], [37.78976, -122.402524, 46000000.0], [37.388077, -122.08316, 26000000.0], [37.269175, -119.306607, 100000.0], [37.488336, -122.217964, 7000000.0], [37.559287, -122.302262, 4988000.0], [37.269175, -119.306607, 12650000.0], [37.780716, -122.39391299999998, 3100000.0], [42.375392, -71.118487, 32200000.0], [40.74468, -73.9485, 3900000.0], [37.421621, -122.137444, 18000000.0], [37.809782, -122.417306, 3500000.0], [37.590339, -122.341715, 25000000.0], [37.786183, -122.402195, 89969340.0], [37.380101, -121.940749, 450000.0], [47.599925, -122.334264, 23870000.0], [37.476479, -122.221717, 11200000.0], [37.775196, -122.419204, 50000.0], [37.374998, -121.977853, 32000000.0], [47.620982, -122.359397, 20600000.0], [40.75166110000001, -73.9843328, 39007789.0], [40.75166110000001, -73.9843328, 39007789.0], [37.484619, -122.206893, 136465336.0], [47.638456, -122.356965, 2100000.0], [37.758113, -122.414689, 4100000.0], [37.789268, -122.395184, 2000000.0], [37.781427, -122.392144, 78000000.0], [37.782103, -122.401116, 15000000.0], [37.782103, -122.401116, 15000000.0], [37.775196, -122.419204, 57000000.0], [37.09024, -95.712891, 5000000.0], [37.09024, -95.712891, 10000000.0], [37.674705, -122.38461, 199600000.0], [37.800199, -122.401738, 19000000.0], [41.889474, -87.628912, 8000000.0], [37.391502, -122.073463, 26000000.0], [37.5108541, -122.2013557, 46000000.0], [37.762681, -122.400909, 1000000.0], [37.81098, -122.265978, 56300000.0], [37.556966, -122.280005, 15500000.0], [39.1753858, -76.8183016, 2000000.0], [43.090756, -89.522805, 2000000.0], [37.09024, -95.712891, 7000000.0], [37.779026, -122.40184, 40400000.0], [37.796396, -122.404869, 7500000.0], [37.393679, -122.079017, 70000000.0], [37.779507, -122.39071, 139550000.0], [47.618599, -122.358484, 1250000.0], [37.423258, -122.073635, 199983710.0], [37.870744, -122.269259, 1600000.0], [40.048265, -75.439048, 35050000.0], [37.437328, -122.159928, 10000000.0], [37.779097, -122.39365, 49000000.0], [37.425801, -122.143701, 408600000.0], [47.615313, -122.323408, 16500000.0], [42.350571, -71.07686899999999, 65998900.0], [37.561877, -122.325248, 109800000.0], [37.443058, -122.161674, 6500000.0], [34.063441299999994, -118.3654298, 101000000.0], [37.382162, -122.036301, 5000000.0], [37.775196, -122.419204, 14325000.0], [47.603122, -122.333253, 96820000.0], [37.55818, -122.276454, 24700000.0], [37.40047, -122.072981, 6200000.0], [37.775196, -122.419204, 16000000.0], [38.030823, -78.48158000000001, 5000000.0], [37.553121, -122.301534, 31200000.0], [32.872081, -117.206292, 19600000.0], [37.563585, -122.324621, 23100000.0], [37.479952, -122.178557, 46650000.0], [37.4219165, -122.0780632, 22300000.0], [37.451958000000005, -122.116026, 81312915.0], [37.09024, -95.712891, 10000000.0], [37.782263, -122.392142, 8500000.0], [37.766909000000005, -122.406676, 7175000.0], [37.793703, -122.398479, 11000000.0], [40.437985, -80.004195, 12740000.0], [37.442949, -122.1615, 19100000.0], [30.407545, -97.717667, 130552663.0], [32.781078, -96.797111, 300000.0], [37.6637279, -121.8731805, 55600000.0], [37.779558, -122.393041, 40120312.0], [37.788668, -122.400558, 52000000.0], [37.7753, -122.4186, 28701975.0], [42.340889, -71.05193100000001, 17500000.0], [41.038155, -73.558082, 5000000.0], [40.757929, -73.985506, 250000000.0], [37.451026, -122.18676, 21500000.0], [47.631239, -122.16806, 58200000.0], [37.536172, -122.327323, 1500000.0], [37.333864, -121.889317, 1500000.0], [34.42071, -119.641821, 2700000.0], [37.781417, -122.394798, 6000000.0], [37.842316, -122.290952, 147650011.0], [42.355672, -71.060864, 5000000.0], [37.555962, -122.288006, 40927053.0], [37.559090000000005, -122.321836, 1750000.0], [37.787092, -122.399972, 12000000.0], [37.781689, -122.391061, 1500000.0], [37.775196, -122.419204, 44700000.0], [37.419819, -122.09018799999998, 5000000.0], [37.792394, -122.402349, 7300000.0], [37.09024, -95.712891, 2000000.0], [37.4858654, -122.2262606, 34000000.0], [37.386376, -121.991471, 2060000.0], [37.478769, -122.140896, 3500000.0], [47.620716, -122.347533, 1395100.0], [37.408256, -122.154176, 7500000.0], [47.59993370000001, -122.3276962, 30999999.0], [34.017506, -118.401579, 1750000.0], [37.872222, -122.268403, 1000000.0], [40.010492, -105.276843, 515000.0], [39.205649, -76.77514000000001, 34000000.0], [37.780883, -122.395257, 100000.0], [47.5923, -122.317295, 8000000.0], [47.61968, -122.356756, 10550000.0], [37.368594, -122.034021, 11900000.0], [37.400465, -122.073003, 315000.0], [37.09024, -95.712891, 4000000.0], [42.362993, -71.086596, 103100000.0], [37.288974, -121.93568799999998, 82700000.0], [37.386665, -122.084171, 1500000.0], [37.524729, -122.25803700000002, 144760181.0], [37.294465, -121.927696, 197000000.0], [37.553743, -122.300246, 5500000.0], [39.755089, -104.988105, 21400000.0], [40.704382200000005, -73.98657170000001, 14400000.0], [42.417268, -71.258466, 9000000.0], [40.797364, -73.97785, 1500000.0], [37.09024, -95.712891, 600000.0], [37.538019, -122.253384, 8500000.0], [33.414007, -111.973641, 5000000.0], [47.6196804, -122.3567563, 10500000.0], [37.785540000000005, -122.396689, 43500000.0], [37.403749, -122.077208, 5540000.0], [37.3927975, -122.0727749, 29000000.0], [40.010492, -105.276843, 34000000.0], [40.010492, -105.276843, 315000.0], [32.877656, -117.210595, 70000000.0], [37.437328, -122.159928, 15000.0], [40.270666, -74.761403, 1309000.0], [37.316466, -121.873881, 31930000.0], [38.0729365, -122.1879633, 4800000.0], [32.964294, -117.265191, 75304623.0], [43.155744, -75.61560899999999, 12500000.0], [40.740251, -73.990004, 5500000.0], [34.052187, -118.243425, 12700000.0], [37.437328, -122.159928, 50000000.0], [37.09024, -95.712891, 2000000.0], [39.998641, -86.130347, 89000000.0], [37.491356, -122.228843, 28300000.0], [30.33493, -97.756517, 1000000.0], [33.1376528, -96.8565427, 29475000.0], [32.949725, -117.239105, 26000000.0], [37.767575, -122.411157, 36139969.0], [37.758229, -122.439512, 6500000.0], [33.9058, -84.435967, 4600000.0], [37.7909427, -122.4084994, 257200000.0], [37.09024, -95.712891, 10000.0], [37.09024, -95.712891, 15000.0], [37.779507, -122.39071, 26000000.0], [47.682233, -122.135521, 1310000.0], [37.795555, -122.400729, 670000.0], [37.7911148, -122.3954751, 25000000.0], [37.790998, -122.394668, 40750000.0], [37.786942, -122.401245, 19000000.0], [37.781557, -122.407959, 4500000.0], [37.5646055, -122.32292350000002, 8500000.0], [39.95644, -75.19617099999999, 15000.0], [37.791564, -122.399981, 78029000.0], [40.010492, -105.276843, 455000.0], [40.0186731, -105.2762236, 415000.0], [40.010492, -105.276843, 15000.0], [40.010492, -105.276843, 265000.0], [37.09024, -95.712891, 210000.0], [40.010492, -105.276843, 1915000.0], [37.09024, -95.712891, 15000.0], [37.437328, -122.159928, 15000.0], [42.35892, -71.05781, 18250000.0], [40.752957, -73.98546, 1950000.0], [37.09024, -95.712891, 24000000.0], [40.751816, -73.971655, 20000000.0], [37.762125, -122.4147, 6000000.0], [37.775196, -122.419204, 6000000.0], [37.09024, -95.712891, 5000000.0], [37.789488, -122.397593, 8000000.0], [37.32052, -121.948399, 11500000.0], [40.71014, -74.010808, 63500000.0], [40.757929, -73.985506, 69477054.0], [40.7618729, -73.98428709999999, 38000000.0], [37.451637, -122.121932, 2000000.0], [37.427235, -122.145783, 5750000.0], [42.675189, -71.1469, 27000000.0], [42.362546, -71.084092, 8500000.0], [42.38532, -71.20705500000001, 7000000.0], [47.579208, -122.155668, 40000000.0], [41.8817767, -87.6371461, 85000000.0], [37.315563, -122.04663, 5000000.0], [34.018275, -118.495025, 4000000.0], [42.372912, -71.118999, 26500000.0], [42.3474854, -71.09099499999999, 21948190.0], [37.09024, -95.712891, 2250000.0], [37.782263, -122.392142, 48900000.0], [34.052187, -118.243425, 8450000.0], [37.09024, -95.712891, 52200000.0], [47.610332, -122.339859, 4000000.0], [37.775228000000006, -122.39963, 7100000.0], [39.755092, -104.988123, 39338411.0], [30.268735, -97.745209, 17000000.0], [37.48413, -122.169472, 12600000.0], [37.40047, -122.072981, 13300000.0], [37.09024, -95.712891, 3000000.0], [37.09024, -95.712891, 3000000.0], [37.839293, -122.298217, 26240000.0], [37.790964, -122.401128, 22900000.0], [33.983543, -118.432526, 11000000.0], [40.706206, -74.01244799999999, 7100000.0], [37.553379, -122.302144, 60900000.0], [34.145946, -118.132351, 113000000.0], [40.753385, -73.98962, 33000000.0], [37.09024, -95.712891, 11600000.0], [37.09024, -95.712891, 4000000.0], [37.710677, -122.39323, 17600000.0], [37.560058000000005, -122.270249, 14500000.0], [37.766909000000005, -122.406676, 32800000.0], [39.2009241, -77.26300479999999, 38000000.0], [37.368594, -122.034021, 220230000.0], [37.09024, -95.712891, 6700000.0], [32.9020665, -117.2077494, 219378750.0], [37.836957, -122.286493, 53157047.0], [37.09024, -95.712891, 45000000.0], [37.09024, -95.712891, 3000000.0], [37.559090000000005, -122.321836, 32500000.0], [42.656621, -71.140538, 14000000.0], [37.48413, -122.169472, 20900000.0], [37.785647, -122.405265, 48000000.0], [42.350274, -71.058768, 10500000.0], [39.044694, -94.597896, 248000000.0], [42.357295, -71.05478600000002, 8000000.0], [42.358822, -71.104329, 7900000.0], [37.788115000000005, -122.397141, 2500000.0], [37.09024, -95.712891, 80500000.0], [35.854483, -78.815635, 75000000.0], [35.22806, -80.856178, 12000000.0], [41.841713, -71.399771, 850000.0], [37.793783000000005, -122.401001, 128091316.0], [37.09024, -95.712891, 175000.0], [37.09024, -95.712891, 7000000.0], [42.3729, -71.24847199999999, 28300000.0], [42.302466, -71.405146, 5298500.0], [47.620716, -122.347533, 6500000.0], [40.7445343, -73.98740079999999, 10000000.0], [34.041672, -118.469804, 26370000.0], [40.757929, -73.985506, 19000000.0], [40.725435, -73.997395, 41500019.0], [40.757929, -73.985506, 4000000.0], [34.018465899999995, -118.49863, 7000000.0], [37.09024, -95.712891, 126500000.0], [37.553743, -122.300246, 12700000.0], [37.433414, -122.128772, 4000000.0], [42.376771000000005, -71.270269, 108500000.0], [40.707921, -74.00479200000001, 13500000.0], [47.59993370000001, -122.3276962, 1150000.0], [32.901317, -117.200492, 550000.0], [38.890838, -77.086146, 11500000.0], [30.386601, -97.753739, 54000000.0], [42.47218, -71.262508, 26750000.0], [37.437328, -122.159928, 1000000.0], [37.400312, -122.051358, 23500000.0], [40.723384, -74.001704, 16600000.0], [37.386665, -122.084171, 122000000.0], [40.643438, -73.886452, 12300000.0], [37.42746, -122.143915, 7500000.0], [37.781265000000005, -122.393229, 4800000.0], [37.387114, -121.973228, 7400000.0], [37.3825621, -121.9196706, 14500000.0], [40.74406, -74.004592, 6500000.0], [37.09024, -95.712891, 4000000.0], [34.031276, -118.456806, 100000000.0], [37.40047, -122.072981, 6300000.0], [37.09024, -95.712891, 1000000.0], [37.563585, -122.324621, 46800000.0], [38.814208, -77.042423, 3000000.0], [37.322806, -122.030201, 40800000.0], [37.453687, -122.228595, 25200000.0], [40.775537, -73.981709, 2300000.0], [37.775196, -122.419204, 10000000.0], [40.757929, -73.985506, 1825000.0], [40.357978, -111.777531, 1900000.0], [38.003376, -79.420926, 3500000.0], [37.764169, -122.402021, 13100000.0], [37.446668, -122.156579, 63000000.0], [33.8171, -111.9035, 7100000.0], [37.392392, -122.078727, 31775000.0], [34.15383320000001, -118.46653700000002, 500000.0], [32.847521, -117.274609, 168986.0], [37.793742, -122.421341, 250000.0], [37.445714, -122.161247, 1000000.0], [47.6015315, -122.335943, 3800000.0], [34.01052, -118.495981, 47500000.0], [34.01052, -118.495981, 47500000.0], [47.585114, -122.084356, 450000.0], [33.959799, -118.343938, 8000000.0], [43.61295, -116.205637, 24500100.0], [37.09024, -95.712891, 6100000.0], [42.195904, -73.73912299999999, 2500000.0], [41.890376, -87.63405999999999, 5000000.0], [42.296111, -71.238524, 24500000.0], [47.617842, -122.20052, 32439999.0], [42.38941, -71.146011, 36750000.0], [40.01621, -105.28131, 27300000.0], [40.714044, -74.003964, 3300000.0], [34.01533, -118.493592, 8699999.0], [47.6104101, -122.3396627, 23000000.0], [37.09024, -95.712891, 31000000.0], [37.786175, -122.389676, 400000.0], [43.670840000000005, -83.91315300000001, 1000000.0], [34.061785, -118.383582, 21400000.0], [37.368594, -122.034021, 1429763.0], [42.375392, -71.118487, 1750000.0], [40.7413559, -73.9912208, 32500000.0], [42.375219, -71.056101, 32000000.0], [40.757929, -73.985506, 12800000.0], [37.09024, -95.712891, 45000000.0], [37.775196, -122.419204, 9400000.0], [37.09024, -95.712891, 46400000.0], [37.5230435, -122.2542232, 97312471.0], [37.5230435, -122.2542232, 97312471.0], [37.451124, -122.16626399999998, 33000000.0], [39.00335, -77.035444, 12000000.0], [40.063476, -75.457492, 4900000.0], [40.72948, -74.00019499999999, 30000000.0], [42.375392, -71.118487, 3000000.0], [42.375392, -71.118487, 3000000.0], [37.557637, -122.28571399999998, 11600000.0], [37.768708, -122.402866, 402947072.0], [34.064491, -118.42749, 6515116.0], [37.887864, -122.26999, 500000.0], [33.020832, -117.077311, 9400000.0], [37.789634, -122.404052, 41752000.0], [37.559287, -122.302262, 25100000.0], [37.661237, -121.803572, 2885000.0], [37.566879, -122.323895, 8000000.0], [37.418491, -122.08744, 2300000.0], [33.09568, -117.244034, 850000.0], [33.977854, -118.445271, 1200000.0], [39.956259, -75.19465699999999, 100000.0], [37.775348, -122.397676, 400000.0], [42.368143, -71.113518, 400000.0], [37.762185, -122.467269, 7000000.0], [47.5798839, -122.1688772, 81902652.0], [40.429587, -79.986062, 698866.0], [42.364367, -71.078978, 41000000.0], [40.756799, -73.976348, 17600000.0], [37.775196, -122.419204, 1700000.0], [37.781262, -122.394958, 20850000.0], [37.560155, -122.285588, 44000000.0], [37.401355, -122.104099, 135000.0], [47.6011125, -122.32939840000002, 96627980.0], [47.620716, -122.347533, 19250000.0], [42.304545000000005, -71.220187, 10000000.0], [40.745216, -73.982807, 25000000.0], [40.756054, -73.986951, 90000000.0], [37.765125, -122.4044034, 4000000.0], [37.396312, -121.961396, 46300000.0], [47.603015, -122.335668, 115549498.0], [37.502742, -122.211281, 2600000.0], [37.384919, -122.053175, 2500000.0], [37.775196, -122.419204, 16000000.0], [34.016655, -118.492358, 15000000.0], [37.557637, -122.28571399999998, 14500000.0], [37.557637, -122.28571399999998, 14500000.0], [37.39248, -122.072612, 5000000.0], [37.775196, -122.419204, 2500000.0], [37.783898, -122.395234, 3000000.0], [42.354022, -71.140762, 46400000.0], [34.011334999999995, -118.468458, 17900000.0], [34.034531, -118.456948, 60000000.0], [37.856331, -122.495222, 4000000.0], [42.349164, -71.049346, 250000.0], [37.775196, -122.419204, 650000.0], [37.408826, -122.29522, 200000.0], [40.781159, -73.978332, 16030566.0], [37.443058, -122.161674, 14000000.0], [37.09024, -95.712891, 1008401.0], [37.386175, -122.083487, 22100000.0], [37.09024, -95.712891, 160549892.0], [37.476479, -122.221717, 72900000.0], [47.649027, -122.346299, 17807000.0], [47.620716, -122.347533, 2550000.0], [37.7875, -122.399836, 14000000.0], [38.9132821, -77.2279465, 35800000.0], [40.297369, -111.663926, 333200000.0], [37.792968, -122.40413999999998, 21550000.0], [37.782809, -122.394354, 108900000.0], [45.523104, -122.670132, 3400000.0], [42.35888, -71.05682, 4000000.0], [40.743808, -73.983626, 125250000.0], [37.7753, -122.398058, 24000000.0], [37.401495, -122.031855, 65000000.0], [37.553743, -122.300246, 8300000.0], [42.288291, -71.52679, 37800000.0], [40.621591, -73.960717, 14000000.0], [37.09024, -95.712891, 10000000.0], [38.963492, -77.091025, 24500000.0], [37.445326, -122.160671, 8500000.0], [39.755092, -104.988123, 12000000.0], [37.2572451, -122.0341004, 300000.0], [33.998888, -84.093455, 350000.0], [37.789498, -122.394265, 200000.0], [37.486571000000005, -122.229161, 4300000.0], [37.388095, -122.08276, 55800000.0], [40.913231, -73.95903299999999, 22500000.0], [37.09024, -95.712891, 20000000.0], [44.054367, -123.096471, 50000000.0], [37.285133, -121.93296200000002, 39790000.0], [40.741266, -73.990753, 32000000.0], [37.590056, -122.347654, 2500000.0], [37.77759, -122.395602, 2250000.0], [37.790992, -122.40188, 6850000.0], [37.09024, -95.712891, 56500000.0], [37.791733, -122.398398, 1000000.0], [37.40047, -122.072981, 15000000.0], [37.43938, -122.158804, 69800000.0], [42.292649, -83.734673, 10000000.0], [37.332271, -122.006539, 27750000.0], [37.787126, -122.39783, 11015719.0], [47.602873, -122.336132, 30000000.0], [37.377624, -122.113773, 40300000.0], [40.907974, -73.84179, 35000000.0], [37.767575, -122.411157, 8000000.0], [37.786906, -122.397672, 20500000.0], [37.351894, -122.085807, 1000000.0], [40.755446, -73.980246, 29915001.0], [42.378747, -72.519987, 10510000.0], [39.016745, -77.023821, 600000.0], [33.756806, -84.392198, 33000000.0], [47.607065000000006, -122.335373, 22400000.0], [30.288653000000004, -97.822884, 1000000.0], [37.548482, -122.320534, 35700000.0], [44.978838, -93.27282, 52500000.0], [40.7550005, -73.97173640000001, 36982000.0], [47.603327, -122.334983, 1500000.0], [37.09024, -95.712891, 1500000.0], [40.741890000000005, -73.995597, 1000000.0], [40.015733, -105.275027, 8950000.0], [40.738471, -73.992264, 6500000.0], [33.930228, -84.337686, 1250000.0], [37.536786, -122.323946, 37490000.0], [34.064139000000004, -118.468672, 50000.0], [37.794643, -122.401144, 46000000.0], [37.384239, -122.012475, 3600000.0], [42.346743, -71.07663199999999, 33000000.0], [37.09024, -95.712891, 4800000.0], [37.838225, -122.296411, 21300000.0], [34.09762, -118.331303, 100000.0], [37.762162, -122.413912, 11000000.0], [37.781262, -122.394958, 900000.0], [37.09024, -95.712891, 1000000.0], [33.982431, -118.426707, 7900000.0], [42.525491, -71.429502, 28100000.0], [37.512253, -122.201099, 61123499.0], [39.738499, -105.158645, 9021221.0], [37.384717, -122.081625, 32006000.0], [34.152826, -118.465582, 5000000.0], [37.09024, -95.712891, 800000.0], [37.09024, -95.712891, 750000.0], [37.773922, -121.961631, 83511402.0], [40.614969, -75.531859, 150000.0], [37.530893, -122.245087, 38300000.0], [37.785540000000005, -122.396689, 5100000.0], [37.7726402, -122.4099154, 1000000.0], [40.756054, -73.986951, 33000000.0], [37.549475, -122.316982, 59763076.0], [37.636288, -122.42689, 18500000.0], [37.446407, -122.159712, 10000000.0], [40.707645, -74.010816, 3100000.0], [40.323902, -111.68192, 25000000.0], [30.268143, -97.74563, 16000000.0], [37.399208, -121.97895, 10000000.0], [37.09024, -95.712891, 22600000.0], [32.903248, -117.175733, 46799996.0], [40.357999, -111.776768, 91300000.0], [42.49739, -71.416794, 28000000.0], [37.385216, -121.972128, 15260000.0], [37.09024, -95.712891, 75000000.0], [47.620716, -122.347533, 1950000.0], [39.105555, -77.179772, 585774337.0], [42.3903802, -71.1527537, 52800000.0], [37.543588, -122.30568999999998, 23519998.0], [47.603577, -122.335333, 920000.0], [40.7422769, -74.1821745, 2000000.0], [40.7281688, -73.9791621, 25000000.0], [37.444531, -122.163352, 3000000.0], [27.7709, -82.6795, 107225000.0], [37.862592, -122.493561, 50000000.0], [42.591704, -71.319348, 28231937.0], [37.866833, -122.267796, 350000.0], [37.803847, -122.402468, 2000000.0], [40.7505602, -73.9786753, 86400002.0], [33.999004, -118.472297, 13988210.0], [47.620716, -122.347533, 1500000.0], [40.987453, -73.741649, 10400000.0], [41.355252, -72.93085500000001, 70000.0], [38.984172, -77.095965, 5000000.0], [37.776467, -122.395792, 1300000.0], [37.368594, -122.034021, 800000.0], [33.754487, -84.389663, 1200000.0], [40.724933, -73.996577, 7500000.0], [37.78274, -122.390945, 40000000.0], [25.774252, -80.190262, 52500000.0], [37.5583159, -122.2862187, 15600000.0], [40.757929, -73.985506, 500000.0], [42.405685, -71.25585699999999, 11035000.0], [37.520592, -122.255907, 25000000.0], [40.349854, -74.660287, 5000000.0], [40.099703000000005, -75.39599, 8861058.0], [40.755861, -73.99627199999999, 1000000.0], [37.8454819, -122.296342, 7000000.0], [40.74731129999999, -73.95491820000001, 6700000.0], [37.404127, -122.022634, 228991416.0], [40.21764, -111.642378, 1200000.0], [39.935819, -74.909185, 2500000.0], [40.70276, -73.98666800000001, 9950000.0], [40.742459, -73.99181259999999, 40000002.0], [37.425591, -122.145416, 7000000.0], [40.606061, -73.822331, 17200000.0], [47.598968, -122.332904, 12000000.0], [47.6139472, -122.327807, 5400000.0], [26.820375, -80.058401, 2500000.0], [42.375392, -71.118487, 130519802.0], [47.599044, -122.334276, 21400000.0], [37.09024, -95.712891, 5600000.0], [42.431555, -71.48307700000001, 4000000.0], [37.09024, -95.712891, 500000.0], [40.909378, -74.03370699999999, 141294961.0], [37.09024, -95.712891, 3500000.0], [37.09024, -95.712891, 11000000.0], [42.351105, -71.049124, 25900000.0], [36.611645, -121.898539, 10500000.0], [37.09024, -95.712891, 64000000.0], [37.09024, -95.712891, 500000.0], [37.09024, -95.712891, 500000.0], [47.620716, -122.347533, 2000000.0], [33.639318, -111.883237, 15968226.0], [37.7766184, -122.3938931, 3000000.0], [40.133541, -75.275284, 4000000.0], [26.119102, -80.1343038, 6000000.0], [37.09024, -95.712891, 7000000.0], [41.140316, -73.261142, 4400000.0], [37.09024, -95.712891, 1700000.0], [37.09024, -95.712891, 4500000.0], [37.09024, -95.712891, 17000000.0], [37.09024, -95.712891, 10000000.0], [37.09024, -95.712891, 8500002.0], [37.09024, -95.712891, 7000000.0], [40.741179, -73.99318199999999, 4750000.0], [41.907647, -87.649878, 84100000.0], [37.09024, -95.712891, 10230000.0], [37.09024, -95.712891, 84000000.0], [40.74727, -73.9800645, 236000000.0], [39.17109, -119.76346399999998, 1120000.0], [40.740231, -73.985433, 7000000.0], [37.404473, -122.112711, 6000000.0], [34.049767, -118.459387, 74000000.0], [47.676378, -122.122155, 14000000.0], [37.775196, -122.419204, 4000000.0], [37.09024, -95.712891, 21741980.0], [37.775196, -122.419204, 715000.0], [37.3867729, -122.07522240000002, 55000000.0], [34.01052, -118.495981, 2750000.0], [34.01052, -118.495981, 2750000.0], [37.386665, -122.084171, 11000000.0], [37.789034, -122.398503, 30450000.0], [37.7876952, -122.3991505, 8000000.0], [40.755978000000006, -73.99039599999999, 106800000.0], [40.760848, -73.976262, 43100000.0], [35.996157000000004, -78.90211500000001, 2511360.0], [34.052187, -118.243425, 15300000.0], [40.752516, -73.973072, 5000000.0], [37.486368, -122.230116, 14800000.0], [29.804863, -95.49158, 600000.0], [37.790346, -122.40185, 37720000.0], [32.959908, -96.70737, 33000000.0], [37.559836, -122.271532, 466905435.0], [37.4050988, -121.9477639, 96500000.0], [41.1010914, -73.4168779, 235024070.0], [37.78624, -122.39897, 1000000.0], [42.524527, -71.137784, 68500000.0], [37.09024, -95.712891, 20000000.0], [32.939673, -117.240799, 17500000.0], [38.888107, -77.091562, 275388886.0], [43.692002, -116.339049, 23250000.0], [30.216908, -97.685078, 253000000.0], [40.694731, -73.98326800000001, 91650000.0], [37.09024, -95.712891, 88800000.0], [42.363776, -71.166216, 502860000.0], [37.446526, -122.117933, 123300000.0], [37.09024, -95.712891, 297920000.0], [37.870258, -122.272513, 16350000.0], [37.264749, -121.789862, 520000000.0], [30.268236, -97.740651, 14500000.0], [37.771706, -122.402683, 36000000.0], [28.098905, -82.400087, 118000.0], [47.597965, -122.151158, 1000000.0], [37.496737, -122.245323, 823000000.0], [37.3208403, -121.9479223, 12500000.0], [40.762673, -73.969296, 5700000.0], [47.600818, -122.334117, 9650000.0], [37.437328, -122.159928, 1250000.0], [37.402802, -122.117418, 5600000.0], [37.09024, -95.712891, 10000000.0], [25.752358, -80.25468000000001, 10000000.0], [34.018992, -118.455459, 107500000.0], [37.269175, -119.306607, 100000.0], [37.09024, -95.712891, 60200000.0], [37.09024, -95.712891, 30000000.0], [42.341899, -71.065924, 10000000.0], [42.281476, -71.569703, 350600000.0], [37.392443, -122.072517, 80000000.0], [37.09024, -95.712891, 47000000.0], [37.323739, -122.014147, 134891549.0], [37.7609221, -122.4121533, 11000000.0], [36.1062, -115.1374, 3000000.0], [37.385225, -121.991912, 9146354.0], [37.424614, -122.145153, 47000000.0], [37.563905, -122.324688, 6000000.0], [33.875982, -84.473876, 44000000.0], [38.92719, -77.21696899999999, 42000000.0], [37.763652, -122.421778, 500000.0], [37.308591, -122.031476, 45500000.0], [37.775196, -122.419204, 23300000.0], [37.09024, -95.712891, 15564591.0], [47.6399006, -122.1914274, 19389998.0], [37.781863, -122.393897, 37500000.0], [37.856743, -122.480153, 112000000.0], [37.400821, -122.131383, 5700000.0], [37.553743, -122.300246, 51300000.0], [37.798853, -122.398599, 14500000.0], [42.050903000000005, -88.027569, 34000000.0], [34.047312, -118.445243, 58800000.0], [40.75362, -73.98655699999999, 4000000.0], [34.051368, -118.256305, 210000000.0], [40.785756, -73.644019, 10550000.0], [37.09024, -95.712891, 500000.0], [39.951311, -75.169522, 5000000.0], [37.09024, -95.712891, 9250000.0], [37.09024, -95.712891, 1300000.0], [37.09024, -95.712891, 5000000.0], [37.09024, -95.712891, 13000000.0], [47.6158335, -122.3506403, 10500000.0], [30.390071, -97.711652, 4500000.0], [37.55153, -122.314072, 3000000.0], [37.552262, -122.292146, 61000000.0], [37.766909000000005, -122.406676, 10411000.0], [37.52845, -122.263721, 72000000.0], [42.3536303, -71.0590483, 89999999.0], [47.605711, -122.33872, 3600000.0], [37.09024, -95.712891, 3300000.0], [37.78912879999999, -122.40202759999998, 13500000.0], [40.708609, -74.01167099999999, 47000000.0], [38.894403, -77.068267, 50000000.0], [38.912262, -104.827041, 12500000.0], [42.36233, -71.08152700000001, 65000000.0], [37.779518200000005, -122.3902619, 15000000.0], [40.01621, -105.28131, 28300000.0], [37.775196, -122.419204, 13020000.0], [37.788266, -122.403865, 3150000.0], [38.9579071, -77.35775679999999, 65600000.0], [42.41594179999999, -71.1543315, 1000000.0], [37.392962, -122.079114, 900000.0], [37.09024, -95.712891, 16500000.0], [37.550954, -122.315396, 2000000.0], [38.257035, -85.717393, 5000000.0], [30.384453000000004, -97.709809, 20000000.0], [38.9530391, -77.3479238, 5000000.0], [40.562967, -74.332355, 56600000.0], [38.904549, -77.061767, 2300000.0], [37.762512, -122.46649, 13500000.0], [37.312676, -121.965784, 100000.0], [37.269175, -119.306607, 320000.0], [47.680496000000005, -122.120938, 2700000.0], [41.339611, -73.236729, 10000.0], [37.407752, -122.154565, 12197674.0], [37.65466, -122.40788, 5800000.0], [39.89674, -105.07359, 12000000.0], [41.896499, -87.643622, 7300000.0], [47.6097449, -122.196699, 8993894.0], [39.571417, -104.919597, 750000.0], [39.9564403, -75.19617149999999, 355000.0], [37.383844, -121.918319, 11000000.0], [37.7776778, -122.3921102, 990000.0], [40.32462, -111.679755, 23470000.0], [47.6106, -122.1997, 850000.0], [47.66274, -122.300863, 500000.0], [40.744837, -73.98384300000001, 2225000.0], [43.407099, -70.5745187, 20000.0], [47.613896, -122.3413, 3600000.0], [34.052187, -118.243425, 10825000.0], [33.610015000000004, -111.907962, 50000.0], [34.146436, -118.153136, 10000000.0], [37.522281, -122.258139, 9500000.0], [37.775196, -122.419204, 7000000.0], [42.36638, -71.093601, 70300000.0], [37.566123, -122.323045, 4000000.0], [47.620716, -122.347533, 1000000.0], [47.620716, -122.347533, 1000000.0], [39.098753, -84.5163108, 6629950.0], [37.905544, -122.547445, 7050000.0], [40.725883, -74.006196, 7250000.0], [40.442796, -79.99638399999999, 300000.0], [37.25142, -121.96868700000002, 230000000.0], [47.608721, -122.333786, 45000000.0], [37.872222, -122.268403, 24900000.0], [37.446823, -122.161523, 17100000.0], [37.425168, -122.136248, 118300000.0], [37.7759675, -122.3931128, 22000000.0], [40.219214, -74.370313, 100000.0], [43.657058, -70.253959, 2075000.0], [40.396817, -74.649912, 750000.0], [45.523104, -122.670132, 2500000.0], [37.394723, -122.034634, 2630000.0], [37.775196, -122.419204, 7500000.0], [40.58471, -75.588974, 100000.0], [44.977482, -93.264351, 50000.0], [40.743662, -73.984268, 21000000.0], [42.36787, -71.07825799999999, 500000.0], [42.337037, -71.25174799999999, 16700000.0], [37.425773, -122.144271, 2000000.0], [40.752672, -73.97593, 1230000.0], [32.936972999999995, -117.240431, 5000000.0], [30.268735, -97.745209, 9700000.0], [29.6502461, -82.3230981, 1000000.0], [37.87168, -122.269494, 8110454.0], [37.386774, -121.98766100000002, 250500000.0], [37.38687, -122.067979, 10250000.0], [42.010632, -87.66830999999999, 20000.0], [37.40384, -122.07808, 27000000.0], [37.5541073, -121.9756765, 11500000.0], [37.428373, -122.097604, 6700000.0], [37.384206, -121.992805, 17050000.0], [37.322385, -122.008549, 24000000.0], [37.793375, -122.404571, 17600000.0], [47.613896, -122.3413, 1500000.0], [37.787126, -122.39783, 34500000.0], [40.723652, -73.985281, 1000000.0], [40.757929, -73.985506, 6536608.0], [37.781002, -122.406912, 11200000.0], [37.783046, -122.394067, 63255000.0], [37.4784804, -122.1514101, 6250000.0], [37.54763, -122.307887, 61000000.0], [38.954240000000006, -77.416331, 56309183.0], [37.503147, -122.211435, 9000000.0], [37.389022, -122.062778, 92500000.0], [40.738482, -73.988787, 4050000.0], [40.757929, -73.985506, 99000000.0], [40.711982, -74.008622, 9005120.0], [37.538603, -122.251539, 124309780.0], [41.826956, -71.40871800000001, 1825000.0], [38.657269, -90.339167, 1000000.0], [37.80294, -122.266978, 750000.0], [40.8587524, -73.7258199, 28500000.0], [40.720824, -74.00007, 19600000.0], [37.776467, -122.395792, 40500000.0], [37.790992, -122.40188, 52850818.0], [34.148374, -118.121822, 7000000.0], [37.494171, -122.22812, 15400000.0], [37.369444, -121.966268, 200000.0], [33.8582436, -117.8373472, 60000.0], [42.489827000000005, -71.223359, 42500000.0], [40.739794, -73.985878, 42650000.0], [40.717248, -74.002662, 10000000.0], [37.790485, -122.40094, 11489687.0], [41.88583, -87.657354, 3000000.0], [42.040851, -87.75064300000001, 38258268.0], [37.787183, -122.397759, 12500000.0], [37.789268, -122.395184, 16260000.0], [26.394023200000003, -80.1065535, 1000000.0], [40.722655, -73.99873000000001, 27600000.0], [40.3310529, -111.7276347, 10000000.0], [37.446078, -122.167506, 34700000.0], [37.55818, -122.276454, 1000000.0], [38.003376, -79.420926, 500000.0], [40.746883, -73.98396899999999, 1250000.0], [33.918151, -118.41747, 350000.0], [37.426316, -122.141082, 19743770.0], [47.602416, -122.332614, 9400000.0], [28.5443, -81.379649, 10000000.0], [40.7566658, -73.9827553, 5500000.0], [41.007625, -91.962789, 225000.0], [34.057078000000004, -118.280124, 500000.0], [37.323668, -122.004204, 51000000.0], [37.775196, -122.419204, 20000.0], [37.386665, -122.084171, 43600000.0], [25.9690885, -80.14177420000001, 30500000.0], [37.769922, -122.001446, 34072000.0], [40.616311, -80.05954799999999, 1130000.0], [37.694202, -121.921532, 175000000.0], [37.394456, -122.078531, 5000000.0], [34.043948, -118.468204, 5000000.0], [37.536044, -122.328401, 56000000.0], [40.743808, -73.983626, 27063781.0], [40.757929, -73.985506, 1500000.0], [37.768231, -121.968358, 10000000.0], [37.370056, -121.973157, 4900000.0], [42.397435, -71.252147, 3750000.0], [37.393679, -122.079017, 10000000.0], [37.5596277, -122.2709868, 127500000.0], [37.555962, -122.288006, 25600000.0], [37.791137, -122.391843, 14600000.0], [37.391727, -122.077597, 9150000.0], [37.7885714, -122.40359850000002, 1000000.0], [34.143885, -118.151542, 15500000.0], [37.381034, -121.971487, 35856605.0], [34.062504, -118.354605, 5000000.0], [38.90313, -77.06099499999999, 510000.0], [40.019299, -105.274628, 6640000.0], [37.3973787, -122.0879281, 11000000.0], [42.340653, -71.068003, 422500.0], [34.145312, -118.793136, 3200000.0], [40.437666, -79.922983, 5660000.0], [33.79802, -84.409621, 750000.0], [40.517948, -79.842487, 4048000.0], [37.772323, -122.214897, 800000.0], [37.592584, -122.369676, 4000000.0], [40.748811, -73.993887, 11227288.0], [37.09024, -95.712891, 18400000.0], [45.484177, -122.79635, 30000000.0], [38.923453, -77.227525, 136911999.0], [39.141511, -77.20939399999999, 42500000.0], [42.6161515, -71.3258687, 8400000.0], [37.796164000000005, -122.420903, 7300000.0], [37.378884, -122.010692, 62800000.0], [37.322385, -122.008549, 44000000.0], [37.83466, -122.291944, 25800000.0], [40.358294, -111.780243, 7500000.0], [34.007967, -118.489681, 3500000.0], [34.052187, -118.243425, 22500000.0], [40.694599, -73.990638, 3500000.0], [47.666791, -122.199525, 3000000.0], [37.776878, -122.400934, 3000000.0], [37.783171, -122.392901, 4417566.0], [29.4748, -81.1274, 116400000.0], [38.912791, -77.22004799999999, 29500000.0], [34.0195, -118.4906, 1000000.0], [34.0195, -118.4906, 1000000.0], [37.548415000000006, -122.315636, 4087500.0], [39.115228, -77.567189, 350000.0], [34.01052, -118.495981, 250000.0], [37.76785, -122.392839, 74000000.0], [37.398022, -122.049143, 29000000.0], [40.735327000000005, -73.988469, 15200000.0], [37.424801, -122.07259, 37200000.0], [37.09024, -95.712891, 1000000.0], [42.396495, -71.12045, 25609989.0], [34.146436, -118.153136, 30600000.0], [45.52254, -122.675536, 15000000.0], [40.757929, -73.985506, 300000000.0], [37.868002, -122.500111, 91500000.0], [37.269175, -119.306607, 110000.0], [35.999586, -78.9065, 4000000.0], [42.389795, -71.23928599999999, 20000000.0], [30.387275, -97.759511, 4000000.0], [37.5583, -122.301385, 108400000.0], [37.66642, -122.383415, 36250000.0], [41.857915000000006, -88.32117099999999, 40000000.0], [37.446382, -122.155678, 426960.0], [30.268735, -97.745209, 1000000.0], [34.153588, -118.422495, 1250000.0], [37.761795500000005, -122.4092704, 6500000.0], [37.859443, -122.291817, 8300000.0], [37.773727, -122.401537, 10000000.0], [37.536394, -122.326141, 21600000.0], [37.773688, -122.423468, 8000000.0], [39.145022, -75.386462, 200000.0], [37.787646, -122.402759, 2620000.0], [37.390918, -122.080843, 1500000.0], [47.634741, -122.340435, 3000000.0], [25.782058, -80.29679399999999, 2500000.0], [43.073968, -77.66317099999999, 500000.0], [37.445326, -122.160671, 200000.0], [37.447071, -122.160254, 93500000.0], [40.7509033, -73.9779759, 40000000.0], [37.429647, -122.100288, 66660000.0], [40.934803, -73.901839, 1200000.0], [37.553121, -122.301534, 8000000.0], [42.349889000000005, -71.05768, 100000.0], [37.4429885, -122.1624131, 27500000.0], [37.37604, -122.025257, 78342730.0], [37.778613, -122.395289, 19500000.0], [40.761855, -73.983754, 60000000.0], [34.146436, -118.153136, 192000000.0], [37.45604, -122.165399, 6100000.0], [37.390704, -122.03039, 113750000.0], [37.781298, -122.395793, 67500000.0], [33.9019812, -118.3812173, 20000000.0], [37.800209, -122.442592, 1500000.0], [41.808458, -88.073008, 33000000.0], [41.685279, -86.12903, 4500000.0], [37.7938969, -122.4000965, 57800000.0], [40.737778000000006, -73.979508, 350000.0], [37.269175, -119.306607, 500000.0], [34.044939, -118.419067, 8000000.0], [37.481407, -122.169958, 51050012.0], [40.634468, -111.804504, 1500000.0], [39.9525762, -75.1652518, 725000000.0], [37.844215000000005, -122.292967, 11750000.0], [37.561589, -122.324571, 49000000.0], [37.789551, -122.40036, 247700000.0], [40.7185614, -73.998662, 45799999.0], [37.352309000000005, -121.968474, 288000.0], [37.774997, -122.410076, 875000.0], [37.407588, -122.019357, 11000000.0], [47.635354, -122.340459, 22800000.0], [40.75406, -73.999003, 33000000.0], [33.585767, -117.731283, 11100000.0], [37.775196, -122.419204, 15000.0], [45.523104, -122.670132, 1200000.0], [40.759243, -73.98459, 1300000.0], [40.66509, -73.980306, 110000.0], [37.226709, -121.98147, 10000000.0], [39.047912, -77.19544, 11700000.0], [37.788408, -122.405412, 22999900.0], [37.566042, -122.322954, 4600000.0], [37.421731, -121.957018, 2000000.0], [47.604279, -122.337437, 28500000.0], [37.7923058, -122.4021273, 5580000.0], [47.61717879999999, -122.3370801, 3450000.0], [42.348691, -71.082523, 201000000.0], [37.44236, -122.161025, 8245630.0], [36.9751032, -122.0253784, 1800000.0], [40.751206200000006, -73.9815333, 31862082.0], [34.085749, -118.343791, 3000000.0], [37.789634, -122.404052, 5000000.0], [43.081862, -89.37049, 2500000.0], [35.914702, -78.902617, 1200000.0], [30.493712, -87.182513, 4000000.0], [37.748676, -122.415813, 6000000.0], [44.509265, -73.183959, 61000000.0], [37.771208, -122.418129, 18450000.0], [37.7893215, -122.4013624, 4000000.0], [42.35888, -71.05682, 25000000.0], [37.3862, -122.0826, 35000.0], [37.412577, -121.916861, 10000000.0], [47.273017, -120.882482, 1250000.0], [37.775196, -122.419204, 13000000.0], [35.786975, -78.647003, 6950000.0], [37.791242, -122.397133, 12000000.0], [37.629393, -122.424975, 27000000.0], [37.407445, -122.019405, 38000000.0], [37.09024, -95.712891, 5340000.0], [27.647678000000003, -80.382114, 16550000.0], [42.324652, -71.261267, 7100000.0], [37.09024, -95.712891, 60699922.0], [37.452992, -122.185098, 10400000.0], [40.702692, -73.989613, 8749993.0], [42.305835, -71.229251, 2305348.0], [40.043029, -75.377916, 1100000.0], [42.214483, -71.185964, 76600000.0], [37.814202, -122.477959, 2350000.0], [39.95129910000001, -75.179869, 8662340.0], [37.269175, -119.306607, 174500000.0], [37.54588, -122.321354, 10000000.0], [33.9192583, -118.3952969, 20250000.0], [37.3795251, -122.0106131, 6090000.0], [39.920606, -105.144276, 13700000.0], [42.3674989, -71.07939520000001, 29000000.0], [40.234451, -111.658656, 5000000.0], [33.075067, -96.823962, 32500000.0], [33.02373, -96.793614, 28500000.0], [38.2310498, -122.6309861, 20000000.0], [34.052187, -118.243425, 7975241.0], [40.744618, -73.987764, 500000.0], [41.645278000000005, -83.618593, 33000000.0], [37.384239, -122.012475, 924752.0], [37.754332, -122.416804, 100000.0], [37.558245, -122.302654, 34800000.0], [41.924899, -87.64044200000001, 1600000.0], [30.238185, -81.543165, 5000000.0], [37.384239, -122.012475, 1000000.0], [34.052187, -118.243425, 200000.0], [40.773557, -73.042188, 30000.0], [37.431941, -122.103076, 500000.0], [41.137996, -73.34415, 425000.0], [37.397302, -122.059562, 31000000.0], [41.8283364, -71.4133543, 9350000.0], [26.837923, -80.134733, 21000000.0], [38.057107, -122.513742, 34100000.0], [36.15057, -95.989442, 6290000.0], [38.279431, -122.668452, 98170000.0], [34.029956, -118.308943, 25630000.0], [39.74893, -104.99342, 44028672.0], [42.297418, -71.21479599999999, 30952000.0], [45.5105, -122.674995, 5300000.0], [46.220919, -119.22322, 151871481.0], [37.7935929, -122.4027868, 13523541.0], [37.445667, -122.166911, 17300000.0], [37.398476, -121.978821, 1000000.0], [34.155869, -118.335292, 250000.0], [37.789518, -122.394265, 14695000.0], [37.789518, -122.394265, 14695000.0], [37.409147, -122.01546299999998, 29288979.0], [37.791128, -122.398126, 250000.0], [33.985399, -118.389452, 2900000.0], [40.7455068, -73.982624, 45000000.0], [38.96524, -77.083389, 49349603.0], [34.067153000000005, -118.409161, 5000000.0], [37.787445, -122.397847, 5800000.0], [45.004089, -93.250179, 1700000.0], [34.048857, -118.251343, 5550000.0], [34.08152379999999, -118.3826743, 43850000.0], [34.101578, -118.33334, 13537704.0], [26.119403, -80.143394, 1936780.0], [37.316653, -122.05074, 16100000.0], [40.763675, -73.964349, 28000000.0], [39.6523451, -104.9832304, 500000.0], [37.44931, -122.160011, 1500000.0], [34.143152, -118.80146, 103000000.0], [37.485786, -122.206246, 6600000.0], [37.5068854, -122.2475729, 53000000.0], [37.420439, -122.07689, 50332109.0], [37.7911186, -122.4011706, 28500000.0], [37.279969, -122.002271, 127400000.0], [37.453665, -122.229069, 19130000.0], [42.363567, -71.091189, 82000000.0], [40.7310476, -74.0078134, 54000000.0], [37.560747, -122.284001, 5600000.0], [37.771927000000005, -122.410217, 750000.0], [30.39791, -97.748714, 50000.0], [34.031178000000004, -118.463841, 7250000.0], [37.384756, -122.087712, 2515000.0], [37.8919079, -122.1192743, 1265000.0], [32.925506, -96.793505, 250000.0], [40.020102, -105.250512, 5100000.0], [30.269004, -97.740395, 3800000.0], [35.828121, -78.789358, 2200000.0], [37.486589, -122.227319, 300000.0], [37.7915, -122.40045, 27000000.0], [37.393836, -122.099454, 19250000.0], [37.561589, -122.324571, 2500000.0], [37.775196, -122.419204, 15000000.0], [37.790346, -122.40185, 3770000.0], [37.37652, -122.075492, 8252331.0], [37.789906, -122.40256940000002, 75500000.0], [37.492685, -122.227765, 4200000.0], [37.390918, -122.080843, 40800000.0], [33.133524, -117.254593, 36300000.0], [37.776467100000005, -122.39579170000002, 1700000.0], [47.620716, -122.347533, 18000000.0], [37.782101, -122.389519, 6000000.0], [37.536402, -122.325129, 7500000.0], [37.403315, -122.145981, 368500000.0], [40.757929, -73.985506, 560001.0], [34.097677000000004, -118.329917, 10000000.0], [32.847521, -117.274609, 250000.0], [37.293687, -121.934573, 70500000.0], [34.01695, -118.451933, 4900000.0], [38.562963, -121.81601, 500000.0], [37.552806, -122.291602, 17950000.0], [42.375034, -71.251069, 14500000.0], [37.44296, -122.151198, 5000000.0], [37.446152000000005, -122.117722, 37539900.0], [40.724604, -73.996876, 10200000.0], [42.375518, -71.27229200000001, 42000000.0], [26.367481, -80.114723, 1840000.0], [38.681201, -90.471595, 5000000.0], [37.4520239, -122.1797053, 55000000.0], [38.223032, -122.261642, 25500100.0], [40.704382, -73.986572, 7000000.0], [37.421447, -122.141604, 28100000.0], [37.41924, -122.208414, 1500000.0], [37.538418, -122.252115, 37600000.0], [37.390918, -122.080843, 20500000.0], [37.269175, -119.306607, 2000000.0], [37.580304, -122.343679, 27100000.0], [30.264254, -97.74129, 250000.0], [42.275263, -71.24762, 1500000.0], [33.8231, -118.328584, 26800000.0], [37.796164000000005, -122.420903, 6000000.0], [40.010295, -105.242005, 68850000.0], [39.116333, -77.18130699999999, 22250000.0], [37.696709000000006, -121.73488600000002, 22750000.0], [35.086388, -106.646185, 1300000.0], [37.558245, -122.302654, 6000000.0], [34.197333, -119.009054, 123437465.0], [42.364367, -71.078978, 13100000.0], [42.38532, -71.20705500000001, 19097622.0], [40.724647, -73.999636, 9000000.0], [37.775196, -122.419204, 12500000.0], [33.2871748, -111.8871813, 70900000.0], [37.444332, -122.161018, 2800000.0], [37.7886717, -122.392725, 155019998.0], [42.272486, -71.424992, 5425636.0], [40.554467, -111.9137871, 53000000.0], [37.316466, -121.873881, 6500000.0], [38.897566, -77.030282, 4650000.0], [42.280988, -83.748882, 25100000.0], [33.781465999999995, -84.387519, 25100000.0], [30.351416, -97.751382, 25100000.0], [40.021416, -105.260931, 25100000.0], [42.36305, -71.087478, 25100000.0], [41.889474, -87.628912, 25100000.0], [32.981465, -97.018196, 25100000.0], [32.809161, -96.807693, 25100000.0], [39.62919, -104.898419, 25100000.0], [42.547807, -83.215498, 25100000.0], [33.658331, -117.861817, 25100000.0], [40.74222, -74.004489, 25100000.0], [33.411898, -111.926263, 25100000.0], [40.444528000000005, -79.946269, 25100000.0], [37.789803000000006, -122.389757, 25100000.0], [34.019282000000004, -118.49428799999998, 25100000.0], [47.675326, -122.351397, 25100000.0], [47.649701, -122.350592, 25100000.0], [38.901113, -77.027101, 25100000.0], [42.048203, -88.03156899999999, 4700000.0], [40.739341, -73.988357, 12000000.0], [42.375392, -71.118487, 12000000.0], [40.752325, -73.988477, 4000000.0], [47.620716, -122.347533, 11849203.0], [37.797435, -122.403175, 13075000.0], [34.052187, -118.243425, 800000.0], [37.767575, -122.411157, 12250000.0], [37.437328, -122.159928, 430000.0], [37.374659, -121.970209, 20250000.0], [37.792083, -122.3946404, 100268406.0], [37.775196, -122.419204, 100000000.0], [42.354023, -71.05809599999999, 500000.0], [41.262403000000006, -73.135894, 6500000.0], [26.310509000000003, -80.127087, 4000000.0], [33.571604, -117.734795, 3000000.0], [37.49654, -122.225128, 8750001.0], [40.76652, -89.571813, 31000000.0], [34.0221299, -118.395743, 38930000.0], [38.632188, -90.214212, 1250000.0], [39.103151, -94.581908, 10000000.0], [33.779028600000004, -84.3776399, 10000.0], [38.513839, -121.498894, 55000.0], [38.97639, -76.503171, 40800000.0], [30.379593, -97.765313, 40800000.0], [33.533027000000004, -111.923849, 350000.0], [42.35888, -71.05682, 375000.0], [42.356812, -71.058185, 38500000.0], [37.791391, -122.402859, 700000.0], [30.2667, -97.7428, 5330000.0], [37.332948, -121.89053, 61800000.0], [37.48032, -122.178371, 9400000.0], [37.626693200000005, -122.1169032, 98000000.0], [40.427361, -111.896722, 80000.0], [42.48774, -71.22386800000001, 11000000.0], [37.840054, -122.29166, 11000000.0], [40.617122, -111.858073, 19000000.0], [42.675189, -71.1469, 19000000.0], [33.642140000000005, -117.855539, 24000000.0], [34.05304, -118.46643, 31490.0], [37.771018, -122.402598, 22400000.0], [32.957695, -117.158245, 6700000.0], [47.617122, -122.305994, 2000000.0], [37.766909000000005, -122.406676, 10000000.0], [37.764169, -122.402021, 56462000.0], [37.755012, -122.41813700000002, 1400000.0], [40.752816, -73.991578, 16600000.0], [37.793274700000005, -122.399929, 11500000.0], [37.780134, -122.396744, 32200000.0], [35.897056, -78.65022900000001, 300000.0], [37.4186097, -122.0937686, 9100000.0], [44.86495, -93.288479, 600000.0], [45.082573, -93.423661, 550000.0], [40.724604, -73.996876, 73000000.0], [34.0263021, -118.380954, 73000000.0], [37.383368, -121.980186, 20885000.0], [37.316653, -122.05074, 11370000.0], [33.103252000000005, -117.266749, 1000000.0], [33.132099, -117.253783, 1000000.0], [40.754211, -73.97917, 29805235.0], [37.777513, -122.397044, 10000000.0], [37.787646, -122.402759, 5000000.0], [40.753631, -73.995487, 34000000.0], [37.4027811, -122.1441615, 9900000.0], [30.375563, -97.78192, 73000000.0], [34.016655, -118.492358, 600000.0], [47.617732, -122.357317, 2600000.0], [40.720764, -73.95796800000001, 10000000.0], [40.039353000000006, -76.307448, 2100000.0], [30.3592737, -81.41287059999999, 300000.0], [40.7309047, -74.006311, 15968956.0], [37.333439, -121.895286, 6000000.0], [33.649727, -117.716808, 198653165.0], [35.79181, -78.74123, 32500000.0], [39.768094, -86.157115, 3802024.0], [40.739833, -73.993158, 17500000.0], [34.050887, -118.459995, 17500000.0], [37.506272, -122.246867, 71225481.0], [38.912827, -77.220028, 10000000.0], [34.420316, -119.688412, 42500000.0], [47.601803, -122.332085, 33672656.0], [47.601803, -122.332085, 33672656.0], [40.754762, -73.988543, 8655804.0], [48.8784787, -122.6242375, 245000.0], [42.485193, -76.45855300000001, 2097106.0], [30.381525, -97.810484, 33850000.0], [38.878040000000006, -77.436151, 10000000.0], [37.285476, -121.944084, 850000.0], [42.393662, -71.25585500000001, 13500000.0], [37.674705, -122.38461, 1010000.0], [37.787683, -122.410943, 15873700.0], [33.73076, -117.885161, 1300000.0], [34.208304, -118.209263, 1000000.0], [37.810448, -122.23986399999998, 10000.0], [39.744875, -104.989447, 6850000.0], [40.716438, -74.033872, 28080000.0], [47.617838, -122.356027, 8000000.0], [40.736796000000005, -73.988339, 5320000.0], [37.406434, -122.014829, 5320000.0], [26.215648, -81.80187, 55500000.0], [28.02998, -82.045178, 3500000.0], [37.775196, -122.419204, 10140000.0], [30.271891, -97.816472, 550000.0], [40.025479, -105.219298, 1980000.0], [42.507486, -83.175991, 300000.0], [37.87168, -122.269494, 300000.0], [38.905327, -77.03889699999999, 2000000.0], [42.295137, -71.200686, 33200000.0], [29.717673, -95.459308, 6200000.0], [37.758352, -122.398379, 1100000.0], [42.36236, -71.099692, 10000000.0], [32.955331, -96.755465, 125000.0], [39.762314, -104.982256, 1415000.0], [42.398424, -71.130297, 3150000.0], [43.637296, -79.425455, 49122326.0], [26.170422, -80.15079399999999, 7000000.0], [33.58273, -117.727468, 12655000.0], [42.928152, -71.45671999999999, 161000000.0], [37.3228, -122.031282, 27000000.0], [37.414232, -122.0875443, 26200000.0], [37.388072, -122.055975, 16000000.0], [42.642268, -73.25259799999999, 3200000.0], [40.0186313, -105.2764361, 15324624.0], [40.73906, -73.990911, 18600000.0], [45.45548, -122.790021, 27000000.0], [40.74034, -74.00721, 31400000.0], [40.723614000000005, -74.007948, 69300000.0], [37.946779, -122.51188799999998, 69300000.0], [37.906966, -122.545763, 3200000.0], [37.480999, -122.173887, 22200000.0], [40.7482, -73.98815400000001, 22200000.0], [37.524422, -122.265869, 78573646.0], [34.017373, -118.453218, 78573646.0], [26.207024, -80.157296, 78573646.0], [35.184421, -106.673731, 5200000.0], [41.091306, -73.923422, 26200000.0], [37.371056, -121.920558, 20000000.0], [40.716440000000006, -74.03392, 487358426.0], [37.788653, -122.401333, 11040000.0], [40.758504, -73.980068, 25000000.0], [40.74963, -73.982575, 560000.0], [42.350027, -71.049225, 9000000.0], [37.787683, -122.410943, 5300000.0], [37.674378, -122.387699, 10250000.0], [37.7850326, -122.4004738, 8000000.0], [40.719609000000005, -74.000754, 8000000.0], [37.370026, -121.965381, 25000000.0], [37.782085, -122.409747, 40000000.0], [37.544987, -122.291394, 35000000.0], [42.485691, -71.19861999999999, 13130000.0], [37.561111, -122.27048700000002, 3000000.0], [40.757716, -73.972321, 8000000.0], [41.831001, -87.626918, 2430000.0], [47.802184, -122.196307, 122500000.0], [37.512253, -122.201099, 122500000.0], [47.765758, -122.184304, 20500000.0], [40.400551, -74.428725, 800000.0], [33.68509, -117.83397, 1451000000.0], [39.169397, -76.811526, 37999998.0], [40.738476, -73.998726, 500000.0], [32.953441, -117.230732, 120000.0], [39.010667, -104.81628, 25000000.0], [28.321337, -81.552229, 3008970.0], [42.369007, -71.110276, 22400000.0], [37.786906, -122.397672, 1708000.0], [41.877867, -87.634781, 27500000.0], [37.665173, -77.587267, 1000000.0], [37.775196, -122.419204, 30000000.0], [47.578174, -122.212731, 6000000.0], [43.6378576, -79.4255306, 1000000.0], [40.037578, -75.366299, 12500000.0], [40.743075, -73.98491899999999, 11020000.0], [41.87675, -87.640458, 44000000.0], [37.55873, -122.27992, 91000000.0], [34.007967, -118.489681, 2000000.0], [41.879535, -87.624333, 1525000.0], [42.358956, -71.054776, 11300000.0], [37.805289, -122.404448, 5000000.0], [41.354796, -72.097348, 250000.0], [37.797435, -122.403175, 52700000.0], [37.5552776, -122.2997532, 80699959.0], [42.351189, -71.057343, 9900000.0], [37.477944, -122.151234, 16297850.0], [30.006694, -90.065749, 25000.0], [37.376066, -121.926678, 300000000.0], [41.256052, -82.61603199999999, 1100000000.0], [34.052107, -118.385271, 125000.0], [37.392428, -122.072479, 36500000.0], [37.7797255, -122.4020593, 17500000.0], [37.630551, -122.42211299999998, 24750000.0], [37.527315, -122.263434, 58400000.0], [37.80598870000001, -122.4099154, 7481854.0], [42.398916, -71.253998, 50500000.0], [37.556152, -122.281484, 50500000.0], [37.779097, -122.39365, 8467282.0], [37.791068, -122.401942, 4276568.0], [33.581675, -117.726176, 57100000.0], [38.048906, -84.499838, 5380000.0], [36.059658, -115.23671000000002, 15000000.0], [37.374755, -122.115532, 1000000.0], [35.3846, -80.786532, 1000000.0], [33.465063, -111.92611200000002, 373750.0], [40.58606, -74.664666, 21500000.0], [40.605291, -74.715385, 21500000.0], [40.743564, -73.99108199999999, 14500000.0], [37.2816136, -121.9410679, 16000000.0], [41.849577, -87.99212, 70000.0], [36.1628, -86.781, 3613374.0], [37.437328, -122.159928, 4700000.0], [37.317799, -121.947497, 14000000.0], [32.991006, -117.272919, 83703892.0], [37.400689, -122.0572, 2550000.0], [37.775196, -122.419204, 2251000.0], [43.691013700000006, -70.2694636, 2251000.0], [42.35198, -71.047739, 4500000.0], [40.741179, -73.99318199999999, 19200000.0], [42.66208, -71.108754, 340000.0], [34.057646000000005, -118.417382, 1435000.0], [28.032975, -82.64611, 5900000.0], [40.746332, -73.982596, 33648126.0], [26.401235, -80.113167, 37698411.0], [32.891152000000005, -117.200712, 500000.0], [33.902696, -118.387511, 70000000.0], [37.536402, -122.325129, 24000000.0], [37.7976785, -122.4018163, 11000000.0], [37.55873, -122.27992, 5160800.0], [33.697222, -117.775264, 15000.0], [37.798684, -122.40264, 5000000.0], [37.28645, -121.943117, 27250000.0], [32.900302, -117.206736, 15000.0], [37.40754, -122.010958, 13250000.0], [40.707645, -74.010816, 32500000.0], [42.391389, -71.270987, 21900000.0], [42.142261, -87.862305, 2000000.0], [42.687142, -71.21215600000001, 14000000.0], [36.163965000000005, -86.796377, 150000.0], [40.702847, -73.99068100000001, 6500000.0], [37.44931, -122.160011, 300000.0], [37.775196, -122.419204, 18700000.0], [37.48413, -122.169472, 31828793.0], [30.387353000000004, -97.753163, 15200000.0], [40.090814, -88.239866, 1200000.0], [37.536394, -122.326141, 41102097.0], [39.755363, -105.008551, 41102097.0], [40.746951, -73.99225, 46000000.0], [32.893366, -117.200035, 11500000.0], [41.073034, -73.550452, 11499997.0], [41.882401, -87.637816, 1204650.0], [33.852384, -84.38056800000001, 4750000.0], [33.946285, -118.38823, 2500000.0], [37.390918, -122.080843, 52000000.0], [47.582658, -122.135282, 10000000.0], [37.424614, -122.145153, 930000.0], [35.868807000000004, -78.61598599999999, 17600000.0], [37.275604, -121.952034, 17600000.0], [37.512318, -122.20091399999998, 15200000.0], [37.410439, -122.016125, 328600000.0], [39.97764, -105.13114, 13269616.0], [38.897976, -77.028561, 250000.0], [47.580235, -122.145038, 2250000.0], [42.616152, -71.325869, 27750000.0], [42.349048, -71.082153, 40673570.0], [43.093886, -70.784798, 24500000.0], [40.075156, -75.28506, 24500000.0], [41.78942, -87.596232, 1000000.0], [40.740441, -73.993376, 6250000.0], [37.510805, -122.203744, 68000000.0], [39.930354, -105.092218, 18000.0], [40.0173513, -105.2773493, 1015000.0], [41.958157, -87.674729, 3000000.0], [42.277416, -83.733276, 38300000.0], [37.522281, -122.258139, 5172349.0], [37.782101, -122.389519, 130000.0], [37.783046, -122.394067, 1100000.0], [37.7924253, -122.4010019, 750000.0], [34.078345, -118.5475, 475000.0], [37.7726402, -122.4099154, 61600000.0], [42.368633, -71.075305, 121500000.0], [40.751478000000006, -73.980305, 121500000.0], [37.452011, -122.182824, 350000.0], [37.384239, -122.012475, 3100000.0], [37.386773, -122.075222, 100000.0], [37.501065, -121.933191, 45000.0], [35.963029, -83.918392, 280000.0], [40.775309, -73.98365600000001, 1310000.0], [40.707729, -74.007801, 44925050.0], [37.794124, -122.403223, 800000.0], [38.703764, -90.443832, 205000.0], [37.775196, -122.419204, 1000000.0], [36.13996, -86.796377, 15286415.0], [37.555962, -122.288006, 27000000.0], [37.386665, -122.084171, 250000.0], [37.561877, -122.325248, 28000000.0], [40.502908000000005, -112.032503, 230000.0], [34.433471000000004, -119.82053700000002, 375000.0], [37.7983181, -122.4000032, 14229998.0], [37.791576, -122.399363, 500000.0], [41.916619, -87.686634, 1750000.0], [37.775196, -122.419204, 1100000.0], [42.513762, -71.243267, 12322500.0], [34.01529420000001, -118.4965479, 351600000.0], [37.444393, -122.163139, 225000.0], [40.822087, -73.950677, 150000.0], [47.685626, -122.145808, 68000000.0], [37.796843, -122.400346, 33000000.0], [37.777092, -122.391011, 1000000.0], [37.390501, -122.081151, 24300000.0], [37.4465496, -122.1709208, 215600000.0], [34.156971, -118.493484, 29540000.0], [33.917509, -84.356503, 11365000.0], [40.756054, -73.986951, 50000.0], [40.058448, -105.278785, 13250000.0], [37.5574, -122.301914, 12100000.0], [30.355703, -97.797117, 25830908.0], [40.45852, -80.190484, 8000000.0], [34.111471, -118.174878, 10600000.0], [33.987216, -118.440266, 160000.0], [37.392189, -122.033456, 22600000.0], [30.369586, -97.981336, 100000.0], [37.476801, -122.21157, 67650000.0], [37.580093, -122.347745, 10000000.0], [37.437328, -122.159928, 15000.0], [30.268735, -97.745209, 15000.0], [28.757202000000003, -81.334464, 23326001.0], [29.985528, -95.308299, 4100000.0], [33.69361, -117.765492, 6000000.0], [40.730763, -74.000827, 26000006.0], [37.487281, -122.227995, 500000.0], [37.418262, -122.087859, 8600000.0], [37.78985, -122.400683, 6700000.0], [35.9939, -78.8986, 2511360.0], [37.764395, -122.401024, 2300000.0], [40.809076, -74.119948, 83000.0], [37.368878, -121.91723600000002, 1700000.0], [37.771706, -122.402683, 800000.0], [33.426418, -111.9396, 1000000.0], [39.658017, -105.084475, 1500000.0], [39.013234, -76.544422, 35000.0], [37.575886700000005, -122.3277578, 1000000.0], [30.310978, -81.65770699999999, 2000000.0], [42.496914, -83.435298, 500000.0], [27.770937, -82.701882, 1000000.0], [32.969251, -96.823778, 9100000.0], [37.7893215, -122.4013624, 22750000.0], [47.657435, -122.324861, 314169.0], [37.787204, -122.397884, 5450000.0], [39.95497, -75.16759499999999, 15000000.0], [39.95497, -75.16759499999999, 15000000.0], [42.359146, -71.05660400000001, 34000000.0], [37.415679, -122.011495, 20500000.0], [40.7568493, -73.97934649999999, 2000000.0], [37.787954, -122.399347, 5500000.0], [40.646166, -73.889492, 11000000.0], [38.537252, -121.486347, 150000.0], [41.243385, -96.017697, 175000.0], [42.042848, -87.682631, 30000000.0], [40.064092, -75.46800999999999, 30000000.0], [33.660740000000004, -117.739333, 4500000.0], [37.383526, -122.012808, 12600000.0], [42.543932, -71.27869799999999, 30500000.0], [33.92167, -84.317087, 3730000.0], [37.419347, -122.089639, 7660000.0], [45.560899, -94.159452, 38000000.0], [30.485345, -97.771565, 90000.0], [41.8965162, -87.643622, 1147288416.0], [30.270275, -97.740333, 7350000.0], [30.401356, -97.752535, 190120000.0], [37.787209, -122.399211, 7900000.0], [30.297775, -97.762921, 12600000.0], [30.212566, -97.748221, 12500000.0], [30.2686147, -97.7404872, 11682151.0], [30.268735, -97.745209, 1300000.0], [30.392018, -97.848345, 16898621.0], [30.268735, -97.745209, 7100000.0], [47.6130554, -122.1967108, 21100000.0], [37.7611016, -122.4160008, 50000.0], [37.511043, -122.204766, 62000000.0], [34.147047, -118.148896, 9000000.0], [30.290699, -97.750885, 74996.0], [37.571318, -122.267962, 22000000.0], [32.800325, -96.820064, 700000.0], [47.614761, -122.198904, 30700000.0], [40.098998, -75.469084, 5999999.0], [37.759117, -122.415869, 39800000.0], [40.768058, -73.956599, 200000.0], [40.714056, -73.957854, 200000.0], [42.23988, -71.839344, 25000.0], [34.052187, -118.243425, 5000000.0], [34.062164, -118.358787, 11220000.0], [42.3584308, -71.05977320000001, 2939581.0], [39.193953, -77.26616800000001, 113000000.0], [35.774898, -78.6754, 100000.0], [37.78691, -122.404403, 1000000.0], [40.741594, -73.990468, 1000000.0], [27.765455, -82.663026, 915000.0], [34.141876, -118.132377, 28000000.0], [37.279485, -121.94356, 69900000.0], [33.012646000000004, -96.692498, 15000000.0], [37.229335, -121.966908, 125000.0], [40.250096, -111.643179, 3650000.0], [37.775196, -122.419204, 3750000.0], [45.23311, -92.859239, 1000000.0], [32.897274, -117.201076, 17000000.0], [34.030685, -118.464223, 10000000.0], [37.503959, -122.249085, 15700000.0], [33.653341999999995, -117.748994, 20000.0], [37.334596000000005, -121.89291, 500000.0], [37.334738, -121.891516, 73870000.0], [42.355077, -71.056928, 73870000.0], [37.285154, -121.932882, 1300000.0], [40.234939, -111.658494, 9197854.0], [40.738143, -74.00815899999999, 28000000.0], [29.947907, -90.071087, 200000.0], [37.49428579999999, -121.9814354, 40000000.0], [42.492256, -71.13454899999999, 11600000.0], [37.444098, -122.16128700000002, 49860000.0], [45.484413, -122.67583799999998, 51750000.0], [39.767289, -86.13979300000001, 182600000.0], [47.620973, -122.347276, 50000000.0], [37.458766, -122.172519, 3900000.0], [37.55911, -122.303493, 9500000.0], [42.508719, -71.144313, 9500000.0], [40.70612, -74.013537, 5500000.0], [42.398424, -71.130297, 5000000.0], [38.916336, -77.230488, 7516703.0], [37.320052, -121.877636, 24000000.0], [37.429676, -122.1085482, 15000000.0], [41.815805, -72.17105699999999, 12914607.0], [41.889832, -87.62671800000001, 17000000.0], [37.79023, -122.403073, 1400000.0], [34.167314000000005, -118.590286, 3500000.0], [37.369445, -121.967223, 107100000.0], [37.445667, -122.166911, 14100000.0], [35.088552, -80.84277800000001, 12400000.0], [37.77772, -122.395785, 1000000.0], [45.494668, -122.827044, 60000.0], [39.9052263, -86.0547016, 14255000.0], [36.002893, -78.904075, 5000000.0], [40.718888, -74.00116899999999, 5000000.0], [40.744594, -73.989698, 1300000.0], [40.718888, -74.00116899999999, 33000000.0], [34.394343, -119.51231, 3100000.0], [47.604242, -122.334448, 11000000.0], [41.889183, -87.63251899999999, 1600000.0], [37.559090000000005, -122.321836, 10104119.0], [37.804619, -122.371203, 6000000.0], [42.483826, -71.19426800000001, 14603757.0], [40.74632, -73.982607, 45000000.0], [37.39972, -122.108306, 45000000.0], [37.55287, -122.29166200000002, 47300000.0], [37.7870923, -122.3999719, 4000000.0], [29.973994, -90.082202, 1000000.0], [37.391198, -121.93393, 118000000.0], [47.6100115, -122.3400431, 5800000.0], [44.868986, -93.324191, 200000.0], [32.925484999999995, -96.812598, 3500000.0], [28.541361, -81.372858, 500000.0], [37.4456232, -122.1617496, 47500000.0], [37.795191, -122.430411, 3300000.0], [40.747819, -73.98254399999999, 300000.0], [37.451702, -122.182253, 24500000.0], [40.010492, -105.276843, 82750000.0], [40.756054, -73.986951, 28400000.0], [37.775196, -122.419204, 28400000.0], [41.8851542, -87.62231829999999, 940261.0], [40.743662, -73.984268, 100000.0], [40.743662, -73.984268, 100000.0], [39.944003, -105.16519, 7000000.0], [37.419041, -122.087471, 2000000.0], [37.418616, -122.087417, 63614000.0], [40.740207, -73.987002, 51799963.0], [40.744618, -73.987764, 7550000.0], [37.425359, -122.1389633, 24030000.0], [41.0662835, -73.8625452, 37800000.0], [37.781262, -122.394958, 750000.0], [36.142944, -115.279894, 50000.0], [47.6196804, -122.3567563, 69000000.0], [33.056012, -96.770371, 300000.0], [37.420428, -122.090769, 18250000.0], [28.542896, -81.378805, 350000.0], [37.789126, -122.40203, 45585068.0], [47.582952, -122.135527, 45585068.0], [37.563039, -122.277639, 789039992.0], [38.023023, -78.436144, 21836378.0], [47.5827406, -122.1353561, 39800000.0], [34.045845, -118.237811, 3000000.0], [39.360128, -84.308653, 3000000.0], [33.991756, -118.468226, 20000000.0], [40.724604, -73.996876, 20000000.0], [30.211761, -97.767524, 50000.0], [37.352313, -121.967982, 252303692.0], [37.560236, -122.286752, 12875000.0], [47.6077158, -122.3397906, 6865000.0], [37.3874345, -122.051793, 17000000.0], [37.3183744, -122.0302814, 1000000.0], [37.448944, -122.161415, 650000.0], [33.776834, -84.3895875, 1000000.0], [37.40688, -121.980353, 2750000.0], [42.398878100000005, -71.2537056, 30300000.0], [44.6686534, -74.9822149, 1000000.0], [37.485824, -122.212095, 14000000.0], [42.917329, -78.867993, 3000000.0], [33.4590557, -117.65136470000002, 100000.0], [42.093751, -75.95971800000001, 3200000.0], [42.441678, -71.424317, 27500000.0], [37.386774, -121.98766100000002, 3900000.0], [42.357119, -71.1858605, 86708653.0], [42.4898278, -71.19931059999999, 19350001.0], [33.676444000000004, -117.8587, 50000000.0], [42.430844, -71.237976, 350000.0], [34.064286, -118.372638, 30000000.0], [45.3039175, -93.6081536, 67872327.0], [34.070164, -84.058708, 40806300.0], [37.755012, -122.41813700000002, 8300000.0], [40.4273613, -111.89672240000002, 2000000.0], [47.651315, -122.3498959, 14500000.0], [38.872668, -77.367981, 7500000.0], [42.393551, -71.128231, 600000.0], [40.01573320000001, -105.275027, 4000000.0], [32.9388917, -117.2398594, 34700000.0], [30.4156188, -97.8014482, 15000.0], [40.753918, -73.981237, 500000.0], [34.144926, -118.149767, 1830000.0], [33.877719, -117.92453799999998, 1830000.0], [37.7618242, -122.3985871, 41290000.0], [42.45434, -71.066148, 10000.0], [39.69263, -104.955012, 25000.0], [42.055849, -87.694664, 12800000.0], [41.7052783, -86.91187579999999, 65000.0], [40.751969, -73.99031, 2300000.0], [33.8656817, -84.4709443, 2300000.0], [39.024958000000005, -77.389687, 4000000.0], [38.9806, -77.1008, 65931050.0], [37.4224243, -122.09881609999998, 30240000.0], [42.7370219, -71.48729759999999, 24300000.0], [37.5600585, -122.270249, 30839600.0], [37.409096000000005, -121.94319099999998, 42500000.0], [33.770101700000005, -112.262246, 15000.0], [37.395335, -122.102339, 26370000.0], [37.317799, -121.947497, 250000.0], [42.3491268, -71.0491083, 1200000.0], [37.3944561, -122.0785314, 124500000.0], [37.3792486, -122.1151274, 1000000.0], [30.27995, -97.807274, 4000000.0], [40.756054, -73.986951, 500000.0], [34.052187, -118.243425, 500000.0], [41.4778641, -72.81901059999998, 650000.0], [40.7451545, -73.98695490000001, 45000000.0], [34.420316, -119.688412, 655000.0], [45.504407, -122.655545, 2370000.0], [44.977482, -93.264351, 2300000.0], [40.779947, -73.953502, 269999.0], [38.6501668, -90.2598684, 8093000.0], [40.0018743, -75.2747196, 8500000.0], [28.66677, -81.392794, 125000.0], [36.0463849, -95.9550264, 350000.0], [42.3472851, -71.0499948, 28300000.0], [47.852479, -122.218976, 28300000.0], [36.107542, -86.8180745, 50500000.0], [37.7895289, -122.3885899, 57450000.0], [38.917237, -77.23265699999999, 962574.0], [40.756054, -73.986951, 2500000.0], [42.485102000000005, -71.211568, 29050000.0], [39.914281, -86.07647800000001, 2192000.0], [41.143608, -73.427439, 20690000.0], [34.148198, -118.762487, 20690000.0], [41.3215202, -72.9294232, 2700000.0], [42.360098, -71.085909, 344999.0], [29.787991, -95.598441, 750000.0], [41.238038, -96.183033, 32500000.0], [37.782978, -122.394517, 4100000.0], [33.6483927, -117.73274209999998, 800000.0], [38.655141, -121.069525, 250000.0], [47.6504518, -122.3545086, 15000000.0], [42.856515, -73.782775, 31000000.0], [37.5383063, -122.2523918, 13600000.0], [40.8887993, -73.17626259999999, 250000.0], [40.721898, -73.999356, 9450000.0], [38.9455881, -77.3430173, 18734312.0], [40.751336, -73.980739, 18734312.0], [35.5818151, -82.64124620000001, 1400000.0], [33.6171763, -111.8714978, 250000.0], [40.7269767, -73.9894584, 1000000.0], [34.0152843, -118.49567340000002, 1000000.0], [37.776246, -122.4179223, 142000000.0], [40.018145, -105.278109, 8015000.0], [37.3909185, -122.0808426, 68881020.0], [37.5455355, -122.32088020000002, 9400000.0], [37.428087700000006, -122.143368, 22100000.0], [37.553743, -122.300246, 2700000.0], [37.39682620000001, -121.8957166, 60000000.0], [37.5353434, -122.2558368, 36100000.0], [40.256352, -74.707032, 2250000.0], [42.376862, -71.14461999999999, 1770000.0], [35.038726000000004, -85.315282, 4600000.0], [39.9443552, -75.12573809999999, 12727468.0], [37.536402, -122.325129, 44750000.0], [45.530364, -122.841627, 44750000.0], [37.770067, -122.407603, 3800000.0], [37.796578100000005, -122.40228559999998, 2000000.0], [40.744639, -73.983963, 29330000.0], [40.705439, -74.012822, 34150000.0], [30.389042, -97.756264, 14499990.0], [33.6396749, -117.9416077, 600000.0], [37.793148, -122.402567, 39868500.0], [42.062816, -88.034017, 47000000.0], [37.765388, -122.403111, 43500000.0], [47.7562682, -122.3442903, 250000.0], [37.320796, -121.82804099999998, 34860000.0], [35.7998482, -78.87223409999999, 5300000.0], [40.748483, -73.99208399999999, 9250000.0], [45.519154, -122.675428, 1500000.0], [40.738954, -73.992, 5900000.0], [37.665469, -122.38222, 59000000.0], [42.052004, -88.144397, 54000000.0], [44.98983, -93.2743, 7616310.0], [41.259751, -95.942336, 25000.0], [37.3052616, -121.9316491, 56000000.0], [35.848054, -78.829934, 26500000.0], [47.6018054, -122.3342382, 17635000.0], [37.40685, -121.98132, 49900000.0], [47.5990443, -122.3342758, 17400000.0], [40.769375, -73.982635, 18000000.0], [37.8665325, -122.2634131, 750000.0], [37.400367, -121.985711, 4410000.0], [37.4102801, -121.9210492, 87342500.0], [37.4852445, -122.182454, 11800000.0], [32.912063, -117.114827, 16000000.0], [37.530327, -122.257222, 16000000.0], [38.94794, -77.347961, 1500000.0], [37.381876, -121.95993, 68400000.0], [40.7172211, -74.0406491, 1112877.0], [32.933939, -96.827985, 34000000.0], [34.0240159, -118.3767176, 10250000.0], [40.7557162, -73.9792469, 2425700000.0], [37.4123706, -122.0216271, 52000000.0], [39.7605421, -84.1949463, 1000000.0], [45.6217467, -122.41492209999998, 500000.0], [33.9874429, -118.3846632, 26800000.0], [45.519179, -122.677001, 27600000.0], [35.91105, -78.85015600000001, 21000000.0], [39.035298, -77.430125, 59000000.0], [42.400416, -71.255286, 59000000.0], [37.552806, -122.2916021, 59000000.0], [41.396813, -81.456144, 7720000.0], [37.791564, -122.399981, 21138876.0], [47.6136485, -122.3371174, 2624000.0], [37.560155, -122.285588, 15180000.0], [37.559863, -122.286151, 2500000.0], [34.0497638, -118.2474287, 40000000.0], [37.787247, -122.399959, 250000.0], [34.4356217, -119.8462682, 22000000.0], [37.386257, -122.066801, 3479850.0], [33.84406, -118.322959, 8000000.0], [42.6555302, -71.1455618, 8000000.0], [37.793783000000005, -122.401001, 50500000.0], [37.553121, -122.301534, 33542183.0], [37.406217, -121.976473, 5500000.0], [33.9782287, -118.4303427, 17000000.0], [39.5148219, -119.7774302, 155000000.0], [37.458501, -122.432846, 20000000.0], [34.433445299999995, -119.861747, 24100000.0], [42.2538545, -83.739646, 2115100.0], [26.2341552, -80.15402259999999, 1950000.0], [37.3941256, -122.0797269, 33730000.0], [32.903231, -117.188987, 2000000.0], [34.020165000000006, -118.49641, 2000000.0], [37.3949615, -122.1425097, 835750000.0], [40.4502734, -74.5299854, 17000000.0], [32.88791, -117.176096, 11000000.0], [39.8705647, -86.2374314, 6116923.0], [39.6478, -104.9875, 50000000.0], [37.406217, -121.976473, 49000000.0], [37.394392, -122.04221, 155300000.0], [37.382376, -122.037607, 12000000.0], [40.756054, -73.986951, 3000000.0], [37.775196, -122.419204, 1500000.0], [42.496515, -71.480233, 24500000.0], [33.90195429999999, -118.3872018, 8655804.0], [34.015986, -84.38893399999999, 3000000.0], [40.829813, -74.320006, 17500000.0], [47.6154389, -122.3479567, 100591501.0], [37.39411, -122.0767266, 250000.0], [37.477037, -122.15164, 35000000.0], [41.272195, -96.111348, 15798.0], [37.381341, -121.977065, 32000000.0], [37.3915589, -122.0702643, 26000000.0], [37.400867, -122.033281, 163600000.0], [39.9443552, -75.12573809999999, 7450000.0], [37.352169700000005, -122.0622892, 37000000.0], [37.4071848, -122.0194922, 11000000.0], [34.117739, -118.367859, 1700000.0], [37.303338700000005, -121.979634, 10379997.0], [37.838146, -122.299445, 20700000.0], [37.419093, -122.140318, 64700000.0], [37.7662, -121.95812, 24000000.0], [37.38153, -122.037823, 162000000.0], [37.3868616, -121.9917771, 10000000.0], [37.430025, -122.09998, 17400000.0], [32.7154, -117.1565, 35150000.0], [37.841433, -122.294712, 6200000.0], [37.783171, -122.392901, 15000000.0], [40.726517, -74.032177, 50594855.0], [37.7900992, -122.4021988, 7000000.0], [37.3670126, -121.9183082, 25300000.0], [47.5990443, -122.3342758, 7000000.0], [42.309399, -71.436358, 840000.0], [37.781823, -122.392547, 12100900.0], [37.7710177, -122.4025976, 23500000.0], [37.477037, -122.15164, 38000000.0], [32.986953, -96.801837, 8850000.0], [37.3968078, -121.9113633, 409900000.0], [37.789801, -122.395327, 5000000.0], [47.6042933, -122.3374506, 35419873.0], [37.569181, -122.276512, 25000000.0], [40.090392, -88.239237, 6400000.0], [33.8656817, -84.4709443, 6084609.0], [40.0179964, -105.28002250000002, 35200000.0], [37.560155, -122.285588, 20000000.0], [33.63776, -117.855989, 4476171.0], [37.563585, -122.324621, 12800000.0], [37.554214, -121.977451, 26100000.0], [37.789551, -122.40036, 29500000.0], [40.707645, -74.010816, 29500000.0], [37.4253795, -122.1456727, 89950000.0], [42.2838134, -71.5700473, 72100000.0], [37.399208, -121.97895, 58907998.0], [37.316652600000005, -122.05074, 74000000.0], [35.808736, -78.623191, 25000000.0], [33.092304, -96.67819, 93150000.0], [37.862592, -122.493561, 40300000.0], [42.377535, -71.149057, 10000000.0], [37.5078425, -121.9554213, 29000000.0], [40.756054, -73.986951, 3499997.0], [34.1086325, -118.0215818, 53818873.0], [40.79034, -74.385196, 43000000.0], [37.7864636, -122.3978187, 43000000.0], [33.7812614, -84.36756170000001, 13600000.0], [37.295516, -121.960102, 4940000.0], [39.017871, -77.455224, 31000000.0], [37.8093381, -122.4166061, 3500000.0], [40.0322598, -105.2271513, 36250948.0], [41.459037, -73.394835, 11605352.0], [38.964057700000005, -77.35593850000001, 1000000.0], [37.3913, -122.03753799999998, 64946214.0], [27.770221000000003, -82.735899, 1455000.0], [37.791128, -122.398126, 20500000.0], [40.7398335, -73.99315820000001, 20500000.0], [37.270518, -121.955879, 3100000.0], [37.39628270000001, -122.105531, 49000000.0], [37.810716, -122.263905, 28300000.0], [37.3694441, -121.9662996, 7000000.0], [37.404044, -121.978956, 27000000.0], [37.4706242, -121.9382818, 40700000.0], [40.77257, -112.01098600000002, 22500000.0], [34.0758, -84.2956, 90000.0], [41.513652, -81.666101, 10525040.0], [37.785271, -122.397582, 10200000.0], [37.796396, -122.404869, 7000000.0], [34.0512574, -84.2783459, 30000000.0], [37.381034, -121.971487, 22000000.0], [31.5682893, -97.1973664, 30000.0], [34.0431973, -118.445584, 1200000.0], [40.752539, -73.987871, 5704626.0], [34.430786, -119.715074, 50000.0], [37.785271, -122.397582, 5000000.0], [37.4434186, -122.1607586, 30073834.0], [37.409618, -122.017792, 25000000.0], [37.524422, -122.265869, 15600000.0], [30.208939, -97.749879, 17000000.0], [37.32136, -122.014616, 21700000.0], [37.445111, -122.160779, 54000000.0], [37.384206, -121.992805, 14500000.0], [37.3938424, -121.9318273, 23000000.0], [37.498842, -122.239815, 6000000.0], [37.3731161, -121.9659387, 10000000.0], [38.3214803, -122.671198, 16200000.0], [33.553278000000006, -117.6779, 26200000.0], [39.1878563, -77.2610228, 40000000.0], [32.948733000000004, -96.827495, 34298586.0], [42.48366, -71.221878, 10000000.0], [37.789778000000005, -122.401736, 20500000.0], [37.737609, -122.435399, 16333000.0], [37.8983665, -122.27956670000002, 16333000.0], [27.913011, -82.702449, 4200000.0], [42.352313, -71.20695, 90140000.0], [42.548008, -83.214753, 5000000.0], [37.7915, -122.40045, 4200000.0], [37.386774, -121.98766100000002, 12000000.0], [37.5583159, -122.2862187, 45986727.0], [42.2960173, -71.2128734, 14000000.0], [37.787445, -122.397847, 10300800.0], [37.3936563, -122.0279022, 79000000.0], [37.666359, -121.884589, 12485060.0], [37.3767076, -121.997483, 12000000.0], [38.0085435, -122.5447216, 13000000.0], [37.41668, -121.949456, 13000000.0], [37.3868616, -121.9917771, 1400000.0], [37.261986, -121.784279, 55900000.0], [42.350359000000005, -71.0506234, 6000000.0], [37.377787, -122.029217, 20220000.0], [42.5246737, -83.266657, 800000.0], [36.9397206, -121.7768449, 7000000.0], [37.792085, -122.399368, 15000000.0], [37.400465, -122.073003, 500000.0], [37.4587657, -122.1725191, 80000000.0], [37.370056, -121.973157, 12000000.0], [42.3470472, -71.0734942, 2600000.0], [37.401951, -122.053791, 5000000.0], [37.237937, -121.974591, 28000000.0], [34.185043, -118.878852, 24500000.0], [40.6599808, -73.9948358, 550000.0], [37.352313, -121.967982, 76161393.0], [37.370607, -121.9229966, 82600000.0], [37.4092917, -122.014027, 95000000.0], [37.8038969, -122.2700719, 1400000.0], [37.4777028, -121.9250553, 19500000.0], [34.060523, -118.367703, 600000.0], [37.380364, -121.9823779, 14750000.0], [37.661002, -121.897829, 9000000.0], [37.367838, -121.915594, 3540000.0], [37.785655, -122.398393, 16500000.0], [37.371088, -121.925355, 33041484.0], [33.817752, -84.120458, 36300000.0], [40.7429533, -73.98446109999999, 18000000.0], [40.7429533, -73.98446109999999, 18000000.0], [37.39853, -122.036018, 13800000.0], [42.462373, -71.38730799999999, 37000000.0], [36.158887, -86.78205600000001, 25300000.0], [37.3190224, -121.911101, 7629000.0], [37.43841079999999, -121.9240273, 43000000.0], [37.404044, -121.978956, 8500000.0], [42.294516, -71.2269013, 375000.0], [37.7934643, -122.3979712, 500000.0], [47.6026054, -122.2848651, 15000000.0], [47.6011125, -122.32939840000002, 6000000.0], [32.890757, -117.211026, 18000000.0], [37.2485689, -121.9665699, 18000000.0], [32.836277, -96.806578, 18000000.0], [40.713753, -74.012918, 3985050000.0], [37.788796000000005, -122.40971, 4500000.0], [29.9739941, -90.0822015, 4500000.0], [34.213925, -118.487236, 4500000.0], [37.3938849, -122.0333152, 40731000.0], [37.795141, -122.401194, 12500000.0], [38.814329, -77.038605, 8600000.0], [47.6075374, -122.3403478, 27000000.0], [37.387226, -122.049945, 46750000.0], [40.7464969, -74.00944709999999, 200000.0], [42.35892, -71.05781, 200000.0], [42.354257, -71.056605, 16315000.0], [42.3805557, -71.1746277, 68200000.0], [37.5353256, -77.43381629999999, 225000.0], [41.88415, -87.641671, 14000000.0], [42.5254909, -71.4295021, 16000000.0], [37.317799, -121.947497, 47000000.0], [30.35504, -97.801083, 3000000.0], [47.6015945, -122.3342447, 65000000.0], [42.32785629999999, -122.8720645, 100000.0], [37.3969138, -121.8939054, 148000000.0], [47.611827000000005, -122.331308, 30000000.0], [37.409064, -121.943149, 113188900.0], [37.561111, -122.27048700000002, 4000000.0], [45.528908, -122.846665, 66725182.0], [37.437328, -122.159928, 3000000.0], [40.756054, -73.986951, 2497633.0], [32.928506, -117.23905, 50200000.0], [37.388529, -121.967199, 48000000.0], [37.293687, -121.934573, 12800000.0], [37.3797808, -122.0140777, 30000000.0], [37.408967, -122.074434, 58251000.0], [47.6115873, -122.1961785, 1200000.0], [37.3218356, -121.9478049, 100000.0], [47.620973, -122.347276, 1000000.0], [25.705057, -80.271378, 4640539.0], [41.722414, -72.61895799999999, 11311711.0], [45.5251, -122.8097, 1450000.0], [37.5384185, -122.252115, 12500000.0], [30.408322, -97.748077, 6528902.0], [37.287285, -121.942932, 7500000.0], [33.357125, -111.974507, 7500000.0], [33.6220214, -111.8750635, 50000.0], [40.551402, -74.32106999999999, 4000000.0], [40.8137127, -74.223802, 27000.0], [34.0762155, -118.318593, 280000.0], [34.0324612, -118.4818277, 100000.0], [33.991101, -118.468707, 39007789.0], [33.991101, -118.468707, 39007789.0], [37.7891086, -122.4016144, 39007789.0], [37.7891086, -122.4016144, 39007789.0], [47.486176, -122.185567, 250000.0], [34.052187, -118.243425, 15000.0], [40.733201, -73.991535, 2285000.0], [34.0644639, -118.3730432, 2285000.0], [37.4233698, -122.09868590000002, 1200000.0], [40.611079700000005, -111.853717, 35265626.0], [33.991038399999994, -118.4482817, 50000.0], [37.388077, -122.08316, 1300000.0], [47.544341, -122.334732, 23000000.0], [40.74727, -73.9800645, 8009431.0], [42.388133, -71.26321999999999, 72800000.0], [37.55617120000001, -122.0780632, 1000000.0], [40.749577, -73.99164859999999, 19743770.0], [38.898971, -77.029127, 19743770.0], [30.4567824, -97.7928697, 19743770.0], [37.7905948, -122.406111, 2700000.0], [47.6023367, -122.2850112, 5000000.0], [37.3785351, -122.086585, 155000.0], [34.1078241, -118.7526699, 2306560.0], [40.752672, -73.97593, 69000000.0], [47.620221, -122.190941, 56546875.0], [40.782555, -73.984498, 1300000.0], [47.676762, -122.2049192, 4800000.0], [37.413319, -121.9160606, 50300006.0], [35.947343, -86.805038, 4209965.0], [33.5842816, -117.7306817, 5500000.0], [42.318138, -71.24756, 55799998.0], [37.414271, -122.134666, 19300000.0], [37.3944561, -122.0785314, 6000000.0], [37.7759421, -122.3931139, 50000000.0], [40.7454971, -73.9826042, 15000000.0], [40.731131700000006, -73.9919311, 1000000000.0], [40.6583691, -73.7267685, 5600.0], [29.717881, -95.452352, 30000.0], [42.6751888, -71.1469003, 15100000.0], [34.849294, -82.3996325, 100000.0], [34.97071029999999, -85.3509296, 2000000.0], [37.511228, -122.200622, 2383000.0], [40.803329, -73.410677, 90000.0], [26.72868, -80.099946, 10500000.0], [40.0751561, -75.2850602, 3000000.0], [47.6257402, -122.3581623, 9000000.0], [37.777995, -122.408914, 6230000.0], [41.311027, -72.929874, 1570000.0], [42.4871509, -71.1986329, 15000000.0], [30.498112, -97.777273, 14500000.0], [40.756054, -73.986951, 270000.0], [42.9959408, -71.4634803, 38000000.0], [42.3646133, -71.1948162, 3000000.0], [37.504764, -122.259568, 36000000.0], [38.903324, -77.039348, 926349.0], [38.8763991, -77.0867028, 352239.0], [33.67288, -117.862616, 100000.0], [37.232902, -121.964385, 8000000.0], [39.910875, -74.93891579999999, 200000.0], [45.5309644, -122.68038, 13000000.0], [40.138525, -105.126533, 52100000.0], [37.4189073, -122.0884286, 25470400.0], [40.7438356, -73.98901490000002, 5180000.0], [38.816765, -77.27211700000001, 95000.0], [37.442601, -122.162159, 682850.0], [40.146898, -105.1350397, 6700000.0], [40.428407, -79.977337, 250000.0], [30.385769, -97.768503, 4340000.0], [37.557637, -122.28571399999998, 3000000.0], [37.7911186, -122.4011706, 6600000.0], [40.750597, -73.98527299999999, 8250000.0], [32.889576, -96.9668747, 25000000.0], [34.0480213, -84.31101120000001, 25000000.0], [30.306468, -97.827862, 25000000.0], [42.560347, -71.43565600000001, 25000000.0], [42.0349479, -88.035427, 25000000.0], [29.726747, -95.556235, 25000000.0], [33.654235, -117.747692, 25000000.0], [35.947578, -86.809647, 25000000.0], [33.333807, -111.807513, 25000000.0], [32.877656, -117.210595, 25000000.0], [30.1799941, -84.370242, 25000000.0], [27.951383, -82.535172, 25000000.0], [36.149265, -95.993184, 25000000.0], [38.955832, -77.364711, 25000000.0], [40.012771, -75.239234, 200000.0], [40.078916, -75.299623, 200000.0], [42.508964, -71.13287, 133314586.0], [40.688122, -74.393548, 5000000.0], [39.2328783, -76.8204666, 16980999.0], [40.723351, -74.008767, 100000.0], [40.0699295, -75.4246945, 150000.0], [40.46582, -104.882549, 92000000.0], [33.662553700000004, -117.68954340000002, 92000000.0], [38.6448901, -121.4876152, 92000000.0], [40.75406, -73.999003, 24134560.0], [34.028182, -118.472577, 44700000.0], [35.9468964, -84.0132568, 11900000.0], [30.3527529, -91.0269309, 3400000.0], [37.3709977, -121.9235529, 96500000.0], [37.442601, -122.162159, 26996651.0], [40.323339, -74.642505, 72800000.0], [32.959908, -96.70737, 8300000.0], [40.4409, -79.9963, 150000.0], [33.5593924, -117.7293854, 10000000.0], [40.054547, -75.515376, 3200000.0], [40.738567, -73.987199, 14700000.0], [42.6031277, -83.0294402, 180000.0], [41.0409527, -73.8731834, 9950000.0], [37.406217, -121.976473, 5768326.0], [34.185596000000004, -118.596228, 21331146.0], [37.7775896, -122.3956019, 10000000.0], [40.756054, -73.986951, 8500000.0], [39.9511019, -75.19788199999999, 10000.0], [46.9037602, -96.8098798, 1131250.0], [42.377467, -71.40130699999999, 21000000.0], [42.3406534, -71.0680027, 40785000.0], [38.982194, -77.09352, 34442442.0], [40.705255, -74.010983, 3000000.0], [37.2906027, -121.9317853, 1510017.0], [37.3973018, -122.0595623, 64150000.0], [33.615663399999995, -111.8931647, 1000000.0], [40.7078343, -74.0136605, 3637657.0], [39.9502045, -75.16187579999999, 4025000.0], [42.2261823, -71.51748690000001, 28000000.0], [39.915974, -105.004417, 125000.0], [40.744618, -73.987764, 30000.0], [37.3738725, -121.99735459999998, 18100000.0], [34.016838, -118.500603, 18100000.0], [33.887619, -84.710865, 40000000.0], [40.720391, -73.99831390000001, 7300000.0], [37.395923, -121.92902, 26000000.0], [34.007112, -118.489748, 16000000.0], [37.524851, -122.257185, 22300000.0], [34.101218100000004, -118.32573899999998, 5100000.0], [37.41364, -122.086989, 100000.0], [28.0854206, -80.6475007, 26000000.0], [30.402252, -97.748795, 33000000.0], [42.0092584, -71.22802340000001, 1000000.0], [26.2032036, -80.15109509999999, 500000.0], [30.396989, -97.735768, 1125000.0], [42.296056, -71.491047, 91253525.0], [37.446535, -122.118794, 65020000.0], [34.054784999999995, -118.440948, 525000.0], [42.334732, -71.59259499999999, 39500000.0], [37.4049731, -122.0323525, 6000000.0], [42.5960633, -71.1509692, 80100000.0], [32.880882, -117.203309, 35000000.0], [39.748985, -75.546329, 2000000.0], [37.7875, -122.399836, 8134000.0], [40.752672, -73.97593, 8134000.0], [37.398022, -122.049143, 94828397.0], [34.031328, -118.471463, 8000000.0], [40.7570972, -73.969821, 8000000.0], [37.518539, -122.254275, 156000000.0], [37.3229895, -122.0323851, 26380000.0], [40.756054, -73.986951, 1650000.0], [40.74034, -74.00721, 41750000.0], [41.879535, -87.624333, 2500000.0], [37.393836, -122.099454, 34500000.0], [42.3538857, -71.0561903, 6000000.0], [37.5600585, -122.270249, 4000.0], [37.5645375, -122.3254705, 4000000.0], [33.954713, -84.2213281, 219400000.0], [47.6435828, -122.1285846, 14020000.0], [37.4203945, -122.0872274, 82850000.0], [37.399481, -122.1345417, 27000000.0], [37.556152, -122.281484, 3500000.0], [37.7867612, -122.4014585, 11500000.0], [33.7020241, -117.8666475, 15600000.0], [37.781689, -122.391061, 11230000.0], [47.6174533, -122.2016685, 5387632.0], [47.603873, -122.33395790000002, 30000000.0], [42.486535, -71.115413, 20000000.0], [47.6209107, -122.36123899999998, 19100000.0], [37.750608, -122.423581, 300000.0], [32.88945, -117.166929, 5000000.0], [40.732748, -73.99260699999999, 25000000.0], [29.7805488, -95.3457921, 7000000.0], [37.39458, -121.928393, 3000000.0], [37.796216, -122.403755, 4700000.0], [42.279967, -71.5827673, 25500000.0], [41.278528, -72.52543179999999, 38400000.0], [40.738499700000006, -73.9954585, 74650016.0], [37.79471, -122.40195, 16156028.0], [38.709006, -121.084432, 100000.0], [37.7405936, -122.3764714, 1100000.0], [41.8274209, -71.40308909999999, 30000.0], [42.53182, -71.13435799999999, 5000000.0], [42.47218, -71.262508, 23910000.0], [29.747497, -95.471515, 47796855.0], [30.271393, -97.748623, 10000000.0], [42.357054, -71.264459, 3659714.0], [37.392362, -122.040051, 100000000.0], [37.392362, -122.040051, 100000000.0], [37.371908000000005, -122.111711, 101580000.0], [32.416174, -90.1633006, 11000000.0], [34.057519, -84.17173000000001, 11000000.0], [37.791128, -122.398126, 11000000.0], [38.9594124, -77.35632790000001, 11000000.0], [41.8831954, -87.638807, 110000000.0], [40.7217861, -74.00944709999999, 100000.0], [34.147724100000005, -117.9424743, 100000.0], [34.433463, -119.863565, 30000000.0], [34.424184999999994, -119.704902, 492942.0], [37.78673920000001, -122.4013875, 16000000.0], [37.41302329999999, -121.9175461, 133427813.0], [47.6409655, -117.5357108, 22000000.0], [37.785792, -122.405081, 19540002.0], [41.989344, -88.004903, 276108581.0], [37.848641, -122.289498, 12200000.0], [33.9982311, -118.480561, 80000000.0], [37.779507, -122.39071, 38500000.0], [37.7886685, -122.40055759999998, 37000000.0], [33.831671, -118.315766, 300000.0], [38.892684, -77.436196, 1680511.0], [47.6201274, -122.190941, 27000000.0], [37.2399312, -121.9609305, 3050000.0], [45.3200381, -93.5874441, 90000000.0], [40.726342, -111.858835, 7200000.0], [42.848735600000005, -73.7534663, 5240000.0], [44.922583, -93.411963, 5240000.0], [37.389615, -122.050179, 20000000.0], [40.3310529, -111.7276347, 51700000.0], [30.213531, -97.815012, 41836657.0], [37.7895289, -122.3885899, 34500000.0], [47.5826585, -122.1352822, 28805381.0], [37.778991, -122.401803, 1207200.0], [37.775196, -122.419204, 18500000.0], [37.775196, -122.419204, 18500000.0], [42.559391, -71.432373, 50700000.0], [40.4282777, -79.971877, 25000.0], [32.902266, -117.20834, 5300000.0], [44.9272268, -93.1215111, 500000.0], [37.7710177, -122.4025976, 1300000.0], [39.6776788, -75.7323805, 152000000.0], [45.522105, -122.676129, 964999998.0], [37.674378, -122.387699, 73000000.0], [42.8024132, -71.541744, 500000.0], [33.9133208, -117.8789031, 1000000.0], [42.4963399, -71.1267002, 12250000.0], [34.002591100000004, -118.3942383, 8000000.0], [47.6008008, -122.3342585, 795000.0], [37.4155698, -121.9486567, 8800000.0], [40.749577, -73.99164859999999, 8800000.0], [30.288159000000004, -97.750154, 18700000.0], [40.7434025, -73.9890857, 7350000.0], [41.7401349, -71.4550207, 10000000.0], [37.491356, -122.228843, 15500000.0], [42.362993, -71.086596, 42150000.0], [40.740441, -73.993376, 231100000.0], [37.409123, -122.025646, 101759441.0], [40.554923, -111.9032625, 31854370.0], [42.312117, -88.00364, 20000000.0], [40.6354281, -80.061222, 4477799.0], [47.59896810000001, -122.33290359999998, 4100000.0], [40.7250495, -73.9970912, 140500000.0], [42.3988457, -71.1404961, 41000000.0], [37.395335, -122.102339, 1800000.0], [40.741891, -73.9535068, 17365709.0], [37.4484914, -122.1802812, 1200000.0], [37.796903, -122.404904, 15000000.0], [40.7481039, -74.0353787, 34750000.0], [37.787722, -122.3993979, 12750000.0], [37.3802792, -121.9703344, 42450000.0], [37.2624049, -121.95770520000002, 13000000.0], [37.3725243, -122.035963, 13000000.0], [37.9260091, -122.5162892, 1250000.0], [26.0524615, -80.1378809, 120000.0], [37.758062, -122.418642, 600000.0], [37.535876, -122.257331, 146000000.0], [38.987594, -77.0974791, 28200000.0], [40.02644, -105.2247774, 108000000.0], [39.7393, -104.9844, 400000.0], [37.7899027, -122.4007846, 82500000.0], [37.4734314, -121.9417078, 42000000.0], [47.6495905, -122.3497956, 13900000.0], [34.054259, -118.414064, 150000.0], [47.6254784, -122.3564234, 1300000.0], [37.323234, -122.055177, 509412.0], [40.725107, -74.00492, 3915000.0], [37.401818, -122.050565, 3500000.0], [37.783171, -122.392901, 16330000.0], [42.352835, -71.06096120000001, 12000000.0], [31.1568341, -81.4830594, 600000.0], [37.37027, -121.924053, 32000000.0], [40.733928000000006, -73.991334, 4000000.0], [47.6214206, -122.3618665, 95244796.0], [42.358184, -71.10638900000001, 4180000.0], [37.51821, -122.044025, 26400000.0], [37.384239, -122.012475, 325000.0], [32.841791, -117.274602, 5000000.0], [28.0788227, -81.9752196, 33325468.0], [38.2297645, -122.59953459999998, 40094161.0], [37.7980847, -122.4665384, 50700000.0], [33.84406, -118.322959, 3700000.0], [42.542356, -71.279966, 91953325.0], [38.671409, -90.429847, 50403882.0], [41.6770138, -71.1445753, 950000.0], [37.39873720000001, -122.0497918, 211403000.0], [37.763293, -122.410752, 10600000.0], [37.399208, -121.97895, 4700000.0], [39.7672093, -86.1580785, 238209999.0], [37.5783417, -122.34975459999998, 141000000.0], [37.420728, -122.2103414, 59500000.0], [34.007303, -118.489492, 21267558.0], [37.537587, -122.25553899999998, 13800000.0], [40.76945, -73.951865, 350000.0], [30.2350399, -97.80012990000002, 4355000.0], [40.722138, -73.98790600000001, 1200000.0], [41.8961282, -87.6371628, 2500000.0], [38.898713, -77.02242199999999, 61132220.0], [42.389781, -71.23924699999999, 22500000.0], [37.789471, -122.404113, 64000000.0], [37.788115000000005, -122.397141, 1300000.0], [37.7753, -122.4186, 22600000.0], [37.792871000000005, -122.400747, 5000000.0], [41.889853, -87.6355433, 22500000.0], [30.6324797, -86.9843446, 5700000000.0], [38.9916581, -76.879257, 2000000.0], [34.03423370000001, -118.4536137, 1700000.0], [47.6139237, -122.1962406, 63000000.0], [37.628328, -122.420814, 2300000.0], [39.389694, -76.591418, 385000.0], [42.3127142, -71.2252014, 22500000.0], [35.8962338, -78.8733184, 8000000.0], [38.6456907, -121.1268303, 43500000.0], [42.500324, -71.130792, 41500000.0], [34.157073, -118.484928, 2500000.0], [37.7898499, -122.4006831, 103700000.0], [40.756799, -73.97634790000001, 26876550.0], [42.362856, -71.083762, 30500000.0], [37.553743, -122.300246, 10338000.0], [33.69568, -117.866187, 50000.0], [37.418702200000006, -122.0874129, 12700000.0], [40.7277189, -73.95082109999998, 30400000.0], [44.4844484, -73.22144759999999, 13085000.0], [37.406217, -121.976473, 10000000.0], [37.8097439, -121.99094540000002, 200000.0], [38.691084, -90.354532, 23000000.0], [37.2624336, -121.9577118, 80250000.0], [42.49739, -71.416794, 23000000.0], [29.5825211, -98.5379804, 44500000.0], [39.956329, -105.164002, 5000000.0], [40.7619759, -73.9725773, 3650000.0], [40.723614000000005, -74.007948, 1100000.0], [42.6555302, -71.1455618, 24200000.0], [37.2808523, -122.0031531, 22000000.0], [40.739867, -73.990024, 5000000.0], [40.7538639, -73.97850859999998, 2000000.0], [37.779624, -122.391236, 26000000.0], [37.794891, -122.397901, 250000.0], [40.779959000000005, -73.976151, 890000.0], [37.44598320000001, -122.1490582, 30500000.0], [37.141879, -121.655715, 212377366.0], [40.804404, -74.10235899999999, 45319837.0], [40.7570972, -73.969821, 8500000.0], [40.1759417, -76.1667807, 8000000.0], [42.391389200000006, -71.27098690000001, 56710000.0], [39.74627279999999, -104.9911572, 10700000.0], [37.385216, -121.972128, 1273700.0], [33.6298904, -117.7269415, 5000000.0], [32.783932, -79.99959100000001, 1400000.0], [40.737216, -73.99094699999999, 12000000.0], [37.400751, -122.031591, 59000000.0], [42.4001965, -71.2751097, 96400000.0], [28.597741, -81.3593329, 311800000.0], [42.3663257, -71.0917952, 41499999.0], [42.363496000000005, -71.0613671, 13000000.0], [37.421692, -121.894156, 129677153.0], [37.477944, -122.151234, 21450000.0], [37.4858629, -122.2067269, 283929977.0], [37.381034, -121.971487, 65000000.0], [37.3959503, -121.9812715, 21000000.0], [37.377972, -122.033361, 27250000.0], [37.40006, -122.049689, 48000000.0], [37.426316, -122.141082, 3170000.0], [37.3821368, -121.970505, 2797295.0], [40.718033, -111.81104, 5286000.0], [37.794643, -122.401144, 12100000.0], [40.41820870000001, -105.0002597, 104000000.0], [37.323991, -122.012882, 2000000.0], [38.946532, -77.340436, 84255816.0], [37.5380187, -122.2533836, 8330000.0], [42.306097, -83.71422199999999, 15000000.0], [42.3630235, -71.158939, 60000000.0], [37.381876, -121.95993, 20000000.0], [37.316790000000005, -122.05079, 26914000.0], [37.431941, -122.103076, 1400000.0], [33.882526, -84.46551509999999, 40000000.0], [37.2690782, -121.9559995, 65800000.0], [37.495996000000005, -122.223273, 12000000.0], [37.390956, -122.032795, 20000000.0], [37.390233, -122.033741, 24000000.0], [35.966068, -115.118671, 37891054.0], [40.1266654, -75.40355459999999, 2300000.0], [26.1875706, -80.1912988, 10000000.0], [37.238916, -121.973718, 40100000.0], [37.416183, -121.890252, 158101114.0], [37.328686, -121.89426, 135776263.0], [37.517078000000005, -121.9920281, 57616859.0], [42.4837924, -71.1943142, 74260328.0], [29.1866439, -82.20469849999999, 18000000.0], [37.7887135, -122.3927145, 59000000.0], [37.384211, -121.924797, 144500000.0], [34.054212, -118.464454, 12500000.0], [41.8964988, -87.6436218, 40500000.0], [40.026422, -105.228284, 111190000.0], [37.78007879999999, -122.3943096, 2000000.0], [37.4192309, -122.0887097, 84500000.0], [37.4216866, -122.0984543, 23000000.0], [47.6452085, -122.34777350000002, 19500000.0], [38.9855173, -77.088308, 28415704.0], [42.300378, -71.35244, 4000000.0], [37.423135, -121.894792, 15000000.0], [37.3229727, -122.03857920000002, 8000000.0], [37.4043966, -122.0213965, 35000000.0], [33.9778907, -118.3925179, 500000.0], [33.7289407, -116.380302, 1500000.0], [37.1286, -84.0834, 2000000.0], [38.9209, -77.3953, 25500000.0], [37.3230162, -122.0212868, 58000000.0], [37.793949, -122.398062, 12170000.0], [37.445335, -122.15833, 6500000.0], [33.12417, -117.275236, 31000000.0], [42.675142, -71.1472132, 15966943.0], [37.79055379999999, -122.4041485, 7965000.0], [37.326897, -121.968263, 22000000.0], [34.0212808, -118.4653508, 10600000.0], [47.8211634, -122.3182683, 800000.0], [37.789518, -122.394265, 27400000.0], [41.878984, -87.637, 10764323.0], [37.7800539, -122.3912492, 22000000.0], [42.2814765, -71.5697033, 10600000.0], [26.712015, -80.051695, 24200000.0], [47.645319, -122.406636, 571927.0], [37.3937513, -121.9366571, 100842000.0], [37.55873, -122.27992, 4000000.0], [38.0148706, -122.5411756, 2000000.0], [37.431091, -122.099263, 13045000.0], [37.537432200000005, -122.3262074, 33185428.0], [42.3604755, -71.0954159, 4575000.0], [37.414105, -121.940895, 58242507.0], [30.396276, -97.732769, 2600000.0], [37.384206, -121.992805, 13600000.0], [37.385776, -121.926113, 7700000.0], [37.54763, -122.307887, 17280000.0], [37.3898635, -122.0310612, 42000000.0], [37.42105, -121.893859, 99360000.0], [39.661171, -105.352174, 2600000.0], [29.598713, -81.222298, 44400000.0], [47.60531, -122.3376316, 19000000.0], [42.2940916, -71.1977771, 7000000.0], [37.394854, -121.978549, 57130717.0], [30.424305, -97.709981, 18200000.0], [34.154942600000005, -118.6545471, 3000000.0], [37.5583159, -122.2862187, 25000000.0], [37.5210726, -122.2672469, 77000000.0], [37.384206, -121.992805, 26787093.0], [37.641754, -122.121824, 7100000.0], [37.3322445, -122.006515, 20000000.0], [42.3514855, -71.0572879, 3000000.0], [37.628518, -122.424607, 18670000.0], [37.79113710000001, -122.3973539, 13500000.0], [47.6098932, -122.33792549999998, 5000000.0], [37.3821368, -121.970505, 30000000.0], [37.417485, -122.075789, 27500000.0], [42.3043135, -71.21758359999998, 70600000.0], [37.489184, -122.217166, 30800000.0], [34.14485429999999, -118.7864316, 22753162.0], [39.767016, -86.156255, 500000.0], [37.552806, -122.2916021, 36000000.0], [28.099348, -82.461323, 2300000.0], [37.42583, -122.123092, 1500000.0], [37.422677, -121.8934565, 70273798.0], [37.555962, -122.288006, 10100000.0], [40.332120200000006, -75.1184485, 10000000.0], [32.899333, -117.194815, 55500000.0], [37.380364, -121.9823779, 11000000.0], [30.306591, -97.826727, 44000000.0], [37.553121, -122.301534, 31999999.0], [37.317735, -121.949417, 45100000.0], [37.395335, -122.102339, 30600000.0], [37.3955775, -122.0833286, 42000000.0], [38.872668, -77.367981, 23700000.0], [37.561877, -122.325248, 5800000.0], [42.338955, -71.595339, 18650000.0], [37.548482, -122.320534, 10000000.0], [40.5360344, -111.8971489, 8800000.0], [38.2743225, -122.6670066, 30750000.0], [42.4352222, -71.23446009999999, 11700000.0], [34.146503, -118.613385, 7760000.0], [37.782714, -122.39358, 38764000.0], [39.919676, -74.97147, 1500000.0], [37.490367, -121.931936, 43370000.0], [34.067554, -118.395658, 72000000.0], [37.381636, -121.993848, 29300000.0], [37.552104, -121.9780378, 3100000.0], [38.88521, -76.998641, 1820000.0], [41.887919200000006, -87.63542059999999, 48100000.0], [40.762674, -73.9821315, 30000000.0], [41.8964988, -87.6436218, 9000000.0], [37.4483426, -122.1191487, 9000000.0], [37.555773, -122.27977, 42000000.0], [40.747219, -73.98432, 1300000.0], [45.5236631, -122.6713661, 7000000.0], [37.336055, -121.890059, 4300000.0], [40.7707439, -73.9569115, 1000.0], [33.03898, -117.293385, 24500000.0], [39.028376, -77.412075, 1200000.0], [37.443000000000005, -122.159291, 6250000.0], [37.42394960000001, -122.1011815, 44500000.0], [33.929970000000004, -118.39683, 17750000.0], [38.952238, -77.351026, 29000000.0], [33.121436, -117.28803700000002, 250000.0], [37.487259, -122.232217, 11500000.0], [37.552262, -122.292146, 3011408.0], [40.2252558, -74.9035582, 50000000.0], [41.055223, -73.53101, 800000.0], [40.7197125, -73.96075450000001, 2300000.0], [33.6902466, -117.8659521, 7000000.0], [37.7870841, -122.4010675, 19417308.0], [37.4923675, -121.95330990000002, 27000000.0], [40.7038257, -74.0083282, 2000000.0], [43.6617644, -70.24741159999999, 4000000.0], [42.495742, -71.127461, 600000.0], [40.7495594, -73.99166170000001, 3000000.0], [37.2808523, -122.0031531, 4200000.0], [37.537542, -122.327609, 8000000.0], [34.154942600000005, -118.6545471, 51450000.0], [37.3998333, -122.0465447, 28450000.0], [41.853615000000005, -72.70375, 125000000.0], [38.9549825, -77.3924756, 11500000.0], [41.4865099, -81.5257116, 760489.0], [40.532969, -80.010645, 37000000.0], [30.401175, -97.741635, 7950000.0], [47.603364, -122.333359, 10849999.0], [40.727216, -73.99479699999999, 57250008.0], [40.756799, -73.97634790000001, 100000000.0], [25.95606, -80.14632900000001, 100000000.0], [37.78192670000001, -122.3932389, 9400000.0], [33.504966, -117.161374, 150000.0], [37.478519, -122.140715, 8000000.0], [37.4298665, -122.108852, 94000000.0], [37.411009, -122.00626499999998, 58000000.0], [45.689133, -122.617126, 44404040.0], [38.974099, -94.710676, 400000.0], [42.487472, -83.197087, 3200000.0], [37.6589038, -121.9011968, 2000000.0], [32.896253, -117.192242, 300000.0], [32.8193566, -116.981232, 44000000.0], [41.305179, -72.93117, 115500000.0], [40.075096, -75.42402, 11000000.0], [39.164287, -86.526904, 1015000.0], [33.3253347, -111.8591619, 41770492.0], [40.029844, -75.605401, 104434998.0], [39.862942, -105.206509, 17000000.0], [37.371138, -121.998365, 221500000.0], [33.9660312, -84.2233569, 30000000.0], [34.1411985, -118.7040908, 81017493.0], [41.8089007, -88.1132884, 155900000.0], [42.35198, -71.047739, 27500000.0], [41.882301, -87.634311, 31000000.0], [37.395931, -121.927357, 89500000.0], [37.5505578, -122.0637143, 65230481.0], [40.4478454, -80.02058149999999, 65230481.0], [37.379684000000005, -121.97514, 53816776.0], [41.509125700000006, -81.6089873, 310000.0], [37.377019, -122.11528, 38430000.0], [40.946106, -74.13973100000001, 300000.0], [37.785655, -122.398393, 37079000.0], [41.879535, -87.624333, 500000.0], [44.9733258, -93.2714719, 38999579.0], [38.983393, -77.434128, 16300000.0], [37.6664003, -122.451448, 32000000.0], [42.812335, -71.58846899999999, 45400000.0], [38.6093764, -90.1959689, 5850000.0], [37.560781, -122.284114, 68790000.0], [40.736222, -74.02977, 27000000.0], [40.754718700000005, -73.9711073, 31480000.0], [37.5353434, -122.2558368, 28000000.0], [42.34973660000001, -71.04919009999999, 7000000.0], [30.3752527, -97.7815663, 42801048.0], [42.686954, -71.209952, 17000000.0], [30.2708829, -97.7418001, 9300000.0], [40.762412, -111.889137, 20000000.0], [37.406621, -122.108719, 500000.0], [38.843468, -77.30680799999999, 500000.0], [28.0385347, -82.5068513, 21460663.0], [43.214611, -71.49001, 13000000.0], [42.3488891, -71.1068046, 70152684.0], [34.100570000000005, -80.963732, 20600000.0], [42.3678629, -71.19983640000001, 77999998.0], [32.958634, -96.823641, 19000000.0], [38.872668, -77.367981, 34000000.0], [42.3647559, -71.10325909999999, 5455000.0], [37.431769, -122.099577, 41000000.0], [26.1875706, -80.1912988, 172500000.0], [42.356931, -71.053991, 14000000.0], [37.536402, -122.325129, 20750000.0], [30.42845, -97.748816, 20750000.0], [41.879641, -87.6425816, 19200000.0], [40.766734, -73.988265, 19200000.0], [40.753881, -73.978852, 55350000.0], [32.901317, -117.200492, 3400000.0], [41.8819098, -87.6367792, 459000000.0], [37.2612396, -121.9594672, 79842579.0], [29.5399005, -95.064003, 5600000.0], [40.535316, -74.521435, 5500000.0], [38.807106, -77.041818, 25952539.0], [45.3774456, -122.7569561, 7000000.0], [38.953083, -77.335587, 6000000.0], [37.380364, -121.9823779, 25900000.0], [40.6454932, -73.94510109999999, 49500000.0], [33.776197700000004, -84.385257, 14060000.0], [29.739322, -95.444747, 2000000.0], [30.239294, -97.838813, 54427693.0], [37.788864, -122.4008487, 4000000.0], [37.69249, -121.900722, 4000000.0], [40.750823, -73.985833, 5000000.0], [32.88791, -117.176096, 8000000.0], [39.87283729999999, -75.4784988, 4000000.0], [37.398476, -121.978821, 3800000.0], [38.881717, -77.089398, 20000.0], [45.546481, -122.9021288, 43000000.0], [33.8508208, -84.3616939, 40392859.0], [41.67500379999999, -88.0642145, 294000000.0], [40.7310476, -74.0078134, 85100000.0], [30.396989, -97.735768, 7149177.0], [25.8107412, -80.1866834, 275000.0], [40.7615818, -73.970624, 24690000.0], [27.6476577, -80.3821092, 3500000.0], [34.046788, -84.300914, 3500000.0], [37.783383, -122.395708, 35950000.0], [40.743877000000005, -73.98618, 6000000.0], [45.533544, -122.688602, 5717561.0], [37.400465, -122.073003, 23400000.0], [37.7870283, -122.4000192, 3000000.0], [39.281734, -76.581864, 11750000.0], [34.13915, -118.014846, 6500000.0], [40.07918, -75.418689, 1800000.0], [47.3307422, -122.5833189, 6900036.0], [33.651497, -117.714978, 2000000.0], [42.5872713, -71.1556329, 9100000.0], [32.893712, -117.23721100000002, 56972769.0], [42.3656123, -71.0922022, 3500000.0], [37.7697623, -122.4183929, 8660000.0], [37.390233, -122.033741, 61000026.0], [37.553743, -122.300246, 21700000.0], [39.744198100000006, -104.9884723, 1600000.0], [42.4236783, -71.2459523, 99500000.0], [37.775196, -122.419204, 35200000.0], [38.4208384, -82.4431675, 485398.0], [42.007496, -71.5022314, 1171464.0], [37.7676285, -122.393799, 117000000.0], [42.2927344, -85.5796432, 8017710.0], [37.661523, -122.398667, 20000000.0], [37.518539, -122.254275, 265744102.0], [32.718834, -117.163841, 17500000.0], [34.7165112, -86.69170159999999, 13800000.0], [36.1198745, -86.6913222, 1040000.0], [45.531379, -122.710253, 7710000.0], [35.83565, -78.8139, 1000000.0], [37.785432, -122.398003, 11100000.0], [37.7818188, -122.3921131, 750000.0], [40.438423, -80.001933, 2975000.0], [41.072122, -81.526611, 400000.0], [40.808322, -73.254767, 3370000.0], [37.393536, -122.076747, 76000000.0], [40.752672, -73.97593, 982000.0], [39.1679865, -76.84357469999999, 982000.0], [41.864917, -87.625271, 20000.0], [38.992699, -76.93873, 17483837.0], [42.2802707, -83.7422325, 10000.0], [47.60081829999999, -122.334117, 10750000.0], [42.5424744, -83.2851103, 12346545.0], [39.5604863, -104.8656251, 21000000.0], [37.395335, -122.102339, 21000000.0], [37.6974864, -121.8138788, 3800000.0], [39.912944, -84.220287, 3800000.0], [37.7710402, -122.4026325, 105828512.0], [42.2426171, -87.95909590000001, 105828512.0], [37.349392, -122.087208, 2500000.0], [39.283828, -84.301674, 7500000.0], [40.843801, -74.462846, 4000000.0], [34.8447428, -82.4025639, 120000.0], [34.146436, -118.153136, 10000000.0], [38.8749043, -77.46088420000001, 100000.0], [39.281734, -76.581864, 50000.0], [34.01630120000001, -118.4920896, 650000.0], [33.658546, -117.86595, 3422812.0], [37.453952, -122.185141, 964999998.0], [37.48413, -122.169472, 45000000.0], [42.364014000000005, -71.101375, 2345000.0], [38.99457520000001, -77.0307225, 19460000.0], [34.144014, -118.001268, 18000000.0], [42.3630196, -71.14314959999999, 161000000.0], [39.06108029999999, -76.8863954, 654500000.0], [37.692934, -121.904945, 89000000.0], [44.06048, -121.312515, 11759998.0], [37.3903639, -122.0325963, 25598000.0], [47.6058276, -122.33113459999998, 66300000.0], [42.310508, -83.689766, 20000000.0], [37.787130600000005, -122.4041075, 336600000.0], [37.2370421, -121.7801281, 220000000.0], [29.709928, -95.45866, 8000000.0], [35.0728607, -106.6344861, 200000000.0], [34.143507, -118.763605, 98400000.0], [37.444531, -122.163352, 4950000.0], [40.756054, -73.986951, 11400000.0], [42.3406534, -71.0680027, 9000000.0], [36.032976, -115.064859, 62750000.0], [37.5511524, -122.060501, 27000000.0], [32.749238, -96.840091, 6800000.0], [37.7278201, -120.9220468, 6500000.0], [30.161661, -95.471256, 6000000.0], [33.526748, -117.177144, 57659978.0], [35.055164000000005, -106.617561, 5000000.0], [47.6858186, -117.19200259999998, 29000000.0], [42.369496000000005, -71.07676, 28000000.0], [42.3853985, -83.50698340000001, 55750000.0], [34.007967, -118.489681, 20600000.0], [42.994063, -71.520878, 4030000.0], [34.4421433, -118.59876470000002, 13662531.0], [42.36867, -71.150248, 29000000.0], [41.424425, -81.82253100000001, 7100000.0], [33.671428000000006, -117.791423, 27500000.0], [37.4503251, -122.11649540000002, 17017396.0], [35.9134904, -78.89793929999999, 29065381.0], [40.92340479999999, -74.0838388, 14000000.0], [33.123303, -117.271875, 31000000.0], [40.777564700000006, -73.9459335, 15090000.0], [37.557637, -122.28571399999998, 42000000.0], [37.60779960000001, -122.0547414, 132000000.0], [37.60779960000001, -122.0547414, 132000000.0], [40.756352, -111.871802, 111500000.0], [37.4194816, -121.97476670000002, 111500000.0], [40.054099, -76.289191, 29000000.0], [39.915572, -105.122053, 186190000.0], [42.0231313, -93.57495, 198730677.0], [38.984079, -94.715428, 3750000.0], [47.7975302, -122.2052314, 64420000.0], [42.51029129999999, -71.1474063, 3160000.0], [40.0716406, -75.41987309999999, 53000000.0], [43.0816278, -70.8041432, 50000000.0], [37.787130600000005, -122.4041075, 25980000.0], [32.902232, -117.236374, 15600000.0], [39.110655, -77.154466, 14514728.0], [37.332569, -122.005195, 3600000.0], [37.7705096, -122.4015807, 44800000.0], [38.482853000000006, -122.740198, 41500000.0], [36.35198, -119.368461, 83670000.0], [37.7868333, -122.4011603, 600000.0], [43.662181, -72.35208100000001, 2500000.0], [40.59082120000001, -105.0809963, 2300000.0], [29.768442, -95.401093, 15132764.0], [35.295706, -80.99505400000001, 13350000.0], [33.982966999999995, -84.346041, 15650000.0], [40.068752, -105.208027, 38000000.0], [32.898920000000004, -117.242961, 24300000.0], [32.894045, -117.234724, 86150000.0], [32.893589, -117.241633, 3000000.0], [40.830662, -77.844388, 11000000.0], [29.7848982, -82.4801871, 8350000.0], [42.276902, -71.413567, 1500000.0], [40.756054, -73.986951, 500000.0], [37.7581148, -122.4184108, 9900000.0], [36.0686005, -115.162279, 5000000.0], [37.681723600000005, -121.9031911, 5000000.0], [37.8794841, -122.5150765, 253000000.0], [42.56282, -71.304385, 7450000.0], [35.684878600000005, -105.9451978, 12900000.0], [35.8799641, -106.3026527, 12900000.0], [37.4930499, -121.95572479999998, 2500000.0], [40.45090379999999, -79.89824240000002, 611424.0], [37.383175, -121.915418, 58636000.0], [38.6364164, -121.0633779, 700000.0], [39.755092, -104.988123, 3124997.0], [37.506475, -122.259932, 12000000.0], [43.1767403, -88.7525381, 600000.0], [37.4817249, -122.1711165, 51000000.0], [39.471008000000005, -119.769798, 1250000.0], [40.4960244, -111.4199963, 1399998.0], [41.07337, -73.771547, 500000.0], [37.49202, -121.952239, 60500000.0], [32.253511, -111.005271, 60500000.0], [39.925372, -105.104752, 60500000.0], [30.354287300000003, -97.7976572, 3900000.0], [40.4971351, -111.8906575, 1712580.0], [37.805289, -122.404448, 85000000.0], [33.453968, -112.100881, 16000000.0], [40.741276, -73.991561, 5600000.0], [34.062588, -84.16923, 7300000.0], [35.9155236, -84.1451163, 1500000.0], [42.2301091, -85.5846094, 250005.0], [33.84819, -84.19385799999999, 33750000.0], [42.52444570000001, -71.4325786, 15500000.0], [41.581232, -93.621998, 50000.0], [37.407311, -121.898605, 46400000.0], [40.6463644, -74.69858909999999, 350000.0], [33.0382884, -96.8300836, 18000000.0], [42.030266, -71.2392, 18000000.0], [37.723803, -122.24093700000002, 127336875.0], [40.020421, -105.236011, 11000000.0], [40.702334, -74.400246, 50000000.0], [33.6333479, -117.73273629999998, 10000000.0], [32.915856, -117.22866299999998, 9000000.0], [30.270339, -97.745212, 212000000.0], [32.974194, -96.714066, 212000000.0], [40.7562295, -73.9788753, 1200000000.0], [30.182285, -97.806787, 11599995.0], [37.6656476, -122.3843489, 41250000.0], [37.6534817, -122.39564740000002, 29000000.0], [40.329677, -74.495653, 15868100.0], [42.061187, -88.0794478, 70000000.0], [40.727769, -74.00089100000001, 12000000.0], [37.769081, -121.960029, 39122000.0], [40.7254129, -74.00455490000002, 7600000.0], [42.830989, -71.489876, 40000000.0], [46.8719508, -113.99342659999998, 40000000.0], [26.2032036, -80.15109509999999, 2575000.0], [40.756071, -73.98392, 250000.0], [40.1128, -88.271074, 1000000.0], [37.477652, -122.223384, 76600000.0], [32.843245, -117.279345, 56963636.0], [33.860147, -117.80903899999998, 10850000.0], [40.7562295, -73.9788753, 30000000.0], [37.791388, -122.392148, 89500000.0], [39.281734, -76.581864, 240245382.0], [42.392628, -71.151216, 13000000.0], [30.327779, -97.669955, 5500000.0], [42.101977000000005, -72.63799399999999, 99500000.0], [47.684556, -122.143748, 2600000.0], [47.795302, -122.205813, 39000000.0], [40.3321605, -74.5014238, 94810408.0], [47.6234781, -122.3343544, 106450000.0], [40.010492, -105.276843, 515000.0], [37.44931, -122.160011, 2000000.0], [37.661543, -122.390464, 145800000.0], [32.994888, -117.082032, 7500000.0], [37.317847, -121.948469, 7210210.0], [38.8712205, -77.217416, 84900000.0], [42.5602523, -88.4597673, 175000.0], [30.28113, -97.824782, 57923499.0], [35.947578, -86.809647, 16000000.0], [37.416349, -122.085021, 10050071.0], [32.901186, -117.238544, 17500000.0], [37.420408, -122.088466, 188527015.0], [37.482654, -122.172713, 43500000.0], [39.035298, -77.430125, 24500000.0], [37.524422, -122.265869, 40800000.0], [29.7847641, -82.4768036, 78050000.0], [37.394118, -122.035378, 195800000.0], [37.4835082, -121.9279627, 15200000.0], [34.189631, -118.928969, 19000000.0], [39.5688576, -105.1236849, 50625657.0], [40.5932386, -105.0766501, 68800000.0], [33.686141, -117.842958, 39305000.0], [39.1880124, -119.7480697, 8000000.0], [30.213039, -97.751754, 1000000.0], [42.3694815, -71.07718709999999, 13300000.0], [33.7726102, -84.3507414, 42000000.0], [47.6385105, -122.1957009, 30000000.0], [32.889321, -117.184408, 168500000.0], [37.8093381, -122.4166061, 100000.0], [37.523194, -122.259179, 89499999.0], [35.911347, -78.976038, 108119996.0], [44.8994876, -93.39924, 3500000.0], [44.9025336, -93.4432438, 48500000.0], [41.4225841, -81.3857728, 19825002.0], [47.598657, -122.334614, 21200000.0], [40.026, -105.259041, 356962756.0], [37.2615879, -121.9578487, 58000000.0], [37.775196, -122.419204, 55000000.0], [30.362245, -97.750128, 7000000.0], [42.391389200000006, -71.27098690000001, 77200000.0], [37.523311, -122.259154, 110500000.0], [42.362856, -71.083762, 100499993.0], [34.058101, -118.23533799999998, 1000000.0], [32.9181382, -96.7529161, 25500000.0], [42.362035, -71.113289, 58000000.0], [40.743503, -111.5468301, 3000000.0], [42.355246, -71.056915, 7750000.0], [42.686954, -71.209952, 16995861.0], [29.6982817, -95.3500171, 62000000.0], [37.561576, -122.284173, 1200000.0], [37.9471709, -122.5071031, 20000000.0], [40.100058, -75.413354, 129000000.0], [37.5062006, -122.2506373, 29300000.0], [37.3825306, -121.91983059999998, 87000000.0], [34.028701, -118.486966, 56000000.0], [47.60426629999999, -122.33284009999998, 12000000.0], [42.2774845, -74.304914, 13700000.0], [40.4490174, -80.0024183, 65221438.0], [40.7028474, -73.99068129999999, 28800000.0], [37.3693049, -121.922509, 12399999.0], [37.446687, -122.163189, 11500000.0], [30.252861, -97.870509, 42130000.0], [34.142973, -118.140553, 5965000.0], [37.775196, -122.419204, 16920000.0], [37.656246, -122.399735, 145139000.0], [45.6686485, -111.0662396, 42072305.0], [37.431409, -122.10649, 191500000.0], [42.3595196, -71.1156913, 42500000.0], [37.767575, -122.411157, 7500000.0], [34.093625, -84.242809, 107132486.0], [33.4491774, -117.5917143, 39500000.0], [37.647198, -122.394584, 158305000.0], [38.6721461, -90.3949118, 11800000.0], [35.996497, -78.903729, 800924.0], [42.362856, -71.083762, 1569585.0], [40.755531, -73.980861, 17000000.0], [34.028172999999995, -118.471235, 182000000.0], [40.065531, -75.53121999999999, 10400000.0], [37.6625446, -122.3888507, 49200000.0], [40.019624, -105.240649, 2000000.0], [42.30973779999999, -71.214605, 12000000.0], [42.56282, -71.304385, 31746594.0], [37.686513, -121.895516, 14250000.0], [37.476863, -122.2116675, 44000000.0], [40.7672614, -73.9841781, 44000000.0], [42.3315612, -71.1967433, 44000000.0], [41.423309, -85.7487371, 50000.0], [41.701368, -81.165981, 16000.0], [32.902232, -117.236374, 5000000.0], [33.756855, -84.387899, 2500000.0], [37.765158, -122.404234, 860213000.0], [40.4653401, -86.93169590000001, 2000000.0], [40.74188770000001, -74.00474659999999, 23400000.0], [42.415719, -71.126711, 4500000.0], [35.199874, -106.582494, 24000000.0], [42.3634664, -71.07866379999999, 78750000.0], [37.7831775, -122.3086191, 5000000.0], [37.7863728, -122.438545, 10599000.0], [40.745454, -73.991674, 32500000.0], [42.3661884, -71.0802975, 53000000.0], [42.3949086, -71.14629140000001, 54300000.0], [41.7333505, -70.5893753, 5000000.0], [37.7819286, -122.4041764, 28000000.0], [34.005914000000004, -118.488129, 10500000.0], [34.054318, -118.462876, 3200000.0], [37.4484914, -122.1802812, 102550582.0], [33.129172, -117.286973, 10800000.0], [47.6614954, -122.09431979999998, 50000000.0], [37.387642, -121.93006, 51444471.0], [39.720088, -105.19231200000002, 98900000.0], [44.2264, -105.604, 98900000.0], [47.6447802, -122.325878, 500000.0], [35.725917700000004, -79.17917709999999, 162264126.0], [34.205101, -118.475297, 33499999.0], [40.612461, -80.098299, 81299969.0], [33.574055, -117.6749073, 115000000.0], [40.455501, -74.478931, 600000.0], [42.9003373, -78.8668333, 500000.0], [35.0528, -118.1731, 5000000.0], [38.833716, -104.826256, 51400000.0], [33.663276, -117.859189, 8000000.0], [37.781689, -122.391061, 87000000.0], [37.645401, -122.394464, 95879662.0], [33.13324, -117.275027, 80500000.0], [41.032802, -73.972888, 17900000.0], [40.752379600000005, -74.00556800000001, 3000000.0], [37.787646, -122.402759, 3000000.0], [37.377787, -122.029217, 5375000.0], [37.4523466, -122.1131087, 800000.0], [40.755253, -73.992152, 30000000.0], [40.0153, -105.2702, 16000000.0], [37.3949016, -121.92939479999998, 62619999.0], [40.138979, -105.124465, 68400000.0], [42.510953, -71.246708, 67300000.0], [40.72641, -73.984716, 15000000.0], [32.201761, -110.942315, 37989212.0], [37.320052, -121.877636, 8266800.0], [37.2628816, -121.9602134, 15000000.0], [37.397602, -122.047546, 15000000.0], [33.646018, -117.711994, 40000000.0], [40.756054, -73.986951, 21000000.0], [42.277416, -83.733276, 41000000.0], [37.4805104, -122.1807356, 35194730.0], [37.37643129999999, -121.9811182, 85249999.0], [36.072863, -79.869229, 5000000.0], [30.268735, -97.745209, 23009621.0], [41.29606, -72.770691, 52435690.0], [40.456124, -74.462469, 25000000.0], [40.02375, -105.226353, 57600000.0], [32.843245, -117.279345, 7000000.0], [39.8957185, -105.0932779, 42340328.0], [32.903177, -117.241409, 10000000.0], [37.3961981, -121.9301666, 154673840.0], [34.168955, -118.575293, 12453330.0], [37.435768, -122.110835, 37400000.0], [40.754937, -73.985647, 77500000.0], [42.3624253, -71.116031, 55000000.0], [40.075096, -75.42402, 316000000.0], [37.382162, -122.036301, 80000000.0], [37.405361, -122.119813, 18500000.0], [43.5926807, -116.2048973, 50410400.0], [38.65539, -90.296192, 7500000.0], [37.561111, -122.27048700000002, 23000000.0], [35.8893657, -78.880602, 43500000.0], [42.508619, -70.84421999999999, 3500000.0], [47.799279, -122.210048, 21500000.0], [37.234708000000005, -121.779272, 12700000.0], [34.09762, -118.331303, 58500000.0], [30.239229, -97.834211, 33099883.0], [40.7872915, -77.8268382, 12000000.0], [40.82366, -74.055948, 15000000.0], [42.9029654, -78.883572, 11000000.0], [37.502169, -122.217727, 232000100.0], [37.519102, -122.264348, 25000000.0], [42.3988661, -71.253781, 28000000.0], [38.923453, -77.227525, 17000000.0], [38.897976, -77.028561, 19900000.0], [44.898635, -93.415905, 6803651.0], [42.2938519, -87.9973255, 17000000.0], [47.7781074, -122.1889186, 10750000.0], [40.720883, -74.081365, 48581364.0], [37.7611016, -122.4160008, 25000.0], [37.402773, -122.052551, 24000000.0], [37.7710402, -122.4026325, 51000000.0], [42.347872, -71.63034, 136000000.0], [37.46679879999999, -121.9240065, 23000000.0], [42.4236783, -71.2459523, 46800000.0], [37.691226, -122.4040269, 120355781.0], [37.3403284, -121.8864433, 11780000.0], [42.603532, -83.16134, 8000000.0], [40.770437, -73.990426, 19000000.0], [37.658713, -122.399382, 49008830.0], [37.393536, -122.076747, 9130000.0], [34.0374308, -84.29527540000001, 9000000.0], [37.646457, -122.394008, 32000000.0], [33.664705, -118.012553, 9914176.0], [33.0353, -96.9274, 9914176.0], [42.225617, -71.179801, 18100000.0], [40.740512, -73.987794, 3471222.0], [41.2887451, -72.903102, 15500000.0], [40.093828, -105.187208, 2000000.0], [47.5992095, -122.3343564, 2300000.0], [39.558982, -104.856898, 57000000.0], [27.428199600000003, -82.5362596, 12703000.0], [37.400945, -122.111318, 26500000.0], [37.536402, -122.325129, 48050000.0], [35.244185200000004, -120.6425269, 40000000.0], [45.069344, -93.4034162, 17000000.0], [37.4298335, -122.004179, 55300000.0], [42.360960600000006, -71.1017618, 74639282.0], [42.39526, -71.25636800000001, 3000000.0], [40.0175137, -105.24422040000002, 3250000.0], [38.872668, -77.367981, 7300000.0], [37.394258, -122.032776, 34777963.0], [37.445335, -122.15833, 12000000.0], [38.9128266, -77.2200164, 5100000.0], [37.337756, -121.89435, 1500000.0], [37.658713, -122.399382, 152972747.0], [33.909439, -84.44041, 1400000.0], [38.9252531, -77.2189768, 45500000.0], [40.7450497, -73.99009840000001, 5000000.0], [44.170982, -72.486152, 37000000.0], [37.790153, -122.398669, 96800000.0], [47.6859295, -122.33732820000002, 26250000.0], [47.620973, -122.347276, 26250000.0], [33.017317, -96.837682, 30000000.0], [30.245535, -97.805621, 217500000.0], [35.8948471, -78.8923523, 57221433.0], [39.767016, -86.156255, 69000000.0], [37.352313, -121.967982, 466000000.0], [37.93039, -122.374927, 86200000.0], [36.0976795, -80.2448247, 70202607.0], [33.571492, -117.729952, 1000000.0], [41.881978, -87.630125, 12000000.0], [40.5212078, -74.41077109999999, 1500150.0], [41.8819935, -87.63012509999999, 24498210.0], [37.418636, -121.944828, 116167782.0], [39.1729181, -76.6447438, 1000000.0], [37.7869047, -122.4043924, 16000000.0], [47.6161693, -122.3451897, 22500000.0], [27.337231899999995, -82.53096049999999, 20000000.0], [37.446411, -122.16054, 28000000.0], [39.1133736, -77.1834024, 7380000.0], [40.746944, -73.983926, 1400000.0], [33.5056263, -112.0356732, 23200000.0], [34.045551, -84.311385, 2200000.0], [42.8138649, -86.02384599999999, 20000.0], [30.354768, -97.798152, 12000000.0], [42.3756409, -72.5196907, 1500000.0], [42.401104700000005, -71.27475629999999, 3000000.0], [42.3853422, -71.20701679999999, 12500000.0], [42.395219, -71.145326, 7000000.0], [41.880225, -87.64037900000001, 4000000.0], [37.253463, -121.782906, 458089999.0], [42.341899, -71.065924, 14500000.0], [32.718834, -117.163841, 45500000.0], [41.8035954, -88.159371, 86220000.0], [37.381034, -121.971487, 5000000.0], [38.960381, -77.084811, 5500000.0], [33.564557, -117.735509, 320000.0], [37.352313, -121.967982, 69600000.0], [37.323345, -122.029954, 22000000.0], [40.756054, -73.986951, 27680000.0], [34.0137151, -118.4660597, 1700000.0], [38.9043454, -77.42767020000001, 100000.0], [37.863464, -122.3153453, 54000000.0], [40.795862, -74.455515, 11400000.0], [40.7496475, -73.9915961, 350000.0], [37.2496346, -121.9665932, 10000000.0], [37.6865644, -121.8983228, 40800000.0], [37.405474, -121.918248, 42449379.0], [37.2807831, -122.0032261, 46000000.0], [33.8391756, -118.3895144, 25200000.0], [37.384206, -121.992805, 25200000.0], [33.649475, -117.849172, 25200000.0], [37.389726, -121.958704, 5750000.0], [37.4099985, -122.0018725, 10000000.0], [34.15084, -118.448703, 28000000.0], [33.6640874, -117.63251909999998, 7300000.0], [34.045499, -118.47036, 900000.0], [41.053101700000006, -73.5392755, 500000.0], [37.483483, -122.17666, 1000000.0], [34.7465, -92.2894, 49500000.0], [42.3079711, -83.6927623, 39000000.0], [37.4296744, -122.1003331, 3000000.0], [33.132567, -117.292746, 4080000.0], [40.751293, -73.978887, 7000000.0], [40.745003, -73.98322900000001, 2000000.0], [40.745003, -73.98322900000001, 2000000.0], [38.947942, -77.331536, 9500000.0], [35.8455929, -78.8012482, 2000000.0], [42.3253727, -71.5854884, 47000000.0], [42.365867, -71.092285, 33393001.0], [33.9391998, -84.1503956, 1718955.0], [41.327917600000006, -73.2435522, 7291458.0], [37.559090000000005, -122.321836, 16600000.0], [47.611331400000005, -122.3430581, 7400000.0], [37.590056, -122.347654, 28306508.0], [40.791699, -73.467612, 4800000.0], [37.3777985, -121.9744545, 51000000.0], [42.041574, -87.749253, 100000000.0], [37.5252461, -121.9178417, 13000000.0], [42.528635, -71.27802199999999, 135826373.0], [37.4819462, -122.1717587, 7800000.0], [33.44801, -117.607717, 121000000.0], [37.386417, -121.92917, 2000000.0], [37.477008000000005, -122.151599, 62700000.0], [37.512038, -121.998513, 11000000.0], [37.414225, -121.92439, 20300000.0], [42.4623551, -71.3797358, 2809010.0], [37.400945, -122.111318, 7500000.0], [37.795241, -122.27505, 10281191.0], [33.568834, -117.728165, 21000000.0], [32.902296, -117.219229, 110640467.0], [34.045919, -118.16525, 27690547.0], [26.347162, -80.16680699999999, 1250000.0], [28.0642877, -82.6483808, 20000000.0], [37.794043, -122.39736, 1500000.0], [41.9968563, -93.6351139, 47744749.0], [42.4588999, -71.34952129999999, 15500000.0], [37.5568425, -122.2884881, 7800000.0], [41.0891036, -81.6582994, 25000.0], [37.535525, -122.061407, 64000000.0], [37.4057035, -121.9831895, 75850000.0], [37.4513722, -122.1169482, 25000000.0], [37.55946420000001, -122.3024295, 23000000.0], [42.3939145, -71.1202031, 4000000.0], [33.682299, -117.875494, 20000000.0], [30.496763, -97.822648, 7100000.0], [37.2563903, -79.9219085, 8000000.0], [37.3903856, -122.0479236, 50768291.0], [37.55175, -122.058121, 139855891.0], [37.771706, -122.402683, 52668419.0], [38.6721461, -90.3949118, 21553364.0], [37.6656473, -122.3843335, 9000000.0], [42.0233867, -87.76794709999999, 750000.0], [37.3945117, -121.9297171, 76500100.0], [40.2443588, -75.3393708, 8000000.0], [42.307772, -71.39462900000001, 20000000.0], [37.374493, -121.979202, 27500000.0], [38.9889656, -76.500688, 13304965.0], [37.480547, -122.217752, 50000000.0], [40.1923295, -75.10692320000001, 3000000.0], [37.54763, -122.307887, 12000000.0], [35.864045000000004, -78.82081600000001, 6700000.0], [37.3361841, -121.89054740000002, 32630837.0], [37.647198, -122.394584, 2840173.0], [37.551796, -122.059798, 27900000.0], [37.629376, -122.418758, 17000000.0], [37.6624985, -121.8996778, 50500000.0], [30.385769, -97.768503, 63050000.0], [37.775206, -122.419209, 6285000.0], [37.503491100000005, -121.9649773, 42000000.0], [33.6330931, -117.7278353, 70930000.0], [40.7397955, -73.9895922, 5025000.0], [37.590056, -122.347654, 32000000.0], [40.744639, -73.983963, 55000000.0], [33.9162991, -84.35185940000001, 30000000.0], [37.536402, -122.325129, 45000000.0], [37.43938, -122.158804, 1500000.0], [37.396023, -122.03311, 30000000.0], [40.544985100000005, -79.8282395, 51447500.0], [32.9702393, -96.7064619, 105258362.0], [40.747725, -73.1653621, 4500000.0], [40.707949, -74.00605909999999, 50000.0], [42.39526, -71.25636800000001, 11700000.0], [37.775206, -122.419209, 6300000.0], [38.2694619, -85.61497359999998, 3000000.0], [40.755635, -73.971509, 2200000.0], [35.765240000000006, -78.731161, 22400000.0], [39.4106024, -77.40913929999999, 14350000.0], [39.7451563, -104.9898114, 20500000.0], [37.560781, -122.284114, 10000000.0], [37.2345742, -121.9704884, 8100000.0], [47.67811, -122.136559, 20000000.0], [37.3706126, -121.9219538, 15000000.0], [40.130392, -83.01845300000001, 16000000.0], [40.745186, -73.993039, 28000000.0], [38.978509, -94.608078, 4041322.0], [32.9583632, -96.8215658, 3000000.0], [36.002893, -78.904075, 5000000.0], [37.793473, -122.402667, 43600000.0], [37.3893219, -121.9582038, 43000000.0], [33.675188, -117.855049, 30200000.0], [34.0512574, -84.2783459, 31000000.0], [38.79080379999999, -90.409447, 12700000.0], [37.256359, -121.96495, 19400000.0], [37.44787, -122.157931, 2500000.0], [38.95395, -77.40088, 16900000.0], [39.035298, -77.430125, 15000000.0], [37.3927003, -122.033015, 7200000.0], [37.9734507, -122.5294669, 2900000.0], [37.3931968, -122.0390285, 38700000.0], [37.553743, -122.300246, 26525002.0], [38.955101, -77.387124, 11000000.0], [37.414407, -122.016499, 42180000.0], [33.9058, -84.435967, 32950000.0], [42.501306, -71.23549799999999, 37535089.0], [37.537587, -122.25553899999998, 42000000.0], [41.926596, -87.64139399999999, 50000.0], [40.707645, -74.010816, 11400000.0], [42.390143, -71.257919, 22500000.0], [33.4669188, -86.78122579999999, 7750000.0], [47.62261470000001, -122.1527011, 11000000.0], [32.880244, -117.209279, 7000000.0], [42.3505124, -71.0757952, 61000000.0], [40.707645, -74.010816, 12700000.0], [34.063151, -84.29056700000001, 12000000.0], [40.7408042, -74.00717, 4600000.0], [37.426316, -122.141082, 9000000.0], [37.859548100000005, -122.2914825, 14316502.0], [32.874737, -117.210262, 5000000.0], [32.97112, -96.705125, 25000000.0], [47.5998929, -122.3341325, 5000000.0], [47.7093766, -122.1901364, 17999996.0], [37.485835, -122.204383, 5000000.0], [33.92034, -118.389881, 7850000.0], [40.60157589999999, -75.3611135, 24150000.0], [42.351622, -71.52965490000001, 102148270.0], [30.354768, -97.798152, 26800000.0], [38.925502, -77.205287, 50000.0], [42.612559000000005, -71.317403, 252000000.0], [40.7601636, -73.99136440000001, 21400000.0], [37.4078193, -122.1498721, 25999999.0], [37.600152, -122.373135, 54030000.0], [37.397153, -122.049, 80540000.0], [37.281651, -121.941184, 10250000.0], [33.774486, -84.385448, 8800000.0], [38.97846, -77.09165899999999, 6000000.0], [42.496424600000005, -71.12633670000001, 6000000.0], [37.48458, -122.18325, 13050000.0], [37.7679113, -122.3941495, 86964473.0], [47.3163876, -122.6151128, 7000000.0], [37.405803000000006, -121.987802, 135147224.0], [37.39636, -122.049619, 23897734.0], [40.7243994, -111.8538814, 15000000.0], [37.561111, -122.27048700000002, 2500000.0], [37.3900841, -121.9606747, 4100000.0], [37.518539, -122.254275, 12000000.0], [40.9492193, -73.7889689, 15000.0], [47.620973, -122.347276, 4005000.0], [38.894696, -104.845859, 14920000.0], [37.426466, -122.1369002, 635000.0], [41.88945089999999, -87.6371453, 8650000.0], [40.756054, -73.986951, 8650000.0], [37.838183, -122.29639, 4190185.0], [40.759845, -73.9903489, 28000000.0], [37.7592975, -122.3882102, 8676235.0], [32.937003999999995, -117.238059, 12500000.0], [41.27666, -73.12554499999999, 2729500.0], [42.360960600000006, -71.1017618, 52499997.0], [32.868324, -117.252917, 85000000.0], [38.2337864, -122.6360712, 76500000.0], [42.395291, -71.268047, 14880000.0], [32.6609335, -117.1045466, 12000000.0], [35.2567536, -120.6425158, 11140000.0], [44.56534570000001, -123.2603991, 2649900.0], [37.3169065, -122.0497023, 13400000.0], [42.350749, -83.44458900000001, 42700000.0], [37.777741, -122.412198, 14000000.0], [39.117475, -77.18145, 4000000.0], [37.395123, -121.927569, 33205687.0], [42.3636618, -71.20198149999999, 12500000.0], [32.967462, -96.702865, 55641288.0], [37.368855, -121.968115, 34750000.0], [33.58273, -117.727468, 800000.0], [37.45604, -122.165399, 4500000.0], [37.4815098, -121.9453283, 34250000.0], [42.389978, -71.25775300000001, 46400000.0], [40.064775, -75.40736700000001, 3000000.0], [33.9874255, -118.4722284, 400000.0], [42.561253, -83.1795351, 58750000.0], [42.43418, -71.242426, 1425000.0], [30.385907, -97.708175, 31100000.0], [37.570409000000005, -122.268534, 100000.0], [37.389613, -121.977739, 10000000.0], [37.7753, -122.4186, 145000.0], [39.811173, -75.54106800000001, 250000.0], [37.775206, -122.419209, 29540000.0], [40.75056, -111.867114, 200000.0], [39.6244288, -75.83832459999999, 80000.0], [39.741862, -105.162118, 15980000.0], [47.608593, -122.335382, 9500000.0], [41.9590277, -91.7258274, 12300000.0], [42.3904729, -71.1423056, 9860740.0], [40.747601, -111.571921, 4342015.0], [42.2875076, -71.58560820000001, 69300000.0], [37.437328, -122.159928, 16550000.0], [34.0233174, -118.4792944, 450000.0], [37.771706, -122.402683, 3100000.0], [38.919405600000005, -77.0701557, 4700000.0], [42.388133, -71.26321999999999, 10000000.0], [42.389411, -71.1459898, 8000000.0], [42.590599700000006, -71.1594929, 14200000.0], [37.457401, -122.17653, 17200000.0], [41.765553, -72.673015, 1584593.0], [42.748529, -71.209845, 25500000.0], [37.248043, -121.776935, 7000000.0], [37.369195, -122.036849, 11165000.0], [37.775206, -122.419209, 1300000.0], [30.396989, -97.735768, 13500000.0], [47.743834, -122.247276, 120000.0], [43.021233200000005, -87.99629329999999, 45314483.0], [39.026602, -77.40722199999999, 8000000.0], [36.043249, -95.887194, 2200000.0], [30.255881, -97.798869, 14000000.0], [42.089999, -88.01984399999999, 4500000.0], [42.645342, -71.23454699999999, 23400000.0], [40.0751504, -75.28507370000001, 540000.0], [33.875909, -118.257643, 6017495.0], [34.030479, -118.38143290000002, 2750000.0], [38.919954, -77.21249300000001, 23500000.0], [37.838318, -122.299547, 10000000.0], [35.813942, -78.701704, 1000000.0], [33.637148, -112.117194, 5280000.0], [37.4817401, -122.1711084, 29300000.0], [37.42262, -122.205026, 39000000.0], [42.490733, -71.22681700000001, 319397585.0], [42.282272, -83.81116800000001, 32655000.0], [42.519229, -71.247741, 60400000.0], [35.910156, -78.894591, 95200000.0], [33.671428000000006, -117.791423, 900000.0], [36.983994, -121.949109, 37000000.0], [37.229676, -121.971225, 64000000.0], [37.785399, -122.274023, 11250000.0], [34.13735, -118.65661, 475000.0], [37.4101901, -122.0230257, 10300000.0], [37.3895784, -122.0478003, 74989194.0], [26.3940873, -80.10054009999999, 7070000.0], [37.4057221, -121.9798176, 1200000.0], [42.023421, -71.241522, 21000000.0], [37.387226, -122.049945, 35869729.0], [42.409922, -71.255248, 7000000.0], [42.496413700000005, -71.12633199999999, 1732382.0], [26.462588, -80.065516, 60000.0], [40.745064, -73.992637, 26500000.0], [47.6103008, -122.33997820000002, 6499999.0], [38.864011, -77.36666899999999, 60000000.0], [37.512253, -122.201099, 5040000.0], [38.980367, -77.092164, 6000000.0], [38.997934, -77.029772, 10499999.0], [33.020179, -96.844493, 58591225.0], [34.1459278, -118.1285534, 13880000.0], [38.897939, -77.07231, 65700000.0], [37.8078328, -121.99089920000002, 580000.0], [37.478574, -122.142515, 255220000.0], [40.0932356, -75.4117264, 3500000.0], [33.116826, -117.272889, 3500000.0], [36.109656, -115.0472289, 3500000.0], [43.0443031, -76.14983769999999, 100000.0], [37.406625, -121.914489, 11000000.0], [42.36340429999999, -72.63843299999999, 11000000.0], [42.126844, -80.086454, 1645349.0], [27.98141, -82.451141, 1645349.0], [37.4204805, -122.087219, 14200000.0], [40.744201, -73.98950500000001, 9500000.0], [30.6965706, -88.174044, 1000000.0], [37.417002, -122.07871000000002, 11000000.0], [37.4757796, -121.9382415, 85000000.0], [37.528998, -122.25749, 76600000.0], [38.974099, -94.710676, 20000.0], [30.2729209, -97.7443863, 10400001.0], [42.34922, -71.048498, 360000.0], [37.410818, -122.001929, 144800000.0], [37.379718, -121.967982, 39400000.0], [37.7870842, -122.4038047, 34700000.0], [32.861671, -96.769764, 2012700.0], [42.2667, -71.61613, 50000.0], [45.542758, -122.890191, 19960381.0], [42.520974, -70.894885, 12186193.0], [45.523875, -122.670399, 1000000.0], [47.614022, -122.19375, 136000000.0], [37.687332, -122.400517, 12960000.0], [42.324643, -71.580771, 6890927.0], [40.756726, -73.96990100000001, 4700000.0], [37.383526, -122.012808, 2300000.0], [37.317847, -121.948469, 23000000.0], [42.366844, -71.080137, 562000000.0], [41.8790256, -87.63854599999999, 562000000.0], [42.296982, -71.389296, 400000.0], [47.6011125, -122.32939840000002, 932730.0], [37.780331, -122.389348, 8665000.0], [32.8037391, -96.7979882, 10000.0], [38.2504146, -85.75759029999999, 2000000.0], [37.782475, -122.407764, 2000000.0], [37.5086744, -122.2029832, 8350000.0], [33.802846, -111.9278, 58500000.0], [37.778613, -122.395289, 56567194.0], [41.304309, -72.92586800000001, 2200000.0], [40.726579, -73.995334, 900000.0], [41.884659, -87.621589, 2500000.0], [40.738366, -74.169073, 1020000.0], [39.109514, -84.490897, 502500.0], [41.826956, -71.40871800000001, 350000.0], [36.9744334, -122.01947659999998, 123000.0], [41.4798033, -75.1806349, 35000.0], [33.846592, -84.356868, 10000000.0], [47.614351, -122.338504, 15000000.0], [37.429359000000005, -122.097622, 17000000.0], [37.386774, -121.98766100000002, 76613550.0], [41.540243, -81.444292, 400000.0], [40.830449, -74.067736, 15000000.0], [37.78673920000001, -122.4013875, 5000000.0], [41.824682, -71.4229436, 25000000.0], [37.840649, -122.289689, 308550000.0], [37.2498474, -121.9666208, 1280000.0], [37.859642, -122.291904, 1280000.0], [37.48522929999999, -122.1824622, 33200000.0], [37.4232468, -122.0752531, 90000000.0], [33.754487, -84.389663, 97500.0], [41.237814, -81.44686, 10000000.0], [34.138378, -118.152267, 8000000.0], [37.517428, -122.0113602, 23040000.0], [37.504796, -122.212286, 9900000.0], [37.398537, -122.0469851, 52893000.0], [33.545428, -111.925677, 8750000.0], [42.243672, -71.024649, 11335738.0], [41.882103, -87.63995600000001, 6300000.0], [37.3230346, -122.0213083, 33000000.0], [40.204541, -74.62739300000001, 4800000.0], [39.407236, -76.600763, 13100000.0], [38.241467, -85.72451099999999, 350000.0], [47.5827803, -122.1548103, 29000000.0], [44.977482, -93.264351, 300000.0], [47.549117, -122.329845, 1600000.0], [44.668651, -74.986566, 1500000.0], [32.895532, -117.213662, 26200000.0], [40.064775, -75.40736700000001, 1100000.0], [32.988246999999994, -117.080769, 74000000.0], [42.3687469, -122.860589, 33800000.0], [42.3626882, -71.2029261, 1000000.0], [43.6139, -116.2025, 3831975.0], [37.390036, -122.092123, 100000.0], [40.438423, -80.001933, 50000.0], [40.663186, -74.41855699999999, 16465006.0], [41.9403795, -87.6531805, 2500000.0], [37.793595, -122.396986, 690000.0], [38.949852, -77.350911, 54950000.0], [46.8722, -113.9932, 2160000.0], [39.3571684, -77.4161965, 75000.0], [35.0834981, -80.8909898, 467880.0], [37.98284, -122.347593, 500000.0], [37.778551, -122.391686, 1000000.0], [34.431968100000006, -119.84392859999998, 2800000.0], [41.472683200000006, -81.89108509999998, 16434000.0], [30.0035579, -97.855262, 52750000.0], [32.889092, -117.222962, 22000000.0], [40.746899, -73.98500200000001, 4300000.0], [47.60732, -122.335746, 12500000.0], [42.5656454, -71.3222696, 26000000.0], [47.614018, -122.19655, 22300000.0], [34.104692, -118.375698, 6250000.0], [37.396062, -122.084505, 6000000.0], [37.396062, -122.084505, 6000000.0], [40.770274, -73.96110300000001, 4000000.0], [30.4932033, -97.6135699, 600000.0], [40.4215506, -74.69956479999999, 10000.0], [37.320052, -121.877636, 1000000.0], [39.540323, -104.857271, 4000000.0], [43.112495, -77.483795, 8500000.0], [40.769431, -73.982535, 65750000.0], [37.400945, -122.111318, 10000000.0], [37.75776679999999, -122.3881879, 600000.0], [38.2669759, -122.6574986, 100000000.0], [42.366844, -71.080137, 55100000.0], [42.994321, -71.520411, 15000000.0], [37.4305755, -122.0971389, 30500000.0], [40.738471, -73.992264, 1000000.0], [35.966068, -115.118671, 750000.0], [37.572929, -122.265223, 7400000.0], [40.748673, -73.987779, 10000000.0], [42.390036, -71.14793490000001, 16000000.0], [40.7408164, -73.9918574, 41030000.0], [42.349224, -71.106697, 8000000.0], [38.073062, -122.531621, 6000000.0], [34.083228000000005, -118.341449, 19000000.0], [37.789906, -122.40256940000002, 70600000.0], [37.38021, -121.97208899999998, 29100000.0], [37.456129700000005, -122.1235054, 21600000.0], [37.520587, -122.011377, 130003458.0], [40.7441013, -73.9877417, 500000.0], [34.185357, -118.308756, 250000.0], [32.907996000000004, -117.242795, 40000001.0], [44.893775, -93.409199, 1500000.0], [40.341294, -74.49886, 7630000.0], [39.6350086, -106.5213459, 1900000.0], [47.6080408, -122.3235743, 9000000.0], [37.409870700000006, -122.0019333, 67999999.0], [37.381341, -121.977065, 6000000.0], [41.258355, -95.940715, 228500000.0], [37.400367, -121.985711, 4560000.0], [41.857275, -72.703186, 21250000.0], [37.793473, -122.431617, 1500000.0], [37.380348, -122.012711, 1500000.0], [37.8402148, -122.2911971, 30400000.0], [42.5890219, -71.1574693, 34000000.0], [37.459177, -122.173907, 42700000.0], [36.2804711, -115.0227463, 5000000.0], [37.797024, -122.404182, 10000000.0], [34.068161, -118.442595, 95500000.0], [35.835141, -78.810783, 4000000.0], [37.6837938, -121.8977858, 190601203.0], [33.0368, -117.2914, 60000000.0], [33.5563145, -117.77252, 265000.0], [40.7476928, -73.99037270000001, 8250000.0], [40.498994200000006, -74.34701700000001, 15398911.0], [30.268612, -97.74048, 4350000.0], [37.4520842, -122.1128792, 62800000.0], [37.408261, -122.01592, 44000000.0], [37.520295, -122.260647, 21000000.0], [32.4284, -90.1323, 52500000.0], [34.430210100000004, -119.8633182, 150000000.0], [37.400115, -122.052208, 15000000.0], [37.4993106, -122.2427204, 39994341.0], [37.500426, -122.213516, 73500000.0], [37.231544, -122.002528, 16000000.0], [37.4926224, -121.9558364, 10500000.0], [37.437101, -122.143712, 500000.0], [37.4504317, -122.1190416, 16000000.0], [37.7652755, -122.42047820000002, 13200000.0], [40.472064200000005, -79.9136731, 25000.0], [40.472064200000005, -79.9136731, 25000.0], [37.6280143, -122.1264642, 3000000.0], [40.728623, -73.991924, 9600000.0], [37.674559, -122.385658, 83000000.0], [43.057988, -89.479062, 25000000.0], [37.316999, -122.0496242, 16000000.0], [41.829229, -71.421059, 35000002.0], [39.7511117, -105.0019203, 16000000.0], [37.726339, -122.243783, 4500000.0], [29.5640177, -98.4775711, 200000.0], [39.953171000000005, -75.167332, 15550000.0], [42.3525558, -71.0545882, 28703843.0], [42.3492199, -71.0484979, 28000000.0], [37.4484914, -122.1802812, 50766866.0], [29.596865, -95.620176, 5285000.0], [33.131547999999995, -117.272458, 1700000.0], [47.5433189, -122.055932, 2991652.0], [37.7896811, -122.39439140000002, 47800000.0], [43.6432201, -79.39851329999999, 18628333.0], [37.3740809, -121.924316, 30608728.0], [40.707954, -74.011114, 11000000.0], [35.773371000000004, -78.67743, 20500000.0], [32.8745119, -117.2149726, 40000000.0], [37.395835, -121.92893, 36300000.0], [45.022958, -93.49615, 92000000.0], [37.557631, -122.065509, 102000000.0], [30.2653441, -97.7435857, 299500000.0], [41.878855, -87.642981, 2000000.0], [39.6849237, -105.1609838, 44000000.0], [47.6434969, -122.2033998, 68100000.0], [47.6116398, -122.3457879, 11219390.0], [40.726133, -74.004983, 15000000.0], [42.8113386, -70.8723162, 4491500.0], [40.7172034, -73.9912267, 6000000.0], [42.3983914, -71.13031020000001, 2100000.0], [47.6137221, -122.3356334, 3200000.0], [40.428317, -79.97751, 8063806.0], [40.7537339, -73.980737, 150000.0], [37.486323, -122.2300899, 8055000.0], [40.764614, -73.969358, 11851536.0], [42.3595547, -71.05888370000001, 2130000.0], [38.9038902, -77.0601249, 10453775.0], [29.554798, -98.465113, 14555456.0], [33.963164899999995, -84.19909799999999, 9915000.0], [37.755068, -122.418026, 5675000.0], [37.755068, -122.418026, 5675000.0], [47.6196754, -122.3562767, 3100000.0], [30.3556132, -97.7464224, 37500.0], [30.2734822, -97.7588828, 5350000.0], [37.5366173, -122.2562282, 31000000.0], [47.63609, -122.327028, 10000000.0], [37.7911148, -122.3954751, 65600000.0], [37.332658, -121.895563, 29400000.0], [26.6717305, -80.2473672, 7819999.0], [30.3018787, -97.8395945, 12100000.0], [37.3960202, -121.9253533, 105999996.0], [41.893377, -87.638631, 3500000.0], [33.581315999999994, -117.725287, 55352644.0], [32.7269669, -117.1647094, 6516515.0], [37.4233509, -122.135163, 35345881.0], [37.556732, -122.288378, 15500000.0], [40.7435494, -73.9907928, 5875000.0], [32.812246, -117.153955, 6649999.0], [40.7513125, -74.0067561, 273834120.0], [40.0172612, -105.2830956, 27362000.0], [42.4980987, -71.47678640000001, 28000000.0], [37.7795014, -122.3948712, 1822922.0], [37.7795014, -122.3948712, 1822922.0], [37.4094417, -122.01534440000002, 36500000.0], [37.3940719, -122.0348623, 33500000.0], [37.7914906, -122.4010118, 4500000.0], [42.395484, -71.14566490000001, 961601.0], [33.934558, -118.3962622, 10748830.0], [39.2752168, -76.6199562, 3441238.0], [34.01945429999999, -118.4911912, 6800000.0], [40.7451416, -73.9938543, 7750000.0], [37.7889383, -122.4021679, 34222000.0], [37.409878000000006, -122.00800900000002, 980000000.0], [35.9937287, -78.9036777, 44250000.0], [40.92565379999999, -73.1409429, 12000000.0], [47.616408, -122.341119, 1911478.0], [37.7890183, -122.3915063, 4340000.0], [42.355529100000005, -71.06282220000001, 8750000.0], [38.9064022, -77.04763259999999, 16150000.0], [41.801141, -88.0747875, 2280161.0], [41.8206089, -71.4094924, 56049975.0], [37.5534578, -122.3001802, 62900035.0], [42.34881, -71.083128, 94900000.0], [37.78227879999999, -122.392978, 2000000.0], [37.8027912, -122.2726956, 11753046.0], [42.465782, -71.263856, 57000000.0], [42.347372, -71.53678599999999, 22138121.0], [37.650494, -122.3919314, 65200000.0], [42.28658, -83.744037, 6999997.0], [33.840213, -84.374397, 1850000.0], [37.524876, -122.257285, 27944372.0], [37.7930777, -122.4007336, 20500000.0], [37.778687100000006, -122.4212424, 1000000.0], [37.7835751, -122.3959338, 12200000.0], [42.082808, -71.410043, 62450000.0], [47.661748200000005, -117.3972041, 10700000.0], [37.684211, -121.90268799999998, 51000000.0], [38.8972569, -121.3029404, 500000.0], [33.9675756, -84.2267412, 21468583.0], [37.4491419, -122.1602389, 8000000.0], [37.8712444, -122.5036866, 5000000.0], [40.741266, -73.990753, 28300000.0], [33.9649568, -84.1938334, 11073802.0], [41.9028369, -87.6359125, 1815000.0], [37.4202074, -122.0933053, 4125000.0], [42.3697064, -71.0779171, 15800000.0], [43.068006, -89.39256, 18453939.0], [37.406011, -121.97675900000002, 73197633.0], [37.3927975, -122.0727749, 2600000.0], [40.745064, -73.992637, 6500000.0], [38.0369603, -78.48689540000001, 1980000.0], [40.043164, -75.36607099999999, 12405150.0], [39.94381370000001, -75.1551805, 15000.0], [37.78236, -122.403256, 38200000.0], [37.7813995, -122.3913777, 23500000.0], [37.2791336, -121.9435668, 58000000.0], [37.7871044, -122.39765990000002, 22000000.0], [34.2827556, -119.293102, 2500000.0], [37.7912619, -122.3953422, 35700000.0], [37.3898911, -122.0496755, 11658743.0], [33.648064500000004, -117.7350605, 5000000.0], [33.4979805, -117.6648999, 31800000.0], [37.480067, -122.150059, 32000000.0], [40.444364, -80.082876, 63739701.0], [47.676938, -122.131041, 31800000.0], [47.6031634, -122.3332811, 6000000.0], [45.5179644, -122.6622932, 7300000.0], [37.7618242, -122.3985871, 4500000.0], [42.3501711, -71.04997759999999, 6467283.0], [42.5015629, -71.2365772, 10590000.0], [37.4250754, -122.1462795, 9112792.0], [37.7906027, -122.3971248, 1200000.0], [40.74637379999999, -73.98420899999999, 5360876.0], [34.01945429999999, -118.4911912, 785000.0], [42.48510170000001, -71.20892109999998, 9000000.0], [37.563486, -122.322336, 24100000.0], [37.7887934, -122.3956068, 307450000.0], [37.7749295, -122.4194155, 100000000.0], [40.7501222, -73.9860083, 3000000.0], [39.4138261, -76.6280072, 29608429.0], [37.7829746, -122.4079619, 1714000.0], [36.114646, -115.172816, 630000.0], [37.4510547, -122.1118688, 18500000.0], [37.3965713, -122.0836937, 20750000.0], [37.784027, -122.3919278, 49000000.0], [28.1229234, -82.5023401, 2325000.0], [37.3834395, -122.0130457, 875000.0], [41.4992107, -81.6182062, 8767094.0], [47.645399, -122.325506, 5700000.0], [37.7886773, -122.4005201, 52850818.0], [35.863091299999994, -78.8245693, 13000000.0], [38.926189, -77.244991, 200000.0], [37.434762, -122.143074, 10000000.0], [42.4717204, -71.26214350000001, 12700000.0], [34.431494, -119.855634, 13950000.0], [37.788796000000005, -122.40971, 11640000.0], [33.7814813, -84.3866249, 12000.0], [42.358948100000006, -71.0563699, 8850000.0], [42.3677909, -71.0897233, 40199699.0], [37.375366, -121.969478, 6000000.0], [35.8535092, -78.8267112, 45100000.0], [25.7889689, -80.2264393, 500000.0], [47.601642600000005, -122.33384850000002, 22414975.0], [37.791753, -122.393614, 20000000.0], [42.398219, -71.13994, 12000000.0], [29.951236100000003, -90.0657708, 2800000.0], [40.0230047, -105.2532841, 2564000.0], [34.0329195, -118.45183, 3000000.0], [42.373993, -71.1209944, 2700000.0], [40.743849, -73.9861166, 27850000.0], [37.386764, -121.987643, 84389217.0], [37.472471, -122.196569, 500000.0], [40.726166, -73.99602270000001, 16500000.0], [30.395297600000003, -97.7352087, 2782500.0], [37.3986446, -122.1082064, 15200000.0], [39.944843, -105.1650488, 1400000.0], [37.5349925, -122.30508229999998, 6167000.0], [37.395868, -122.056723, 15000000.0], [39.677862, -104.824402, 14000000.0], [41.887285, -87.6200715, 22400000.0], [37.399204, -122.051639, 85097364.0], [29.727805199999995, -95.4311771, 620000.0], [37.520252, -122.253383, 5117500.0], [40.3004, -111.728765, 3500000.0], [42.423662, -76.5003997, 785000.0], [47.796782, -122.20464979999998, 2400000.0], [37.425657, -122.1455855, 17800000.0], [40.7472488, -73.99126120000001, 17000000.0], [30.2698774, -97.7429749, 9000000.0], [40.3307854, -111.7302167, 45000000.0], [40.7454098, -73.98222109999999, 10150000.0], [42.615675, -71.326311, 5000000.0], [41.8932292, -87.63806020000001, 9500000.0], [33.882086, -84.4659798, 6300000.0], [33.148216999999995, -117.2166656, 100000.0], [37.47798, -122.141038, 79328131.0], [37.3739828, -121.9962231, 20132555.0], [47.330157, -122.582901, 3000000.0], [40.758343, -73.990152, 16250000.0], [42.3519854, -71.0594048, 1750000.0], [40.623531, -74.02476, 610000.0], [37.391629, -122.080765, 39875000.0], [33.3514215, -96.551086, 4169000.0], [33.920615999999995, -84.355812, 34800000.0], [39.189265, -84.361184, 300000.0], [33.9680529, -84.4094402, 19000000.0], [40.7387945, -73.9939213, 7350000.0], [37.53860220000001, -122.3265757, 12000000.0], [42.0573989, -88.0030177, 2500.0], [33.0903149, -96.821064, 6700000.0], [40.7431836, -73.99350109999999, 2180000.0], [30.268468, -97.743123, 9560000.0], [41.8883776, -87.63651309999999, 6250000.0], [40.019269, -105.280036, 2916500.0], [37.783137700000005, -122.4077565, 4480000.0], [42.3512134, -71.0474297, 14456000.0], [37.7865479, -122.3988132, 9000000.0], [40.73343, -73.990967, 14475000.0], [37.442453, -122.158581, 160500000.0], [37.783195, -122.394254, 500000.0], [37.7896811, -122.39439140000002, 5662500.0], [33.849065700000004, -118.3094943, 22199985.0], [40.7525842, -73.9803946, 5600000.0], [37.562225, -122.325734, 13000000.0], [42.356435, -71.0615659, 1780000.0], [40.7144907, -74.00726590000001, 2876969.0], [33.1496842, -96.8357035, 11473755.0], [37.384644, -122.062493, 20000.0], [40.1049859, -83.145461, 1392000.0], [40.7456621, -73.9822642, 13800000.0], [37.3929755, -122.0796396, 74900000.0], [33.5292176, -111.9252304, 42549993.0], [40.739846, -73.991946, 5500000.0], [40.743799, -73.984605, 775000.0], [30.2695417, -97.7407774, 5500000.0], [37.7813979, -122.4029701, 17544997.0], [37.781132, -122.396474, 8500000.0], [34.0522342, -118.24368490000002, 250000.0], [37.7921195, -122.4038279, 9529196.0], [40.5655379, -111.90206200000002, 12500000.0], [37.787249, -122.3990501, 22000000.0], [37.7770719, -122.3966273, 11500000.0], [37.7582977, -122.3882126, 16500000.0], [40.7566899, -73.98582900000001, 23100000.0], [41.271505700000006, -95.9328698, 6200000.0], [30.2605528, -97.7887971, 48689550.0], [40.7384368, -73.9936828, 4500000.0], [37.563664, -122.324717, 27800000.0], [38.90214, -77.032416, 6000000.0], [37.721376, -122.459712, 1305000.0], [34.100477000000005, -118.328981, 40000.0], [35.991458, -78.8997739, 149074.0], [37.7896246, -122.3954269, 1625000.0], [45.45095070000001, -122.7889855, 57000000.0], [40.757651, -73.97527679999999, 39750000.0], [34.1457677, -118.1482022, 999997.0], [47.601642600000005, -122.33384850000002, 3066809.0], [40.0911149, -88.24015440000001, 6887193.0], [37.498253000000005, -122.223608, 196300.0], [32.891849, -117.200952, 4400000.0], [42.276721, -71.76772700000001, 3572281.0], [37.4492744, -122.158941, 59767166.0], [41.8883776, -87.63651309999999, 873720.0], [45.0257379, -93.4558799, 100000000.0], [40.352198, -111.775091, 1473000.0], [30.363153000000004, -97.749566, 5850000.0], [39.749671, -104.9998449, 3265000.0], [37.78182460000001, -122.3932938, 17000000.0], [37.7795484, -122.3921129, 285000.0], [39.5974472, -104.8612702, 265000.0], [37.7896246, -122.3954269, 4000000.0], [40.7394115, -73.9895748, 4000000.0], [35.877234, -78.841617, 3500000.0], [40.727689700000006, -74.0074484, 19000000.0], [35.0380726, -85.3104902, 60000.0], [41.895495, -87.6349009, 50500000.0], [42.3529476, -71.0525429, 6550000.0], [40.745559, -73.986243, 38400000.0], [41.879979, -87.634173, 38400000.0], [42.3628171, -71.0840199, 8200000.0], [37.787249, -122.3990501, 4620000.0], [40.7412488, -73.99125179999999, 18628333.0], [34.0211224, -118.3964665, 64500000.0], [37.2322135, -80.4164606, 7000000.0], [38.8963537, -77.0729605, 3125000.0], [35.1841266, -106.5471197, 431162.0], [33.9166805, -117.9000604, 30000000.0], [37.7896083, -122.4004987, 11139440.0], [30.2702703, -97.742204, 2500000.0], [25.8035974, -80.1873591, 3300000.0], [34.012637899999994, -118.495155, 293900.0], [37.4210225, -122.1377411, 425000.0], [40.746285, -73.986602, 2250000.0], [37.7550372, -122.4264417, 27000000.0], [32.9465896, -117.2404619, 10996605.0], [30.3377537, -97.8066662, 16135004.0], [37.548418700000006, -122.3151646, 3282327.0], [42.4093289, -71.2730247, 1600000.0], [34.0138323, -118.4959869, 2500000.0], [40.7204679, -74.0012672, 365000.0], [37.775058, -122.419966, 6270100.0], [37.380653, -122.1156934, 10150000.0], [34.093160299999994, -118.3783347, 3400000.0], [34.417044, -119.6956492, 200000.0], [41.8883776, -87.63651309999999, 310000.0], [41.6566161, -91.5308801, 450000.0], [47.6140248, -122.1937423, 4473279.0], [37.76938679999999, -122.4081812, 1200000.0], [40.7439956, -73.9888765, 4500000.0], [37.5985468, -122.3871942, 465000.0], [37.4454025, -122.1655261, 4500000.0], [38.9994297, -77.0397383, 258000.0], [36.1868826, -115.2249689, 60000.0], [30.273037, -97.750793, 4451943.0], [37.93501079999999, -122.5204309, 15300000.0], [37.78681339999999, -122.4055127, 5000000.0], [37.7872406, -122.3967503, 15460000.0], [40.7143528, -74.00597309999999, 250000.0], [39.2646373, -84.38113409999998, 965000.0], [42.0189894, -71.00782149999999, 11300000.0], [39.028882, -94.634808, 27100000.0], [37.554796, -122.3171871, 27200000.0], [40.7412488, -73.99125179999999, 10200000.0], [37.7929789, -122.4212424, 895000.0], [40.7286596, -73.99215579999999, 1700000.0], [37.4211511, -122.0891236, 1100000.0], [42.3391849, -71.0367443, 4000000.0], [37.477008000000005, -122.151599, 42000000.0], [40.7388319, -73.9815337, 250000.0], [40.7032884, -73.9878525, 500000.0], [40.7280992, -73.99338409999999, 500000.0], [37.78640120000001, -122.4052321, 2500000.0], [39.276119, -76.61275699999999, 4725000.0], [32.7161896, -117.168697, 8600000.0], [37.7755846, -122.4139307, 1500000.0], [33.8075485, -117.8616035, 22199985.0], [42.3646383, -71.0620037, 1020000.0], [42.3625828, -71.0853501, 2222500.0], [40.0580349, -105.24261, 3088581.0], [47.634377, -122.340781, 5000000.0], [39.9514194, -105.2352106, 1600000.0], [40.7255448, -74.00897059999998, 1655000.0], [45.5475542, -122.7139442, 400000.0], [37.78848, -122.400823, 2600000.0], [47.6778363, -122.1979178, 1175000.0], [37.439388, -122.157032, 23600000.0], [37.5578084, -121.9840176, 1500000.0], [35.836535, -78.687916, 2202090.0], [34.0522342, -118.24368490000002, 2202090.0], [40.727425, -74.0057125, 200000.0], [29.649699100000003, -82.3230029, 4100000.0], [41.8781136, -87.62979820000001, 15819454.0], [41.7305287, -72.79999079999999, 7900000.0], [33.8641472, -117.7419658, 118000.0], [40.762029, -73.970996, 20000000.0], [34.012222200000004, -118.4946298, 7300000.0], [34.4238149, -119.7052838, 275000.0], [40.7550768, -73.99225759999999, 3096763.0], [37.477008000000005, -122.151599, 15500000.0], [42.365516, -71.104488, 1363000.0], [36.165654, -115.14108799999998, 525000.0], [40.7281451, -73.9913715, 5020000.0], [41.8969173, -87.6435474, 24975000.0], [42.5592604, -70.885849, 7360000.0], [40.6833263, -73.97770329999999, 1075000.0], [37.7732751, -122.40353629999998, 562500000.0], [40.7433137, -74.00689279999999, 11000000.0], [34.101707899999994, -118.3443242, 300000.0], [35.902852, -78.859199, 10909952.0], [33.7862629, -84.3877936, 60704370.0], [33.7769464, -84.3871412, 25000.0], [42.3736158, -71.10973349999999, 500000.0], [37.7720218, -122.4136347, 1650000.0], [37.379181, -122.117889, 5426000.0], [37.7896246, -122.3954269, 1000000.0], [39.1100463, -84.520679, 2650000.0], [42.3634466, -71.08250670000001, 2500000.0], [33.664567, -117.747521, 38000000.0], [37.769541700000005, -122.4027783, 7000000.0], [37.394374, -122.079757, 20000000.0], [37.782081700000006, -122.3957478, 30600000.0], [37.7883445, -122.4046794, 10000000.0], [37.789451, -122.401462, 14112835.0], [41.895339, -87.636284, 1300000.0], [34.0342355, -118.4535601, 6400000.0], [37.3935495, -121.9325258, 3000000.0], [37.7875127, -122.4052807, 22000000.0], [43.075948700000005, -89.38343940000001, 1899998.0], [33.7460799, -84.37329609999999, 35000.0], [38.6283027, -90.1906904, 1365000.0], [37.492674, -122.227793, 45000000.0], [34.039148, -118.431221, 10750000.0], [37.791185, -122.391791, 16700000.0], [39.755070200000006, -105.008612, 3504791.0], [32.71559, -117.16739, 4194000.0], [37.5783263, -122.3485679, 3000000.0], [36.169872, -115.139516, 6500000.0], [37.764572, -122.411845, 20000000.0], [37.7075878, -122.1701549, 6000000.0], [37.395271, -122.102275, 5426678.0], [37.4277339, -122.1451829, 2332925.0], [37.7577251, -122.4259525, 13000000.0], [43.0833196, -89.37247690000001, 1199000.0], [37.3692341, -121.9199842, 21575000.0], [33.984469, -118.43679, 46325000.0], [42.3625828, -71.0853501, 2000000.0], [40.7524767, -73.98082420000001, 39722025.0], [37.2358078, -121.9623751, 12000000.0], [37.2616519, -121.9231015, 370000.0], [37.785647, -122.405265, 12000000.0], [38.8963509, -77.07295970000001, 400000.0], [45.5320384, -122.6931571, 1325000.0], [33.6407803, -111.8967003, 13500000.0], [37.406702, -121.919961, 3174999.0], [32.874505, -117.206998, 310001.0], [37.7823753, -122.4075668, 5000000.0], [37.3751134, -121.9199107, 6250000.0], [34.0489393, -118.251029, 14750000.0], [40.7452109, -73.99028670000001, 12500000.0], [42.3858597, -71.2650517, 7000000.0], [40.747093, -73.99244200000001, 1000000.0], [37.7758334, -122.4123686, 4200000.0], [30.2795042, -97.7427559, 2000000.0], [33.4945234, -117.1494193, 1500000.0], [40.740497, -73.985612, 48500000.0], [37.404903, -122.113167, 4200010.0], [30.378658, -97.731249, 40000002.0], [35.139441, -80.91610899999999, 40000002.0], [33.464377, -111.924855, 40000002.0], [37.554631, -121.976682, 7891862.0], [41.4966513, -81.69376209999999, 150000.0], [38.247083, -85.57161500000001, 3135780.0], [37.406027, -121.918642, 27000000.0], [47.604682, -122.3375312, 825000.0], [40.7143528, -74.00597309999999, 1000000.0], [42.3625828, -71.0853501, 118000.0], [40.73993, -73.9930489, 5234076.0], [34.0184893, -118.48923329999998, 700000.0], [36.8496245, -76.290685, 10000.0], [39.9222441, -86.1560029, 3600000.0], [40.7158999, -74.0149062, 500000.0], [42.506417, -71.135852, 30499992.0], [37.8052307, -122.2660997, 1200000.0], [41.498225, -81.686012, 7900000.0], [40.737811, -73.988864, 16500000.0], [37.7948359, -122.403527, 5625000.0], [40.427555600000005, -111.8907577, 8733950.0], [25.762082, -80.192502, 1150000.0], [37.428862200000005, -122.1501256, 69000000.0], [37.783699, -122.393581, 18628333.0], [37.4250553, -122.1460474, 2028715.0], [38.250548, -122.27355, 2500000.0], [40.7530565, -73.9913651, 270000.0], [37.857784, -122.483673, 995000.0], [41.818712, -71.411775, 350000.0], [37.7841028, -122.3947308, 16000000.0], [39.9531411, -75.2048515, 3750000.0], [43.0023146, -89.424092, 572726.0], [42.3190658, -88.9730632, 3500000.0], [37.7749295, -122.4194155, 14100000.0], [37.533265, -122.327676, 1200000.0], [40.737673, -73.992925, 2250000.0], [40.754225, -73.991078, 730000.0], [40.7464969, -74.00944709999999, 854000.0], [39.095581, -84.5233417, 7000000.0], [33.5660074, -111.9233107, 2500000.0], [37.406778, -121.980386, 14142157.0], [42.108856, -71.71466099999999, 121550.0], [41.8883776, -87.63651309999999, 1350000.0], [40.756419, -73.975076, 23150000.0], [37.779868, -122.392343, 14000000.0], [37.562991700000005, -122.3255254, 19000000.0], [37.3834395, -122.0130457, 525000.0], [40.738565, -73.987153, 275000.0], [42.352344, -71.05626600000001, 45200000.0], [37.778244, -122.394221, 25824256.0], [37.3834395, -122.0130457, 17900000.0], [34.4218806, -119.7036157, 4259998.0], [47.627811, -122.530209, 80000.0], [42.3668959, -71.0801348, 7200000.0], [37.524876, -122.257285, 4473643.0], [37.7575647, -122.4234745, 240000.0], [37.7962584, -122.4037366, 300000.0], [37.7874835, -122.3992896, 13020000.0], [30.2729209, -97.7443863, 475000.0], [40.7291303, -73.99823570000001, 7000000.0], [37.7726402, -122.4099154, 3550000.0], [42.4535146, -71.4092198, 6950000.0], [34.012637899999994, -118.495155, 1000000.0], [42.699058, -83.26430400000001, 84000000.0], [42.325415, -71.252388, 34600000.0], [37.7709112, -122.4051824, 2800000.0], [37.471554, -122.164479, 5500000.0], [37.4448817, -122.1629649, 13400000.0], [37.3691735, -121.9225322, 4700000.0], [45.0280704, -93.1847442, 2000000.0], [37.41775629999999, -122.1235054, 2500000.0], [41.8865644, -87.627339, 5964793.0], [42.3625828, -71.0853501, 88000.0], [42.356145, -71.061981, 35400000.0], [37.7887169, -122.3983483, 1863397.0], [37.7879083, -122.4039136, 20300000.0], [25.7889689, -80.2264393, 40000.0], [40.6358135, -111.8065925, 39100000.0], [42.9901935, -71.4629353, 495000.0], [40.0149856, -105.2705456, 18000.0], [37.800520500000005, -122.4018148, 2500000.0], [37.7911148, -122.4021273, 100000.0], [40.0708709, -75.302716, 75000000.0], [47.6767878, -122.19391709999998, 1210000.0], [30.426158, -97.740967, 18000000.0], [34.0522342, -118.24368490000002, 400000.0], [30.4240007, -84.22666170000001, 543000.0], [44.9805206, -93.2738959, 4000000.0], [43.6575748, -70.2547436, 100000.0], [37.406011, -121.97675900000002, 12800000.0], [45.5243806, -122.6834656, 1350000.0], [39.964428000000005, -82.924628, 2300000.0], [40.265042, -111.665534, 70000000.0], [33.9386609, -84.50514040000002, 13550000.0], [37.5543104, -122.3000461, 13550000.0], [34.138046, -118.152812, 2282118.0], [33.957840000000004, -84.021714, 2282118.0], [37.7726402, -122.4099154, 3900000.0], [40.7045356, -73.9865364, 1800000.0], [37.7810008, -122.3955574, 24000000.0], [37.847914200000005, -122.2902738, 2500000.0], [37.788078600000006, -122.4012878, 31200000.0], [37.7959362, -122.4000032, 10000.0], [37.421418, -122.098296, 9001000.0], [37.7794128, -122.3932504, 2800000.0], [37.7744657, -122.398549, 4500000.0], [38.938383, -77.32906059999999, 10500000.0], [37.7749295, -122.4194155, 300000.0], [33.981625, -118.414882, 10500000.0], [40.7386558, -73.988698, 4210001.0], [37.446862, -122.162026, 9300000.0], [37.790524700000006, -122.4041195, 1000000.0], [38.628063700000006, -90.1903126, 50000.0], [40.752585, -73.987915, 800000.0], [37.2281498, -121.97914640000002, 36000000.0], [40.749038, -73.99437900000001, 6000000.0], [41.879211, -87.637199, 110000.0], [38.985049, -77.088661, 5000000.0], [37.7897517, -122.3993957, 5000000.0], [40.7200916, -73.99891140000001, 6850000.0], [40.7481129, -73.98439, 6850000.0], [40.7395237, -74.0059422, 6850000.0], [40.727425, -74.0057125, 6850000.0], [40.7504919, -73.9808848, 6850000.0], [37.787249, -122.3990501, 6850000.0], [34.101707899999994, -118.3443242, 6850000.0], [25.728798, -80.2377006, 460000.0], [32.808698, -96.789036, 100000.0], [40.7143528, -74.00597309999999, 20000.0], [37.7875304, -122.3989996, 11000000.0], [37.7749295, -122.4194155, 200000.0], [33.826060600000005, -118.0257932, 100000.0], [42.35152720000001, -71.05738649999999, 1450000.0], [40.7394115, -73.9895748, 3220000.0], [33.9962144, -118.46887759999998, 1000000.0], [38.6181376, -90.274337, 2500000.0], [40.7388585, -73.9917578, 6125000.0], [38.649378000000006, -121.361405, 375000.0], [40.7062519, -74.0106936, 5000000.0], [37.4418834, -122.1430195, 1000000.0], [40.7253167, -74.0048825, 4000000.0], [37.7796347, -122.39181229999998, 8500000.0], [39.1108737, -84.51570040000001, 6110000.0], [37.3905676, -122.0813146, 2490000.0], [37.7899027, -122.4007846, 118000.0], [42.3635847, -71.0824613, 118000.0], [40.5988893, -74.36707109999999, 200000.0], [40.737944, -73.99251329999998, 200000.0], [33.666407, -117.859182, 12000000.0], [39.1108737, -84.51570040000001, 165000.0], [41.7934241, -88.1243161, 1000000.0], [40.748077, -73.994027, 40000.0], [25.8179722, -80.1223898, 750000.0], [38.9383766, -77.1767997, 11900000.0], [42.3628171, -71.0840199, 350000.0], [37.4778041, -122.1427131, 1200000.0], [40.5887585, -73.6495299, 65000.0], [41.9181019, -88.0046716, 1500000.0], [40.323926, -111.725468, 285000.0], [36.1659781, -115.1397364, 1500000.0], [40.7481129, -73.98439, 250000.0], [42.3260164, -71.2250533, 3969572.0], [37.5529479, -122.2906215, 7300000.0], [37.7913933, -122.39216, 7300000.0], [44.904182, -93.566939, 400000.0], [40.7233544, -74.0060656, 3100000.0], [35.102765000000005, -106.589094, 12800000.0], [35.016690999999994, -80.819686, 961000.0], [34.1499463, -118.0866982, 250000.0], [40.7143528, -74.00597309999999, 14325000.0], [40.7281451, -73.9913715, 350000.0], [34.0146279, -118.4969722, 6000000.0], [33.9908817, -118.4767754, 2100000.0], [37.7841028, -122.3947308, 1300000.0], [30.2804312, -97.8075444, 3000000.0], [32.903479, -97.237458, 3500000.0], [37.628521, -122.422972, 3500000.0], [37.795933000000005, -122.273128, 20000000.0], [33.7761508, -84.38489609999999, 3000000.0], [37.275539, -107.880816, 2450000.0], [42.3628171, -71.0840199, 12000000.0], [40.727425, -74.0057125, 222000.0], [40.8458036, -111.9343636, 500000.0], [48.118146, -123.4307413, 886168.0], [40.7451533, -73.993938, 69000000.0], [42.3948825, -71.1457662, 7800000.0], [37.5666652, -122.3249578, 16000000.0], [34.0363017, -118.4778327, 250000.0], [40.7436477, -73.9891927, 2725000.0], [40.745251, -73.993084, 10000000.0], [40.7481129, -73.98439, 9590000.0], [45.5116612, -122.6773366, 1053679.0], [40.7449218, -73.9938093, 1618000.0], [37.7115831, -122.456234, 55000.0], [39.737567, -104.9847179, 42549993.0], [38.7521235, -121.28800590000002, 42549993.0], [38.8951118, -77.0363658, 42549993.0], [40.0149856, -105.2705456, 6200000.0], [30.267153000000004, -97.7430608, 6200000.0], [42.3625828, -71.0853501, 50000.0], [35.969145000000005, -86.80257900000001, 25000.0], [37.7882654, -122.403575, 1500000.0], [34.0522342, -118.24368490000002, 345000.0], [40.78955429999999, -96.7012424, 415000.0], [26.317062, -80.113456, 1825000.0], [39.7196737, -75.14565959999999, 3200000.0], [39.9973968, -83.120486, 3000000.0], [34.0267532, -118.3807821, 150000.0], [36.066241, -94.166813, 428000.0], [40.7143528, -74.00597309999999, 500000.0], [37.3823145, -121.9763997, 4400000.0], [37.78973189999999, -122.4010798, 7000000.0], [42.3584308, -71.05977320000001, 250000.0], [34.0146279, -118.4969722, 7700000.0], [37.563353, -122.317952, 19300000.0], [37.7872892, -122.4050067, 3500000.0], [37.048021000000006, -122.019475, 2000000.0], [33.665561100000005, -117.7471823, 2087704.0], [40.050105, -75.527024, 21000000.0], [38.013931, -78.501232, 4050000.0], [40.7144907, -74.00726590000001, 30000.0], [39.1108737, -84.51570040000001, 100000.0], [34.0761575, -118.3751277, 3060000.0], [33.989806, -118.4610727, 2000000.0], [40.7143528, -74.00597309999999, 25000.0], [40.7172079, -73.99124309999999, 2025000.0], [37.7755889, -122.397977, 1841902.0], [42.3360756, -83.04929229999999, 3500000.0], [42.510324, -71.142397, 250000.0], [40.7504919, -73.9808848, 2016100.0], [42.3597565, -71.0935586, 25000000.0], [35.156479, -80.837412, 10000000.0], [34.102037, -118.344379, 1808240.0], [32.9394952, -117.0328392, 1707671.0], [47.5764769, -122.330484, 2048000.0], [32.725409, -97.3208496, 51305000.0], [47.6243978, -122.3400663, 100000.0], [36.1697096, -115.1236952, 290000.0], [33.687650299999994, -117.8572293, 10000000.0], [41.3395325, -72.6978931, 8000000.0], [45.5158061, -122.67489270000002, 17704186.0], [37.6490544, -122.3871092, 24616666.0], [37.78167070000001, -122.3924896, 3200000.0], [37.424141, -122.100924, 9000000.0], [40.871633, -74.09688299999999, 1250000.0], [42.2808256, -83.7430378, 1250000.0], [29.947093, -90.069164, 10000.0], [39.798909, -121.852841, 36000000.0], [37.7618242, -122.3985871, 150000.0], [42.3628171, -71.0840199, 250000.0], [37.7890183, -122.3915063, 250000.0], [37.78167070000001, -122.3924896, 3900000.0], [44.857511, -93.345774, 24724245.0], [42.280119, -83.74839300000001, 6100000.0], [37.4418834, -122.1430195, 25000.0], [41.3081527, -72.9281577, 25000.0], [37.7981213, -122.4031446, 2000000.0], [32.765731800000005, -117.199996, 35000.0], [47.6212234, -122.1665589, 15000000.0], [42.3628171, -71.0840199, 5900000.0], [33.4483771, -112.0740373, 1500000.0], [33.454907899999995, -117.6593, 16000000.0], [37.7970229, -122.4053376, 3000000.0], [46.8832528, -114.01845729999998, 2500000.0], [40.744479600000005, -73.98755129999999, 250000.0], [32.830986100000004, -117.1202029, 900000.0], [37.7749295, -122.4194155, 14999997.0], [40.7436487, -73.98351579999999, 40000.0], [40.7389343, -73.9896316, 7000000.0], [40.7143528, -74.00597309999999, 49500.0], [41.800255, -88.149362, 1226270.0], [40.7204679, -74.0012672, 475000.0], [34.012985, -118.49567, 351600000.0], [30.3096936, -97.93901329999998, 351600000.0], [34.4405218, -119.7445783, 351600000.0], [42.3504926, -71.07979, 2350000.0], [37.7749295, -122.4194155, 2400000.0], [37.4480203, -122.1587501, 2000000.0], [40.947495700000005, -90.4180799, 250000.0], [39.952335, -75.16378900000001, 25000.0], [34.1220545, -118.29358909999998, 10000.0], [37.7911148, -122.3954751, 9000000.0], [41.881749, -87.631739, 500000.0], [37.853356, -122.291206, 42800000.0], [34.0522342, -118.24368490000002, 7000000.0], [34.101218100000004, -118.32573899999998, 1250000.0], [40.4812536, -106.8174754, 200000.0], [37.7749295, -122.4194155, 200000.0], [42.3901351, -71.2614557, 1050000.0], [40.760955, -73.968441, 41893011.0], [37.4484914, -122.1802812, 4500000.0], [36.1773505, -96.4779384, 400000.0], [32.7471067, -117.1906045, 400000.0], [42.32415, -71.26023599999999, 6400000.0], [34.2076498, -119.0392685, 32000000.0], [37.4271813, -122.0619054, 462000.0], [34.014105, -118.497457, 50000000.0], [40.7208859, -73.9935778, 3000000.0], [37.7261373, -122.3904105, 25000.0], [38.2966249, -122.2886669, 100000.0], [32.847781, -96.771534, 56550000.0], [33.308023, -111.977118, 82600000.0], [37.446789, -122.164118, 625000.0], [38.452149, -121.82961609999998, 625000.0], [40.7506555, -73.9801253, 8850000.0], [34.049261, -118.257024, 30000000.0], [37.838818, -122.30156399999998, 1350000.0], [40.741771, -73.996837, 40000.0], [37.7868333, -122.4011603, 3500000.0], [40.7504919, -73.9808848, 71700000.0], [34.0522342, -118.24368490000002, 200000.0], [42.4305114, -71.4606498, 100000.0], [32.780139899999995, -96.8004511, 15819454.0], [34.0522342, -118.24368490000002, 15819454.0], [44.983334, -93.26667, 15819454.0], [37.7896246, -122.3954269, 610548.0], [33.898828, -118.383715, 100000.0], [42.48510170000001, -71.20892109999998, 9850000.0], [48.4525111, -122.3354471, 25000.0], [36.19, -94.13, 33333.0], [33.793259899999995, -84.368849, 359245.0], [37.308562, -122.03182, 1500000.0], [40.749741, -73.98904370000001, 265000.0], [40.3490059, -74.662665, 4300000.0], [40.5818395, -111.8877053, 6000000.0], [37.974454, -122.541153, 1000000.0], [32.90398, -117.241984, 13000000.0], [30.267859, -97.7410079, 3000000.0], [37.5529479, -122.2906215, 2500000.0], [39.7488269, -75.54762420000002, 865175.0], [40.9013459, -81.13060290000001, 250000.0], [40.7554933, -73.98161329999999, 7500000.0], [38.4404674, -122.7144314, 670000.0], [37.4085499, -122.072309, 250000.0], [37.558136, -122.279913, 25000000.0], [40.5483424, -74.2990855, 25000000.0], [42.3499939, -71.04986170000001, 2125000.0], [34.207151, -118.23182, 400000.0], [33.658924, -118.000618, 500000.0], [40.1012856, -75.38355250000001, 285000.0], [36.145438, -86.794436, 21189.0], [39.9978746, -83.0421228, 90000.0], [45.3806769, -122.7664067, 25000.0], [40.7686973, -73.9918181, 500000.0], [33.022141600000005, -117.0745315, 150000.0], [42.988136, -78.5625699, 1000000.0], [34.0762708, -118.3698726, 20000000.0], [32.9860941, -117.07402240000002, 102685000.0], [40.7143528, -74.00597309999999, 1500000.0], [42.9254394, -70.8512471, 10000000.0], [42.3948825, -71.1457662, 11300000.0], [47.616274700000005, -122.3205492, 1800000.0], [40.7394115, -73.9895748, 1800000.0], [42.3647751, -71.0877652, 813000.0], [33.399079, -111.919428, 25000.0], [40.707232700000006, -74.00863840000001, 150000.0], [40.4547421, -79.9789304, 150000.0], [42.48510170000001, -71.20892109999998, 10000000.0], [45.5264459, -122.682447, 140000.0], [37.7748547, -122.4012723, 500000.0], [37.7749295, -122.4194155, 1600000.0], [32.9138593, -117.08529509999998, 152000.0], [39.9654811, -105.1215632, 1400000.0], [37.5333724, -122.2714854, 29906548.0], [33.672219, -117.862486, 370000.0], [41.818712, -71.411775, 50000.0], [40.7564745, -73.9859448, 1510000.0], [41.1227414, -81.6484738, 150000.0], [40.735781, -74.0035709, 5497825.0], [38.303183700000005, -77.46053990000001, 13100.0], [41.816736, -71.40915629999999, 764000.0], [42.3364553, -71.0349193, 764000.0], [37.3905676, -122.0813146, 50000.0], [37.315852, -122.006491, 14350000.0], [42.541186, -83.143821, 573000.0], [37.7815343, -122.4078375, 8200000.0], [32.874076, -117.211074, 100000.0], [40.7766412, -73.9521468, 74000.0], [40.744479600000005, -73.98755129999999, 383000.0], [37.76938679999999, -122.4081812, 2700000.0], [47.6814875, -122.2087353, 4300000.0], [41.883754, -87.6425766, 4200010.0], [40.555434000000005, -111.902516, 4200010.0], [40.5550588, -105.083971, 2825800.0], [34.0177138, -118.4871562, 25492899.0], [36.0967709, -94.1622749, 2500000.0], [40.7388319, -73.9815337, 500000.0], [40.755649, -73.983355, 9400000.0], [41.9626236, -87.67469870000001, 50000.0], [44.596402000000005, -123.250208, 1400000.0], [40.7546978, -73.98655040000001, 4300000.0], [40.7028799, -73.9906551, 1000000.0], [34.0432928, -118.2575697, 63739701.0], [42.3628171, -71.0840199, 1200000.0], [40.702761200000005, -73.9867783, 2325000.0], [34.0895056, -84.2707694, 3000000.0], [37.9451206, -122.5127046, 2500000.0], [40.733717600000006, -73.9929, 3000000.0], [42.8093864, -70.8705762, 50000.0], [34.0356331, -118.51559009999998, 122985000.0], [40.7143528, -74.00597309999999, 235000.0], [37.7836596, -122.3962463, 1750000.0], [40.7467759, -73.993155, 10000000.0], [38.90473660000001, -77.0344213, 50000.0], [44.9888649, -93.255102, 15500000.0], [35.823052600000004, -78.6076291, 16000000.0], [42.3655855, -71.0782272, 174600000.0], [32.904104499999995, -117.2441645, 7650000.0], [34.0182914, -118.4842002, 12280000.0], [40.7143528, -74.00597309999999, 12280000.0], [42.2028303, -87.884578, 1500000.0], [37.7749295, -122.4194155, 10000000.0], [37.769205, -121.966395, 54789777.0], [37.7875304, -122.3989996, 7000000.0], [37.776658700000006, -122.395875, 7800000.0], [37.801916, -122.40112, 1500000.0], [40.7394115, -73.9895748, 1000000.0], [37.7813581, -122.39138590000002, 5000000.0], [40.7243575, -73.9974635, 961888.0], [40.7275169, -74.0057193, 1200000.0], [37.3834395, -122.0130457, 1000000.0], [38.6283027, -90.1906904, 550000.0], [26.12, -80.13, 5000.0], [37.3842461, -121.9926663, 8100000.0], [34.0188992, -118.4924125, 16250000.0], [41.890178000000006, -87.63411500000001, 16250000.0], [36.0324286, -79.9711253, 11600.0], [32.913191999999995, -117.231074, 60500000.0], [40.740494, -73.99051700000001, 11175000.0], [32.9852206, -96.8491261, 24000000.0], [42.3443804, -71.0279912, 16750000.0], [42.9820673, -82.2495718, 6278000.0], [33.669707, -117.866876, 400000.0], [41.1390158, -73.34567829999999, 200000.0], [37.7810008, -122.3955574, 22000000.0], [37.3938295, -122.09925859999998, 1800000.0], [36.1666667, -86.7833333, 250000.0], [38.9845495, -94.7084348, 5487741.0], [37.7749295, -122.4194155, 500000.0], [26.0905862, -80.25256440000001, 1350000.0], [25.807413500000003, -80.193339, 1500000.0], [40.7524351, -73.9754405, 19000000.0], [40.7054388, -74.0140021, 53000000.0], [43.020029, -85.589143, 1250000.0], [41.8221971, -71.4098352, 525000.0], [37.317649, -121.948532, 10000000.0], [37.7849071, -122.4073163, 7000000.0], [40.912377500000005, -73.11336990000001, 21542600.0], [40.727425, -74.0057125, 111000.0], [34.0193878, -118.4945027, 1872500.0], [40.751020200000006, -73.9917397, 3427500.0], [35.226973, -80.84618, 400000.0], [40.721789, -74.00044, 400000.0], [37.390648, -122.067246, 7669424.0], [47.764949, -122.178885, 10000000.0], [40.7446709, -73.981238, 500000.0], [34.169428, -118.57651, 500000.0], [45.118212, -93.229571, 425000.0], [41.056318, -73.765957, 1100000.0], [37.484592, -122.183212, 17997183.0], [37.396346, -121.978755, 6000000.0], [39.76048, -104.984077, 8999999.0], [37.428434, -122.0723816, 3320000.0], [40.70396470000001, -73.98669129999999, 200000.0], [37.3598283, -121.9814354, 8000000.0], [41.0529585, -73.53879909999999, 6650000.0], [43.070715, -89.38306800000001, 2000000.0], [37.7921276, -122.4001012, 14400000.0], [40.7759258, -73.4205982, 2150501.0], [42.362733, -71.083201, 50000.0], [42.3663518, -71.11959949999999, 50000.0], [33.5027479, -117.16361100000002, 200000.0], [35.999451, -78.898811, 831000.0], [40.41922, -86.89246800000001, 1600000.0], [39.9201059, -86.1599109, 3325496.0], [43.0749541, -89.3824477, 13205112.0], [40.7366138, -74.00944709999999, 330000.0], [28.760452500000003, -81.35740909999998, 46900000.0], [40.7143528, -74.00597309999999, 3000000.0], [37.4457966, -122.1575745, 2000000.0], [37.8001663, -122.45503490000002, 2200000.0], [37.7749295, -122.4194155, 1250000.0], [37.7465468, -122.4150637, 250000.0], [26.3697055, -80.12792590000001, 8513625.0], [27.3824642, -82.4254998, 1756797.0], [42.3625828, -71.0853501, 50000.0], [40.7431001, -73.9897836, 150000.0], [37.5909749, -122.34860659999998, 3660000.0], [40.422297, -111.807245, 2080000.0], [33.9010869, -84.46186800000001, 46500000.0], [29.6510484, -82.32513859999999, 1950000.0], [33.074957, -96.8234389, 2257500.0], [40.7143528, -74.00597309999999, 225000.0], [42.366620000000005, -71.243245, 14347541.0], [37.7889812, -122.4337468, 50000.0], [40.707726, -74.01131, 43300000.0], [42.3501711, -71.04997759999999, 43300000.0], [33.060303000000005, -117.261239, 43300000.0], [37.4491419, -122.1602389, 15600000.0], [37.4256415, -122.1456008, 12700000.0], [37.606664, -77.53085779999999, 2300000.0], [40.7741339, -73.96408199999999, 1150000.0], [42.3544506, -71.0515764, 1250000.0], [37.3541079, -121.9552356, 250000.0], [32.7153292, -117.1572551, 160000.0], [34.146436, -118.153136, 1300000.0], [40.74727, -73.9800645, 800000.0], [40.7265962, -74.0054558, 13500000.0], [42.35754779999999, -71.0590572, 3850000.0], [34.0573201, -118.4234511, 2000000.0], [48.37926, -122.296673, 350000.0], [35.891832, -78.725768, 1427622.0], [40.7445883, -73.9876837, 198000.0], [37.7896246, -122.3954269, 283500.0], [40.786538, -74.467842, 5534612.0], [40.7492495, -73.994062, 1500000.0], [25.8081155, -80.1925878, 2500000.0], [37.4308789, -122.1012077, 37499900.0], [39.1518737, -75.514038, 1000000.0], [37.451608, -122.1166269, 94000100.0], [30.242696, -97.798532, 5250000.0], [40.7370281, -73.990589, 3601551.0], [43.0739707, -89.3827247, 30000.0], [42.3635847, -71.0824613, 340000.0], [40.7515829, -73.986889, 45410000.0], [41.8793713, -87.6272931, 500000.0], [37.6897615, -122.4660131, 240000.0], [40.752344, -73.988527, 14000000.0], [37.7749295, -122.4194155, 1600000.0], [37.4429581, -122.1623781, 10000000.0], [40.823571, -74.5046969, 6142412.0], [37.7749295, -122.4194155, 20000000.0], [35.9929204, -78.9044132, 300000.0], [37.408247, -122.077133, 1700000.0], [40.7047738, -73.9418603, 8000000.0], [30.395297600000003, -97.7352087, 1020000.0], [37.4063024, -122.1088743, 3000000.0], [37.417264, -122.104449, 19000000.0], [37.4491419, -122.1602389, 7850000.0], [40.724364, -73.997458, 50600000.0], [42.3668959, -71.0801348, 12000000.0], [40.7635503, -73.97494429999999, 12000000.0], [37.7890183, -122.3915063, 825000.0], [33.664662, -117.755553, 15000000.0], [38.9532295, -77.34998940000001, 15000000.0], [42.186967, -87.800954, 2000000.0], [39.7520644, -105.000469, 9350000.0], [37.7618242, -122.3985871, 31875590.0], [47.6062095, -122.33207079999998, 20000.0], [37.3877688, -121.9735432, 19000000.0], [38.902087, -77.042064, 11000000.0], [40.7406966, -73.99196859999999, 1000000.0], [32.7153292, -117.1572551, 100000.0], [37.7899027, -122.4007846, 1000000.0], [32.9010041, -117.2001287, 1700000.0], [37.457806700000006, -122.1770275, 12500000.0], [41.895339, -87.636284, 22600000.0], [37.9063131, -122.064963, 150000.0], [40.724364, -73.997458, 425000.0], [37.7749295, -122.4194155, 1500000.0], [32.8386414, -117.098216, 21200000.0], [40.7518919, -73.98759220000001, 21200000.0], [37.4764008, -122.2018522, 43654818.0], [34.093003, -118.377969, 710000.0], [34.093003, -118.377969, 150000.0], [40.7143528, -74.00597309999999, 50000.0], [40.018082, -105.275297, 6400000.0], [34.028918, -118.763996, 16800000.0], [40.7859464, -73.9741874, 415000.0], [40.721789, -74.00044, 1200000.0], [40.7455513, -73.990844, 4350000.0], [47.648374700000005, -122.3450853, 975000.0], [37.404903, -122.113167, 1000000.0], [42.3481058, -71.08639240000001, 500000.0], [33.8980222, -118.3846343, 300000.0], [40.7423841, -73.9822343, 4510000.0], [37.7749295, -122.4194155, 6500000.0], [34.038201, -84.295114, 300000.0], [38.984579700000005, -77.09603879999999, 600000.0], [32.7920948, -117.2323367, 50000.0], [35.8487879, -78.82980970000001, 114500000.0], [40.749038, -73.99437900000001, 100000000.0], [42.3360756, -83.04929229999999, 2800000.0], [37.7744657, -122.398549, 800000.0], [37.7749295, -122.4194155, 330000.0], [37.4013589, -122.0531348, 1100000.0], [37.7749295, -122.4194155, 3200000.0], [41.80086420000001, -87.9370052, 250000.0], [43.0605671, -88.1064787, 250000.0], [37.7749295, -122.4194155, 1500000.0], [40.7448046, -73.9935406, 1350000.0], [39.1035859, -84.5120762, 600000.0], [37.3492097, -122.0326019, 355000.0], [41.818712, -71.411775, 20000.0], [40.7446912, -73.9967804, 2000000.0], [36.1604533, -95.9948337, 275000.0], [39.2766287, -76.61227199999999, 2200000.0], [34.105226, -84.03398, 40000002.0], [39.7724888, -86.143407, 40000002.0], [30.2661249, -97.7395667, 100000.0], [37.7618242, -122.3985871, 6250000.0], [40.745496, -73.992487, 2825000.0], [37.466772600000006, -121.9239686, 12310333.0], [42.36263, -71.082047, 10400000.0], [40.748901, -73.992463, 248000000.0], [37.78866, -122.401406, 248000000.0], [26.580095, -81.879069, 248000000.0], [42.3584308, -71.05977320000001, 3000000.0], [37.7749295, -122.4194155, 2071450.0], [39.0045054, -77.44500649999999, 130000.0], [38.9198295, -77.03191729999999, 475000.0], [33.799386, -84.346541, 475000.0], [37.875252, -122.51267, 475000.0], [41.8864688, -87.6322669, 40000000.0], [37.792949, -122.398099, 40000000.0], [37.7878824, -122.399447, 15515000.0], [41.7548433, -72.6633934, 49750000.0], [37.7749295, -122.4194155, 1000000.0], [40.3324282, -74.5007269, 33582360.0], [34.0302817, -118.4655563, 2000000.0], [41.8843738, -87.64263890000001, 500000.0], [42.3044329, -71.2178969, 2400000.0], [47.598476700000006, -122.3331466, 108900000.0], [47.6062095, -122.33207079999998, 3305591.0], [37.777233, -122.395578, 24000000.0], [30.267153000000004, -97.7430608, 3075704.0], [41.8812179, -87.637522, 265744102.0], [40.7511339, -73.97880699999999, 265744102.0], [47.6246175, -122.35931, 265744102.0], [40.7660284, -73.98242540000001, 465000.0], [47.628884, -122.129762, 1000000.0], [43.1506678, -88.04942340000001, 4800000.0], [40.7429095, -73.9910434, 41545843.0], [42.54881, -83.213004, 41545843.0], [37.7840788, -122.3946777, 41545843.0], [29.7435276, -95.3890194, 457622.0], [40.7408753, -73.99201740000001, 22500000.0], [32.7819239, -96.790514, 22500000.0], [34.0312388, -118.4735062, 22500000.0], [37.744274, -122.421344, 30600000.0], [40.813294, -96.709498, 550000.0], [40.746584000000006, -73.98638100000001, 20071510.0], [34.0605115, -118.443952, 7000000.0], [37.780894700000005, -122.3949048, 3100000.0], [37.78180029999999, -122.4032135, 10000000.0], [37.489488, -122.232178, 6200000.0], [41.8864688, -87.6322669, 500000.0], [34.0698494, -118.4054182, 17100000.0], [37.7749295, -122.4194155, 1200000.0], [34.101671, -118.3336092, 92000000.0], [37.7744657, -122.398549, 1300000.0], [41.8861415, -87.63207740000001, 8000000.0], [42.7004377, -73.11365909999999, 176689320.0], [38.906867, -77.042322, 176689320.0], [34.16666, -118.374853, 176689320.0], [40.7908157, -73.9722939, 1800000.0], [37.787249, -122.3990501, 32000000.0], [41.8831959, -87.65177740000001, 32000000.0], [34.097485, -118.3685071, 3400000.0], [40.7389343, -73.9896316, 3000000.0], [34.0906409, -118.3740745, 49550000.0], [40.7368158, -73.9955426, 6000000.0], [37.7749295, -122.4194155, 850000.0], [38.9590083, -77.35927459999999, 55600000.0], [37.7749295, -122.4194155, 400000.0], [37.3879727, -122.0515749, 1650000.0], [40.7237306, -73.9964312, 39750000.0], [37.7824533, -122.3879489, 1350000.0], [37.79402, -122.4031242, 3200000.0], [41.888113, -87.63075500000001, 17000000.0], [37.4498742, -122.12090659999998, 12200000.0], [43.090002, -89.5227621, 21827665.0], [37.7927271, -122.4043821, 4600000.0], [37.7899027, -122.4007846, 868000.0], [37.408649700000005, -122.023816, 950000.0], [40.7394115, -73.9895748, 1000000.0], [32.873081, -117.2117395, 5900000.0], [28.5443, -81.379531, 10000.0], [38.930363, -77.21950090000001, 3300000.0], [37.789902000000005, -122.4007791, 2200000.0], [39.737567, -104.9847179, 2300000.0], [47.6220245, -122.3350847, 7500000.0], [42.4997323, -71.16170670000001, 16500000.0], [37.7726402, -122.4099154, 1100000.0], [37.7744657, -122.398549, 7720000.0], [40.702656, -73.983942, 4450000.0], [37.7730391, -122.4063248, 2100000.0], [29.964782, -95.5397969, 45000000.0], [42.3584308, -71.05977320000001, 98000.0], [37.4437399, -122.1535976, 4200000.0], [40.0716358, -75.3018405, 1080000.0], [37.3834395, -122.0130457, 4150000.0], [39.5855127, -104.8354562, 2300000.0], [30.2686147, -97.7404872, 718000.0], [37.3597174, -121.9396645, 25000.0], [37.4467574, -122.1584716, 7500000.0], [33.8444028, -84.3703738, 14000000.0], [37.562991700000005, -122.3255254, 3000000.0], [37.7792867, -122.3925133, 1000000.0], [41.8969173, -87.6435474, 5600000.0], [34.154251, -118.470699, 1500000.0], [40.7143528, -74.00597309999999, 2750000.0], [42.3517054, -71.0709694, 19000000.0], [37.779306, -122.410401, 4900000.0], [37.7777865, -122.4052675, 2800000.0], [37.5024749, -122.220408, 322129887.0], [37.4069445, -121.9797628, 15260000.0], [40.741158, -73.993234, 440000.0], [37.410476200000005, -122.0185959, 17058000.0], [38.8057659, -77.0548168, 17500000.0], [40.7511286, -73.992471, 205000000.0], [37.7766344, -122.4020709, 25000000.0], [33.6659819, -117.85265259999998, 600000.0], [37.4571124, -122.1691415, 40000.0], [37.787249, -122.3990501, 3500000.0], [34.320832, -119.379189, 5000000.0], [37.8681161, -122.2488779, 621000.0], [44.9125627, -93.148707, 8586808.0], [40.707872, -74.004731, 2400000.0], [33.8540338, -84.3584803, 2400000.0], [41.881065, -87.62903, 2400000.0], [42.5469062, -83.2144938, 2400000.0], [25.790926, -80.1343277, 2400000.0], [37.79088, -122.392521, 2400000.0], [38.8911989, -77.0837482, 2400000.0], [30.267153000000004, -97.7430608, 250000.0], [40.8537186, -73.97113829999999, 8950000.0], [37.7749295, -122.4194155, 98400.0], [37.550313, -122.063151, 93600000.0], [37.5663821, -122.32313059999998, 584988.0], [34.046626200000006, -118.2342384, 100000.0], [40.66110020000001, -74.0020942, 25000.0], [40.7032884, -73.9878525, 6427926.0], [34.043486, -118.467576, 2250000.0], [38.2822833, -122.4369547, 3000000.0], [34.03606, -118.367963, 229000000.0], [40.6902971, -73.99185759999999, 103500000.0], [33.775683, -84.36297900000001, 953768.0], [37.5247576, -122.2587395, 100000000.0], [40.747193, -73.990847, 5000000.0], [40.7561168, -73.9927088, 1163601.0], [40.744545, -73.989485, 2400000.0], [37.87159260000001, -122.272747, 118500000.0], [37.4757209, -121.9317123, 1765504319.0], [42.405982, -71.25713490000001, 8700000.0], [37.425359, -122.1389633, 1000000.0], [33.0186183, -96.8386606, 100000000.0], [47.583573, -122.134631, 100000000.0], [32.89929, -117.1948, 300774578.0], [37.560925, -122.269764, 12500000.0], [37.7749295, -122.4194155, 3000000.0], [42.3546105, -71.13686170000001, 150000.0], [38.904853, -77.034003, 1500000.0], [40.757017, -73.983915, 30000000.0], [42.2929594, -71.1998843, 43000000.0], [28.601134, -81.21467709999999, 33909833.0], [40.762669, -73.968272, 300000.0], [34.151334000000006, -118.377605, 1000000.0], [33.9593713, -84.2998347, 4000000.0], [38.9160555, -77.230947, 18650000.0], [39.629242, -104.89956399999998, 26100000.0], [36.1825607, -86.74871259999999, 2000000.0], [34.0900091, -118.3617443, 1000000.0], [39.0472046, -84.5599169, 100000.0], [42.352344, -71.05626600000001, 6000000.0], [42.3507294, -71.0716142, 14300000.0], [37.378034, -122.093433, 150000.0], [37.78167070000001, -122.3924896, 13375000.0], [37.3834395, -122.0130457, 1000000.0], [33.654783, -117.766127, 77050863.0], [40.7144907, -74.00726590000001, 500000.0], [38.045208, -78.491687, 4250000.0], [41.818712, -71.411775, 20000.0], [37.7801351, -122.3967503, 3050000.0], [37.4193885, -122.0888158, 250000.0], [41.8783109, -87.648055, 250000.0], [39.9978746, -83.0421228, 690000.0], [41.216225, -73.2525873, 2000000.0], [38.804727, -77.048362, 1787500.0], [32.7968129, -96.8036123, 25000.0], [38.881739, -77.11540240000001, 2700000.0], [37.4990401, -122.2161198, 45500000.0], [47.6236032, -122.3359745, 1050000.0], [40.4557836, -80.0123069, 200000.0], [40.746417, -73.983171, 399984.0], [40.028086, -105.252049, 3486906.0], [40.768836, -73.9633777, 3000000.0], [37.283538, -122.02571, 45000.0], [37.283538, -122.02571, 45000.0], [34.0184893, -118.48923329999998, 50000.0], [34.007713, -118.484126, 125000.0], [37.779624, -122.391236, 24750000.0], [37.5646055, -122.32292350000002, 1200000.0], [37.78699829999999, -122.400893, 770000.0], [37.562991700000005, -122.3255254, 1200000.0], [37.4189664, -122.09543909999998, 17000000.0], [37.7749295, -122.4194155, 2500000.0], [37.7749295, -122.4194155, 2649997.0], [41.2968294, -72.76485090000001, 1277500.0], [40.7143528, -74.00597309999999, 535000.0], [37.477008000000005, -122.151599, 5000000.0], [37.7877967, -122.3989376, 6000000.0], [39.299414500000005, -76.6037222, 18000000.0], [37.3957849, -121.98528600000002, 20587000.0], [33.693729, -117.885009, 1000000.0], [38.9847503, -77.08003659999999, 300000.0], [37.755892200000005, -122.3881674, 1750000.0], [33.675576, -112.025073, 22500000.0], [34.192315, -118.622747, 1241000.0], [37.3323666, -121.8917656, 7500000.0], [37.871087, -122.270913, 4500000.0], [39.9736024, -105.0745155, 2000000.0], [43.081125, -70.8106083, 125000.0], [37.7899027, -122.4007846, 2000000.0], [37.4467495, -122.1607423, 1000000.0], [42.3736158, -71.10973349999999, 892000.0], [37.792949, -122.398099, 435000.0], [40.7143528, -74.00597309999999, 1800000.0], [32.8981142, -117.2029363, 3800000.0], [38.944887, -77.336838, 75000.0], [41.1044184, -73.4318768, 5000000.0], [37.4457966, -122.1575745, 1164000.0], [25.7714235, -80.1874312, 1000000.0], [37.384247, -121.992816, 3319682.0], [26.706623, -80.05264100000001, 511325.0], [37.5783263, -122.3485679, 3500000.0], [34.0579135, -118.4461769, 20000.0], [33.448941, -117.60302, 32000000.0], [47.6062095, -122.33207079999998, 300000.0], [39.0066993, -77.4291298, 100000.0], [42.367850700000005, -71.0793037, 150000.0], [40.1136896, -74.8962109, 200000.0], [37.5207463, -122.2561061, 10304545.0], [41.102477, -81.588871, 282375.0], [40.7300794, -73.9553242, 200000.0], [34.031912299999995, -118.4827916, 20000000.0], [33.8315296, -118.3157788, 2500000.0], [40.745679, -73.9895437, 6500000.0], [33.905894399999994, -84.43584140000002, 4302352.0], [30.287561600000004, -97.7448993, 165000.0], [37.3879727, -122.0515749, 1200000.0], [33.916552, -118.397491, 22487000.0], [40.7559786, -73.9833069, 40000000.0], [37.317735, -121.949417, 25840000.0], [37.7654195, -122.4119381, 15600000.0], [42.2808256, -83.7430378, 650000.0], [41.8883695, -87.63536450000001, 287500.0], [34.012637899999994, -118.495155, 1200000.0], [40.4290508, -79.97073449999999, 1350000.0], [37.779698, -122.397329, 740000.0], [37.7449229, -122.4399291, 1301000.0], [37.7794764, -122.4023962, 1220000.0], [41.8282951, -71.4188795, 4420000.0], [43.095165, -77.618927, 1000000.0], [29.428610100000004, -98.4919348, 2750000.0], [37.5341577, -122.258598, 9000000.0], [40.7759258, -73.4205982, 724900.0], [37.7813581, -122.39138590000002, 850000.0], [37.785271, -122.39758059999998, 1418000.0], [40.7580127, -73.9761661, 48689550.0], [40.7367566, -74.17132609999999, 3650000.0], [36.114646, -115.172816, 6051497.0], [25.7889689, -80.2264393, 6051497.0], [37.8017938, -122.4043215, 3225000.0], [33.9987113, -118.4728028, 5138986.0], [40.0494581, -75.52731379999999, 12210000.0], [47.1971241, -122.3213693, 130000.0], [39.9441885, -75.12665770000001, 18000000.0], [42.3622911, -71.08169029999999, 475000.0], [37.7896246, -122.3954269, 1400000.0], [33.9782287, -118.4303427, 17000000.0], [42.48053529999999, -71.25934050000001, 3050000.0], [37.782163, -122.400591, 3000000.0], [40.698677200000006, -73.98594140000002, 4498197.0], [40.750669, -73.985265, 5000000.0], [37.787249, -122.3990501, 18000000.0], [36.1539816, -95.992775, 1030000.0], [43.0674478, -89.3923971, 13865200.0], [40.755253, -73.993499, 600000.0], [40.7454098, -73.98222109999999, 415000.0], [33.7186242, -117.7974669, 7000000.0], [42.7344435, -84.4807613, 7000000.0], [34.0668823, -118.3850429, 9200000.0], [42.3677909, -71.0897233, 3300000.0], [37.4783199, -122.1398889, 19500000.0], [37.7943929, -122.4015535, 188000.0], [42.3736158, -71.10973349999999, 763000.0], [42.2968126, -71.3876282, 9906500.0], [33.5056052, -112.0361509, 20250000.0], [42.3872528, -71.24036269999999, 20000.0], [37.459628, -122.142743, 240000.0], [33.8064954, -84.43161409999999, 1000000.0], [34.186206, -118.50391, 3300000.0], [37.486286, -122.22576200000002, 1000000.0], [26.2159066, -98.3252932, 300000.0], [38.925348, -77.205314, 100000.0], [47.6814875, -122.2087353, 9841852.0], [41.8969173, -87.6435474, 650000.0], [41.029608, -74.05477900000001, 1170000.0], [34.103755, -84.206528, 11899987.0], [35.786975, -78.647003, 11899987.0], [33.3797328, -86.807571, 5500003.0], [32.9409863, -117.0980424, 1050000.0], [40.7433545, -73.9934718, 5000000.0], [37.7810008, -122.3955574, 8310000.0], [40.7202493, -73.58347020000001, 457835.0], [41.886454, -87.65316899999999, 250000.0], [29.428610100000004, -98.4919348, 95000.0], [33.131370000000004, -117.3300362, 1600000.0], [41.213064, -73.605935, 200000.0], [44.927506, -93.340075, 20000.0], [34.0621733, -118.3481634, 2500000.0], [42.360161, -71.115057, 23360000.0], [39.0047476, -77.4454471, 150000.0], [40.0688024, -75.3234463, 150000.0], [39.3523812, -84.3068245, 500000.0], [40.729805600000006, -74.0082188, 2000000.0], [37.7896246, -122.3954269, 7000000.0], [41.0920318, -73.4503417, 3200000.0], [47.6893405, -122.7084119, 1050000000.0], [39.17645529999999, -119.767207, 14000000.0], [42.3637501, -71.12331850000001, 200000.0], [37.4498742, -122.12090659999998, 9400000.0], [27.8910792, -82.70327420000001, 1020000.0], [37.7899027, -122.4007846, 1100000.0], [39.1097811, -84.5051496, 520000.0], [37.3860517, -122.0838511, 140000.0], [37.4418834, -122.1430195, 14000000.0], [41.8781136, -87.62979820000001, 14000000.0], [25.7344666, -80.2594421, 4500000.0], [38.672804, -90.437046, 150000.0], [37.782865, -122.3941138, 1000000.0], [37.562991700000005, -122.3255254, 8000000.0], [42.3650128, -71.16060379999999, 30000000.0], [45.502468, -122.674996, 245000.0], [33.971205, -83.986058, 26000.0], [37.7849071, -122.4073163, 1400000.0], [37.4265006, -122.140635, 5844811.0], [37.7749295, -122.4194155, 22000000.0], [37.4418834, -122.1430195, 1500000.0], [33.582807, -117.727651, 1800000.0], [37.7959362, -122.4000032, 50000.0], [40.7143528, -74.00597309999999, 50000.0], [37.7627846, -122.419457, 400000.0], [42.3803274, -71.13891009999999, 800000.0], [40.803076, -73.651974, 1250000.0], [38.8900367, -94.6717066, 2998632.0], [47.469093, -120.323727, 1200000.0], [25.908082, -80.16251899999999, 250000.0], [40.3299325, -74.50323309999999, 409999.0], [40.724364, -73.997458, 700000.0], [33.9345866, -84.3545709, 5000000.0], [39.733536, -104.992611, 320000.0], [37.3723285, -122.0650215, 700000.0], [45.6225045, -122.5389612, 22000000.0], [37.406505, -122.108918, 12500000.0], [37.7947717, -122.4152153, 50000.0], [40.7143528, -74.00597309999999, 360000.0], [37.735922, -121.122439, 17700000.0], [40.7394115, -73.9895748, 2700000.0], [40.7108748, -73.9338303, 650000.0], [38.6283027, -90.1906904, 100000.0], [29.428610100000004, -98.4919348, 1008313.0], [47.6210606, -122.35943059999998, 6553000.0], [37.4418834, -122.1430195, 2100000.0], [37.7891642, -122.4015878, 8000000.0], [42.417655700000005, -71.2589059, 12000000.0], [35.904201, -78.656772, 17000000.0], [40.7445883, -73.9876837, 100000.0], [28.5404604, -81.3797629, 1350000.0], [25.821145, -80.32668520000001, 504300.0], [43.0748093, -89.38136970000001, 118000.0], [39.737567, -104.9847179, 300000.0], [34.01945429999999, -118.4911912, 100000.0], [39.1097811, -84.5051496, 1250000.0], [40.7492278, -73.9944757, 220000.0], [40.7143528, -74.00597309999999, 12000000.0], [37.7749295, -122.4194155, 25500000.0], [45.5266975, -122.6880503, 750000.0], [33.9962144, -118.46887759999998, 750000.0], [42.3584308, -71.05977320000001, 8300000.0], [37.7749295, -122.4194155, 8300000.0], [37.3905676, -122.0813146, 100000.0], [41.50699, -81.66789, 50000.0], [42.3736158, -71.10973349999999, 1500000.0], [37.398129, -122.013449, 2400000.0], [37.3813444, -122.1802812, 450000.0], [34.0522342, -118.24368490000002, 50000.0], [33.649539700000005, -84.38058620000001, 3925000.0], [37.7820297, -122.3938084, 4000000.0], [33.7778, -84.388053, 2500000.0], [36.114646, -115.172816, 600000.0], [42.3847233, -71.26433850000001, 8143000.0], [37.7651521, -122.39469409999998, 9787000.0], [40.7575819, -73.9759558, 3500000.0], [34.01945429999999, -118.4911912, 2100000.0], [37.4484914, -122.1802812, 14500000.0], [38.542425, -121.743929, 10000.0], [37.41752, -122.0525, 30000000.0], [30.4256579, -97.7578525, 11489999.0], [40.745064, -73.992637, 1000000.0], [41.269968, -96.092636, 25000.0], [37.7965618, -122.4126926, 400000.0], [41.3812966, -123.4889995, 400000.0], [40.745064, -73.992637, 20300000.0], [37.7829746, -122.4079619, 750000.0], [40.745337, -73.98012800000001, 375000.0], [40.7445949, -73.98277, 2728967.0], [37.7824505, -122.4107479, 800000.0], [37.4884354, -121.9443978, 75000000.0], [37.397528, -122.05892, 10000000.0], [35.1217489, -89.9399565, 5300.0], [41.8855948, -87.6451129, 2125000.0], [37.3834395, -122.0130457, 2450000.0], [37.4418834, -122.1430195, 1100000.0], [37.7890183, -122.3915063, 6769900.0], [40.745245, -73.98834699999999, 3450000.0], [34.0522342, -118.24368490000002, 2700000.0], [40.712722, -73.3636296, 90000.0], [47.6062095, -122.33207079999998, 6750000.0], [34.0128358, -118.495338, 25000.0], [40.7413035, -73.9929207, 6500000.0], [34.097474600000005, -84.2079724, 3100000.0], [37.5389117, -122.0644999, 12000000.0], [30.395297600000003, -97.7352087, 50000.0], [42.3736158, -71.10973349999999, 2250000.0], [40.7445949, -73.98277, 2900000.0], [40.7032884, -73.9878525, 3000000.0], [37.7749295, -122.4194155, 1525000.0], [42.240962200000006, -83.615247, 20000.0], [37.7464299, -122.444541, 37500.0], [42.326985, -71.0829693, 20000.0], [34.4318414, -119.8189008, 500000.0], [42.3736158, -71.10973349999999, 1200000.0], [40.7065753, -74.00646390000001, 1000000.0], [37.787249, -122.3990501, 1500000.0], [37.451125, -121.920916, 4500000.0], [44.049719, -123.093173, 400000.0], [37.7749295, -122.4194155, 100000.0], [40.7496508, -73.9870302, 5250000.0], [37.3834395, -122.0130457, 1231500.0], [47.6797151, -122.12366409999998, 290000.0], [40.7394115, -73.9895748, 1000000.0], [42.028220000000005, -88.033015, 37909849.0], [40.777613, -73.962565, 15000000.0], [40.5012874, -74.3526163, 15000000.0], [34.014432, -118.497055, 1300000.0], [37.7973814, -122.4052618, 4200000.0], [30.353302000000003, -97.733901, 4200000.0], [39.0268207, -77.1348547, 2538333.0], [32.7153292, -117.1572551, 1200000.0], [37.7896246, -122.3954269, 14500000.0], [37.791402000000005, -122.402844, 84255816.0], [43.0739707, -89.3827247, 50000.0], [33.502612, -111.9315649, 350000.0], [40.755322, -73.9932872, 15000.0], [47.6115093, -122.343881, 41535988.0], [37.384247, -121.992816, 9500000.0], [37.5136612, -122.1996242, 5000000.0], [47.659318, -122.386435, 8000000.0], [37.7749295, -122.4194155, 1400000.0], [37.7896246, -122.3954269, 300000.0], [34.027224600000004, -118.46823329999998, 27300000.0], [37.7749295, -122.4194155, 177268.0], [40.745064, -73.992637, 4000000.0], [41.8883695, -87.63536450000001, 1268000.0], [32.954137, -117.230431, 5000000.0], [37.4429335, -122.1615317, 25675000.0], [47.61766, -122.194024, 1950000.0], [39.755070200000006, -105.008612, 11200600.0], [47.5948179, -122.333649, 80000.0], [37.764426, -121.891156, 5500000.0], [39.5951189, -104.8906864, 800000.0], [37.4854442, -122.23004, 100000.0], [39.5296329, -119.8138027, 318000.0], [41.4739419, -81.5370671, 100000.0], [47.628884, -122.129762, 10372160.0], [45.55078889999999, -122.5057403, 284998.0], [32.8385705, -96.7753852, 8602402.0], [35.8908636, -78.8665733, 1000971.0], [37.441851, -122.133233, 2000000.0], [38.6356297, -90.2459181, 435000.0], [35.99403289999999, -78.898619, 500000.0], [40.7389343, -73.9896316, 2000000.0], [40.698677200000006, -73.98594140000002, 754466.0], [33.670939700000005, -117.86573490000002, 1145200.0], [37.250913, -79.947144, 120000.0], [38.6356297, -90.2459181, 2075000.0], [32.8736289, -117.2148956, 5243969.0], [39.110815, -77.1541785, 2721785.0], [44.8666994, -93.4426939, 9282400.0], [38.042006, -84.459994, 576356.0], [37.205661, -121.826572, 3125000.0], [40.4366259, -80.079049, 3266772.0], [34.057868, -118.44496399999998, 650000.0], [35.0634, -85.310715, 3233534.0], [34.0364873, -84.2929418, 1000000.0], [35.8724923, -78.86103270000001, 3000001.0], [29.537050300000004, -95.1953554, 4976688.0], [32.954317, -117.018672, 96000.0], [39.1021485, -77.2002095, 1000000.0], [30.236713, -81.405872, 945000.0], [37.84128629999999, -122.2880053, 75000.0], [39.97273920000001, -83.0524728, 4999541.0], [41.002762, -73.744283, 1300000.0], [40.7546978, -73.98655040000001, 5790454.0], [41.4845929, -71.307591, 1000000.0], [42.900176, -78.873171, 237921.0], [35.927261, -84.00878890000001, 1485000.0], [37.3880498, -122.0828758, 1061000.0], [41.0437545, -73.54930809999999, 1000000.0], [29.745819800000003, -95.4575574, 17178313.0], [40.51391, -80.03126309999999, 12822000.0], [33.321515000000005, -111.895612, 5000000.0], [35.879499, -106.283749, 5817950.0], [40.041217, -105.268119, 50000.0], [35.889096, -78.8903296, 5444052.0], [39.761673, -104.980799, 618000.0], [47.907984, -121.97578, 32500.0], [30.4800233, -97.7736855, 20531.0], [33.8725359, -118.365175, 1962953.0], [40.72009, -74.0048329, 842275.0], [32.937398800000004, -117.2402855, 12550.0], [40.3610338, -75.09615490000002, 1501478.0], [43.0395269, -89.3721023, 1662358.0], [37.486998, -122.257036, 300000.0], [39.683484, -75.751937, 12007600.0], [37.41775629999999, -122.1235054, 1017026.0], [47.5952569, -122.31011200000002, 50000.0], [45.3916841, -122.7439057, 896000.0], [34.11296, -84.234388, 40902760.0], [42.965994, -85.67120899999999, 818476.0], [42.496253, -83.435193, 1050000.0], [41.976634, -91.666917, 2925000.0], [42.0459138, -87.67896850000001, 7523227.0], [36.1477091, -86.7983225, 225000.0], [46.219875, -119.205619, 525000.0], [25.9564812, -80.1392121, 225000.0], [42.3736158, -71.10973349999999, 1800000.0], [41.912166, -87.713624, 47500.0], [39.780367, -86.164938, 6209989.0], [37.485062, -122.210949, 3625000.0], [39.922893, -86.156813, 100000.0], [40.3324538, -111.7281032, 5342432.0], [42.3501711, -71.04997759999999, 1900000.0], [42.3584308, -71.05977320000001, 463000.0], [47.67632, -122.207979, 650000.0], [40.1166102, -88.24125040000001, 75000.0], [37.462292, -122.169995, 4000000.0], [33.8600693, -118.3987842, 1500000.0], [37.400371, -121.978756, 17653194.0], [40.043889, -75.388056, 1000000.0], [35.8774409, -78.5547283, 5750000.0], [35.05697, -80.837802, 4510000.0], [37.7618242, -122.3985871, 4280000.0], [34.292058700000005, -92.1003506, 9035840.0], [32.928871, -117.237734, 11377078.0], [34.046975, -118.4449129, 9480000.0], [25.7700009, -80.1679758, 1250000.0], [33.618309, -117.872466, 354125.0], [32.954137, -117.230431, 4064891.0], [40.590363, -111.905194, 5288428.0], [28.589656, -81.197998, 1000000.0], [42.363841, -71.06120159999999, 68000000.0], [40.724364, -73.997458, 1415000.0], [40.6224189, -73.7243223, 8150000.0], [38.8048355, -77.0469214, 1318000.0], [38.9799106, -76.53536240000001, 475000.0], [33.5483106, -86.6384319, 150000.0], [29.4241219, -98.4936282, 1538000.0], [42.3693597, -71.1062112, 750000.0], [47.763967, -122.181069, 9000000.0], [42.3028939, -71.0526443, 1200000.0], [42.3647559, -71.10325909999999, 100000.0], [30.1399016, -81.52977249999999, 2477000.0], [30.3069485, -97.9281911, 56292358.0], [40.496021500000005, -111.8687825, 250000.0], [40.2752061, -74.6245563, 400000.0], [30.230789399999995, -81.38736829999999, 1448898.0], [28.0420004, -82.504929, 1193628.0], [33.648064500000004, -117.7350605, 263500.0], [32.84722, -117.27333, 895000.0], [47.6329523, -122.2891888, 485016.0], [32.874213, -117.21547, 6855440.0], [30.305809000000004, -97.8177601, 1310000.0], [28.444323, -81.414287, 680000.0], [40.7143528, -74.00597309999999, 15000000.0], [47.617842, -122.20052, 26466500.0], [47.5579954, -122.3310263, 1037097.0], [37.650763, -97.382087, 1750000.0], [39.9753112, -105.141055, 2850000.0], [37.8058535, -79.8475319, 332000.0], [39.3840286, -76.7334941, 90000.0], [33.1317867, -96.7177229, 680000.0], [34.0193878, -118.4945027, 11150004.0], [40.739992, -74.003839, 1400000.0], [37.3717219, -121.9993507, 500000.0], [38.648132, -90.332422, 250000.0], [37.8043637, -122.27111370000002, 1878000.0], [42.358562, -71.05833, 200000.0], [39.9260706, -86.262977, 3064000.0], [40.0149856, -105.2705456, 588000.0], [32.7153292, -117.1572551, 1000000.0], [40.733201, -74.003538, 1400000.0], [37.3964084, -122.0506149, 10438672.0], [32.90702, -117.240486, 14900000.0], [39.719683, -105.194219, 27228688.0], [38.9090402, -77.0427829, 230000.0], [37.719177, -122.160818, 6500000.0], [33.392118, -111.856333, 1276000.0], [40.092914, -83.13224090000001, 15180305.0], [47.6180798, -122.3577301, 566319.0], [37.407748100000006, -122.1497389, 6384353.0], [39.596038, -105.165956, 1630235.0], [26.4053007, -80.1159012, 2300000.0], [40.1338918, -105.1060552, 599705.0], [39.738434000000005, -75.55597890000001, 14118343.0], [47.682393, -122.210039, 2403000.0], [38.0245723, -78.47535129999999, 414957.0], [37.210023, -93.295878, 1600000.0], [32.3899169, -111.018977, 4000000.0], [37.4778041, -122.1427131, 35313788.0], [45.6783174, -111.0520105, 2178689.0], [42.362733, -71.083201, 5174473.0], [33.908524, -84.4056839, 225000.0], [44.886615, -93.403023, 475000.0], [37.7480094, -122.4185343, 100000.0], [42.7343341, -71.1137868, 250000.0], [39.903562, -86.312372, 1295863.0], [39.8980881, -75.0314911, 13261453.0], [26.4180685, -80.0958314, 7407269.0], [45.5266975, -122.6880503, 1448932.0], [33.498031, -117.160907, 9430480.0], [45.6697545, -111.0685157, 1509025.0], [42.3503838, -71.1864397, 1299956.0], [40.2338438, -111.6585337, 35000.0], [40.840982200000006, -73.94479940000001, 75289893.0], [41.321291200000005, -72.92833909999999, 50000.0], [42.362733, -71.083201, 1610000.0], [25.7307897, -80.2377078, 1085000.0], [37.4226572, -122.1373185, 2190000.0], [36.0354273, -86.79173270000001, 6838000.0], [40.757525, -73.991589, 1135000.0], [36.252277, -115.275354, 150000.0], [37.3921259, -121.89740220000002, 129322827.0], [25.816761, -80.188958, 178692055.0], [40.6984348, -74.4015405, 18338000.0], [45.0230559, -93.455562, 1738750.0], [32.863980100000006, -96.9436812, 4375802.0], [40.090271, -88.2392429, 2369000.0], [34.1521852, -118.256329, 600000.0], [44.850927, -93.130501, 775000.0], [30.3788578, -97.8923749, 1000000.0], [37.7749295, -122.4194155, 800000.0], [41.281754, -81.634421, 2045000.0], [33.0369867, -117.2919818, 1000000.0], [38.922463, -77.222771, 100000000.0], [42.4348071, -71.217024, 2145000.0], [38.9770759, -77.10815, 6000.0], [40.7172034, -73.9912267, 1500000.0], [39.976275, -75.41664200000001, 2545000.0], [37.803082200000006, -122.4201626, 600000.0], [30.323071, -97.7255237, 1300000.0], [37.7749295, -122.4194155, 550000.0], [39.6986721, -104.9826017, 3439787.0], [39.706047600000005, -104.9326301, 3439787.0], [26.1538173, -81.7966813, 3439787.0], [40.7372054, -74.0018872, 362500.0], [37.7749295, -122.4194155, 15000.0], [34.0908722, -118.3231571, 450000.0], [29.7601927, -95.3693896, 300000.0], [36.810757, -76.214804, 2300000.0], [42.280326, -83.746178, 2665127.0], [40.4794304, -75.34026379999999, 1580000.0], [33.0354796, -117.2385833, 975000.0], [34.978564, -81.98798599999999, 2395501.0], [35.5037398, -80.84834920000002, 25000.0], [37.7888838, -122.4016744, 55171635.0], [38.6356297, -90.2459181, 250000.0], [37.7890432, -122.4120856, 1900000.0], [41.8815028, -87.6326027, 10000000.0], [40.0185985, -105.2802046, 410000.0], [33.655551, -117.765899, 806733.0], [47.60849210000001, -122.336407, 708000.0], [41.807393, -88.067699, 14000000.0], [27.9473387, -82.46053309999999, 5000000.0], [25.745795, -80.399505, 500000.0], [33.574868, -117.675805, 33131874.0], [26.2632309, -81.7239979, 1199000.0], [26.1886275, -80.14299240000001, 550000.0], [40.763038, -111.8908178, 15655476.0], [40.125105600000005, -74.9781266, 3556876.0], [44.96704, -93.346067, 150000.0], [38.9314399, -77.21956740000002, 18150.0], [43.0400742, -87.9079886, 750000.0], [47.6701193, -122.118237, 325000.0], [42.324565, -71.2049318, 630000.0], [34.0895186, -118.3315838, 16900000.0], [44.955284000000006, -93.15291, 2035000.0], [40.3032488, -111.67501570000002, 1175000.0], [47.0397135, -122.934948, 225000.0], [30.6265012, -96.3327522, 1250500.0], [37.7749295, -122.4194155, 2550000.0], [30.349864, -97.677025, 750000.0], [45.4618042, -122.79991409999998, 70000.0], [37.36929, -122.106821, 1110000.0], [44.970703, -93.203783, 3533014.0], [42.3053253, -83.66941690000002, 5000.0], [40.0748537, -75.4124129, 2250000.0], [45.005916, -93.475937, 15500744.0], [37.7896292, -122.39987820000002, 6000000.0], [40.7815394, -73.98084909999999, 1200000.0], [40.5431198, -74.36241679999999, 125000.0], [47.6062095, -122.33207079999998, 950000.0], [32.7837746, -96.7810776, 25000.0], [37.7749295, -122.4194155, 100000.0], [47.6178979, -122.200556, 1000000.0], [40.7385859, -73.9847449, 50000.0], [26.11498, -80.291223, 22980000.0], [37.804701, -122.272912, 284999.0], [44.073336, -103.207803, 1500000.0], [40.0164608, -105.2817132, 1200000.0], [32.789739000000004, -79.93864599999999, 56990480.0], [41.116844, -81.674514, 752000.0], [40.721223, -111.92853, 800000.0], [40.7649691, -73.95509109999999, 3999999.0], [41.8788515, -87.6364782, 10500000.0], [41.8730187, -72.8574558, 1250030.0], [40.5629766, -75.5534324, 415000.0], [40.7481129, -73.98439, 725000.0], [41.4994954, -81.6954088, 300000.0], [44.8560612, -93.3089092, 8000000.0], [38.9143011, -77.04520190000001, 10000000.0], [39.952335, -75.16378900000001, 320000.0], [41.889408, -87.6667219, 540010.0], [32.933393, -97.061967, 3000000.0], [33.158093300000004, -117.3505939, 10000000.0], [40.5989025, -74.3670724, 620000.0], [40.75662, -73.969755, 23352129.0], [40.75662, -73.969755, 15000000.0], [42.9644679, -78.78463599999999, 992250.0], [35.97193, -78.866897, 1688750.0], [44.983334, -93.26667, 800000.0], [39.0181651, -77.20859140000002, 1600000.0], [41.9028369, -87.6359125, 100000.0], [34.730368799999994, -86.5861037, 10451365.0], [40.7433037, -73.98922259999999, 17900000.0], [37.69045, -121.794067, 50000.0], [40.4209391, -74.560711, 1000000.0], [33.581734000000004, -117.726349, 5800846.0], [32.222386, -110.883679, 2649402.0], [41.4973101, -73.2287192, 1500000.0], [37.7628783, -122.4103893, 200000.0], [37.4497901, -122.1764928, 1754998.0], [32.913868, -96.768699, 1075000.0], [33.7173738, -117.831631, 750000.0], [35.863836, -78.82090600000001, 14079122.0], [40.752297, -73.986496, 57889711.0], [40.7521126, -73.9786947, 45986727.0], [43.073639, -89.386381, 1250000.0], [35.904214399999994, -79.0161305, 13100000.0], [37.501271200000005, -122.2152508, 24000001.0], [47.799727, -122.212841, 10000000.0], [25.8081155, -80.1925878, 1175000.0], [39.899484, -105.121096, 200000.0], [42.247904600000005, -83.7483922, 100000.0], [40.612793, -75.375529, 1500000.0], [33.5801038, -86.39382690000001, 500000.0], [35.1428768, -106.6038959, 1544067.0], [35.984975, -84.085954, 17198012.0], [44.9705896, -93.4554576, 1000000.0], [27.2991499, -82.48050359999999, 22500.0], [34.0981065, -118.3427269, 1200000.0], [42.6403503, -71.2246313, 60500002.0], [30.4018331, -91.1765809, 350000.0], [37.187826, -121.707584, 541476.0], [32.951562, -117.258761, 501006.0], [34.030516, -118.473632, 3495350.0], [38.90473660000001, -77.0344213, 624000.0], [47.6516158, -122.3510582, 1442949.0], [29.757989, -95.799284, 1620000.0], [38.9042365, -77.05212890000001, 196500.0], [41.979638, -87.842737, 750000.0], [37.6933816, -121.8983528, 9325814.0], [37.76662879999999, -122.3879774, 24400000.0], [40.4309, -105.000555, 3570000.0], [33.717315, -117.803321, 520756.0], [47.62733720000001, -122.3693566, 475000.0], [37.7789124, -122.3939828, 5100000.0], [38.9011088, -77.0414835, 1000000.0], [47.600743900000005, -122.3314215, 625190.0], [37.78775220000001, -122.4382307, 5000000.0], [36.152941, -86.779987, 500000.0], [37.436964, -122.123706, 132000.0], [41.0924881, -73.42391429999999, 2227004.0], [40.7275169, -74.0057193, 625000.0], [41.1268961, -73.3874777, 1225000.0], [37.773647, -121.9672316, 500000.0], [37.0894329, -76.4705804, 15030839.0], [39.2009241, -77.26300479999999, 5900008.0], [42.2512467, -87.84043129999999, 597496.0], [43.498013, -96.728954, 2250000.0], [33.0379401, -97.0509961, 860000.0], [41.251958, -96.242228, 220000.0], [42.3074061, -71.1799979, 270000.0], [42.3360756, -83.04929229999999, 975000.0], [45.520365000000005, -122.684836, 645869.0], [28.314172, -82.669826, 57000.0], [44.819958, -93.335104, 200000.0], [41.8905404, -87.63419520000001, 48500000.0], [37.7749295, -122.4194155, 4400000.0], [37.7835478, -122.408953, 1000000.0], [42.3515183, -71.0686719, 200000000.0], [39.00415039999999, -77.0391754, 25000.0], [35.9476125, -86.80926559999999, 3255000.0], [34.1508172, -118.1326503, 3600000.0], [34.0587423, -84.26973840000001, 11474929.0], [33.4842839, -111.9090926, 20876578.0], [42.9595519, -71.5022009, 1600000.0], [34.816606, -82.905374, 230000.0], [41.059169, -73.781564, 6927500.0], [40.761998, -73.972546, 18202648.0], [40.762837, -73.981977, 6482652.0], [44.963984100000005, -93.3471729, 1060000.0], [33.851836, -118.376142, 125000.0], [34.178759, -118.602032, 150000.0], [40.372749, -111.77603899999998, 2083940.0], [47.6486344, -122.344946, 176615.0], [33.66229570000001, -117.7076238, 4749109.0], [39.766231700000006, -86.1561323, 750000.0], [42.3803274, -71.13891009999999, 1010000.0], [36.0625795, -94.1574263, 550000.0], [37.7980683, -122.40229270000002, 5000000.0], [37.3934913, -122.07640359999998, 17317000.0], [33.6398756, -117.8771825, 2427823.0], [47.9536762, -97.1683543, 34588274.0], [39.988866, -75.2603929, 1436631.0], [29.77474310000001, -82.4751083, 6000000.0], [40.020194, -105.2490532, 36297490.0], [33.506758000000005, -111.927722, 940000.0], [47.610467, -122.342731, 3993021.0], [37.7618242, -122.3985871, 1300000.0], [32.781711, -79.9337297, 10000000.0], [42.3361555, -71.12945309999999, 302000.0], [26.1089473, -80.3769999, 690511.0], [41.0696562, -73.4771282, 2200000.0], [36.073574, -115.185031, 738384.0], [42.72851, -71.483402, 875000.0], [32.8738079, -117.2099839, 19999.0], [38.5519152, -121.7137724, 2535204.0], [43.019769700000005, -87.999738, 1540000.0], [35.978665, -115.099184, 350000.0], [41.1192154, -85.0997832, 743500.0], [40.755322, -73.9932872, 500000.0], [41.195017, -96.0942872, 83670000.0], [42.3633609, -71.0914188, 100000.0], [40.738476, -73.994127, 1150000.0], [37.786666700000005, -122.40194440000002, 100000.0], [30.267153000000004, -97.7430608, 1000000.0], [37.476997, -121.925598, 325000.0], [38.9039102, -77.0392795, 150000.0], [35.837038, -80.23205899999999, 22952986.0], [33.624445, -111.914278, 569500.0], [40.89869829999999, -74.03482009999999, 20800000.0], [40.7272544, -74.0057152, 1192500.0], [37.655749, -122.12537, 64756757.0], [40.0692577, -75.3705806, 2483332.0], [40.7057587, -74.01022420000001, 25000.0], [40.135549, -105.1035618, 3585693.0], [35.1423352, -90.04660329999999, 18352021.0], [40.7267368, -73.9955138, 8623870.0], [37.42437460000001, -122.1449533, 120000.0], [42.2993573, -83.7029564, 1465000.0], [37.786666700000005, -122.40194440000002, 2195000.0], [37.726694, -122.39056, 1030000.0], [40.7444776, -73.9894616, 2500000.0], [40.0188008, -105.2812857, 2500000.0], [37.7749295, -122.4194155, 2300000.0], [37.3872389, -121.96696509999998, 12500001.0], [40.7598323, -73.97633859999999, 400000.0], [38.6176074, -90.2660852, 3450000.0], [34.186543, -118.3164437, 2797691.0], [25.712943, -80.27115140000001, 100000.0], [37.379611, -121.967879, 25000000.0], [42.3546032, -71.0516425, 1000000.0], [38.65341, -121.17965, 4724992.0], [43.0010515, -78.1968229, 587500.0], [37.413975, -122.003791, 5200000.0], [33.582116, -117.7277789, 1500000.0], [37.6217666, -122.4533179, 119998.0], [34.016224, -84.244587, 1545000.0], [34.0429466, -118.2554518, 50000.0], [37.7869913, -122.3983267, 3000000.0], [44.9513188, -93.0901841, 319350.0], [34.188109999999995, -118.595446, 800000.0], [40.7766412, -73.9521468, 8500000.0], [43.478231, -110.7606594, 50000.0], [39.5678525, -104.902643, 3910900.0], [41.092251, -73.449871, 175000.0], [47.6142113, -122.3171195, 10000.0], [37.3758912, -121.9593122, 8750000.0], [47.673459, -117.085321, 7651305.0], [40.3233416, -74.64331130000001, 455000.0], [37.45, -122.18, 3500000.0], [35.075779299999994, -106.63998909999998, 1671125.0], [40.75307720000001, -73.98928620000001, 100000.0], [41.818712, -71.411775, 278000.0], [37.3813444, -122.1802812, 11500000.0], [45.794832, -111.1867581, 12752505.0], [33.64576, -111.898906, 50000.0], [37.4457966, -122.1575745, 3874996.0], [39.768640000000005, -75.759326, 50000.0], [41.235618, -81.429792, 279706.0], [33.4090994, -111.9025022, 62500.0], [41.978614, -88.040886, 17149238.0], [42.1072144, -87.7728917, 4200545.0], [42.9127314, -85.75500770000001, 250000.0], [39.4517911, -119.7504729, 5221780.0], [37.520252, -122.253383, 74271980.0], [42.6022978, -71.3464042, 130032.0], [40.751079, -73.980194, 2203250.0], [37.409724100000005, -122.0780032, 7000000.0], [40.7580122, -73.972763, 1929900.0], [37.791239, -122.396457, 9100000.0], [39.744938, -104.9878109, 112500.0], [40.7388319, -73.9815337, 250000.0], [43.0479844, -76.1556684, 875017.0], [37.275539, -107.880816, 4238225.0], [42.6481037, -71.3082518, 935000.0], [40.88599129999999, -74.5325399, 110000.0], [28.541108, -81.37870500000001, 200000.0], [35.4740683, -97.5031119, 7821094.0], [42.364744, -71.361476, 1631710.0], [43.6414159, -72.2541402, 3729995.0], [38.8951118, -77.0363658, 275929.0], [33.998429200000004, -118.4790084, 750000.0], [32.9647386, -96.7238348, 750000.0], [37.779624, -122.391236, 25500000.0], [40.7143528, -74.00597309999999, 40000.0], [40.057567, -75.657666, 30000000.0], [32.9032559, -117.2294604, 7249849.0], [40.7967667, -74.4815438, 600000.0], [36.0594443, -76.6064137, 95000.0], [37.3804827, -122.1702936, 4099999.0], [39.0090749, -77.0508243, 168500.0], [41.3883838, -71.6294603, 2766842.0], [32.8981142, -117.2029363, 27000000.0], [34.1445991, -118.1486965, 1100000.0], [42.3546032, -71.0516425, 12405150.0], [37.7850379, -122.40708390000002, 600000.0], [37.5677679, -122.0522177, 26775015.0], [33.903735, -118.386998, 1787500.0], [45.0230559, -93.455562, 716666.0], [41.4088373, -82.0718159, 500000.0], [33.009949, -117.0956, 295000.0], [37.7813588, -122.421015, 250000.0], [37.3834395, -122.0130457, 2000000.0], [33.074957, -96.8234389, 100000000.0], [34.05092020000001, -117.2612818, 1200000.0], [40.7143528, -74.00597309999999, 1000000.0], [37.4477819, -122.157229, 1100000.0], [40.7239336, -74.0008748, 3629749.0], [32.786084499999994, -96.8000615, 470000.0], [34.0522342, -118.24368490000002, 2500000.0], [32.7153292, -117.1572551, 14459465.0], [26.1723065, -80.13198929999999, 7000000.0], [38.8338816, -104.8213634, 500000.0], [40.7143528, -74.00597309999999, 6500000.0], [37.7749295, -122.4194155, 1950000.0], [47.6062095, -122.33207079999998, 2612193.0], [38.5815719, -121.4943996, 1200000.0], [37.765023, -122.402279, 15000000.0], [41.8781136, -87.62979820000001, 165000.0], [33.4483771, -112.0740373, 20000.0], [42.2833333, -71.35, 246700000.0], [41.140415, -73.36543859999999, 6600000.0], [47.6062095, -122.33207079999998, 20000.0], [30.267153000000004, -97.7430608, 280000.0], [37.5841026, -122.3660825, 20000000.0], [29.529399800000004, -95.2010447, 4976688.0], [37.3393857, -121.8949555, 250000.0], [40.7143528, -74.00597309999999, 1100000.0], [37.5071591, -122.2605222, 12413122.0], [38.7699175, -90.4667501, 36050000.0], [40.7143528, -74.00597309999999, 4750000.0], [37.7749295, -122.4194155, 3400000.0], [34.0211224, -118.3964665, 25125716.0], [26.3586885, -80.08309840000001, 4920000.0], [40.6589912, -74.34737170000001, 1350000.0], [42.8864468, -78.8783689, 20000.0], [25.7889689, -80.2264393, 400000.0], [39.768403, -86.158068, 3320000.0], [40.7143528, -74.00597309999999, 78000000.0], [33.0198431, -96.6988856, 3380732.0], [37.7749295, -122.4194155, 1000000.0], [43.0481221, -76.1474244, 18000.0], [28.5404604, -81.3797629, 7590222.0], [34.0522342, -118.24368490000002, 2000000.0], [42.3584308, -71.05977320000001, 100000.0], [33.884736100000005, -118.4109089, 1650000.0], [37.3860517, -122.0838511, 2119000.0], [37.4418834, -122.1430195, 7650000.0], [38.9949153, -77.07720520000001, 550000.0], [33.7489954, -84.3879824, 9400000.0], [34.0522342, -118.24368490000002, 1000000.0], [37.36883, -122.0363496, 2215413.0], [40.7143528, -74.00597309999999, 1000000.0], [41.8781136, -87.62979820000001, 1210332.0], [43.16103, -77.61092190000001, 2000000.0], [40.69789829999999, -73.9852402, 437500.0], [37.7749295, -122.4194155, 3950000.0], [33.7489954, -84.3879824, 375000.0], [33.0369867, -117.2919818, 32013.0], [40.7143528, -74.00597309999999, 7519999.0], [42.3868571, -71.12937020000001, 3999999.0], [42.331427000000005, -83.0457538, 500000.0], [36.9405556, -121.7894444, 2200000.0], [37.7749295, -122.4194155, 1200000.0], [37.4538274, -122.1821871, 2640741.0], [37.7749295, -122.4194155, 1000000.0], [37.3852183, -122.1141298, 1000000.0], [39.9837234, -74.82710809999999, 60000.0], [40.7143528, -74.00597309999999, 8700000.0], [39.0839973, -77.1527578, 52300000.0], [37.7749295, -122.4194155, 5520000.0], [34.01945429999999, -118.4911912, 1100000.0], [42.331427000000005, -83.0457538, 750000.0], [40.7143528, -74.00597309999999, 400000.0], [40.4406248, -79.9958864, 370000.0], [32.351260100000005, -95.3010624, 8000000.0], [42.3584308, -71.05977320000001, 11400000.0], [34.01945429999999, -118.4911912, 3861159.0], [42.3472202, -71.2432786, 10335613.0], [37.4418834, -122.1430195, 2250000.0], [41.1572686, -85.4883127, 225000.0], [40.7143528, -74.00597309999999, 60000000.0], [36.9742092, -122.0276183, 18000000.0], [37.7749295, -122.4194155, 39700000.0], [34.0522342, -118.24368490000002, 2000000.0], [33.6189101, -117.9289469, 22800000.0], [33.599722, -117.699444, 3000000.0], [37.7749295, -122.4194155, 1000000.0], [37.3860517, -122.0838511, 25000.0], [40.7143528, -74.00597309999999, 70000.0], [42.3584308, -71.05977320000001, 8349996.0], [37.3541079, -121.9552356, 19800000.0], [37.2358078, -121.9623751, 1200000.0], [37.3860517, -122.0838511, 2000000.0], [37.562991700000005, -122.3255254, 9700000.0], [34.01945429999999, -118.4911912, 8500000.0], [30.267153000000004, -97.7430608, 100000.0], [37.7749295, -122.4194155, 5475000.0], [34.1477849, -118.1445155, 1410816.0], [37.3860517, -122.0838511, 280000.0], [37.4852152, -122.2363548, 2300000.0], [41.3164856, -73.0931641, 394000.0], [30.267153000000004, -97.7430608, 500000.0], [42.3584308, -71.05977320000001, 1674057.0], [37.7749295, -122.4194155, 2800000.0], [40.65, -73.95, 400000.0], [33.676979, -84.4287223, 40000.0], [40.7143528, -74.00597309999999, 29700000.0], [37.3541079, -121.9552356, 6745000.0], [30.267153000000004, -97.7430608, 4500063.0], [30.267153000000004, -97.7430608, 465000.0], [41.8781136, -87.62979820000001, 110000.0], [42.3736158, -71.10973349999999, 575000.0], [38.5815719, -121.4943996, 1000000.0], [47.6587802, -117.4260466, 1250000.0], [42.331640500000006, -83.0501557, 1151209.0], [37.4299388, -122.2538557, 75000.0], [42.3736158, -71.10973349999999, 99500000.0], [40.884267, -72.3895296, 9854461.0], [39.768403, -86.158068, 1586321.0], [42.3584308, -71.05977320000001, 110544.0], [48.1987118, -122.1251418, 12000000.0], [40.7143528, -74.00597309999999, 40000.0], [37.4418834, -122.1430195, 1105001.0], [26.640628000000003, -81.87230840000001, 33620000.0], [40.7143528, -74.00597309999999, 40000.0], [40.7143528, -74.00597309999999, 40000.0], [40.7143528, -74.00597309999999, 40000.0], [40.7143528, -74.00597309999999, 40000.0], [40.7143528, -74.00597309999999, 40000.0], [42.376485200000005, -71.2356113, 3625089.0], [32.888825399999995, -117.1858895, 26352435.0], [37.3860517, -122.0838511, 25000.0], [40.7143528, -74.00597309999999, 1250000.0], [39.0405608, -94.6169013, 1579137.0], [37.4538274, -122.1821871, 800000.0], [25.7889689, -80.2264393, 50000.0], [32.7153292, -117.1572551, 125000.0], [41.8781136, -87.62979820000001, 850000.0], [40.7143528, -74.00597309999999, 389500000.0], [37.7749295, -122.4194155, 1000000.0], [37.4418834, -122.1430195, 6100100.0], [33.6839473, -117.7946942, 800000.0], [40.7143528, -74.00597309999999, 500000.0], [37.7749295, -122.4194155, 2500000.0], [37.7749295, -122.4194155, 1650000.0], [31.6986719, -106.2306498, 200000.0], [47.6062095, -122.33207079999998, 322500.0], [37.4282724, -121.9066238, 1600000.0], [37.7749295, -122.4194155, 1000000.0], [42.443037200000006, -71.2289641, 7713994.0], [34.0736204, -118.4003563, 2300000.0], [34.0522342, -118.24368490000002, 1000000.0], [34.151749200000005, -118.52142820000002, 500000.0], [37.7749295, -122.4194155, 1500000.0], [37.7749295, -122.4194155, 1700000.0], [42.366667, -72.516667, 6200000.0], [37.7749295, -122.4194155, 10000.0], [36.114646, -115.172816, 500000.0], [37.7749295, -122.4194155, 1300000.0], [47.4514588, -122.826946, 1050000000.0], [38.9586307, -77.35700279999999, 5200000.0], [37.4538274, -122.1821871, 500000.0], [37.7749295, -122.4194155, 3000000.0], [37.7749295, -122.4194155, 790000.0], [37.5841026, -122.3660825, 6000000.0], [40.7967667, -74.4815438, 133000.0], [34.216393700000005, -119.0376023, 5000.0], [29.55618, -98.59211, 14878234.0], [41.6582183, -91.5346141, 100000.0], [41.71369, -72.64456700000001, 6650000.0], [34.147276, -118.001804, 7597653.0], [40.461943, -86.92989, 20000.0], [47.6766193, -122.1220494, 393817.0], [37.272249, -79.93986600000001, 500000.0], [37.9932676, -105.7020841, 105000.0], [44.551055, -123.300614, 569596.0], [33.878375, -118.3669308, 5400000.0], [40.752996, -73.9850359, 6429018.0], [42.3304513, -71.24054790000001, 5865000.0], [40.759536, -73.9742545, 5660000.0], [42.3584308, -71.05977320000001, 118000.0], [42.609833, -70.66623100000001, 2000000.0], [40.7143528, -74.00597309999999, 170000.0], [38.904853, -77.034003, 4900000.0], [40.446503, -79.9518568, 1400000.0], [38.931414, -92.338457, 1985427.0], [37.450278, -122.15556399999998, 11000000.0], [39.2417749, -77.215462, 412500.0], [39.6117909, -104.751551, 25000.0], [40.74471, -73.993647, 32000.0], [42.693179, -84.50079000000001, 1188277.0], [40.7011279, -73.9926838, 390000.0], [34.0138944, -118.4959114, 20000.0], [37.5550653, -122.3216213, 9999997.0], [40.020226, -105.223237, 400000.0], [39.7834519, -104.8638409, 15670000.0], [41.412707, -73.225994, 6564102.0], [40.2735974, -111.7154833, 624999.0], [26.395365, -80.100543, 10000000.0], [27.9993958, -82.72832120000001, 1525000.0], [38.948491, -77.334062, 122368.0], [47.6557575, -122.3419682, 9078471.0], [37.3834395, -122.0130457, 350000.0], [37.3393857, -121.8949555, 10000.0], [39.247280200000006, -76.6635778, 2046750.0], [43.6165068, -116.2052336, 200000.0], [42.512115, -71.239289, 200000.0], [33.6314037, -111.9277186, 2250000.0], [32.863980100000006, -96.9436812, 28260000.0], [47.6516274, -122.350895, 1045000.0], [40.4868477, -78.4050395, 11449095.0], [32.90345730000001, -117.2313959, 10358200.0], [32.8929773, -96.9845675, 1664500.0], [48.0753406, -114.1136813, 5270180.0], [29.6876629, -95.3883367, 3000000.0], [37.6776218, -77.5867367, 5299998.0], [37.783642, -122.455993, 192000.0], [37.35959520000001, -121.9481137, 4150000.0], [47.6483294, -122.3322767, 25000.0], [40.0765236, -75.410826, 475000.0], [42.5752342, -70.7723793, 4000000.0], [41.32422929999999, -72.9280673, 925000.0], [39.108579, -77.151264, 1652571.0], [43.0859639, -89.36516400000001, 2438961.0], [40.756419, -73.975076, 1770000.0], [32.940105, -97.11185, 250000.0], [38.24889, -85.73249799999999, 375000.0], [44.9514475, -93.0916091, 682236.0], [37.659797, -121.843099, 100000.0], [39.737567, -104.9847179, 250000.0], [37.7749295, -122.4194155, 250000.0], [33.087905, -96.7976149, 90000.0], [47.6739881, -122.121512, 2000000.0], [34.1484348, -118.099781, 350000.0], [30.2702692, -97.7421955, 3500000.0], [40.7611274, -73.97890809999998, 2600000.0], [41.947572, -71.402978, 6433000.0], [33.509606, -112.013469, 100000.0], [40.80087279999999, -73.966939, 475000.0], [41.7309501, -72.7998809, 750000.0], [37.7402111, -122.4665465, 6309755.0], [40.758066, -73.96892, 7300000.0], [40.7289666, -74.0014675, 370000.0], [37.2638324, -122.0230146, 1000.0], [37.3834395, -122.0130457, 1000000.0], [40.7602619, -73.9932872, 10000000.0], [39.083405, -77.146275, 3400000.0], [26.883934000000004, -80.11510390000001, 2400000.0], [37.376671, -121.953162, 8000000.0], [44.9692461, -93.3613873, 30600000.0], [39.103765, -77.18432790000001, 300000.0], [32.9494006, -117.240237, 1090000.0], [27.770767, -82.637824, 7724807.0], [40.5227682, -79.846549, 2075000.0], [43.6788472, -72.2561551, 3400000.0], [43.6788472, -72.2561551, 3400000.0], [37.1110733, -113.5767771, 2773471.0], [39.8764442, -75.5194753, 5841004.0], [37.2930536, -121.9352439, 2997562.0], [32.996571, -96.7562, 26185935.0], [35.950198, -84.023961, 7500000.0], [33.853658, -117.839688, 27362000.0], [40.70400720000001, -73.98675899999999, 1000000.0], [34.0587593, -118.4439532, 4187816.0], [37.4484914, -122.1802812, 1135198.0], [30.267728100000003, -97.7429215, 210000.0], [40.585995, -111.9061375, 200000.0], [37.795665, -122.276998, 500000.0], [37.802295, -122.16716809999998, 3000000.0], [39.771866, -105.11435, 75000.0], [40.739185, -74.00595799999999, 816422.0], [42.28658, -83.744037, 1002872.0], [42.3584308, -71.05977320000001, 6300000.0], [41.3043666, -72.7556979, 4000000.0], [47.6554223, -122.191722, 125000.0], [41.0246902, -91.9633555, 5000.0], [37.269850700000006, -79.9511363, 25000.0], [41.917252600000005, -87.89561850000001, 4734673.0], [33.1359834, -117.27185459999998, 8950000.0], [41.07193, -81.526949, 6250000.0], [39.357678, -77.414281, 50000.0], [42.9856363, -78.6969553, 9000.0], [37.4145303, -122.14259409999998, 7601832.0], [40.210225, -75.220545, 200000.0], [37.449753, -122.187276, 4500000.0], [37.5783263, -122.3485679, 4500000.0], [47.677634000000005, -122.209145, 2000000.0], [35.99403289999999, -78.898619, 367500.0], [29.634243, -95.5653162, 3500000.0], [34.169407, -118.307163, 3500000.0], [41.2381096, -81.8418006, 20000.0], [37.436209000000005, -121.892015, 1500000.0], [33.9962144, -118.46887759999998, 3475521.0], [29.66807, -82.3222, 22950.0], [42.3026487, -83.70239980000001, 7000000.0], [35.1556398, -101.8839199, 3000000.0], [42.4180324, -71.1527061, 795000.0], [37.777164, -122.407709, 3429659.0], [39.1866429, -76.828035, 30000000.0], [33.623900899999995, -111.920561, 855620.0], [41.8609219, -87.6478905, 1800000.0], [35.430869, -119.061576, 81900.0], [37.280897, -121.998863, 8722183.0], [40.2584515, -76.88650849999999, 400000.0], [39.7584864, -104.9902994, 10448028.0], [40.0911149, -88.24015440000001, 60000.0], [32.870536, -117.2267901, 4067834.0], [34.2028356, -118.228722, 383000.0], [42.796548, -106.343408, 505000.0], [38.984579700000005, -77.09603879999999, 15527000.0], [37.7890183, -122.3915063, 3320000.0], [39.1031971, -84.5064881, 135000.0], [38.881643700000005, -77.1109179, 4209965.0], [40.7504952, -73.97662640000001, 4209965.0], [37.7749295, -122.4194155, 15000000.0], [34.2827556, -119.293102, 295000.0], [37.3905676, -122.0813146, 50000.0], [41.8846119, -87.62485720000001, 13949454.0], [40.7511286, -73.992471, 780500.0], [40.740082, -111.831153, 10373444.0], [36.0625896, -115.1447117, 6000000.0], [39.050569, -76.937775, 25000.0], [40.7479117, -73.9962993, 1125000.0], [40.561824, -74.334773, 1400000.0], [47.633399, -122.326322, 7524792.0], [37.4379599, -122.206282, 7692500.0], [34.697055, -86.578513, 66000000.0], [33.075104, -117.27739, 1200000.0], [36.1542189, -86.81257190000001, 5925000.0], [37.7749295, -122.4194155, 20000.0], [47.612817, -122.350113, 8929000.0], [47.6062095, -122.33207079999998, 450000.0], [38.639906, -121.065585, 5000000.0], [32.7153292, -117.1572551, 25000.0], [30.267153000000004, -97.7430608, 25000.0], [33.6189101, -117.9289469, 25000.0], [26.1182899, -80.262235, 7875598.0], [40.724039000000005, -73.997743, 3000000.0], [42.3635847, -71.0824613, 20000.0], [40.910852, -74.494123, 5925000.0], [35.992739, -78.905018, 3648148.0], [34.0331891, -118.4517014, 6175000.0], [34.145369, -118.469201, 875000.0], [37.323915, -122.019873, 4100000.0], [40.746238700000006, -73.993166, 30566474.0], [32.7315933, -97.3208413, 23542.0], [40.0455704, -76.3100392, 2248905.0], [40.708762, -74.006731, 2400000.0], [37.7485824, -122.4184108, 40000.0], [33.6560456, -117.7665696, 2450000.0], [41.9524198, -87.67143320000001, 2800000.0], [37.5841026, -122.3660825, 6000000.0], [40.7143528, -74.00597309999999, 500000.0], [35.1495343, -90.0489801, 1275000.0], [30.267153000000004, -97.7430608, 500000.0], [26.7153424, -80.0533746, 3135000.0], [40.7143528, -74.00597309999999, 12750000.0], [42.3736158, -71.10973349999999, 22300000.0], [37.7749295, -122.4194155, 10800000.0], [42.3584308, -71.05977320000001, 3300000.0], [34.012637899999994, -118.495155, 750000.0], [37.36883, -122.0363496, 8000000.0], [40.7143528, -74.00597309999999, 850000.0], [37.4418834, -122.1430195, 915000.0], [37.7749295, -122.4194155, 10230000.0], [37.7749295, -122.4194155, 4000000.0], [42.3584308, -71.05977320000001, 4250000.0], [40.7143528, -74.00597309999999, 12000000.0], [37.7749295, -122.4194155, 1900000.0], [37.3860517, -122.0838511, 5924066.0], [40.7143528, -74.00597309999999, 15000000.0], [42.3584308, -71.05977320000001, 2790000.0], [37.7749295, -122.4194155, 10000000.0], [37.7749295, -122.4194155, 4500000.0], [45.487062, -122.8037102, 65000000.0], [40.7143528, -74.00597309999999, 6552136.0], [45.5234515, -122.6762071, 1541000.0], [41.4994954, -81.6954088, 25000.0], [40.7143528, -74.00597309999999, 2300000.0], [38.040583700000006, -84.50371640000002, 30000.0], [43.07305170000001, -89.4012302, 100000.0], [37.5985468, -122.3871942, 100000.0], [40.3572976, -74.66722259999999, 125000.0], [40.7143528, -74.00597309999999, 2300000.0], [37.7749295, -122.4194155, 1700000.0], [40.7143528, -74.00597309999999, 600000.0], [33.494170399999994, -111.9260519, 700000.0], [40.7143528, -74.00597309999999, 30653.0], [37.7749295, -122.4194155, 35000000.0], [39.737567, -104.9847179, 2953515.0], [40.4406248, -79.9958864, 18300000.0], [37.7749295, -122.4194155, 3429659.0], [35.913199600000006, -79.05584449999999, 17000000.0], [31.6986719, -106.2306498, 50000.0], [28.1761233, -80.5900519, 1250000.0], [30.267153000000004, -97.7430608, 14500000.0], [47.6814875, -122.2087353, 3200000.0], [41.4994954, -81.6954088, 1620000.0], [43.9658121, -89.2176187, 46000.0], [39.6895036, -84.16882740000001, 1000000.0], [45.5234515, -122.6762071, 77000.0], [40.7143528, -74.00597309999999, 500000.0], [37.4538274, -122.1821871, 125000.0], [37.5841026, -122.3660825, 400000.0], [40.7143528, -74.00597309999999, 23000000.0], [37.36883, -122.0363496, 35000000.0], [40.0149856, -105.2705456, 2200000.0], [40.7143528, -74.00597309999999, 13100000.0], [30.267153000000004, -97.7430608, 10390.0], [30.267153000000004, -97.7430608, 3500000.0], [40.8859325, -74.0434736, 1000000.0], [39.952335, -75.16378900000001, 29000000.0], [33.494170399999994, -111.9260519, 244900.0], [40.5246711, -111.8638226, 24692000.0], [33.494170399999994, -111.9260519, 1000000.0], [39.737567, -104.9847179, 3000000.0], [40.7143528, -74.00597309999999, 25000.0], [40.7143528, -74.00597309999999, 20000.0], [37.7749295, -122.4194155, 16500.0], [37.3860517, -122.0838511, 2800000.0], [42.3584308, -71.05977320000001, 1110000.0], [34.0522342, -118.24368490000002, 1700000.0], [40.5725, -111.8597222, 1500000.0], [40.7143528, -74.00597309999999, 2000000.0], [38.9012225, -77.2652604, 136000000.0], [39.1031182, -84.5120196, 100000.0], [37.7749295, -122.4194155, 2400000.0], [42.3584308, -71.05977320000001, 1250000.0], [29.9510658, -90.0715323, 475000.0], [40.7143528, -74.00597309999999, 1000000.0], [34.0522342, -118.24368490000002, 1300000.0], [47.6338217, -122.32154479999998, 2700000.0], [34.0736204, -118.4003563, 1750000.0], [41.8781136, -87.62979820000001, 4015000.0], [37.36883, -122.0363496, 387000.0], [37.7749295, -122.4194155, 200000.0], [42.3736158, -71.10973349999999, 1100000.0], [42.3736158, -71.10973349999999, 100000.0], [37.7749295, -122.4194155, 3425000.0], [42.995639700000005, -71.4547891, 100000.0], [34.01945429999999, -118.4911912, 5500000.0], [37.3541079, -121.9552356, 20000.0], [34.1477849, -118.1445155, 6000000.0], [37.3541079, -121.9552356, 2600000.0], [40.7143528, -74.00597309999999, 35000.0], [37.4418834, -122.1430195, 2000000.0], [37.7749295, -122.4194155, 8100000.0], [41.4553232, -81.9179173, 1500000.0], [37.4418834, -122.1430195, 4250000.0], [40.7143528, -74.00597309999999, 240000.0], [35.99403289999999, -78.898619, 116000.0], [40.7143528, -74.00597309999999, 1450000.0], [37.7749295, -122.4194155, 1115000.0], [37.7749295, -122.4194155, 550000.0], [37.7749295, -122.4194155, 250000.0], [43.0481221, -76.1474244, 15000.0], [40.7143528, -74.00597309999999, 40000.0], [42.3914547, -71.1105231, 20000.0], [42.3736158, -71.10973349999999, 20000.0], [37.4418834, -122.1430195, 610000.0], [41.7898354, -69.9897323, 300000.0], [29.9510658, -90.0715323, 350000.0], [40.7143528, -74.00597309999999, 1500010.0], [42.3736158, -71.10973349999999, 450000.0], [41.33891320000001, -72.70272059999999, 150000.0], [37.3860517, -122.0838511, 25000.0], [37.3852183, -122.1141298, 7900000.0], [42.3515469, -71.0718458, 3500000.0], [42.3584308, -71.05977320000001, 1000000.0], [37.7749295, -122.4194155, 1670000.0], [37.7749295, -122.4194155, 1500000.0], [33.0369867, -117.2919818, 750000.0], [40.7143528, -74.00597309999999, 20000.0], [37.562991700000005, -122.3255254, 1000000.0], [30.267153000000004, -97.7430608, 400000.0], [37.7749295, -122.4194155, 6000000.0], [39.1031182, -84.5120196, 150000.0], [37.5985468, -122.3871942, 28097672.0], [37.7749295, -122.4194155, 11600000.0], [34.18083920000001, -118.30896609999998, 275000000.0], [37.7749295, -122.4194155, 2500000.0], [35.4675602, -97.5164276, 1500000.0], [37.7749295, -122.4194155, 25000000.0], [40.7143528, -74.00597309999999, 70000.0], [40.7143528, -74.00597309999999, 11500000.0], [37.7749295, -122.4194155, 100000.0], [37.4418834, -122.1430195, 10100000.0], [37.7749295, -122.4194155, 95000.0], [41.240056, -81.440667, 25000.0], [34.0239952, -118.48031740000002, 52000000.0], [33.6000232, -117.6719953, 500000.0], [30.267153000000004, -97.7430608, 12500000.0], [29.7601927, -95.3693896, 250000.0], [41.7360305, -72.795027, 750000.0], [36.8507689, -76.28587259999999, 100000.0], [37.7749295, -122.4194155, 1650000.0], [32.2217429, -110.926479, 1500000.0], [40.01314179999999, -75.23040379999999, 80000.0], [40.2338438, -111.6585337, 15200000.0], [33.6839473, -117.7946942, 56014852.0], [39.1031182, -84.5120196, 400000.0], [33.0369867, -117.2919818, 139000000.0], [41.3897764, -81.4412259, 500000.0], [45.5234515, -122.6762071, 1450000.0], [36.114646, -115.172816, 500000.0], [41.25236339999999, -95.9979883, 500000.0], [40.7143528, -74.00597309999999, 3052000.0], [32.7153292, -117.1572551, 15800000.0], [37.4418834, -122.1430195, 4500000.0], [35.1495343, -90.0489801, 15000.0], [41.0334562, -74.6363588, 15000.0], [42.3584308, -71.05977320000001, 10800000.0], [37.7749295, -122.4194155, 1300000.0], [37.7749295, -122.4194155, 3050000.0], [39.952335, -75.16378900000001, 840000.0], [37.3393857, -121.8949555, 21832223.0], [38.0293059, -78.4766781, 50000.0], [42.3370413, -71.2092214, 750000.0], [37.7749295, -122.4194155, 800000.0], [40.0698321, -75.31629509999999, 2600000.0], [42.3736158, -71.10973349999999, 20000.0], [37.7749295, -122.4194155, 25000.0], [41.8781136, -87.62979820000001, 11250000.0], [37.7749295, -122.4194155, 20000.0], [37.7749295, -122.4194155, 177000.0], [39.9611755, -82.9987942, 20000.0], [37.7749295, -122.4194155, 1370000.0], [39.952335, -75.16378900000001, 200000.0], [42.1275267, -87.82895479999999, 150000.0], [37.4418834, -122.1430195, 6400000.0], [37.7749295, -122.4194155, 20000.0], [37.7749295, -122.4194155, 20000.0], [36.9741171, -122.0307963, 450000.0], [47.610377, -122.2006786, 400000.0], [38.3242355, -85.4724593, 10667500.0], [38.2526647, -85.7584557, 500000.0], [38.2526647, -85.7584557, 7000000.0], [36.1666667, -86.7833333, 465000.0], [40.7143528, -74.00597309999999, 150000.0], [40.7143528, -74.00597309999999, 11700000.0], [36.9741171, -122.0307963, 25000.0], [37.7749295, -122.4194155, 14000000.0], [32.7153292, -117.1572551, 50000000.0], [34.0522342, -118.24368490000002, 4500000.0], [36.1666667, -86.7833333, 32000.0], [40.65, -73.95, 4500000.0], [32.780139899999995, -96.8004511, 9000000.0], [37.4852152, -122.2363548, 35500000.0], [37.7749295, -122.4194155, 550000.0], [40.7143528, -74.00597309999999, 500000.0], [40.8932469, -74.0116536, 62500000.0], [37.7749295, -122.4194155, 1250000.0], [34.01945429999999, -118.4911912, 2015000.0], [37.7749295, -122.4194155, 700000.0], [40.7143528, -74.00597309999999, 11750000.0], [37.7749295, -122.4194155, 1168000.0], [40.0149856, -105.2705456, 1000000.0], [37.7749295, -122.4194155, 5000000.0], [40.65, -73.95, 850000.0], [34.0197335, -117.9586754, 20783892.0], [37.7749295, -122.4194155, 2500000.0], [40.7143528, -74.00597309999999, 40000.0], [34.01945429999999, -118.4911912, 1500000.0], [40.03758320000001, -75.3491813, 150000.0], [37.3860517, -122.0838511, 3000000.0], [42.3584308, -71.05977320000001, 50000000.0], [40.7143528, -74.00597309999999, 40000000.0], [38.933867600000006, -77.17726040000001, 200000.0], [33.6839473, -117.7946942, 6600000.0], [44.983334, -93.26667, 120000.0], [37.7749295, -122.4194155, 95000.0], [32.780139899999995, -96.8004511, 600000.0], [42.3584308, -71.05977320000001, 250000.0], [40.7143528, -74.00597309999999, 1830000.0], [39.737567, -104.9847179, 19449781.0], [37.7749295, -122.4194155, 3383459.0], [26.3586885, -80.08309840000001, 100000.0], [33.4483771, -112.0740373, 3665400.0], [39.952335, -75.16378900000001, 20000.0], [35.99403289999999, -78.898619, 18699981.0], [37.6688205, -122.0807964, 98000000.0], [40.7143528, -74.00597309999999, 1700000.0], [43.6187102, -116.2146068, 11150000.0], [40.7143528, -74.00597309999999, 840000.0], [34.1898566, -118.451357, 1000000.0], [37.5841026, -122.3660825, 1000000.0], [41.8489872, -72.5717551, 1200000.0], [40.7143528, -74.00597309999999, 1600000.0], [40.7143528, -74.00597309999999, 13000000.0], [41.4994954, -81.6954088, 7250000.0], [36.0395247, -114.9817213, 20000.0], [30.267153000000004, -97.7430608, 1350000.0], [34.0211224, -118.3964665, 350000.0], [32.780139899999995, -96.8004511, 18000000.0], [45.0099588, -93.0232416, 650000.0], [30.267153000000004, -97.7430608, 300000.0], [37.4418834, -122.1430195, 10000000.0], [42.5039395, -71.0723391, 350000.0], [26.1223084, -80.14337859999999, 58000000.0], [37.7749295, -122.4194155, 100000.0], [40.7143528, -74.00597309999999, 750000.0], [41.8781136, -87.62979820000001, 1500000.0], [39.2903848, -76.6121893, 400000.0], [39.3911111, -74.59388890000001, 6932190.0], [40.7143528, -74.00597309999999, 800000.0], [34.0522342, -118.24368490000002, 1000000.0], [37.4418834, -122.1430195, 250000.0], [42.5047161, -71.19562049999999, 6800000.0], [33.4483771, -112.0740373, 30000.0], [33.7489954, -84.3879824, 18500000.0], [34.0522342, -118.24368490000002, 3000000.0], [39.2037144, -76.8610462, 1000000.0], [37.7749295, -122.4194155, 250000.0], [42.2695216, -71.6161294, 500000.0], [34.145838899999994, -118.8056474, 885000.0], [47.4828776, -122.21706609999998, 75000.0], [40.7143528, -74.00597309999999, 1000000.0], [37.7749295, -122.4194155, 1250000.0], [37.7749295, -122.4194155, 1430000.0], [37.3393857, -121.8949555, 3450000.0], [37.7749295, -122.4194155, 20000.0], [32.814017699999994, -96.9488945, 6000000.0], [40.3916172, -111.8507662, 5000000.0], [41.8781136, -87.62979820000001, 1350000.0], [40.6975898, -74.2631635, 100000.0], [42.7653662, -71.467566, 600000.0], [37.7749295, -122.4194155, 300000.0], [37.7749295, -122.4194155, 75000.0], [41.1175966, -73.4078968, 5000000.0], [28.802861199999995, -81.269453, 42500000.0], [33.9727898, -118.42757759999998, 575000.0], [42.3736158, -71.10973349999999, 40000000.0], [25.7889689, -80.2264393, 8600000.0], [37.3860517, -122.0838511, 22500.0], [34.1501794, -118.35496090000002, 500000.0], [32.7153292, -117.1572551, 50000.0], [40.7143528, -74.00597309999999, 3200000.0], [37.3393857, -121.8949555, 3000000.0], [41.1175966, -73.4078968, 3200000.0], [42.2000966, -71.42450490000002, 11150000.0], [34.0211224, -118.3964665, 15000000.0], [38.8048355, -77.0469214, 500000.0], [35.2270869, -80.8431267, 100000.0], [40.7143528, -74.00597309999999, 100000.0], [38.9806679, -76.31439990000001, 1500000.0], [40.4406248, -79.9958864, 7500000.0], [34.0522342, -118.24368490000002, 50000.0], [33.7091847, -117.9536697, 11000.0], [40.7143528, -74.00597309999999, 1750000.0], [42.3584308, -71.05977320000001, 150000.0], [34.0522342, -118.24368490000002, 2000000.0], [39.737567, -104.9847179, 10700000.0], [32.725409, -97.3208496, 50000000.0], [40.7143528, -74.00597309999999, 700000.0], [42.3736158, -71.10973349999999, 1200000.0], [37.3229978, -122.0321823, 6000000.0], [37.7749295, -122.4194155, 100000.0], [44.4758825, -73.21207199999999, 6077370.0], [37.7652065, -122.2416355, 9900000.0], [26.3586885, -80.08309840000001, 60699922.0], [37.7749295, -122.4194155, 50000.0], [42.3736158, -71.10973349999999, 100000.0], [33.0369867, -117.2919818, 170000.0], [34.18083920000001, -118.30896609999998, 6000000.0], [40.7143528, -74.00597309999999, 500000.0], [37.7749295, -122.4194155, 120000.0], [29.7857853, -95.8243956, 500000.0], [37.4418834, -122.1430195, 100000.0], [38.9981652, -77.2883157, 120000.0], [39.7458333, -75.5466667, 25000.0], [43.0972174, -89.5042876, 2435000.0], [37.7749295, -122.4194155, 3600000.0], [42.6106478, -71.2342248, 735000.0], [37.7749295, -122.4194155, 1000000.0], [30.267153000000004, -97.7430608, 39000000.0], [40.7143528, -74.00597309999999, 9500000.0], [37.7749295, -122.4194155, 2000000.0], [42.376485200000005, -71.2356113, 4600000.0], [32.2217429, -110.926479, 81574940.0], [44.459896, -73.126092, 512000.0], [32.8745119, -117.2149726, 2000000.0], [42.0502286, -87.6845809, 8401023.0], [39.186985, -77.250214, 1000000.0], [40.8109894, -73.9587988, 500000.0], [29.778056300000003, -95.5442949, 100700.0], [29.9510658, -90.0715323, 100000.0], [40.7469769, -73.99250529999999, 1510000.0], [40.9386104, -74.0923946, 25000.0], [28.0780718, -82.7637127, 191500.0], [39.8559136, -86.0102777, 930000.0], [36.3104178, -119.2506783, 50000.0], [36.969916, -122.003705, 311750.0], [39.9973393, -83.04237109999998, 5505037.0], [39.9168643, -86.0347061, 4125000.0], [37.36883, -122.0363496, 5124997.0], [30.267153000000004, -97.7430608, 750000.0], [37.3905676, -122.0813146, 600000.0], [37.87159260000001, -122.272747, 185000.0], [37.3860517, -122.0838511, 6500000.0], [37.6654709, -122.382169, 10315800.0], [37.405935, -122.0788068, 255000.0], [32.9482688, -117.2398549, 49500150.0], [37.3905676, -122.0813146, 680416.0], [37.3905676, -122.0813146, 680416.0], [39.1207909, -77.18650600000001, 3140000.0], [40.74827020000001, -73.9930468, 60476806.0], [39.0221882, -77.1370348, 2892750.0], [39.2816671, -76.5817038, 7750000.0], [44.8613563, -92.6238082, 11140000.0], [42.3584308, -71.05977320000001, 800000.0], [33.7518505, -84.3914312, 56500.0], [25.7741567, -80.1385436, 435775.0], [33.662006, -118.0007672, 290000.0], [32.873523, -117.206655, 27300000.0], [38.956227, -77.37965, 5935201.0], [34.0590566, -118.4423173, 250000.0], [47.7668419, -122.186823, 809929.0], [41.139630700000005, -73.349209, 143578.0], [35.5305982, -97.5831595, 100000.0], [41.4901024, -71.31282850000001, 454900.0], [38.9072309, -77.03646409999999, 80000.0], [37.7850374, -122.4097116, 604400.0], [45.076351, -93.315671, 15000.0], [40.4201679, -80.05260899999999, 3200001.0], [39.8837461, -74.92576770000001, 9750000.0], [39.1021485, -77.2002095, 2625000.0], [39.568001, -104.864695, 13615290.0], [42.0460192, -87.680036, 930004.0], [37.7904849, -122.40094, 44250000.0], [40.7143528, -74.00597309999999, 40000000.0], [37.3905676, -122.0813146, 100000.0], [37.420248, -122.145825, 250000.0], [30.3817975, -97.7422865, 3999999.0], [38.57978, -121.488207, 2000000.0], [45.5266975, -122.6880503, 2300000.0], [37.383747, -122.009654, 3400000.0], [40.6110589, -111.8999353, 25000.0], [36.114128, -86.76974799999999, 710000.0], [37.420248, -122.145825, 220000.0], [40.4302324, -79.9760671, 14942729.0], [40.7143528, -74.00597309999999, 2300000.0], [42.4997323, -71.16170670000001, 3658923.0], [35.910160999999995, -78.89455500000001, 450000.0], [47.6282956, -122.1287533, 1500249.0], [37.7890183, -122.3915063, 7075000.0], [38.906867, -77.042322, 23000000.0], [37.7749295, -122.4194155, 20000.0], [33.952602, -84.5499327, 7600000.0], [33.917957200000004, -118.4127514, 250000.0], [40.0585783, -75.67230699999999, 84133593.0], [41.801528000000005, -88.122727, 726000.0], [26.3901205, -80.1077127, 1259804.0], [37.28763, -121.9356, 250000.0], [37.3740664, -121.9861315, 20425630.0], [32.970114, -96.8237539, 5000000.0], [37.78640120000001, -122.4052321, 1200000.0], [36.0415866, -86.7740321, 11500000.0], [37.7749295, -122.4194155, 500000.0], [34.1615135, -118.3403506, 1274450.0], [35.947969, -86.809775, 4800000.0], [41.450953000000005, -71.4985944, 2000000.0], [45.492824, -122.724104, 357641.0], [39.097711, -77.205026, 565000.0], [30.195801, -85.813055, 1639000.0], [44.02087, -92.464926, 625000.0], [33.90639, -84.36364300000001, 4940357.0], [39.858835, -86.11872, 15000.0], [38.943761, -77.335991, 745616.0], [42.48510170000001, -71.20892109999998, 35800000.0], [40.2902593, -76.9339735, 200000.0], [40.317403000000006, -76.855071, 200000.0], [37.78724, -122.3990341, 2390000.0], [39.0921655, -94.5836409, 2600000.0], [41.8240903, -71.4122453, 27500.0], [42.28, -83.75, 280000.0], [33.706281, -117.855316, 350000.0], [26.0898957, -80.1819268, 350000.0], [38.647983, -90.260704, 371248.0], [29.5622481, -98.48915, 11300000.0], [47.655205, -122.2055387, 9238821.0], [39.7293255, -104.9888395, 50000.0], [33.739928000000006, -111.848163, 2338650.0], [30.3449078, -97.7118337, 920000.0], [32.748411, -97.28764, 7865646.0], [37.7794128, -122.3932504, 1000000.0], [26.810262, -80.132112, 9712605.0], [30.4701355, -97.7664301, 170000.0], [37.5038903, -122.253928, 250000.0], [35.9970016, -78.9033931, 3150500.0], [44.9756344, -93.2723045, 909940.0], [37.3671705, -121.9198162, 33000000.0], [42.557958, -83.167884, 73000000.0], [34.040658, -118.253391, 20071510.0], [40.706163, -74.00595609999999, 200000.0], [37.3852183, -122.1141298, 250000.0], [39.664426, -105.012763, 1250000.0], [37.7726402, -122.4099154, 499995.0], [30.2729209, -97.7443863, 2200000.0], [37.7726402, -122.4099154, 1200000.0], [40.7905087, -89.35680009999999, 1125000.0], [42.3387424, -71.59508670000001, 150000.0], [39.176385, -76.640561, 50000.0], [47.391571, -122.044281, 6220000.0], [40.739919, -73.974547, 4744220.0], [40.7521126, -73.9786947, 616666.0], [33.1707482, -96.8322244, 200000.0], [37.229563, -121.971238, 12488104.0], [33.494446, -111.900732, 65000.0], [35.7795897, -78.6381787, 50000.0], [42.5111307, -71.1315179, 4800000.0], [35.444592, -80.88131740000001, 2457500.0], [38.243244, -122.587698, 500000.0], [37.7716354, -122.4124342, 14000000.0], [37.4487136, -122.1586782, 3005006.0], [34.0412548, -84.3300773, 3249999.0], [41.6932324, -86.22937280000001, 200000.0], [25.7534348, -80.26232900000001, 100000.0], [42.4021011, -71.2796187, 4400075.0], [39.3069672, -76.6146043, 8589995.0], [39.77566, -104.971619, 869964.0], [32.8628082, -117.2244469, 504350.0], [47.1343497, -122.4346741, 39000.0], [37.323566, -122.026441, 5000000.0], [40.7563625, -111.8274371, 6361722.0], [34.748613, -92.317238, 20000.0], [45.0872176, -93.42134, 1926000.0], [37.3899967, -122.0311298, 25000000.0], [41.894746000000005, -87.636625, 2025000.0], [33.94071, -84.36194499999999, 200000.0], [45.0358895, -93.0550531, 698000.0], [32.8951769, -96.976038, 980000.0], [42.269179, -71.414373, 6181640.0], [40.1339199, -105.1300711, 1000.0], [39.098862100000005, -84.4918601, 300000.0], [42.3917693, -71.25762459999999, 7000000.0], [40.750468, -73.98060799999999, 6100000.0], [42.5156009, -71.03911219999999, 620000.0], [33.1276426, -117.2624503, 5600000.0], [37.6818079, -97.3306, 100000.0], [39.193968700000006, -84.3436881, 135000.0], [40.536758, -74.522826, 150000.0], [47.6504466, -122.3495061, 1850000.0], [41.48339620000001, -71.5532291, 100000.0], [40.7505602, -73.9786753, 100000.0], [39.287866, -76.5921665, 350000.0], [28.09776, -80.611517, 50000.0], [32.931767, -96.797107, 175000.0], [33.505238, -111.923987, 500000.0], [33.5945887, -117.7244104, 1025000.0], [30.2654412, -97.7333052, 120000.0], [35.890231, -78.9175088, 266446.0], [33.6668937, -117.6894688, 6286900.0], [35.093208000000004, -92.438182, 4152578.0], [28.2908815, -80.7028208, 1250000.0], [38.8112125, -89.9566468, 1945000.0], [40.3114434, -75.1279696, 225000.0], [29.7327935, -95.4359142, 2429525.0], [39.899484, -105.121096, 3654000.0], [25.7840258, -80.1906063, 230000.0], [43.533246000000005, -112.007785, 3069900.0], [41.0443372, -73.532393, 1800000.0], [25.9449059, -80.1442123, 50000.0], [37.7888621, -122.4010242, 948000.0], [37.3834395, -122.0130457, 250000.0], [41.879211, -87.637199, 5999997.0], [44.208118, -72.56415600000001, 5100000.0], [35.833806, -78.666065, 500000.0], [40.382683, -80.051443, 475000.0], [41.5709584, -71.4521165, 575000.0], [47.5866772, -122.2356097, 2089000.0], [44.7436566, -93.3807168, 2430200.0], [41.739579, -70.44319109999999, 52500.0], [32.8356313, -83.62706829999999, 3316595.0], [37.4869514, -122.2319219, 832500.0], [42.56077979999999, -83.14975559999999, 1555231.0], [34.1015549, -118.3345767, 112000000.0], [37.4085874, -122.0744063, 13789142.0], [30.2810615, -81.5222836, 150000.0], [42.4021011, -71.2796187, 10000000.0], [37.7745955, -122.4107899, 4800000.0], [42.103508000000005, -87.771755, 225000.0], [40.73343, -73.990967, 750000.0], [38.6884763, -90.3568559, 50000.0], [40.750468, -73.98060799999999, 600000.0], [40.651091, -73.95445699999999, 4522000.0], [33.6386458, -117.6077101, 30000000.0], [34.0963058, -118.4980744, 3452941.0], [29.650616, -82.32409240000001, 18238879.0], [39.737567, -104.9847179, 100000.0], [37.4660877, -122.15666509999998, 9845589.0], [42.3584308, -71.05977320000001, 20204.0], [42.029964, -71.2495565, 160000.0], [40.7551855, -73.9758933, 375000.0], [40.0922745, -105.1526661, 5016500.0], [32.80937, -79.851023, 1643849.0], [40.7610559, -73.9708005, 2300000.0], [40.1633208, -75.476448, 612212.0], [38.905746, -77.064667, 2900000.0], [47.014117, -122.9402212, 694281.0], [39.1108737, -84.51570040000001, 20000.0], [37.725791, -122.389801, 20000.0], [37.7890183, -122.3915063, 1400000.0], [29.5676137, -98.6050736, 616094.0], [42.5492768, -83.21628620000001, 650000.0], [36.037936, -86.810891, 5999999.0], [40.00761, -105.277806, 261000.0], [41.546040000000005, -81.45058890000001, 475000.0], [37.659477, -77.576943, 5177237.0], [40.5971206, -73.98926170000001, 50000.0], [40.4406248, -79.9958864, 125000.0], [42.3501847, -71.0483655, 9400000.0], [42.3625828, -71.0853501, 1053000.0], [40.7272544, -74.0057152, 8093000.0], [37.7840717, -122.3946584, 100000.0], [40.722195, -74.0024679, 60000.0], [33.696912, -117.914386, 1006102.0], [37.7890183, -122.3915063, 25000.0], [41.0734888, -73.8140757, 2400000.0], [33.849145, -84.36209129999999, 725000.0], [33.0712115, -96.8232983, 1350000.0], [41.7055511, -91.6032159, 3254737.0], [27.2797, -82.533526, 1303738.0], [37.5947896, -122.36387340000002, 5642292.0], [42.3958021, -71.6698775, 214448.0], [40.3324001, -74.5007251, 35000000.0], [38.962468, -77.10357900000001, 100000.0], [35.9026524, -78.90024220000001, 328750.0], [42.388952, -71.164896, 499999.0], [38.90213120000001, -77.0595673, 1825000.0], [37.7749295, -122.4194155, 11040000.0], [41.9028369, -87.6359125, 6000000.0], [37.354611, -121.918866, 1300000.0], [41.344, -72.9344176, 50000.0], [38.9118731, -104.7854733, 400000.0], [40.6984776, -74.2305687, 5350000.0], [37.5675008, -122.3253415, 3235793.0], [40.7143528, -74.00597309999999, 50000.0], [34.060675, -84.329167, 13258700.0], [29.0270545, -81.4429362, 10000000.0], [37.7915817, -122.3995258, 750000.0], [38.912068, -77.0190228, 20000.0], [25.7889689, -80.2264393, 635000.0], [37.4457966, -122.1575745, 16000000.0], [26.5417626, -80.08796290000001, 1104800.0], [33.0712115, -96.8232983, 10000.0], [33.39857, -111.9523907, 325000.0], [42.4997323, -71.16170670000001, 460000.0], [33.63736, -117.6082774, 12000000.0], [43.597596, -116.516232, 980000.0], [40.7457319, -73.99230899999999, 4876315.0], [30.3902461, -97.7482496, 2150000.0], [33.5094699, -112.0236072, 567605.0], [38.90473660000001, -77.0344213, 2600000.0], [41.2601663, -96.0791435, 10150000.0], [37.4418834, -122.1430195, 25000.0], [37.5071591, -122.2605222, 3000000.0], [38.88306, -94.640511, 16600000.0], [36.0331164, -86.7827772, 1000000.0], [40.3787302, -74.58369990000001, 1843000.0], [42.3626626, -71.084153, 2605000.0], [34.0587454, -118.4429834, 200000.0], [33.9951211, -81.0292196, 600000.0], [35.914037, -78.879428, 437000.0], [40.018947, -105.238762, 15725816.0], [36.037539, -86.80220899999999, 7508875.0], [49.0001217, -122.2648752, 1759750.0], [44.835699, -93.599337, 700000.0], [37.7871643, -122.4108602, 2849605.0], [32.613572999999995, -97.203387, 40000.0], [37.7882534, -122.4046631, 100000.0], [34.0311329, -118.374212, 393250.0], [40.7143528, -74.00597309999999, 1000000.0], [38.917015, -77.137413, 605000.0], [39.3435306, -76.4737196, 128592836.0], [33.634885, -117.743119, 1100000.0], [32.8335382, -96.8742075, 50000.0], [35.619822, -97.49054, 9370065.0], [42.7061742, -71.151729, 50000.0], [37.426466, -122.1369002, 800000.0], [42.134768, -88.132839, 250000.0], [44.969034, -93.354177, 263250.0], [29.5533745, -98.5897529, 6790702.0], [38.933867600000006, -77.17726040000001, 200000.0], [44.9000639, -93.303716, 1379372.0], [29.8054835, -95.5564777, 850000.0], [41.438709, -87.33307099999999, 1187674.0], [40.5725, -111.8597222, 200002.0], [35.943073, -86.807376, 7150000.0], [40.5997471, -75.3664255, 13200.0], [33.7723714, -78.7810885, 2500000.0], [30.271154100000004, -97.7936429, 1500000.0], [39.9860969, -75.59117640000001, 7100000.0], [47.671225, -122.122192, 118000.0], [38.63678170000001, -90.2528988, 956000.0], [30.3427843, -97.6695742, 10900000.0], [37.2252059, -121.98323700000002, 10000000.0], [27.9603764, -82.44556999999999, 515020.0], [42.4153012, -71.12745079999999, 7000000.0], [39.7204888, -105.1319502, 116667.0], [47.253076, -122.430445, 10650000.0], [30.362255, -97.750203, 4250364.0], [40.7411557, -73.9849304, 250000.0], [40.7243575, -73.9974635, 3800800.0], [40.7143528, -74.00597309999999, 1225000.0], [37.7550372, -122.4264417, 20000.0], [33.7980995, -84.32593670000001, 34800000.0], [39.9118616, -105.1066029, 125000.0], [38.703456, -90.430267, 257547500.0], [34.17, -118.35, 30000.0], [37.7912503, -122.3986861, 13100000.0], [31.996942, -102.07365190000002, 65000000.0], [42.3829218, -71.2080041, 600000.0], [26.600719, -81.88067, 65000.0], [39.0023604, -77.09745500000001, 5300000.0], [40.6999033, -73.94884920000001, 100000.0], [37.7749295, -122.4194155, 415000.0], [37.4418834, -122.1430195, 1800000.0], [37.8066012, -122.41953, 161897.0], [34.7986188, -82.28687940000002, 65412841.0], [37.561091, -122.324382, 5782215.0], [40.236323, -111.658318, 10300000.0], [33.6501974, -117.735997, 4225311.0], [40.8835368, -73.94914320000001, 10050000.0], [43.658343, -70.256151, 10594574.0], [44.477776, -73.19457299999999, 1000000.0], [39.114763, -77.08185, 1150000.0], [37.3163979, -121.83451940000002, 3059464.0], [37.4720361, -121.9385231, 19999999.0], [39.8866919, -86.258556, 1797390.0], [39.5910742, -104.8717753, 750000.0], [40.745262200000006, -73.9929503, 3853760.0], [47.5871844, -122.3337061, 1055601.0], [30.348774100000004, -86.214864, 855000.0], [47.6062095, -122.33207079999998, 2245000.0], [42.2808256, -83.7430378, 67500.0], [42.2295486, -83.7454709, 305000.0], [32.803827000000005, -117.215187, 481268.0], [27.9467682, -82.4573054, 33000000.0], [30.612442, -97.705186, 100002.0], [35.3693882, -86.2200015, 6230472.0], [34.0984499, -118.3257003, 5000000.0], [36.1619474, -86.7746291, 375000.0], [47.608237, -122.311919, 150000.0], [47.6178979, -122.200556, 100000.0], [42.673765, -83.225769, 500000.0], [45.066938, -93.675541, 50000.0], [47.6212896, -122.3388603, 16000000.0], [25.7007337, -80.28527940000001, 1000000.0], [33.7489954, -84.3879824, 1350000.0], [39.737567, -104.9847179, 1350000.0], [26.1420358, -81.7948103, 1350000.0], [36.1666667, -86.7833333, 1350000.0], [39.9531865, -75.1749671, 2825000.0], [34.0222153, -118.3953666, 40500000.0], [38.997287, -77.28890899999999, 12000002.0], [32.0918956, -110.8089734, 546000.0], [34.711744, -86.6767179, 1298000.0], [40.065545, -75.53121800000001, 6000000.0], [35.035687700000004, -85.30587740000001, 600000.0], [37.449283, -122.159902, 1870000.0], [32.7153292, -117.1572551, 10000000.0], [41.531794, -81.441141, 6153863.0], [32.803827000000005, -117.215187, 5163118.0], [40.5461352, -112.2982139, 30000.0], [38.984579700000005, -77.09603879999999, 400000.0], [38.018422, -84.550787, 800000.0], [44.722276, -93.315191, 6162656.0], [39.9863202, -75.4081847, 1265000.0], [32.253231199999995, -110.8228908, 1700000.0], [40.7143528, -74.00597309999999, 65000.0], [35.584656, -82.47108399999999, 8628400.0], [34.0624701, -118.3475467, 1690000.0], [37.7749295, -122.4194155, 110000.0], [32.89888, -117.197009, 75000.0], [35.954669, -86.82239399999999, 1000000.0], [30.22621, -81.57982729999999, 13989977.0], [35.71, -79.81999990000001, 350000.0], [38.896575, -121.078004, 264000.0], [41.8159642, -71.4143074, 60000.0], [39.6092459, -104.9061965, 23666405.0], [37.4192412, -122.0888264, 1500000.0], [45.036823, -93.4139469, 265000.0], [40.447309, -79.9513939, 600000.0], [43.694197, -116.345625, 235000.0], [35.47551, -97.50362, 1601776.0], [29.9470483, -90.0688361, 670840.0], [37.7842268, -122.4219818, 5068086.0], [38.2313465, -122.6313635, 2075000.0], [37.3979907, -121.9844698, 1751000.0], [34.0202894, -117.8653386, 23611940.0], [40.7284024, -73.99126190000001, 738000.0], [37.380083, -121.940696, 400000.0], [40.016686, -105.282066, 2225000.0], [37.4418834, -122.1430195, 1600000.0], [40.720949, -73.958191, 70000000.0], [34.0258845, -118.4901805, 1500000.0], [38.2572585, -85.7636831, 40000000.0], [42.5347549, -71.282449, 31630248.0], [30.386703000000004, -97.709575, 4700000.0], [32.9482888, -96.8248815, 8000000.0], [39.327245, -76.600268, 50000.0], [35.072508, -106.63223700000002, 350231.0], [35.975595, -77.8105072, 39000.0], [42.2471119, -83.7309232, 1645000.0], [39.7806576, -86.1654262, 1640000.0], [32.431905, -110.944105, 2000000.0], [40.5169402, -101.6432253, 8135000.0], [36.1475791, -86.6832316, 2290000.0], [35.051790999999994, -85.3121479, 1350000.0], [36.1780112, -115.3133908, 75000.0], [39.899454, -86.05929499999999, 3000000.0], [42.2129167, -83.7305392, 50000.0], [37.283551, -121.769751, 500000.0], [33.644477200000004, -111.89724809999998, 1405000.0], [35.8908636, -78.8665733, 11449343.0], [41.8988632, -87.62374399999999, 405000.0], [26.3717124, -80.0751588, 2620466.0], [33.882003999999995, -118.287526, 187612433.0], [38.790624, -77.058751, 2000000.0], [30.269622, -97.742325, 1200000.0], [32.84722, -117.27333, 400000.0], [33.655843, -117.752731, 500000.0], [40.7143528, -74.00597309999999, 2500000.0], [40.8138912, -73.96243270000001, 100000.0], [37.250967, -121.973302, 325000.0], [32.809746999999994, -117.121348, 72000000.0], [40.4957574, -79.9248593, 3624293.0], [39.719335, -105.191415, 5500000.0], [32.456884, -93.748567, 1050000.0], [40.028039, -105.248347, 10000000.0], [39.1520031, -84.4674652, 250000.0], [37.317649, -121.948532, 1070000.0], [40.287203000000005, -74.556398, 4518000.0], [32.97187, -96.840309, 8719061.0], [30.462998100000004, -97.7932806, 9722866.0], [32.9627075, -96.5676625, 30080.0], [39.148703000000005, -77.0265809, 625000.0], [32.947414, -117.241739, 7946180.0], [43.058128, -89.491313, 450000.0], [25.7941341, -80.2063107, 685000.0], [36.3332716, -119.64616540000002, 500000.0], [41.9882574, -88.01666440000001, 9000000.0], [37.3931205, -122.0792616, 2744997.0], [40.345088, -79.97766800000001, 15000000.0], [34.08762670000001, -84.2557785, 429032.0], [30.3144014, -97.8263876, 100000.0], [37.7749295, -122.4194155, 2000000.0], [37.7749295, -122.4194155, 1600000.0], [38.7109102, -121.0856236, 200000.0], [37.787598, -122.40409, 4000000.0], [37.773267, -122.4000495, 3500000.0], [37.380193, -122.009351, 960000.0], [37.379523, -122.012107, 3814989.0], [37.6610429, -122.4028315, 1000000.0], [33.3437849, -111.959002, 11211008.0], [34.7337949, -86.6741248, 1937378.0], [36.1399585, -86.81992509999999, 6002957.0], [35.897367, -78.854456, 340530.0], [33.719568599999995, -117.8278521, 2276750.0], [43.4176898, -88.1934895, 870000.0], [29.739826300000004, -95.4421626, 50000.0], [41.9968777, -71.210486, 2500000.0], [39.920249, -105.112899, 3767162.0], [42.62871989999999, -71.09253290000001, 7500000.0], [47.6570324, -122.2856693, 3500000.0], [37.7381513, -122.4145415, 1850000.0], [38.9035015, -77.06503590000001, 15500000.0], [40.7258778, -74.0060634, 220000.0], [33.7569919, -84.39200090000001, 140000.0], [40.716911, -74.03525400000001, 5141450.0], [37.3949769, -122.0387891, 2314666.0], [26.8890032, -80.1040585, 3447500.0], [30.300892, -97.746277, 1320000.0], [37.404486, -122.112579, 881500.0], [43.0850514, -89.25622390000001, 3889691.0], [42.3575712, -71.0527727, 262500.0], [44.7882481, -93.2669214, 1380110.0], [41.902686, -87.625161, 50000.0], [44.5912934, -123.2777418, 1570000.0], [39.143440600000005, -77.2013705, 235000.0], [38.9837671, -77.09267270000001, 25000.0], [37.8020162, -122.4010358, 9161897.0], [34.1423963, -118.3905903, 20000000.0], [32.9452562, -117.24031770000002, 7613268.0], [37.4440581, -122.163635, 2500000.0], [33.896512, -84.489648, 2641210.0], [43.07305170000001, -89.4012302, 325000.0], [37.4484914, -122.1802812, 8176520.0], [37.4484914, -122.1802812, 8176520.0], [34.014954, -118.491068, 76000.0], [37.760272, -122.3880977, 1875000.0], [32.880948, -96.766012, 4100000.0], [37.781237, -122.394903, 349999.0], [37.47688, -122.197503, 1000000.0], [34.0255742, -118.3778797, 12000000.0], [40.419216, -80.092709, 150000.0], [39.7503186, -104.8367063, 515252.0], [33.383227000000005, -84.578822, 300000.0], [29.596865, -95.620176, 2218000.0], [40.6461693, -74.352088, 200000.0], [41.4481674, -73.2576509, 2853205.0], [40.2235257, -74.8852365, 16408000.0], [29.756644, -95.370863, 3000000.0], [42.35, -71.06, 1045984.0], [29.545838, -98.588965, 12332281.0], [26.3912865, -80.1025034, 4300600.0], [40.7272544, -74.0057152, 150000.0], [40.711082, -74.0085526, 6850000.0], [37.7824505, -122.4107479, 6850000.0], [40.4517186, -80.0080392, 1650000.0], [41.8832586, -87.62696940000001, 5997988.0], [39.02075, -77.45700500000001, 1000000.0], [39.8743058, -75.2600242, 400000.0], [34.012044200000005, -117.8596614, 10000.0], [29.7824365, -95.4095546, 4412607.0], [35.47551, -97.50362, 220099.0], [42.5853107, -83.2469945, 3635000.0], [40.74646, -73.984274, 1499998.0], [39.943488, -105.03017, 50000.0], [41.7346805, -111.8003128, 190000.0], [38.972655, -104.785155, 110000.0], [34.131439799999995, -117.3704045, 782625.0], [35.99403289999999, -78.898619, 50000.0], [42.04692, -87.6830529, 1199000.0], [40.957669, -73.98060799999999, 250000.0], [41.894532, -87.636668, 1609173.0], [35.775937, -78.72680600000001, 50000.0], [37.4110966, -122.0181762, 32000000.0], [29.9468527, -90.0689658, 600000.0], [40.7584849, -73.977579, 335000.0], [40.7508811, -73.97354250000001, 333000.0], [30.356499, -97.798779, 300000.0], [40.0537695, -105.2255786, 2000000.0], [42.368808, -71.346452, 11819107.0], [25.66641, -80.4074739, 105000.0], [45.5241339, -122.699855, 500000.0], [37.5653095, -122.2808377, 1731700.0], [34.7254067, -86.69047590000001, 20000.0], [40.759089, -111.877811, 87653.0], [44.85825689999999, -93.3252954, 573000.0], [40.4379259, -79.95564240000002, 50000.0], [40.8858982, -77.7766072, 150000.0], [37.370831, -121.923834, 14000000.0], [36.9616159, -86.47073859999999, 142000.0], [42.0562789, -87.6929355, 685000.0], [45.7258448, -122.6607588, 150000.0], [34.3058279, -118.4571974, 5000000.0], [26.79512, -80.09683299999999, 2250000.0], [37.4147333, -122.0938164, 8612125.0], [43.0972174, -89.5042876, 1000000.0], [45.0278763, -93.1890087, 500000.0], [41.055242, -74.12175699999999, 44050029.0], [33.665242, -117.7490656, 8428250.0], [37.786981, -122.4009318, 660000.0], [40.1921439, -75.1523657, 592428.0], [38.3965157, -122.81835320000002, 1258507.0], [33.8016239, -84.37042199999999, 309685.0], [37.2322, -80.4162, 9000.0], [39.190776, -119.715124, 4500023.0], [33.105203, -117.299876, 4650000.0], [33.509606, -112.013469, 650000.0], [32.9405511, -117.0490345, 500000.0], [47.602516, -122.284664, 2000000.0], [32.1763131, -110.9263898, 3321244.0], [41.043689, -73.5153933, 1083000.0], [39.8646455, -86.1039189, 950000.0], [37.383961, -122.041949, 60000.0], [40.7515736, -73.9753704, 300000.0], [37.5613699, -121.953843, 275000.0], [32.825998, -117.154155, 52000.0], [33.4662881, -117.6317494, 3156546.0], [36.820367, -76.05946290000001, 4175000.0], [33.9013654, -118.387381, 242500.0], [38.9274569, -77.215583, 29184501.0], [29.649898, -82.33293499999999, 122500.0], [26.458049, -80.09423699999999, 1500000.0], [37.378611, -121.991827, 2200000.0], [39.9007, -74.8639, 300000.0], [44.8424983, -91.5414194, 100000.0], [44.9889505, -93.2535126, 2600767.0], [37.7749295, -122.4194155, 2000000.0], [38.042077500000005, -84.4921994, 1327000.0], [40.4201679, -80.05260899999999, 3230100.0], [40.769795, -111.904545, 29474557.0], [42.4070049, -71.27459759999999, 20064.0], [47.6150436, -122.1717577, 2089110.0], [33.9801999, -118.4403043, 20000.0], [35.2528422, -81.1526976, 4000000.0], [37.7881715, -122.4027963, 5000000.0], [45.53, -122.68, 3000000.0], [40.7873963, -111.9002108, 200000.0], [29.7332658, -95.4316821, 200000.0], [41.65952, -93.755011, 400000.0], [39.7683106, -104.976453, 250000.0], [37.4502049, -122.120512, 2331250.0], [43.1958536, -70.874333, 3500000.0], [37.3493111, -122.05107920000002, 387996.0], [39.135936, -77.225797, 1000.0], [38.0256753, -84.50715500000001, 100000.0], [41.516464, -87.966396, 535000.0], [34.14629, -118.131882, 6000000.0], [39.008213, -94.563948, 1553266.0], [39.932937, -82.994978, 4500000.0], [39.1353797, -76.82557829999999, 2518753.0], [37.4388811, -122.1593215, 600000.0], [37.7973253, -122.4323007, 1500000.0], [40.705702200000005, -74.01405809999999, 1500000.0], [42.3626626, -71.084153, 5157218.0], [30.237298, -97.746619, 1249970.0], [38.9519129, -77.34909259999999, 50000.0], [30.249394, -81.389441, 2624622.0], [36.108292600000006, -115.1728344, 1040000.0], [39.926764, -105.09695, 4905000.0], [36.1557487, -86.7862146, 2015130.0], [41.071731, -81.5254806, 110000.0], [41.7763037, -72.608744, 40000.0], [43.200453, -71.53302729999999, 109999.0], [42.382689500000005, -71.207415, 4140000.0], [32.749821399999995, -117.1650586, 5000000.0], [39.924165, -105.098211, 1905000.0], [34.435044299999994, -119.844907, 3000000.0], [39.092290000000006, -77.209363, 775000.0], [40.0092139, -75.2160503, 1131134.0], [45.8106083, -91.8984128, 2290002.0], [39.7688447, -86.1611874, 22922870.0], [33.9135588, -84.3873103, 416846.0], [39.316113, -84.4833903, 250000.0], [42.718445, -73.7535512, 75000.0], [40.7686973, -73.9918181, 7600000.0], [41.8832834, -87.6518157, 7600000.0], [34.1579303, -118.396319, 450000.0], [43.489447, -112.0677562, 1617500.0], [32.567099, -84.94800500000001, 2495350.0], [33.0192074, -96.98185440000002, 12000000.0], [37.853189, -122.263386, 60151.0], [30.384827, -97.744305, 11000001.0], [41.7425439, -72.6326604, 505000.0], [40.7481129, -73.98439, 112000.0], [34.7254067, -86.69047590000001, 1620030.0], [30.2689848, -97.7456684, 1887216.0], [39.713158, -105.134252, 3199790.0], [38.6356297, -90.2459181, 6802828.0], [42.0215, -87.683575, 10000.0], [40.3032488, -111.67501570000002, 30000000.0], [40.0615566, -75.4651268, 590316.0], [29.955228700000003, -90.0757717, 3400000.0], [33.935279, -84.42634699999999, 3050000.0], [40.846784, -74.45359599999999, 258427.0], [47.61777, -122.194219, 100000.0], [37.789318, -122.400655, 395000.0], [40.7026709, -111.5440063, 1045000.0], [42.7773812, -70.84177829999999, 225000.0], [35.884211900000004, -78.6790518, 701000.0], [40.7447964, -73.98780909999999, 2324998.0], [28.5861997, -81.363786, 137500.0], [45.03476, -93.20092, 475000.0], [29.7746207, -95.7567255, 686000.0], [44.851407, -93.127355, 833600.0], [25.969551, -80.1422014, 1000000.0], [43.0703169, -77.6838333, 720000.0], [40.7143528, -74.00597309999999, 3000000.0], [42.3584308, -71.05977320000001, 1000000.0], [47.63274570000001, -122.13941, 3175000.0], [35.56765, -80.866395, 200000.0], [41.3914179, -72.8975568, 150000.0], [33.04063, -116.867203, 14600000.0], [32.907899, -117.187637, 1680000.0], [37.77357, -122.415787, 200000.0], [33.8631833, -84.4787016, 135000.0], [44.864036, -93.455321, 16500000.0], [40.740308, -74.007199, 1000000.0]],\n",
       "                {&quot;blur&quot;: 0.5, &quot;gradient&quot;: {&quot;0.2&quot;: &quot;#005c6e&quot;, &quot;0.4&quot;: &quot;#21918c&quot;, &quot;0.6&quot;: &quot;#4cc0a4&quot;, &quot;0.8&quot;: &quot;#8ad3ba&quot;, &quot;1&quot;: &quot;#c3ebdf&quot;}, &quot;maxZoom&quot;: 2, &quot;minOpacity&quot;: 0.2, &quot;radius&quot;: 35}\n",
       "            ).addTo(map_ff786122780a5eed4915d0959406a99a);\n",
       "        \n",
       "    \n",
       "            map_ff786122780a5eed4915d0959406a99a.fitBounds(\n",
       "                [[24.527135, -127.792969], [49.61071, -59.765625]],\n",
       "                {}\n",
       "            );\n",
       "        \n",
       "&lt;/script&gt;\n",
       "&lt;/html&gt;\" style=\"position:absolute;width:100%;height:100%;left:0;top:0;border:none !important;\" allowfullscreen webkitallowfullscreen mozallowfullscreen></iframe></div></div>"
      ],
      "text/plain": [
       "<folium.folium.Map at 0x7fac233eefb0>"
      ]
     },
     "execution_count": 23,
     "metadata": {},
     "output_type": "execute_result"
    }
   ],
   "source": [
    "# create a map centered on the first location in the data frame\n",
    "m = folium.Map(location=[37.0902, -95.7129], zoom_start=4)\n",
    "\n",
    "# create a list of points for the heatmap, with the weight based on the price\n",
    "heat_data = [[row['latitude'], row['longitude'], row['funding_total_usd']] for index, row in map_data.iterrows()]\n",
    "\n",
    "# create a heatmap layer with the data and the specified gradient color\n",
    "gradient = {0.2: '#005c6e', 0.4: '#21918c', 0.6: '#4cc0a4', 0.8: '#8ad3ba', 1: '#c3ebdf'}\n",
    "\n",
    "HeatMap(heat_data, min_opacity=0.2, radius=35, blur=0.5, max_zoom=2, gradient=gradient).add_to(m)\n",
    "\n",
    "# set bounds of the map to cover the entire USA\n",
    "m.fit_bounds([[24.527135, -127.792969], [49.61071, -59.765625]])\n",
    "# display the map\n",
    "m\n",
    "#m.save('heatmap.html')\n"
   ]
  }
 ],
 "metadata": {
  "kernelspec": {
   "display_name": "Python 3.10.4 ('DTU')",
   "language": "python",
   "name": "python3"
  },
  "language_info": {
   "codemirror_mode": {
    "name": "ipython",
    "version": 3
   },
   "file_extension": ".py",
   "mimetype": "text/x-python",
   "name": "python",
   "nbconvert_exporter": "python",
   "pygments_lexer": "ipython3",
   "version": "3.10.4"
  },
  "orig_nbformat": 4,
  "vscode": {
   "interpreter": {
    "hash": "17622c309c226b43e74d64cfd161f2020bc7390f6a3b894c2ae3b9ab7b589c99"
   }
  }
 },
 "nbformat": 4,
 "nbformat_minor": 2
}
