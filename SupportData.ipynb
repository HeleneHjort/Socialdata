{
 "cells": [
  {
   "attachments": {},
   "cell_type": "markdown",
   "metadata": {},
   "source": [
    "# City anaysis"
   ]
  },
  {
   "attachments": {},
   "cell_type": "markdown",
   "metadata": {},
   "source": [
    "## Package installation"
   ]
  },
  {
   "cell_type": "code",
   "execution_count": 1,
   "metadata": {},
   "outputs": [],
   "source": [
    "import pandas as pd\n",
    "import numpy as np\n",
    "import plotly.express as px\n",
    "import plotly.offline as pyo\n",
    "import plotly.graph_objs as go\n",
    "from folium import plugins\n",
    "from plotly.subplots import make_subplots\n",
    "import folium\n",
    "import matplotlib as plt\n",
    "import seaborn as sns\n",
    "from matplotlib.cm import ScalarMappable\n",
    "from matplotlib.colors import Normalize"
   ]
  },
  {
   "attachments": {},
   "cell_type": "markdown",
   "metadata": {},
   "source": [
    "## Load Data\n",
    "\n",
    "Source: https://datausa.io/profile/geo/new-york-ny?compare=san-francisco-ca "
   ]
  },
  {
   "cell_type": "code",
   "execution_count": 2,
   "metadata": {},
   "outputs": [],
   "source": [
    "CitizenshipNY = pd.read_csv(\"/Users/stj/Documents/DTU_BA/2_Semester/Socialdata/Data2/CitizenshipNY.csv\")\n",
    "CitizenshipSA = pd.read_csv(\"/Users/stj/Documents/DTU_BA/2_Semester/Socialdata/Data2/CitizenshipSA.csv\")\n",
    "DegreesNY = pd.read_csv(\"/Users/stj/Documents/DTU_BA/2_Semester/Socialdata/Data2/DegreesNY.csv\")\n",
    "DegreesSA = pd.read_csv(\"/Users/stj/Documents/DTU_BA/2_Semester/Socialdata/Data2/DegreesSA.csv\")\n",
    "DomestictradeNY = pd.read_csv(\"/Users/stj/Documents/DTU_BA/2_Semester/Socialdata/Data2/DomestictradeNY.csv\")\n",
    "DomestictradeSA = pd.read_csv(\"/Users/stj/Documents/DTU_BA/2_Semester/Socialdata/Data2/DomestictradeSA.csv\")\n",
    "EducationalAttainmentNY  = pd.read_csv(\"/Users/stj/Documents/DTU_BA/2_Semester/Socialdata/Data2/EducationalAttainmentNY.csv\")\n",
    "EducationalAttainmentSA = pd.read_csv(\"/Users/stj/Documents/DTU_BA/2_Semester/Socialdata/Data2/EducationalAttainmentSA.csv\")\n",
    "EducationNY = pd.read_csv(\"/Users/stj/Documents/DTU_BA/2_Semester/Socialdata/Data2/EducationNY.csv\")\n",
    "EducationSA = pd.read_csv(\"/Users/stj/Documents/DTU_BA/2_Semester/Socialdata/Data2/EducationSA.csv\")\n",
    "EmploymentIndustriesNY  = pd.read_csv(\"/Users/stj/Documents/DTU_BA/2_Semester/Socialdata/Data2/EmploymentIndustriesNY.csv\")\n",
    "EmploymentIndustriesSA  = pd.read_csv(\"/Users/stj/Documents/DTU_BA/2_Semester/Socialdata/Data2/EmploymentIndustriesSA.csv\")\n",
    "OccupationNY = pd.read_csv(\"/Users/stj/Documents/DTU_BA/2_Semester/Socialdata/Data2/OccupationsNY.csv\")\n",
    "OccupationSA = pd.read_csv(\"/Users/stj/Documents/DTU_BA/2_Semester/Socialdata/Data2/OccupationsSA.csv\")"
   ]
  },
  {
   "attachments": {},
   "cell_type": "markdown",
   "metadata": {},
   "source": [
    "## Data cleaning"
   ]
  },
  {
   "attachments": {},
   "cell_type": "markdown",
   "metadata": {},
   "source": [
    "Okay, så det ligner ikke de her filer er joinet. Jeg tror måske ikke vi kan gøre det hvor vi loader mere ned. Så skal vi have alle filerne for sig? Men så syntes jeg vi skal diskutere om det på en eller anden måde er plagiat, da filerne så er taget ned på baggrund af data der er brugt i plot? Så vi skal passe på ikke bare at gengive det præcis samme? Og kan vi lade vær med det?"
   ]
  },
  {
   "cell_type": "code",
   "execution_count": 12,
   "metadata": {},
   "outputs": [],
   "source": [
    "#Combine the dataframes on the same topic for the two cities\n",
    "Citizenship = pd.concat([CitizenshipNY, CitizenshipSA])\n",
    "Citizenship = Citizenship.reset_index(drop=True)\n",
    "Degrees = pd.concat([DegreesNY, DegreesSA])\n",
    "Degrees = Degrees.reset_index(drop=True)\n",
    "Occupation = pd.concat([OccupationNY, OccupationSA])\n",
    "Occupation = Occupation.reset_index(drop=True)\n",
    "\n",
    "#State level dataframes\n",
    "Domestictrade = pd.concat([DomestictradeNY, DomestictradeSA])\n",
    "Domestictrade = Domestictrade.reset_index(drop=True)\n",
    "EducationalAttainment = pd.concat([EducationalAttainmentNY, EducationalAttainmentSA])\n",
    "EducationalAttainment = EducationalAttainment.reset_index(drop=True)\n",
    "Education = pd.concat([EducationNY, EducationSA])\n",
    "Education = Education.reset_index(drop=True)\n",
    "EmploymentIndustries = pd.concat([EmploymentIndustriesNY, EmploymentIndustriesSA])\n",
    "EmploymentIndustries = EmploymentIndustries.reset_index(drop=True)"
   ]
  },
  {
   "attachments": {},
   "cell_type": "markdown",
   "metadata": {},
   "source": [
    "## State level "
   ]
  },
  {
   "attachments": {},
   "cell_type": "markdown",
   "metadata": {},
   "source": [
    "### Education "
   ]
  },
  {
   "cell_type": "code",
   "execution_count": null,
   "metadata": {},
   "outputs": [],
   "source": []
  },
  {
   "attachments": {},
   "cell_type": "markdown",
   "metadata": {},
   "source": [
    "### Industries & Employment "
   ]
  },
  {
   "cell_type": "code",
   "execution_count": null,
   "metadata": {},
   "outputs": [],
   "source": []
  },
  {
   "attachments": {},
   "cell_type": "markdown",
   "metadata": {},
   "source": [
    "### Trade "
   ]
  },
  {
   "cell_type": "code",
   "execution_count": null,
   "metadata": {},
   "outputs": [],
   "source": []
  },
  {
   "attachments": {},
   "cell_type": "markdown",
   "metadata": {},
   "source": [
    "## City level "
   ]
  },
  {
   "attachments": {},
   "cell_type": "markdown",
   "metadata": {},
   "source": [
    "### Population "
   ]
  },
  {
   "cell_type": "code",
   "execution_count": null,
   "metadata": {},
   "outputs": [],
   "source": []
  },
  {
   "attachments": {},
   "cell_type": "markdown",
   "metadata": {},
   "source": [
    "### Education "
   ]
  },
  {
   "cell_type": "code",
   "execution_count": null,
   "metadata": {},
   "outputs": [],
   "source": []
  },
  {
   "attachments": {},
   "cell_type": "markdown",
   "metadata": {},
   "source": [
    "### Work force "
   ]
  },
  {
   "cell_type": "code",
   "execution_count": null,
   "metadata": {},
   "outputs": [],
   "source": []
  },
  {
   "cell_type": "markdown",
   "metadata": {},
   "source": []
  }
 ],
 "metadata": {
  "kernelspec": {
   "display_name": "tf",
   "language": "python",
   "name": "python3"
  },
  "language_info": {
   "codemirror_mode": {
    "name": "ipython",
    "version": 3
   },
   "file_extension": ".py",
   "mimetype": "text/x-python",
   "name": "python",
   "nbconvert_exporter": "python",
   "pygments_lexer": "ipython3",
   "version": "3.10.9"
  },
  "orig_nbformat": 4
 },
 "nbformat": 4,
 "nbformat_minor": 2
}
