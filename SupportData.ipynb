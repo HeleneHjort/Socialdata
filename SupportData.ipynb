{
 "cells": [
  {
   "attachments": {},
   "cell_type": "markdown",
   "metadata": {},
   "source": [
    "# City anaysis"
   ]
  },
  {
   "attachments": {},
   "cell_type": "markdown",
   "metadata": {},
   "source": [
    "## Package installation"
   ]
  },
  {
   "cell_type": "code",
   "execution_count": 1,
   "metadata": {},
   "outputs": [],
   "source": [
    "import pandas as pd\n",
    "import numpy as np\n",
    "import plotly.express as px\n",
    "import plotly.offline as pyo\n",
    "import plotly.graph_objs as go\n",
    "from folium import plugins\n",
    "from plotly.subplots import make_subplots\n",
    "import folium\n",
    "import matplotlib as plt\n",
    "import seaborn as sns\n",
    "from matplotlib.cm import ScalarMappable\n",
    "from matplotlib.colors import Normalize"
   ]
  },
  {
   "attachments": {},
   "cell_type": "markdown",
   "metadata": {},
   "source": [
    "## Load Data\n",
    "\n",
    "Source: https://datausa.io/profile/geo/new-york-ny?compare=san-francisco-ca "
   ]
  },
  {
   "cell_type": "code",
   "execution_count": 2,
   "metadata": {},
   "outputs": [],
   "source": [
    "#Workforce = pd.read_csv(\"/Users/stj/Documents/DTU_BA/2_Semester/Socialdata/Data2/Workforce.csv\")\n",
    "Workforce = pd.read_csv(\"/Users/helenehjort/Library/Mobile Documents/com~apple~CloudDocs/Business Analytics/8. Semester/02806 Social data analysis/Website/Socialdata/Workforce.csv\")"
   ]
  },
  {
   "attachments": {},
   "cell_type": "markdown",
   "metadata": {},
   "source": [
    "## Data cleaning"
   ]
  },
  {
   "attachments": {},
   "cell_type": "markdown",
   "metadata": {},
   "source": [
    "Okay, så det ligner ikke de her filer er joinet. Jeg tror måske ikke vi kan gøre det hvor vi loader mere ned. Så skal vi have alle filerne for sig? Men så syntes jeg vi skal diskutere om det på en eller anden måde er plagiat, da filerne så er taget ned på baggrund af data der er brugt i plot? Så vi skal passe på ikke bare at gengive det præcis samme? Og kan vi lade vær med det?"
   ]
  },
  {
   "cell_type": "code",
   "execution_count": 3,
   "metadata": {},
   "outputs": [],
   "source": [
    "# All state codes, so we can make a new column for heat maps. \n",
    "state_code = {'Alabama': 'AL', 'Alaska': 'AK', 'Arizona': 'AZ', 'Arkansas': 'AR',\n",
    "              'California': 'CA', 'Colorado': 'CO', 'Connecticut': 'CT', 'Delaware': 'DE',\n",
    "              'Florida': 'FL', 'Georgia': 'GA', 'Hawaii': 'HI', 'Idaho': 'ID',\n",
    "              'Illinois': 'IL', 'Indiana': 'IN', 'Iowa': 'IA', 'Kansas': 'KS',\n",
    "              'Kentucky': 'KY', 'Louisiana': 'LA', 'Maine': 'ME', 'Maryland': 'MD',\n",
    "              'Massachusetts': 'MA', 'Michigan': 'MI', 'Minnesota': 'MN', 'Mississippi': 'MS',\n",
    "              'Missouri': 'MO', 'Montana': 'MT', 'Nebraska': 'NE', 'Nevada': 'NV',\n",
    "              'New Hampshire': 'NH', 'New Jersey': 'NJ', 'New Mexico': 'NM', 'New York': 'NY',\n",
    "              'North Carolina': 'NC', 'North Dakota': 'ND', 'Ohio': 'OH', 'Oklahoma': 'OK',\n",
    "              'Oregon': 'OR', 'Pennsylvania': 'PA', 'Rhode Island': 'RI', 'South Carolina': 'SC',\n",
    "              'South Dakota': 'SD', 'Tennessee': 'TN', 'Texas': 'TX', 'Utah': 'UT',\n",
    "              'Vermont': 'VT', 'Virginia': 'VA', 'Washington': 'WA', 'West Virginia': 'WV',\n",
    "              'Wisconsin': 'WI', 'Wyoming': 'WY', 'Puerto Rico': 'PR'}\n",
    "\n",
    "Workforce['StateCode'] = Workforce['State'].map(state_code)\n"
   ]
  },
  {
   "attachments": {},
   "cell_type": "markdown",
   "metadata": {},
   "source": [
    "## State level heat map "
   ]
  },
  {
   "attachments": {},
   "cell_type": "markdown",
   "metadata": {},
   "source": [
    "### Average Wage"
   ]
  },
  {
   "cell_type": "code",
   "execution_count": 5,
   "metadata": {},
   "outputs": [
    {
     "data": {
      "application/vnd.plotly.v1+json": {
       "config": {
        "plotlyServerURL": "https://plot.ly"
       },
       "data": [
        {
         "coloraxis": "coloraxis",
         "geo": "geo",
         "hovertemplate": "StateCode=%{location}<br>Average Wage=%{z}<extra></extra>",
         "locationmode": "USA-states",
         "locations": [
          "PR",
          "AL",
          "AK",
          "AZ",
          "AR",
          "CA",
          "CO",
          "CT",
          "DE",
          null,
          "FL",
          "GA",
          "HI",
          "ID",
          "IL",
          "IN",
          "IA",
          "KS",
          "KY",
          "LA",
          "ME",
          "MD",
          "MA",
          "MI",
          "MN",
          "MS",
          "MO",
          "MT",
          "NE",
          "NV",
          "NH",
          "NJ",
          "NM",
          "NY",
          "NC",
          "ND",
          "OH",
          "OK",
          "OR",
          "PA",
          "RI",
          "SC",
          "SD",
          "TN",
          "TX",
          "UT",
          "VT",
          "VA",
          "WA",
          "WV",
          "WI",
          "WY",
          "PR",
          "AL",
          "AK",
          "AZ",
          "AR",
          "CA",
          "CO",
          "CT",
          "DE",
          null,
          "FL",
          "GA",
          "HI",
          "ID",
          "IL",
          "IN",
          "IA",
          "KS",
          "KY",
          "LA",
          "ME",
          "MD",
          "MA",
          "MI",
          "MN",
          "MS",
          "MO",
          "MT",
          "NE",
          "NV",
          "NH",
          "NJ",
          "NM",
          "NY",
          "NC",
          "ND",
          "OH",
          "OK",
          "OR",
          "PA",
          "RI",
          "SC",
          "SD",
          "TN",
          "TX",
          "UT",
          "VT",
          "VA",
          "WA",
          "WV",
          "WI",
          "WY",
          "PR",
          "AL",
          "AK",
          "AZ",
          "AR",
          "CA",
          "CO",
          "CT",
          "DE",
          null,
          "FL",
          "GA",
          "HI",
          "ID",
          "IL",
          "IN",
          "IA",
          "KS",
          "KY",
          "LA",
          "ME",
          "MD",
          "MA",
          "MI",
          "MN",
          "MS",
          "MO",
          "MT",
          "NE",
          "NV",
          "NH",
          "NJ",
          "NM",
          "NY",
          "NC",
          "ND",
          "OH",
          "OK",
          "OR",
          "PA",
          "RI",
          "SC",
          "SD",
          "TN",
          "TX",
          "UT",
          "VT",
          "VA",
          "WA",
          "WV",
          "WI",
          "WY",
          "PR",
          "AL",
          "AK",
          "AZ",
          "AR",
          "CA",
          "CO",
          "CT",
          "DE",
          null,
          "FL",
          "GA",
          "HI",
          "ID",
          "IL",
          "IN",
          "IA",
          "KS",
          "KY",
          "LA",
          "ME",
          "MD",
          "MA",
          "MI",
          "MN",
          "MS",
          "MO",
          "MT",
          "NE",
          "NV",
          "NH",
          "NJ",
          "NM",
          "NY",
          "NC",
          "ND",
          "OH",
          "OK",
          "OR",
          "PA",
          "RI",
          "SC",
          "SD",
          "TN",
          "TX",
          "UT",
          "VT",
          "VA",
          "WA",
          "WV",
          "WI",
          "WY",
          "PR",
          "AL",
          "AK",
          "AZ",
          "AR",
          "CA",
          "CO",
          "CT",
          "DE",
          null,
          "FL",
          "GA",
          "HI",
          "ID",
          "IL",
          "IN",
          "IA",
          "KS",
          "KY",
          "LA",
          "ME",
          "MD",
          "MA",
          "MI",
          "MN",
          "MS",
          "MO",
          "MT",
          "NE",
          "NV",
          "NH",
          "NJ",
          "NM",
          "NY",
          "NC",
          "ND",
          "OH",
          "OK",
          "OR",
          "PA",
          "RI",
          "SC",
          "SD",
          "TN",
          "TX",
          "UT",
          "VT",
          "VA",
          "WA",
          "WV",
          "WI",
          "WY",
          "PR",
          "AL",
          "AK",
          "AZ",
          "AR",
          "CA",
          "CO",
          "CT",
          "DE",
          null,
          "FL",
          "GA",
          "HI",
          "ID",
          "IL",
          "IN",
          "IA",
          "KS",
          "KY",
          "LA",
          "ME",
          "MD",
          "MA",
          "MI",
          "MN",
          "MS",
          "MO",
          "MT",
          "NE",
          "NV",
          "NH",
          "NJ",
          "NM",
          "NY",
          "NC",
          "ND",
          "OH",
          "OK",
          "OR",
          "PA",
          "RI",
          "SC",
          "SD",
          "TN",
          "TX",
          "UT",
          "VT",
          "VA",
          "WA",
          "WV",
          "WI",
          "WY",
          "PR",
          "AL",
          "AK",
          "AZ",
          "AR",
          "CA",
          "CO",
          "CT",
          "DE",
          null,
          "FL",
          "GA",
          "HI",
          "ID",
          "IL",
          "IN",
          "IA",
          "KS",
          "KY",
          "LA",
          "ME",
          "MD",
          "MA",
          "MI",
          "MN",
          "MS",
          "MO",
          "MT",
          "NE",
          "NV",
          "NH",
          "NJ",
          "NM",
          "NY",
          "NC",
          "ND",
          "OH",
          "OK",
          "OR",
          "PA",
          "RI",
          "SC",
          "SD",
          "TN",
          "TX",
          "UT",
          "VT",
          "VA",
          "WA",
          "WV",
          "WI",
          "WY"
         ],
         "name": "",
         "type": "choropleth",
         "z": [
          27463.44604579706,
          47721.893353273845,
          57631.93930102248,
          51510.443842239634,
          45789.7111803248,
          63366.73019917497,
          58381.84802691977,
          69309.08676599935,
          55534.268416311,
          88235.280366217,
          49719.96150508798,
          53386.56454097747,
          53700.52431115793,
          45627.68809981936,
          58885.57814540094,
          48562.44490357145,
          48345.05764828564,
          49565.7738241617,
          46656.36266850904,
          49296.64585722581,
          47977.04557939528,
          66582.8998273711,
          68749.38757104128,
          51288.12169450347,
          57076.85123246214,
          43736.20058150585,
          49222.33982142762,
          45254.75672251686,
          48591.71743302178,
          50561.351991904674,
          58710.64993924047,
          70317.4333952484,
          45789.28833890557,
          65654.31873414488,
          50397.0472469709,
          49916.90329089374,
          50322.34928146759,
          46939.356149046,
          53563.27842284029,
          54763.0873860158,
          55350.25434501685,
          47507.30291702844,
          44949.40084028191,
          48753.06700877662,
          54361.745297564106,
          50088.39029238044,
          48985.35796645358,
          62052.5845069362,
          63637.74114195897,
          45136.80446052497,
          50391.41402947629,
          49928.31860513586,
          26976.901137056037,
          46345.54470894019,
          56150.7550362892,
          49660.18741798118,
          44064.85215025043,
          60983.47621203598,
          56606.33001357414,
          67757.72358949526,
          54195.70816046154,
          83650.19318480979,
          48337.04118191634,
          51635.69583641903,
          52120.81675372607,
          43494.78007050402,
          57047.301404064725,
          47326.33374960568,
          47106.959435675904,
          48126.81082037416,
          45541.65504291987,
          47953.99709337901,
          46592.12259045676,
          64776.85402712388,
          66160.43158011514,
          49792.37261528261,
          55463.93104736848,
          42174.43922288159,
          47978.256097329344,
          44320.46457787117,
          47151.47009379551,
          48970.90245319609,
          56930.451794485365,
          68354.70136050564,
          44288.18139086517,
          63530.005104133736,
          48894.06952258502,
          49312.9905455265,
          49015.38653518404,
          46249.854135567184,
          51137.79316231765,
          53248.99093401215,
          53727.93407934456,
          45892.386879412086,
          43706.75445003275,
          47276.86522521539,
          53079.80131195396,
          48599.16036364016,
          47848.75153008375,
          60177.04040983263,
          60928.34229581864,
          44313.47513446885,
          48995.26175333055,
          49117.50510172395,
          26508.00681418405,
          45184.1070363659,
          55511.13620974817,
          48140.94231198166,
          42797.68457297681,
          58413.93082540153,
          54588.47499955843,
          66060.74214770811,
          52532.45440003324,
          80157.76050273511,
          46835.74970852707,
          49911.48451634752,
          50305.74234550957,
          42037.10447063394,
          55157.71785893968,
          45804.66654041896,
          45765.81288549461,
          47005.30871136559,
          44132.423849310624,
          46900.93737126148,
          45245.15340807452,
          62856.7795923673,
          63990.89073944769,
          48244.892202036885,
          53574.34626377982,
          41010.60805428428,
          46436.98583885441,
          42781.32909670863,
          45573.86755023668,
          47152.59778611627,
          55311.00858040476,
          66067.71982418672,
          42754.76999406823,
          61125.04449392829,
          47360.59388252082,
          48094.04889476309,
          47495.44759635013,
          44736.7546494414,
          48999.96509978664,
          51581.88368260048,
          52344.35669645592,
          44241.27165924668,
          42113.77609087526,
          45619.26277888315,
          51589.0511533142,
          46845.34229942585,
          46842.83314214718,
          58571.43795330615,
          58264.01314796952,
          42977.73115366207,
          47304.61159690041,
          48267.340913444335,
          26134.54561593752,
          43704.42947906728,
          53956.73499686764,
          46658.54313655694,
          41277.50024453675,
          55798.61655316667,
          52691.39623015918,
          63864.23244493516,
          50820.93449906635,
          77129.40123557799,
          45068.2049189848,
          47948.91466664071,
          48357.29626971352,
          40091.70311716578,
          53259.25830608967,
          44175.99565624537,
          44084.440385629634,
          45565.34451856473,
          42700.69462402196,
          45599.22996313518,
          43559.24812625348,
          60735.123341965904,
          61508.39409745745,
          46531.451026469935,
          51594.65013490923,
          39539.0239551932,
          44550.88755030757,
          41533.432276939566,
          43877.72336655475,
          45121.33130174272,
          53509.87998783906,
          63435.52449197074,
          41629.35719843705,
          58687.53984266685,
          45714.0391483742,
          45668.39670934773,
          45801.16521883997,
          43373.819047378965,
          46755.69571396502,
          49857.86915954162,
          50712.772647466685,
          42411.72409078259,
          40598.75170413272,
          44037.48164416081,
          49858.23609584961,
          45187.87652217493,
          45187.816734944354,
          56593.5326872266,
          55588.13395087965,
          41905.623887545386,
          45532.52966285933,
          46739.62948740138,
          25546.68714295497,
          42312.373118558375,
          52647.592294178576,
          45030.01465600962,
          39869.36710059903,
          53586.871059399455,
          50678.931790102,
          62013.87559348133,
          48427.165768668405,
          74286.98600519072,
          43533.69259976621,
          46250.49944577568,
          46314.98147494707,
          38591.10213206906,
          51350.61332413594,
          42495.14197099757,
          42410.69374019122,
          44095.70183260323,
          41288.65893819215,
          44324.00182718177,
          41807.33988442182,
          58974.56425378691,
          59024.81407249766,
          44705.010742612496,
          49764.02837910935,
          38489.43523683908,
          42922.10524870098,
          39569.31169569854,
          42317.40894281965,
          43548.90050453049,
          51605.82921454975,
          61662.63459142879,
          40647.22112813456,
          56573.52100926325,
          43971.454691174295,
          44960.17440978567,
          44275.65566497672,
          42145.40992978621,
          44920.08913441809,
          48015.29138168512,
          48650.99171714377,
          40946.55423437976,
          38713.23081371355,
          42515.112085885536,
          48083.65381102544,
          43573.54996392578,
          43568.745047284574,
          54971.81842714296,
          53042.98806708057,
          40752.83030462403,
          43714.45564256999,
          45243.24088729752,
          25309.73770813371,
          41471.08321173242,
          51439.07855727831,
          44109.15659054569,
          38870.6175454747,
          52169.93400951895,
          49600.09378373619,
          60843.93292030578,
          47595.49418460067,
          73182.46168025544,
          42725.05244969779,
          45158.4979444969,
          45049.47678788785,
          37732.28919629041,
          50128.01635111552,
          41635.33010511832,
          41283.552936979046,
          43302.19263191458,
          40350.74670057122,
          43373.40690509456,
          40836.75788921696,
          58028.36411637834,
          57664.36509695944,
          43692.0873934522,
          48424.63440068183,
          37573.78667327485,
          42019.89311405255,
          38361.81037006392,
          41007.62113024408,
          42799.271906579794,
          50883.59042433426,
          60570.65671673106,
          40063.11623216778,
          55349.37270285906,
          42964.21297314712,
          43719.29159951484,
          43323.86717099145,
          41069.13423490042,
          43672.699772962114,
          46950.901654163936,
          47649.02571618117,
          39935.88712983765,
          37400.13209002314,
          41730.79660215833,
          46915.88046669058,
          42522.63078603181,
          42599.12861426679,
          54040.9995463286,
          51510.51938094227,
          40149.89763934109,
          42691.64546816086,
          44509.37620451603,
          25497.35766730363,
          41452.70475692918,
          51832.11951470452,
          44237.34073186856,
          38385.69435291751,
          51961.99281943902,
          49350.54594920437,
          60535.21407226964,
          47720.94177315691,
          72755.3204488027,
          42595.78593848743,
          45111.60896864055,
          44651.17903138206,
          37797.263016494566,
          49749.517205202,
          41432.05805803747,
          40743.646613657045,
          42970.65582734485,
          40081.770713798,
          43092.486767389535,
          40718.34344605735,
          57944.17891452512,
          57281.39960894997,
          43556.477220026776,
          48012.91722031079,
          37764.43597275865,
          41825.58228464285,
          37688.928676740776,
          40161.77974199555,
          43258.40515739372,
          50674.80937953447,
          60504.18208583056,
          40174.0778375106,
          55120.03123523106,
          42691.06540640439,
          42302.751932634295,
          43051.510720833874,
          40469.97054978177,
          43260.47263164292,
          46634.25621854857,
          47481.68395172653,
          39840.30637540486,
          37207.39630649028,
          41572.660942129565,
          46338.63561392797,
          42203.78058300985,
          42066.58339312352,
          54034.136516807,
          50874.60556980944,
          39882.16702152925,
          42484.04064555815,
          43947.98676565175
         ]
        }
       ],
       "layout": {
        "coloraxis": {
         "cmax": 88235.280366217,
         "cmin": 0,
         "colorbar": {
          "title": {
           "text": "Average Wage"
          }
         },
         "colorscale": [
          [
           0,
           "rgb(255,255,217)"
          ],
          [
           0.125,
           "rgb(237,248,177)"
          ],
          [
           0.25,
           "rgb(199,233,180)"
          ],
          [
           0.375,
           "rgb(127,205,187)"
          ],
          [
           0.5,
           "rgb(65,182,196)"
          ],
          [
           0.625,
           "rgb(29,145,192)"
          ],
          [
           0.75,
           "rgb(34,94,168)"
          ],
          [
           0.875,
           "rgb(37,52,148)"
          ],
          [
           1,
           "rgb(8,29,88)"
          ]
         ]
        },
        "font": {
         "family": "Arial",
         "size": 12
        },
        "geo": {
         "center": {},
         "domain": {
          "x": [
           0,
           1
          ],
          "y": [
           0,
           1
          ]
         },
         "scope": "usa"
        },
        "legend": {
         "tracegroupgap": 0
        },
        "margin": {
         "t": 60
        },
        "plot_bgcolor": "white",
        "template": {
         "data": {
          "bar": [
           {
            "error_x": {
             "color": "#2a3f5f"
            },
            "error_y": {
             "color": "#2a3f5f"
            },
            "marker": {
             "line": {
              "color": "#E5ECF6",
              "width": 0.5
             },
             "pattern": {
              "fillmode": "overlay",
              "size": 10,
              "solidity": 0.2
             }
            },
            "type": "bar"
           }
          ],
          "barpolar": [
           {
            "marker": {
             "line": {
              "color": "#E5ECF6",
              "width": 0.5
             },
             "pattern": {
              "fillmode": "overlay",
              "size": 10,
              "solidity": 0.2
             }
            },
            "type": "barpolar"
           }
          ],
          "carpet": [
           {
            "aaxis": {
             "endlinecolor": "#2a3f5f",
             "gridcolor": "white",
             "linecolor": "white",
             "minorgridcolor": "white",
             "startlinecolor": "#2a3f5f"
            },
            "baxis": {
             "endlinecolor": "#2a3f5f",
             "gridcolor": "white",
             "linecolor": "white",
             "minorgridcolor": "white",
             "startlinecolor": "#2a3f5f"
            },
            "type": "carpet"
           }
          ],
          "choropleth": [
           {
            "colorbar": {
             "outlinewidth": 0,
             "ticks": ""
            },
            "type": "choropleth"
           }
          ],
          "contour": [
           {
            "colorbar": {
             "outlinewidth": 0,
             "ticks": ""
            },
            "colorscale": [
             [
              0,
              "#0d0887"
             ],
             [
              0.1111111111111111,
              "#46039f"
             ],
             [
              0.2222222222222222,
              "#7201a8"
             ],
             [
              0.3333333333333333,
              "#9c179e"
             ],
             [
              0.4444444444444444,
              "#bd3786"
             ],
             [
              0.5555555555555556,
              "#d8576b"
             ],
             [
              0.6666666666666666,
              "#ed7953"
             ],
             [
              0.7777777777777778,
              "#fb9f3a"
             ],
             [
              0.8888888888888888,
              "#fdca26"
             ],
             [
              1,
              "#f0f921"
             ]
            ],
            "type": "contour"
           }
          ],
          "contourcarpet": [
           {
            "colorbar": {
             "outlinewidth": 0,
             "ticks": ""
            },
            "type": "contourcarpet"
           }
          ],
          "heatmap": [
           {
            "colorbar": {
             "outlinewidth": 0,
             "ticks": ""
            },
            "colorscale": [
             [
              0,
              "#0d0887"
             ],
             [
              0.1111111111111111,
              "#46039f"
             ],
             [
              0.2222222222222222,
              "#7201a8"
             ],
             [
              0.3333333333333333,
              "#9c179e"
             ],
             [
              0.4444444444444444,
              "#bd3786"
             ],
             [
              0.5555555555555556,
              "#d8576b"
             ],
             [
              0.6666666666666666,
              "#ed7953"
             ],
             [
              0.7777777777777778,
              "#fb9f3a"
             ],
             [
              0.8888888888888888,
              "#fdca26"
             ],
             [
              1,
              "#f0f921"
             ]
            ],
            "type": "heatmap"
           }
          ],
          "heatmapgl": [
           {
            "colorbar": {
             "outlinewidth": 0,
             "ticks": ""
            },
            "colorscale": [
             [
              0,
              "#0d0887"
             ],
             [
              0.1111111111111111,
              "#46039f"
             ],
             [
              0.2222222222222222,
              "#7201a8"
             ],
             [
              0.3333333333333333,
              "#9c179e"
             ],
             [
              0.4444444444444444,
              "#bd3786"
             ],
             [
              0.5555555555555556,
              "#d8576b"
             ],
             [
              0.6666666666666666,
              "#ed7953"
             ],
             [
              0.7777777777777778,
              "#fb9f3a"
             ],
             [
              0.8888888888888888,
              "#fdca26"
             ],
             [
              1,
              "#f0f921"
             ]
            ],
            "type": "heatmapgl"
           }
          ],
          "histogram": [
           {
            "marker": {
             "pattern": {
              "fillmode": "overlay",
              "size": 10,
              "solidity": 0.2
             }
            },
            "type": "histogram"
           }
          ],
          "histogram2d": [
           {
            "colorbar": {
             "outlinewidth": 0,
             "ticks": ""
            },
            "colorscale": [
             [
              0,
              "#0d0887"
             ],
             [
              0.1111111111111111,
              "#46039f"
             ],
             [
              0.2222222222222222,
              "#7201a8"
             ],
             [
              0.3333333333333333,
              "#9c179e"
             ],
             [
              0.4444444444444444,
              "#bd3786"
             ],
             [
              0.5555555555555556,
              "#d8576b"
             ],
             [
              0.6666666666666666,
              "#ed7953"
             ],
             [
              0.7777777777777778,
              "#fb9f3a"
             ],
             [
              0.8888888888888888,
              "#fdca26"
             ],
             [
              1,
              "#f0f921"
             ]
            ],
            "type": "histogram2d"
           }
          ],
          "histogram2dcontour": [
           {
            "colorbar": {
             "outlinewidth": 0,
             "ticks": ""
            },
            "colorscale": [
             [
              0,
              "#0d0887"
             ],
             [
              0.1111111111111111,
              "#46039f"
             ],
             [
              0.2222222222222222,
              "#7201a8"
             ],
             [
              0.3333333333333333,
              "#9c179e"
             ],
             [
              0.4444444444444444,
              "#bd3786"
             ],
             [
              0.5555555555555556,
              "#d8576b"
             ],
             [
              0.6666666666666666,
              "#ed7953"
             ],
             [
              0.7777777777777778,
              "#fb9f3a"
             ],
             [
              0.8888888888888888,
              "#fdca26"
             ],
             [
              1,
              "#f0f921"
             ]
            ],
            "type": "histogram2dcontour"
           }
          ],
          "mesh3d": [
           {
            "colorbar": {
             "outlinewidth": 0,
             "ticks": ""
            },
            "type": "mesh3d"
           }
          ],
          "parcoords": [
           {
            "line": {
             "colorbar": {
              "outlinewidth": 0,
              "ticks": ""
             }
            },
            "type": "parcoords"
           }
          ],
          "pie": [
           {
            "automargin": true,
            "type": "pie"
           }
          ],
          "scatter": [
           {
            "fillpattern": {
             "fillmode": "overlay",
             "size": 10,
             "solidity": 0.2
            },
            "type": "scatter"
           }
          ],
          "scatter3d": [
           {
            "line": {
             "colorbar": {
              "outlinewidth": 0,
              "ticks": ""
             }
            },
            "marker": {
             "colorbar": {
              "outlinewidth": 0,
              "ticks": ""
             }
            },
            "type": "scatter3d"
           }
          ],
          "scattercarpet": [
           {
            "marker": {
             "colorbar": {
              "outlinewidth": 0,
              "ticks": ""
             }
            },
            "type": "scattercarpet"
           }
          ],
          "scattergeo": [
           {
            "marker": {
             "colorbar": {
              "outlinewidth": 0,
              "ticks": ""
             }
            },
            "type": "scattergeo"
           }
          ],
          "scattergl": [
           {
            "marker": {
             "colorbar": {
              "outlinewidth": 0,
              "ticks": ""
             }
            },
            "type": "scattergl"
           }
          ],
          "scattermapbox": [
           {
            "marker": {
             "colorbar": {
              "outlinewidth": 0,
              "ticks": ""
             }
            },
            "type": "scattermapbox"
           }
          ],
          "scatterpolar": [
           {
            "marker": {
             "colorbar": {
              "outlinewidth": 0,
              "ticks": ""
             }
            },
            "type": "scatterpolar"
           }
          ],
          "scatterpolargl": [
           {
            "marker": {
             "colorbar": {
              "outlinewidth": 0,
              "ticks": ""
             }
            },
            "type": "scatterpolargl"
           }
          ],
          "scatterternary": [
           {
            "marker": {
             "colorbar": {
              "outlinewidth": 0,
              "ticks": ""
             }
            },
            "type": "scatterternary"
           }
          ],
          "surface": [
           {
            "colorbar": {
             "outlinewidth": 0,
             "ticks": ""
            },
            "colorscale": [
             [
              0,
              "#0d0887"
             ],
             [
              0.1111111111111111,
              "#46039f"
             ],
             [
              0.2222222222222222,
              "#7201a8"
             ],
             [
              0.3333333333333333,
              "#9c179e"
             ],
             [
              0.4444444444444444,
              "#bd3786"
             ],
             [
              0.5555555555555556,
              "#d8576b"
             ],
             [
              0.6666666666666666,
              "#ed7953"
             ],
             [
              0.7777777777777778,
              "#fb9f3a"
             ],
             [
              0.8888888888888888,
              "#fdca26"
             ],
             [
              1,
              "#f0f921"
             ]
            ],
            "type": "surface"
           }
          ],
          "table": [
           {
            "cells": {
             "fill": {
              "color": "#EBF0F8"
             },
             "line": {
              "color": "white"
             }
            },
            "header": {
             "fill": {
              "color": "#C8D4E3"
             },
             "line": {
              "color": "white"
             }
            },
            "type": "table"
           }
          ]
         },
         "layout": {
          "annotationdefaults": {
           "arrowcolor": "#2a3f5f",
           "arrowhead": 0,
           "arrowwidth": 1
          },
          "autotypenumbers": "strict",
          "coloraxis": {
           "colorbar": {
            "outlinewidth": 0,
            "ticks": ""
           }
          },
          "colorscale": {
           "diverging": [
            [
             0,
             "#8e0152"
            ],
            [
             0.1,
             "#c51b7d"
            ],
            [
             0.2,
             "#de77ae"
            ],
            [
             0.3,
             "#f1b6da"
            ],
            [
             0.4,
             "#fde0ef"
            ],
            [
             0.5,
             "#f7f7f7"
            ],
            [
             0.6,
             "#e6f5d0"
            ],
            [
             0.7,
             "#b8e186"
            ],
            [
             0.8,
             "#7fbc41"
            ],
            [
             0.9,
             "#4d9221"
            ],
            [
             1,
             "#276419"
            ]
           ],
           "sequential": [
            [
             0,
             "#0d0887"
            ],
            [
             0.1111111111111111,
             "#46039f"
            ],
            [
             0.2222222222222222,
             "#7201a8"
            ],
            [
             0.3333333333333333,
             "#9c179e"
            ],
            [
             0.4444444444444444,
             "#bd3786"
            ],
            [
             0.5555555555555556,
             "#d8576b"
            ],
            [
             0.6666666666666666,
             "#ed7953"
            ],
            [
             0.7777777777777778,
             "#fb9f3a"
            ],
            [
             0.8888888888888888,
             "#fdca26"
            ],
            [
             1,
             "#f0f921"
            ]
           ],
           "sequentialminus": [
            [
             0,
             "#0d0887"
            ],
            [
             0.1111111111111111,
             "#46039f"
            ],
            [
             0.2222222222222222,
             "#7201a8"
            ],
            [
             0.3333333333333333,
             "#9c179e"
            ],
            [
             0.4444444444444444,
             "#bd3786"
            ],
            [
             0.5555555555555556,
             "#d8576b"
            ],
            [
             0.6666666666666666,
             "#ed7953"
            ],
            [
             0.7777777777777778,
             "#fb9f3a"
            ],
            [
             0.8888888888888888,
             "#fdca26"
            ],
            [
             1,
             "#f0f921"
            ]
           ]
          },
          "colorway": [
           "#636efa",
           "#EF553B",
           "#00cc96",
           "#ab63fa",
           "#FFA15A",
           "#19d3f3",
           "#FF6692",
           "#B6E880",
           "#FF97FF",
           "#FECB52"
          ],
          "font": {
           "color": "#2a3f5f"
          },
          "geo": {
           "bgcolor": "white",
           "lakecolor": "white",
           "landcolor": "#E5ECF6",
           "showlakes": true,
           "showland": true,
           "subunitcolor": "white"
          },
          "hoverlabel": {
           "align": "left"
          },
          "hovermode": "closest",
          "mapbox": {
           "style": "light"
          },
          "paper_bgcolor": "white",
          "plot_bgcolor": "#E5ECF6",
          "polar": {
           "angularaxis": {
            "gridcolor": "white",
            "linecolor": "white",
            "ticks": ""
           },
           "bgcolor": "#E5ECF6",
           "radialaxis": {
            "gridcolor": "white",
            "linecolor": "white",
            "ticks": ""
           }
          },
          "scene": {
           "xaxis": {
            "backgroundcolor": "#E5ECF6",
            "gridcolor": "white",
            "gridwidth": 2,
            "linecolor": "white",
            "showbackground": true,
            "ticks": "",
            "zerolinecolor": "white"
           },
           "yaxis": {
            "backgroundcolor": "#E5ECF6",
            "gridcolor": "white",
            "gridwidth": 2,
            "linecolor": "white",
            "showbackground": true,
            "ticks": "",
            "zerolinecolor": "white"
           },
           "zaxis": {
            "backgroundcolor": "#E5ECF6",
            "gridcolor": "white",
            "gridwidth": 2,
            "linecolor": "white",
            "showbackground": true,
            "ticks": "",
            "zerolinecolor": "white"
           }
          },
          "shapedefaults": {
           "line": {
            "color": "#2a3f5f"
           }
          },
          "ternary": {
           "aaxis": {
            "gridcolor": "white",
            "linecolor": "white",
            "ticks": ""
           },
           "baxis": {
            "gridcolor": "white",
            "linecolor": "white",
            "ticks": ""
           },
           "bgcolor": "#E5ECF6",
           "caxis": {
            "gridcolor": "white",
            "linecolor": "white",
            "ticks": ""
           }
          },
          "title": {
           "x": 0.05
          },
          "xaxis": {
           "automargin": true,
           "gridcolor": "white",
           "linecolor": "white",
           "ticks": "",
           "title": {
            "standoff": 15
           },
           "zerolinecolor": "white",
           "zerolinewidth": 2
          },
          "yaxis": {
           "automargin": true,
           "gridcolor": "white",
           "linecolor": "white",
           "ticks": "",
           "title": {
            "standoff": 15
           },
           "zerolinecolor": "white",
           "zerolinewidth": 2
          }
         }
        },
        "title": {
         "text": "Average Wage by State",
         "x": 0.5
        }
       }
      }
     },
     "metadata": {},
     "output_type": "display_data"
    },
    {
     "data": {
      "text/plain": [
       "'plot/wage.html'"
      ]
     },
     "execution_count": 5,
     "metadata": {},
     "output_type": "execute_result"
    }
   ],
   "source": [
    "fig = px.choropleth(Workforce, locations='StateCode', color='Average Wage',\n",
    "                    locationmode='USA-states', scope='usa',\n",
    "                    color_continuous_scale='YlGnBu',\n",
    "                    range_color=(0, Workforce['Average Wage'].max()),\n",
    "                    labels={'Average Wage': 'Average Wage'})\n",
    "fig.update_layout(title_text='Average Wage by State', font=dict(size=12),\n",
    "                  plot_bgcolor='white', \n",
    "                  font_family='Arial',\n",
    "                  title_x=0.5)\n",
    "fig.show()\n",
    "pyo.plot(fig, filename='plot/wage.html')"
   ]
  },
  {
   "cell_type": "markdown",
   "metadata": {},
   "source": []
  }
 ],
 "metadata": {
  "kernelspec": {
   "display_name": "tf",
   "language": "python",
   "name": "python3"
  },
  "language_info": {
   "codemirror_mode": {
    "name": "ipython",
    "version": 3
   },
   "file_extension": ".py",
   "mimetype": "text/x-python",
   "name": "python",
   "nbconvert_exporter": "python",
   "pygments_lexer": "ipython3",
   "version": "3.10.9"
  },
  "orig_nbformat": 4
 },
 "nbformat": 4,
 "nbformat_minor": 2
}
